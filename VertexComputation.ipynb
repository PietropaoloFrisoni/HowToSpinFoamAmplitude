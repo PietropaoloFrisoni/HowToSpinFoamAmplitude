{
 "cells": [
  {
   "cell_type": "markdown",
   "id": "02a102f2-5917-4ccc-a757-b06cf8177c44",
   "metadata": {
    "tags": []
   },
   "source": [
    "# How to spinfoam amplitudes\n",
    "## Computing the EPRL vertex amplitudes"
   ]
  },
  {
   "cell_type": "markdown",
   "id": "ad6229b9-1a14-4985-ac49-bea7803b71a6",
   "metadata": {},
   "source": [
    "In this notebook we show how to compute the EPRL vertices. \n",
    "\n",
    "We employ the [sl2cfoam-next](https://github.com/qg-cpt-marseille/sl2cfoam-next) library.\n",
    "See also [paper describing the library](https://arxiv.org/abs/2107.13952).\n",
    "\n",
    "In order to compile the cells below you first need to install the sl2cfoam-next. \n",
    "\n",
    "**Then \"sl2c_data_folder\" needs to be initialized with the appropriate path**, which on your system of course is different with respect\n",
    "to the one written below. "
   ]
  },
  {
   "cell_type": "markdown",
   "id": "431e325a-d9b6-4dcc-9d18-bba06e9c3dc6",
   "metadata": {
    "tags": []
   },
   "source": [
    "## Single vertex"
   ]
  },
  {
   "cell_type": "markdown",
   "id": "6eb53e99-cec4-4a07-bce6-6b2419b437fb",
   "metadata": {},
   "source": [
    "We first focus on the the computation of a single amplitude"
   ]
  },
  {
   "cell_type": "markdown",
   "id": "f283bd83-1c38-4de3-ac99-2efe0ed657b0",
   "metadata": {
    "tags": []
   },
   "source": [
    "***The reference vertex amplitude for spin and intertwiner labels is the following:***\n",
    "\n",
    "<img src=\"Pics/VertexAmplitude.png\" width=\"500\" />\n",
    "\n",
    "Notice that the labels l inside the vertex indicate the spins not touched by the Y-map which need to be summed over. \n",
    "\n",
    "*This is already done \"internally\" by sl2cfoam-next*. Therefore in the following we can call the function with the external j labels"
   ]
  },
  {
   "cell_type": "code",
   "execution_count": 11,
   "id": "879009c2-8c81-46c0-a1c2-f35270bed0ae",
   "metadata": {},
   "outputs": [],
   "source": [
    "# required pkgs  \n",
    "using HalfIntegers\n",
    "using SL2Cfoam\n",
    "\n",
    "# Barbero-Immirzi parameter\n",
    "γ = 1.0\n",
    "\n",
    "# initializing sl2cfoam-next   \n",
    "sl2c_data_folder = \"/home/frisus95/Scrivania/sl2cfoam_next/data_sl2cfoam\"\n",
    "sl2c_configuration = SL2Cfoam.Config(VerbosityOff, VeryHighAccuracy, 100, 0)\n",
    "sl2c_result_return = (ret = true, store = true, store_batches = true)\n",
    "# to store only the booster functions and not the full amplitude, use:\n",
    "# sl2c_result_return = (ret = true, store = false, store_batches = false);\n",
    "# for further options, see the library documentation\n",
    "SL2Cfoam.cinit(sl2c_data_folder, γ, sl2c_configuration) \n",
    "\n",
    "# homogeneous cut-off \n",
    "Δl = 15;"
   ]
  },
  {
   "cell_type": "markdown",
   "id": "9f0a798f-6511-4037-95f2-d998487cadfa",
   "metadata": {
    "tags": []
   },
   "source": [
    "### Full vertex"
   ]
  },
  {
   "cell_type": "markdown",
   "id": "e4584663-b6cf-49bc-b3bb-4df8372752bb",
   "metadata": {},
   "source": [
    "We compute the EPRL vertex amplitude for each possible value of the boundary intertwiners"
   ]
  },
  {
   "cell_type": "code",
   "execution_count": 3,
   "id": "f8bdc006-d5f1-4179-95ef-513d8b0335f9",
   "metadata": {},
   "outputs": [
    {
     "name": "stdout",
     "output_type": "stream",
     "text": [
      "  0.000050 seconds (7 allocations: 400 bytes)\n"
     ]
    },
    {
     "data": {
      "text/plain": [
       "3×3×3×3×3 Array{Float64, 5}:\n",
       "[:, :, 1, 1, 1] =\n",
       "  5.75025e-10  -7.78342e-10  1.13462e-9\n",
       " -7.81249e-10   6.07616e-10  8.14858e-10\n",
       "  1.13721e-9    8.1391e-10   2.84652e-10\n",
       "\n",
       "[:, :, 2, 1, 1] =\n",
       " -7.78342e-10   6.04668e-10  8.10461e-10\n",
       "  1.14875e-9   -4.32425e-10  6.22799e-10\n",
       " -1.59089e-9   -6.0113e-10   1.31907e-10\n",
       "\n",
       "[:, :, 3, 1, 1] =\n",
       "  1.13462e-9   8.10461e-10  2.82626e-10\n",
       " -1.59389e-9  -6.01495e-10  1.31614e-10\n",
       "  2.23773e-9  -8.22919e-10  1.09464e-10\n",
       "\n",
       "[:, :, 1, 2, 1] =\n",
       " -7.81249e-10   1.14875e-9  -1.59389e-9\n",
       "  1.14603e-9   -1.06916e-9  -1.32773e-9\n",
       " -1.59132e-9   -1.3286e-9   -4.67295e-10\n",
       "\n",
       "[:, :, 2, 2, 1] =\n",
       "  6.07616e-10  -4.32425e-10  -6.01495e-10\n",
       " -1.06916e-9    4.38984e-10  -6.55779e-10\n",
       "  1.34991e-9    5.52239e-10  -1.12279e-10\n",
       "\n",
       "[:, :, 3, 2, 1] =\n",
       "  8.14858e-10   6.22799e-10  1.31614e-10\n",
       " -1.32773e-9   -6.55779e-10  7.90686e-12\n",
       "  1.7698e-9    -7.89167e-10  1.12574e-10\n",
       "\n",
       "[:, :, 1, 3, 1] =\n",
       "  1.13721e-9  -1.59089e-9  2.23773e-9\n",
       " -1.59132e-9   1.34991e-9  1.7698e-9\n",
       "  2.2381e-9    1.76957e-9  6.20558e-10\n",
       "\n",
       "[:, :, 2, 3, 1] =\n",
       "  8.1391e-10  -6.0113e-10   -8.22919e-10\n",
       " -1.3286e-9    5.52239e-10  -7.89167e-10\n",
       "  1.76957e-9   6.85814e-10  -1.59946e-10\n",
       "\n",
       "[:, :, 3, 3, 1] =\n",
       "  2.84652e-10   1.31907e-10  1.09464e-10\n",
       " -4.67295e-10  -1.12279e-10  1.12574e-10\n",
       "  6.20558e-10  -1.59946e-10  1.91958e-10\n",
       "\n",
       "[:, :, 1, 1, 2] =\n",
       " -7.81274e-10   1.14835e-9   -1.59419e-9\n",
       "  6.08133e-10  -4.31523e-10  -6.01732e-10\n",
       "  8.14821e-10   6.22736e-10   1.32023e-10\n",
       "\n",
       "[:, :, 2, 1, 2] =\n",
       "  1.14835e-9  -1.07246e-9   -1.33113e-9\n",
       " -1.07177e-9   4.41219e-10  -6.59842e-10\n",
       " -1.33038e-9  -6.59867e-10   6.88411e-12\n",
       "\n",
       "[:, :, 3, 1, 2] =\n",
       " -1.59419e-9  -1.33113e-9   -4.67971e-10\n",
       "  1.35138e-9   5.53914e-10  -1.1226e-10\n",
       "  1.77259e-9  -7.9271e-10    1.13795e-10\n",
       "\n",
       "[:, :, 1, 2, 2] =\n",
       "  6.08133e-10  -1.07177e-9    1.35138e-9\n",
       " -4.32024e-10   4.40105e-10   5.54328e-10\n",
       " -6.01732e-10  -6.59842e-10  -1.1226e-10\n",
       "\n",
       "[:, :, 2, 2, 2] =\n",
       " -4.31523e-10  4.41219e-10  5.53914e-10\n",
       "  4.40105e-10  1.4549e-9    9.30857e-10\n",
       "  5.53914e-10  9.30877e-10  5.46799e-10\n",
       "\n",
       "[:, :, 3, 2, 2] =\n",
       " -6.01732e-10  -6.59842e-10  -1.1226e-10\n",
       "  5.54328e-10   9.30857e-10   5.47185e-10\n",
       "  6.87334e-10  -2.02738e-9    4.73229e-10\n",
       "\n",
       "[:, :, 1, 3, 2] =\n",
       "  8.14821e-10  -1.33038e-9    1.77259e-9\n",
       " -6.01732e-10   5.53914e-10   6.87334e-10\n",
       " -8.24201e-10  -7.93162e-10  -1.60393e-10\n",
       "\n",
       "[:, :, 2, 3, 2] =\n",
       "  6.22736e-10  -6.59867e-10  -7.9271e-10\n",
       " -6.59842e-10   9.30877e-10  -2.02738e-9\n",
       " -7.93162e-10  -2.02611e-9   -1.34195e-9\n",
       "\n",
       "[:, :, 3, 3, 2] =\n",
       "  1.32023e-10   6.88411e-12  1.13795e-10\n",
       " -1.1226e-10    5.46799e-10  4.73229e-10\n",
       " -1.60393e-10  -1.34195e-9   3.57013e-10\n",
       "\n",
       "[:, :, 1, 1, 3] =\n",
       " 1.13732e-9   -1.59131e-9    2.23736e-9\n",
       " 8.15545e-10  -6.01805e-10  -8.25083e-10\n",
       " 2.82916e-10   1.30794e-10   1.09493e-10\n",
       "\n",
       "[:, :, 2, 1, 3] =\n",
       " -1.59131e-9    1.34843e-9    1.76887e-9\n",
       " -1.33062e-9    5.5397e-10   -7.92314e-10\n",
       " -4.64846e-10  -1.11382e-10   1.13598e-10\n",
       "\n",
       "[:, :, 3, 1, 3] =\n",
       " 2.23736e-9    1.76887e-9    6.20577e-10\n",
       " 1.77208e-9    6.87225e-10  -1.59735e-10\n",
       " 6.18449e-10  -1.58988e-10   1.97683e-10\n",
       "\n",
       "[:, :, 1, 2, 3] =\n",
       " 8.15545e-10  -1.33062e-9    1.77208e-9\n",
       " 6.19362e-10  -6.5751e-10   -7.90364e-10\n",
       " 1.34984e-10   8.80865e-12   1.13961e-10\n",
       "\n",
       "[:, :, 2, 2, 3] =\n",
       " -6.01805e-10  5.5397e-10    6.87225e-10\n",
       " -6.5751e-10   9.28878e-10  -2.02375e-9\n",
       " -1.13898e-10  5.45316e-10   4.72913e-10\n",
       "\n",
       "[:, :, 3, 2, 3] =\n",
       " -8.25083e-10  -7.92314e-10  -1.59735e-10\n",
       " -7.90364e-10  -2.02375e-9   -1.33965e-9\n",
       " -1.62571e-10  -1.33906e-9    3.55561e-10\n",
       "\n",
       "[:, :, 1, 3, 3] =\n",
       " 2.82916e-10  -4.64846e-10   6.18449e-10\n",
       " 1.34984e-10  -1.13898e-10  -1.62571e-10\n",
       " 1.05528e-10   1.11347e-10   1.97203e-10\n",
       "\n",
       "[:, :, 2, 3, 3] =\n",
       " 1.30794e-10  -1.11382e-10  -1.58988e-10\n",
       " 8.80865e-12   5.45316e-10  -1.33906e-9\n",
       " 1.11347e-10   4.71186e-10   3.56667e-10\n",
       "\n",
       "[:, :, 3, 3, 3] =\n",
       " 1.09493e-10  1.13598e-10  1.97683e-10\n",
       " 1.13961e-10  4.72913e-10  3.55561e-10\n",
       " 1.97203e-10  3.56667e-10  4.14151e-9"
      ]
     },
     "execution_count": 3,
     "metadata": {},
     "output_type": "execute_result"
    }
   ],
   "source": [
    "# set the 10 vertex boundary spins\n",
    "spins = j245, j125, j124, j145, j235, j234, j345, j123, j135, j134 = [1 for _ = 1:10]\n",
    "\n",
    "@time v = vertex_compute(spins, Δl; result = sl2c_result_return);\n",
    "\n",
    "# v.a is the 5-dimensional array with the data\n",
    "vertex = v.a"
   ]
  },
  {
   "cell_type": "markdown",
   "id": "db2d4c43-de6e-4b8b-a53c-234b088837ea",
   "metadata": {
    "tags": []
   },
   "source": [
    "### Range for boundary intertwiners"
   ]
  },
  {
   "cell_type": "markdown",
   "id": "e738cc47-abbf-4815-b17f-3f8dcb59eb55",
   "metadata": {},
   "source": [
    "We can also compute the EPRL vertex amplitude for a restricted range of boundary intertwiners."
   ]
  },
  {
   "cell_type": "code",
   "execution_count": 8,
   "id": "9ed89512-71eb-4362-9123-d023c5658ee1",
   "metadata": {},
   "outputs": [
    {
     "name": "stdout",
     "output_type": "stream",
     "text": [
      "spins = [2, 3, 1, 3, 2, 3, 1, 2, 3, 1]\n",
      "vertex_intertw_ranges = ((2, 2), (1, 1), (1, 5), (1, 2), (2, 2))\n",
      "  0.011214 seconds (7 allocations: 400 bytes)\n"
     ]
    },
    {
     "data": {
      "text/plain": [
       "1×2×5×1×1 Array{Float64, 5}:\n",
       "[:, :, 1, 1, 1] =\n",
       " 9.88921e-16  2.95345e-14\n",
       "\n",
       "[:, :, 2, 1, 1] =\n",
       " 2.18095e-14  -1.54102e-13\n",
       "\n",
       "[:, :, 3, 1, 1] =\n",
       " -1.79719e-13  5.03032e-13\n",
       "\n",
       "[:, :, 4, 1, 1] =\n",
       " 7.33604e-13  -6.88867e-13\n",
       "\n",
       "[:, :, 5, 1, 1] =\n",
       " -2.55182e-12  -2.2469e-12"
      ]
     },
     "execution_count": 8,
     "metadata": {},
     "output_type": "execute_result"
    }
   ],
   "source": [
    "# homogeneous cut-off \n",
    "Δl = 0\n",
    "\n",
    "# initialize each boundary spins with a random integer value between 1 and 3\n",
    "# incrementing the range, one has to pay attention to triangular inequalities\n",
    "spins = j245, j125, j124, j145, j235, j234, j345, j123, j135, j134 = [rand(1:3) for _ = 1:10]\n",
    "\n",
    "@show spins\n",
    "\n",
    "# determine the range of boundary intertwiners\n",
    "r1245, _ = intertwiner_range(j245, j125, j124, j145)\n",
    "r2345, _ = intertwiner_range(j235, j234, j345, j245) \n",
    "r1235, _ = intertwiner_range(j123, j135, j125, j235)\n",
    "r1234, _ = intertwiner_range(j134, j124, j234, j123)\n",
    "r1345, _ = intertwiner_range(j145, j345, j135, j134)\n",
    "    \n",
    "# intertwiners fixed to their minimum value\n",
    "i1245 =  r1245[1]  \n",
    "i2345 =  r2345[1]   \n",
    "i1345 =  r1345[1]   \n",
    "\n",
    "# restricted range of boundary intertwiners to compute\n",
    "vertex_intertw_ranges = ((i1245,i1245), (i2345, i2345), r1235, r1234, (i1345,i1345))\n",
    "\n",
    "@show vertex_intertw_ranges\n",
    "\n",
    "@time v = vertex_compute(spins, Δl, vertex_intertw_ranges; result = sl2c_result_return);\n",
    "\n",
    "vertex = v.a"
   ]
  },
  {
   "cell_type": "markdown",
   "id": "6952a7c6-4d8c-49e8-9c50-6c2ca5cbac73",
   "metadata": {
    "tags": []
   },
   "source": [
    "## Vertices for the Δ4 amplitude"
   ]
  },
  {
   "cell_type": "markdown",
   "id": "5096c143-bf1c-402a-8282-b456651c5bec",
   "metadata": {},
   "source": [
    "We now compute and store all EPRL vertices required for the computation of the Δ4 amplitude.\n",
    "\n",
    "The vertices are computed for increasing values of the cut-off Δl.\n",
    "\n",
    "For simplicity we set all boundary spins equal to j, computing the full vertices."
   ]
  },
  {
   "cell_type": "markdown",
   "id": "ad916912-570a-4bfe-ad89-54f7b0c3a33d",
   "metadata": {},
   "source": [
    "<img src=\"Pics/Delta_4.SVG\" alt=\"Drawing\" style=\"width: 700px;\"/>"
   ]
  },
  {
   "cell_type": "code",
   "execution_count": 5,
   "id": "08410d03-972d-4c5a-a740-bb3fed684879",
   "metadata": {},
   "outputs": [],
   "source": [
    "# required pkgs\n",
    "using JLD2   \n",
    "using DelimitedFiles\n",
    "using Dates\n",
    "\n",
    "# current folder\n",
    "root_dir = pwd()\n",
    "\n",
    "# print with flush\n",
    "function log(x...)\n",
    "println(now(), \" \", join(x, \" \")...)\n",
    "flush(stdout)\n",
    "end\n",
    "\n",
    "# maximal cut-off  \n",
    "Δl_max = 15;"
   ]
  },
  {
   "cell_type": "code",
   "execution_count": 5,
   "id": "f7feb241-d71e-4c12-a6dc-c8b70bfd57c8",
   "metadata": {},
   "outputs": [
    {
     "name": "stdout",
     "output_type": "stream",
     "text": [
      "2022-01-28T14:18:00.007 computed full vertex tensor for Immirzi=1.0 j_boundary=1.0 j_bulk=0.0 Dl=0\n",
      "2022-01-28T14:18:02.653 computed full vertex tensor for Immirzi=1.0 j_boundary=1.0 j_bulk=1.0 Dl=0\n",
      "2022-01-28T14:18:02.656 computed full vertex tensor for Immirzi=1.0 j_boundary=1.0 j_bulk=2.0 Dl=0\n",
      "2022-01-28T14:18:02.658 computed full vertex tensor for Immirzi=1.0 j_boundary=1.0 j_bulk=3.0 Dl=0\n",
      "2022-01-28T14:18:02.660 computed full vertex tensor for Immirzi=1.0 j_boundary=1.0 j_bulk=0.0 Dl=1\n",
      "2022-01-28T14:18:02.661 computed full vertex tensor for Immirzi=1.0 j_boundary=1.0 j_bulk=1.0 Dl=1\n",
      "2022-01-28T14:18:02.663 computed full vertex tensor for Immirzi=1.0 j_boundary=1.0 j_bulk=2.0 Dl=1\n",
      "2022-01-28T14:18:02.664 computed full vertex tensor for Immirzi=1.0 j_boundary=1.0 j_bulk=3.0 Dl=1\n",
      "2022-01-28T14:18:02.666 computed full vertex tensor for Immirzi=1.0 j_boundary=1.0 j_bulk=0.0 Dl=2\n",
      "2022-01-28T14:18:02.668 computed full vertex tensor for Immirzi=1.0 j_boundary=1.0 j_bulk=1.0 Dl=2\n",
      "2022-01-28T14:18:02.670 computed full vertex tensor for Immirzi=1.0 j_boundary=1.0 j_bulk=2.0 Dl=2\n",
      "2022-01-28T14:18:02.672 computed full vertex tensor for Immirzi=1.0 j_boundary=1.0 j_bulk=3.0 Dl=2\n",
      "2022-01-28T14:18:02.673 computed full vertex tensor for Immirzi=1.0 j_boundary=1.0 j_bulk=0.0 Dl=3\n",
      "2022-01-28T14:18:02.675 computed full vertex tensor for Immirzi=1.0 j_boundary=1.0 j_bulk=1.0 Dl=3\n",
      "2022-01-28T14:18:02.677 computed full vertex tensor for Immirzi=1.0 j_boundary=1.0 j_bulk=2.0 Dl=3\n",
      "2022-01-28T14:18:02.678 computed full vertex tensor for Immirzi=1.0 j_boundary=1.0 j_bulk=3.0 Dl=3\n",
      "2022-01-28T14:18:02.680 computed full vertex tensor for Immirzi=1.0 j_boundary=1.0 j_bulk=0.0 Dl=4\n",
      "2022-01-28T14:18:02.681 computed full vertex tensor for Immirzi=1.0 j_boundary=1.0 j_bulk=1.0 Dl=4\n",
      "2022-01-28T14:18:02.682 computed full vertex tensor for Immirzi=1.0 j_boundary=1.0 j_bulk=2.0 Dl=4\n",
      "2022-01-28T14:18:02.684 computed full vertex tensor for Immirzi=1.0 j_boundary=1.0 j_bulk=3.0 Dl=4\n",
      "2022-01-28T14:18:02.685 computed full vertex tensor for Immirzi=1.0 j_boundary=1.0 j_bulk=0.0 Dl=5\n",
      "2022-01-28T14:18:02.687 computed full vertex tensor for Immirzi=1.0 j_boundary=1.0 j_bulk=1.0 Dl=5\n",
      "2022-01-28T14:18:02.688 computed full vertex tensor for Immirzi=1.0 j_boundary=1.0 j_bulk=2.0 Dl=5\n",
      "2022-01-28T14:18:02.690 computed full vertex tensor for Immirzi=1.0 j_boundary=1.0 j_bulk=3.0 Dl=5\n",
      "2022-01-28T14:18:02.691 computed full vertex tensor for Immirzi=1.0 j_boundary=1.0 j_bulk=0.0 Dl=6\n",
      "2022-01-28T14:18:02.693 computed full vertex tensor for Immirzi=1.0 j_boundary=1.0 j_bulk=1.0 Dl=6\n",
      "2022-01-28T14:18:02.694 computed full vertex tensor for Immirzi=1.0 j_boundary=1.0 j_bulk=2.0 Dl=6\n",
      "2022-01-28T14:18:02.695 computed full vertex tensor for Immirzi=1.0 j_boundary=1.0 j_bulk=3.0 Dl=6\n",
      "2022-01-28T14:18:02.696 computed full vertex tensor for Immirzi=1.0 j_boundary=1.0 j_bulk=0.0 Dl=7\n",
      "2022-01-28T14:18:02.698 computed full vertex tensor for Immirzi=1.0 j_boundary=1.0 j_bulk=1.0 Dl=7\n",
      "2022-01-28T14:18:02.700 computed full vertex tensor for Immirzi=1.0 j_boundary=1.0 j_bulk=2.0 Dl=7\n",
      "2022-01-28T14:18:02.701 computed full vertex tensor for Immirzi=1.0 j_boundary=1.0 j_bulk=3.0 Dl=7\n",
      "2022-01-28T14:18:02.703 computed full vertex tensor for Immirzi=1.0 j_boundary=1.0 j_bulk=0.0 Dl=8\n",
      "2022-01-28T14:18:02.704 computed full vertex tensor for Immirzi=1.0 j_boundary=1.0 j_bulk=1.0 Dl=8\n",
      "2022-01-28T14:18:02.705 computed full vertex tensor for Immirzi=1.0 j_boundary=1.0 j_bulk=2.0 Dl=8\n",
      "2022-01-28T14:18:02.707 computed full vertex tensor for Immirzi=1.0 j_boundary=1.0 j_bulk=3.0 Dl=8\n",
      "2022-01-28T14:18:02.709 computed full vertex tensor for Immirzi=1.0 j_boundary=1.0 j_bulk=0.0 Dl=9\n",
      "2022-01-28T14:18:02.711 computed full vertex tensor for Immirzi=1.0 j_boundary=1.0 j_bulk=1.0 Dl=9\n",
      "2022-01-28T14:18:02.712 computed full vertex tensor for Immirzi=1.0 j_boundary=1.0 j_bulk=2.0 Dl=9\n",
      "2022-01-28T14:18:02.714 computed full vertex tensor for Immirzi=1.0 j_boundary=1.0 j_bulk=3.0 Dl=9\n",
      "2022-01-28T14:18:02.715 computed full vertex tensor for Immirzi=1.0 j_boundary=1.0 j_bulk=0.0 Dl=10\n",
      "2022-01-28T14:18:02.717 computed full vertex tensor for Immirzi=1.0 j_boundary=1.0 j_bulk=1.0 Dl=10\n",
      "2022-01-28T14:18:02.718 computed full vertex tensor for Immirzi=1.0 j_boundary=1.0 j_bulk=2.0 Dl=10\n",
      "2022-01-28T14:18:02.720 computed full vertex tensor for Immirzi=1.0 j_boundary=1.0 j_bulk=3.0 Dl=10\n",
      "2022-01-28T14:18:02.721 computed full vertex tensor for Immirzi=1.0 j_boundary=1.0 j_bulk=0.0 Dl=11\n",
      "2022-01-28T14:18:02.722 computed full vertex tensor for Immirzi=1.0 j_boundary=1.0 j_bulk=1.0 Dl=11\n",
      "2022-01-28T14:18:02.724 computed full vertex tensor for Immirzi=1.0 j_boundary=1.0 j_bulk=2.0 Dl=11\n",
      "2022-01-28T14:18:02.725 computed full vertex tensor for Immirzi=1.0 j_boundary=1.0 j_bulk=3.0 Dl=11\n",
      "2022-01-28T14:18:02.726 computed full vertex tensor for Immirzi=1.0 j_boundary=1.0 j_bulk=0.0 Dl=12\n",
      "2022-01-28T14:18:02.728 computed full vertex tensor for Immirzi=1.0 j_boundary=1.0 j_bulk=1.0 Dl=12\n",
      "2022-01-28T14:18:02.729 computed full vertex tensor for Immirzi=1.0 j_boundary=1.0 j_bulk=2.0 Dl=12\n",
      "2022-01-28T14:18:02.730 computed full vertex tensor for Immirzi=1.0 j_boundary=1.0 j_bulk=3.0 Dl=12\n",
      "2022-01-28T14:18:02.732 computed full vertex tensor for Immirzi=1.0 j_boundary=1.0 j_bulk=0.0 Dl=13\n",
      "2022-01-28T14:18:02.734 computed full vertex tensor for Immirzi=1.0 j_boundary=1.0 j_bulk=1.0 Dl=13\n",
      "2022-01-28T14:18:02.736 computed full vertex tensor for Immirzi=1.0 j_boundary=1.0 j_bulk=2.0 Dl=13\n",
      "2022-01-28T14:18:02.738 computed full vertex tensor for Immirzi=1.0 j_boundary=1.0 j_bulk=3.0 Dl=13\n",
      "2022-01-28T14:18:02.740 computed full vertex tensor for Immirzi=1.0 j_boundary=1.0 j_bulk=0.0 Dl=14\n",
      "2022-01-28T14:18:02.742 computed full vertex tensor for Immirzi=1.0 j_boundary=1.0 j_bulk=1.0 Dl=14\n",
      "2022-01-28T14:18:02.744 computed full vertex tensor for Immirzi=1.0 j_boundary=1.0 j_bulk=2.0 Dl=14\n",
      "2022-01-28T14:18:02.746 computed full vertex tensor for Immirzi=1.0 j_boundary=1.0 j_bulk=3.0 Dl=14\n",
      "2022-01-28T14:18:02.747 computed full vertex tensor for Immirzi=1.0 j_boundary=1.0 j_bulk=0.0 Dl=15\n",
      "2022-01-28T14:18:02.748 computed full vertex tensor for Immirzi=1.0 j_boundary=1.0 j_bulk=1.0 Dl=15\n",
      "2022-01-28T14:18:02.749 computed full vertex tensor for Immirzi=1.0 j_boundary=1.0 j_bulk=2.0 Dl=15\n",
      "2022-01-28T14:18:02.751 computed full vertex tensor for Immirzi=1.0 j_boundary=1.0 j_bulk=3.0 Dl=15\n"
     ]
    }
   ],
   "source": [
    "# value of all boundary spins \n",
    "j = 1.0\n",
    "\n",
    "for Δl = 0:Δl_max\n",
    "    \n",
    "   # folder with vertex amplitudes \n",
    "   vertex_path = \"$(root_dir)/vertex_ampls/Immirzi_$(γ)/j_$(j)/Dl_$(Δl)\"                 \n",
    "   mkpath(vertex_path)\n",
    "    \n",
    "   # if all boundary spins are integers and equal to j, bulk spin has range [0, 3j]   \n",
    "   j_bulk_min, j_bulk_max = 0, 3j\n",
    "    \n",
    "   for j_bulk = j_bulk_min:j_bulk_max\n",
    "    \n",
    "      v = vertex_compute([j, j, j, j, j, j, j, j_bulk, j, j], Δl; result = sl2c_result_return);        \n",
    "      log(\"computed full vertex tensor for Immirzi=$(γ) j_boundary=$(j) j_bulk=$(j_bulk) Dl=$(Δl)\")\n",
    "                \n",
    "      vertex = v.a;        \n",
    "      @save \"$(vertex_path)/j_bulk_$(j_bulk)_fulltensor.jld2\" vertex         \n",
    "               \n",
    "   end # bulk spin cycle\n",
    "      \n",
    "end # Δl cycle"
   ]
  },
  {
   "cell_type": "markdown",
   "id": "870581d2-3d50-4ab9-93e3-3af27164aa56",
   "metadata": {},
   "source": [
    "For convenience, we write a function that computes all the required full vertices for given lists of boundary parameters in the symmetric configuration"
   ]
  },
  {
   "cell_type": "code",
   "execution_count": 6,
   "id": "6a884163-0482-45c2-8858-4d90faa92ddd",
   "metadata": {},
   "outputs": [
    {
     "data": {
      "text/plain": [
       "Δ4_vertices (generic function with 1 method)"
      ]
     },
     "execution_count": 6,
     "metadata": {},
     "output_type": "execute_result"
    }
   ],
   "source": [
    "function initializing_library(Immirzi)\n",
    "   \n",
    "folder = \"/home/frisus95/Scrivania/sl2cfoam_next/data_sl2cfoam\";\n",
    "conf = SL2Cfoam.Config(VerbosityOff, VeryHighAccuracy, 100, 0);\n",
    "SL2Cfoam.cinit(folder, Immirzi, conf);\n",
    "    \n",
    "end    \n",
    "\n",
    "function Δ4_vertices(Immirzi_list, j_boundary_list, Δl_max)\n",
    "\n",
    "for γ in Immirzi_list\n",
    "    \n",
    "   initializing_library(γ)    \n",
    "\n",
    "   for j in j_boundary_list   \n",
    "    \n",
    "       for Δl = 0:Δl_max\n",
    "        \n",
    "             vertex_path = \"$(root_dir)/vertex_ampls/Immirzi_$(γ)/j_$(j)/Dl_$(Δl)\"                 \n",
    "             mkpath(vertex_path)\n",
    "                \n",
    "             if (iszero(j%1)) j_bulk_min = 0 else j_bulk_min = 0.5 end       \n",
    "             j_bulk_max = 3j\n",
    "    \n",
    "             for j_bulk = j_bulk_min:j_bulk_max\n",
    "    \n",
    "                v = vertex_compute([j, j, j, j, j, j, j, j_bulk, j, j], Δl; result = sl2c_result_return);        \n",
    "                log(\"computed full vertex tensor for Immirzi=$(γ) j_boundary=$(j) j_bulk=$(j_bulk) Δl=$(Δl)\")\n",
    "                \n",
    "                vertex = v.a;        \n",
    "                @save \"$(vertex_path)/j_bulk_$(j_bulk)_fulltensor.jld2\" vertex         \n",
    "               \n",
    "             end # bulk spin cycle\n",
    "      \n",
    "        end # cut-off cycle\n",
    "            \n",
    "    end # j_boundary cycle\n",
    "    \n",
    "end  # Immirzi cycle\n",
    "    \n",
    "end"
   ]
  },
  {
   "cell_type": "code",
   "execution_count": 7,
   "id": "f448f52d-d8ac-4e73-a4c8-dfcb8d6302b9",
   "metadata": {},
   "outputs": [],
   "source": [
    "# list of Immirzi parameters \n",
    "Immirzi_list = [1.0]\n",
    "\n",
    "# list of boundary spins (symmetric configurations)\n",
    "j_boundary_list = [0.5]\n",
    "\n",
    "# maximal cut-off\n",
    "Δl_max = 15;"
   ]
  },
  {
   "cell_type": "code",
   "execution_count": 9,
   "id": "6a8d92e0-0dc8-4e5f-a509-287ad1cfdbc5",
   "metadata": {},
   "outputs": [
    {
     "name": "stdout",
     "output_type": "stream",
     "text": [
      "2022-01-28T14:21:33.413 computed full vertex tensor for Immirzi=1.0 j_boundary=0.5 j_bulk=0.5 Δl=0\n",
      "2022-01-28T14:21:33.450 computed full vertex tensor for Immirzi=1.0 j_boundary=0.5 j_bulk=1.5 Δl=0\n",
      "2022-01-28T14:21:33.454 computed full vertex tensor for Immirzi=1.0 j_boundary=0.5 j_bulk=0.5 Δl=1\n",
      "2022-01-28T14:21:33.458 computed full vertex tensor for Immirzi=1.0 j_boundary=0.5 j_bulk=1.5 Δl=1\n",
      "2022-01-28T14:21:33.462 computed full vertex tensor for Immirzi=1.0 j_boundary=0.5 j_bulk=0.5 Δl=2\n",
      "2022-01-28T14:21:33.466 computed full vertex tensor for Immirzi=1.0 j_boundary=0.5 j_bulk=1.5 Δl=2\n",
      "2022-01-28T14:21:33.470 computed full vertex tensor for Immirzi=1.0 j_boundary=0.5 j_bulk=0.5 Δl=3\n",
      "2022-01-28T14:21:33.474 computed full vertex tensor for Immirzi=1.0 j_boundary=0.5 j_bulk=1.5 Δl=3\n",
      "2022-01-28T14:21:33.477 computed full vertex tensor for Immirzi=1.0 j_boundary=0.5 j_bulk=0.5 Δl=4\n",
      "2022-01-28T14:21:33.480 computed full vertex tensor for Immirzi=1.0 j_boundary=0.5 j_bulk=1.5 Δl=4\n",
      "2022-01-28T14:21:33.483 computed full vertex tensor for Immirzi=1.0 j_boundary=0.5 j_bulk=0.5 Δl=5\n",
      "2022-01-28T14:21:33.485 computed full vertex tensor for Immirzi=1.0 j_boundary=0.5 j_bulk=1.5 Δl=5\n",
      "2022-01-28T14:21:33.488 computed full vertex tensor for Immirzi=1.0 j_boundary=0.5 j_bulk=0.5 Δl=6\n",
      "2022-01-28T14:21:33.490 computed full vertex tensor for Immirzi=1.0 j_boundary=0.5 j_bulk=1.5 Δl=6\n",
      "2022-01-28T14:21:33.492 computed full vertex tensor for Immirzi=1.0 j_boundary=0.5 j_bulk=0.5 Δl=7\n",
      "2022-01-28T14:21:33.495 computed full vertex tensor for Immirzi=1.0 j_boundary=0.5 j_bulk=1.5 Δl=7\n",
      "2022-01-28T14:21:33.497 computed full vertex tensor for Immirzi=1.0 j_boundary=0.5 j_bulk=0.5 Δl=8\n",
      "2022-01-28T14:21:33.498 computed full vertex tensor for Immirzi=1.0 j_boundary=0.5 j_bulk=1.5 Δl=8\n",
      "2022-01-28T14:21:33.500 computed full vertex tensor for Immirzi=1.0 j_boundary=0.5 j_bulk=0.5 Δl=9\n",
      "2022-01-28T14:21:33.502 computed full vertex tensor for Immirzi=1.0 j_boundary=0.5 j_bulk=1.5 Δl=9\n",
      "2022-01-28T14:21:33.503 computed full vertex tensor for Immirzi=1.0 j_boundary=0.5 j_bulk=0.5 Δl=10\n",
      "2022-01-28T14:21:33.505 computed full vertex tensor for Immirzi=1.0 j_boundary=0.5 j_bulk=1.5 Δl=10\n",
      "2022-01-28T14:21:33.506 computed full vertex tensor for Immirzi=1.0 j_boundary=0.5 j_bulk=0.5 Δl=11\n",
      "2022-01-28T14:21:33.508 computed full vertex tensor for Immirzi=1.0 j_boundary=0.5 j_bulk=1.5 Δl=11\n",
      "2022-01-28T14:21:33.509 computed full vertex tensor for Immirzi=1.0 j_boundary=0.5 j_bulk=0.5 Δl=12\n",
      "2022-01-28T14:21:33.510 computed full vertex tensor for Immirzi=1.0 j_boundary=0.5 j_bulk=1.5 Δl=12\n",
      "2022-01-28T14:21:33.512 computed full vertex tensor for Immirzi=1.0 j_boundary=0.5 j_bulk=0.5 Δl=13\n",
      "2022-01-28T14:21:33.513 computed full vertex tensor for Immirzi=1.0 j_boundary=0.5 j_bulk=1.5 Δl=13\n",
      "2022-01-28T14:21:33.515 computed full vertex tensor for Immirzi=1.0 j_boundary=0.5 j_bulk=0.5 Δl=14\n",
      "2022-01-28T14:21:33.516 computed full vertex tensor for Immirzi=1.0 j_boundary=0.5 j_bulk=1.5 Δl=14\n",
      "2022-01-28T14:21:33.518 computed full vertex tensor for Immirzi=1.0 j_boundary=0.5 j_bulk=0.5 Δl=15\n",
      "2022-01-28T14:21:33.519 computed full vertex tensor for Immirzi=1.0 j_boundary=0.5 j_bulk=1.5 Δl=15\n"
     ]
    }
   ],
   "source": [
    "Δ4_vertices(Immirzi_list, j_boundary_list, Δl_max)"
   ]
  }
 ],
 "metadata": {
  "kernelspec": {
   "display_name": "Julia 1.7.0",
   "language": "julia",
   "name": "julia-1.7"
  },
  "language_info": {
   "file_extension": ".jl",
   "mimetype": "application/julia",
   "name": "julia",
   "version": "1.7.0"
  }
 },
 "nbformat": 4,
 "nbformat_minor": 5
}
