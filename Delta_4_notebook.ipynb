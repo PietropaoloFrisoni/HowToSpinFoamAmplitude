{
 "cells": [
  {
   "cell_type": "markdown",
   "id": "573d0534-50b5-4ff9-afdc-5293fc73117a",
   "metadata": {
    "tags": []
   },
   "source": [
    "# Notebook for the Δ₄ amplitude computation  "
   ]
  },
  {
   "cell_type": "markdown",
   "id": "1ea8030e-9235-431c-80af-6eac54718005",
   "metadata": {
    "tags": []
   },
   "source": [
    "## Part 1: from vertex amplitudes to the Δ₄ amplitude"
   ]
  },
  {
   "cell_type": "markdown",
   "id": "bb8fabce-3780-4b4e-87a4-5881b9eaab76",
   "metadata": {},
   "source": [
    "In this Part we compute the Δ₄ amplitude starting from the vertex amplitudes tensors, \n",
    "which are already computed and stored in the current folder.\n",
    "\n",
    "In order to compile this part it is only necessary to run the julia kernel (tested with julia 1.7.0)"
   ]
  },
  {
   "cell_type": "code",
   "execution_count": 1,
   "id": "fced00d5-f8ab-47fa-b865-b2c6d6f83b36",
   "metadata": {},
   "outputs": [],
   "source": [
    "# required pkgs  \n",
    "using HalfIntegers\n",
    "using JLD2   \n",
    "using DelimitedFiles"
   ]
  },
  {
   "cell_type": "code",
   "execution_count": 2,
   "id": "0081d9f6-1b33-4d5b-9ec0-aa18948c0a9a",
   "metadata": {},
   "outputs": [
    {
     "data": {
      "text/plain": [
       "\"/home/frisus95/Scrivania/Review_numerical_LQG/vertex_ampls\""
      ]
     },
     "execution_count": 2,
     "metadata": {},
     "output_type": "execute_result"
    }
   ],
   "source": [
    "current_folder = pwd()\n",
    "vertex_ampls_folder = \"$(current_folder)/vertex_ampls\""
   ]
  },
  {
   "cell_type": "code",
   "execution_count": 3,
   "id": "d74a9948-f3c4-4a12-a93d-8ea8f2388b2a",
   "metadata": {},
   "outputs": [],
   "source": [
    "# list of Immirzi parameters \n",
    "Immirzi_list = [0.1, 1.2]\n",
    "\n",
    "# list of boundary spins (symmetric configurations)\n",
    "j_boundary_list = [0.5,1]\n",
    "\n",
    "# maximal number of shells \n",
    "Dl_max = 15\n",
    "\n",
    "for Immirzi in Immirzi_list\n",
    "\n",
    "for j_boundary in j_boundary_list    \n",
    "        \n",
    "   # if all boundary spins are equal to j, each boundary intertwiner has a range [0, 2j]     \n",
    "   i_boundary_min = 0     \n",
    "   i_boundary_max = convert(Int,2j_boundary) \n",
    "        \n",
    "   # matrix in which the computed amplitudes will be stored         \n",
    "   Delta_4_amplitudes = zeros(Dl_max + 1, i_boundary_max + 1)\n",
    "\n",
    "      for i_boundary = i_boundary_min:i_boundary_max\n",
    "          \n",
    "         # julia arrays start at index 1   \n",
    "         i_b = i_boundary + 1    \n",
    "    \n",
    "         for Dl = 0:Dl_max\n",
    "\n",
    "            ampls_folder_source = vertex_ampls_folder*\"/Immirzi=$(Immirzi)/all_j=$(j_boundary)/Dl=$(Dl)\"       \n",
    "                \n",
    "            Delta_4_amp = 0.0 \n",
    "                \n",
    "               # if all boundary spins are equal to j, the bulk spin has a range [j, 3j]   \n",
    "               j_bulk_min = j_boundary\n",
    "               j_bulk_max = 3j_boundary  \n",
    "    \n",
    "               for j_bulk = j_bulk_min:j_bulk_max\n",
    "\n",
    "               @load \"$(ampls_folder_source)/j_bulk=$(j_bulk)_fulltensor.jld2\" vertex \n",
    "                    \n",
    "               # ranges of intertwiner space touched by the bulk spin      \n",
    "               D = size(vertex[i_b,:,:,i_b,i_b])[1] # also [2] has the same range          \n",
    "                    \n",
    "               partial_amp = 0.0\n",
    "  \n",
    "               # when all spins are equal to j the phase is always unitary     \n",
    "               for i_1234 in 1:D, i_1235 in 1:D, i_1236 in 1:D, i_1237 in 1:D\n",
    "               partial_amp += vertex[i_b,i_1234,i_1235,i_b,i_b]*vertex[i_b,i_1235,i_1236,i_b,i_b]*\n",
    "                              vertex[i_b,i_1236,i_1237,i_b,i_b]*vertex[i_b,i_1237,i_1234,i_b,i_b]     \n",
    "               end     \n",
    "\n",
    "               # dimension of bulk spin     \n",
    "               partial_amp *= (2j_bulk + 1)\n",
    "            \n",
    "               Delta_4_amp += partial_amp  \n",
    "                    \n",
    "               end # j_bulk cycle\n",
    "                \n",
    "            Delta_4_amplitudes[Dl+1,i_b] = Delta_4_amp       \n",
    "        \n",
    "            # storing the computed amplitude in JLD2 format    \n",
    "            Delta_4_JLD2_dest_folder = current_folder*\"/Delta4_ampls/Immirzi=$(Immirzi)/all_j=$(j_boundary)/JLD2_format/all_i=$(i_boundary)/\"\n",
    "            mkpath(Delta_4_JLD2_dest_folder)         \n",
    "            @save \"$(Delta_4_JLD2_dest_folder)/Dl=$(Dl).jld2\" Delta_4_amp\n",
    "        \n",
    "        end # shell cycle\n",
    "            \n",
    "        # storing the computed amplitudes in CSV format\n",
    "        Delta_4_CSV_dest_folder = current_folder*\"/Delta4_ampls/Immirzi=$(Immirzi)/all_j=$(j_boundary)/CSV_format\" \n",
    "        mkpath(Delta_4_CSV_dest_folder)\n",
    "        open(\"$(Delta_4_CSV_dest_folder)/Delta_4_ampls_Dlmax=$(Dl_max).csv\", \"w\") do io\n",
    "        writedlm(io, Delta_4_amplitudes, ',')\n",
    "        end   \n",
    "        \n",
    "     end # i_boundary cycle\n",
    "    \n",
    "end # j_boundary cycle       \n",
    "\n",
    "end # Immirzi cycle     \n",
    "    "
   ]
  },
  {
   "cell_type": "markdown",
   "id": "4e47daf1-afdd-47e9-87a4-a609b9eabea5",
   "metadata": {},
   "source": [
    "Notice that this way of contracting tensors in julia is neither efficient nor elegant, but we want to keep the code as clear as possible for those unfamiliar with julia's syntax\n"
   ]
  },
  {
   "cell_type": "markdown",
   "id": "40a3cf8d-a384-4e0e-be20-fbe98e708ce1",
   "metadata": {
    "tags": []
   },
   "source": [
    "## Optional plotting with julia"
   ]
  },
  {
   "cell_type": "code",
   "execution_count": 4,
   "id": "f82413d9-26a8-46e1-8c23-364b50230b5b",
   "metadata": {},
   "outputs": [
    {
     "data": {
      "text/plain": [
       "Plots.PGFPlotsXBackend()"
      ]
     },
     "execution_count": 4,
     "metadata": {},
     "output_type": "execute_result"
    }
   ],
   "source": [
    "# required pkgs\n",
    "using Plots\n",
    "using Plots.PlotMeasures\n",
    "using LaTeXStrings\n",
    "\n",
    "# set backend and style\n",
    "pgfplotsx()\n",
    "theme(:default)\n",
    "default(markerstrokewidth = 0, \n",
    "        markerstrokealpha = 0, \n",
    "        linewidth = 2, \n",
    "        #grid=:none,   \n",
    "        opacity = 0.8,\n",
    "        gridlinewidth= 0.5,\n",
    "        markersize = 10,\n",
    "        markershape = :circle,\n",
    "        tickfontsize = 18, \n",
    "        size = (900, 600), \n",
    "        yformatter = string,\n",
    "        legendfontsize = 24, \n",
    "        guidefontsize=20,\n",
    "        titlefontsize = 37,\n",
    "        legend=(0.03,0.98), \n",
    "        xticks = 0:15, \n",
    "        foreground_color_axis = \"black\",\n",
    "        foreground_color_border = \"black\",\n",
    "        foreground_color_guide = \"darkorange\",\n",
    "        foreground_color_text = \"black\",\n",
    "        guidefontcolor = \"black\", \n",
    "        plot_titlefontcolor = \"black\",\n",
    "        titlefontcolor = \"black\", \n",
    "        shape=[:circle])\n",
    "\n",
    "Plots.PGFPlotsXBackend()"
   ]
  },
  {
   "cell_type": "code",
   "execution_count": 5,
   "id": "95762663-568b-4afe-891d-942c59e78c2a",
   "metadata": {},
   "outputs": [],
   "source": [
    "# julia has still problems in plotting very small numbers, so we need to rescale them\n",
    "# scientific format doesn't seem to work with Plots.jl\n",
    "rescaling_factor = 1000000000000000000000000000000\n",
    "\n",
    "for Immirzi in Immirzi_list\n",
    "    \n",
    "   j_boundary = 0.5\n",
    "   Delta_4_CSV_format_folder = current_folder*\"/Delta4_ampls/Immirzi=$(Immirzi)/all_j=$(j_boundary)/CSV_format\" \n",
    "   Delta_4_ampls = readdlm(\"$(Delta_4_CSV_format_folder)/Delta_4_ampls_Dlmax=$(Dl_max).csv\", ',') \n",
    "   Delta_4_ampls_rescaled = Delta_4_ampls*rescaling_factor  \n",
    "             \n",
    "   pl = plot(0:Dl_max, \n",
    "             [Delta_4_ampls_rescaled[:,1], Delta_4_ampls_rescaled[:,2]], \n",
    "             markersize = 10,\n",
    "             markershape = :circle,\n",
    "             palette = :RdYlGn_9,\n",
    "             legend=(0.04,0.95),\n",
    "             label=[L\" i_b = 0 \" L\" i_b = 1 \" ])\n",
    "    xlabel!(L\" \\Delta l\" )\n",
    "    ylabel!(L\" W \" )\n",
    "    title!(L\"\\mathrm{Delta\\ 4\\ amplitude\\ (rescaled)\\ j=%$(j_boundary)\\ \\gamma=%$(Immirzi) }\\ \")\n",
    "    savefig(\"$(current_folder)/Plots/Delta_4_j=$(j_boundary)_gamma=$(Immirzi).pdf\")      \n",
    "    \n",
    "    \n",
    "   j_boundary = 1.0\n",
    "   Delta_4_CSV_format_folder = current_folder*\"/Delta4_ampls/Immirzi=$(Immirzi)/all_j=$(j_boundary)/CSV_format\" \n",
    "   Delta_4_ampls = readdlm(\"$(Delta_4_CSV_format_folder)/Delta_4_ampls_Dlmax=$(Dl_max).csv\", ',') \n",
    "   Delta_4_ampls_rescaled = Delta_4_ampls*rescaling_factor  \n",
    "             \n",
    "   pl = plot(0:Dl_max, \n",
    "             [Delta_4_ampls_rescaled[:,1], Delta_4_ampls_rescaled[:,2], Delta_4_ampls_rescaled[:,3]], \n",
    "             markersize = 10,\n",
    "             markershape = :circle,\n",
    "             palette = :RdYlGn_9,\n",
    "             legend=(0.04,0.95),\n",
    "             label=[L\" i_b = 0 \" L\" i_b = 1 \" L\" i_b = 2 \"])\n",
    "    xlabel!(L\" \\Delta l\" )\n",
    "    ylabel!(L\" W \" )\n",
    "    title!(L\"\\mathrm{Delta\\ 4\\ amplitude\\ (rescaled)\\ j=%$(j_boundary)\\ \\gamma=%$(Immirzi) }\\ \")\n",
    "    savefig(\"$(current_folder)/Plots/Delta_4_j=$(j_boundary)_gamma=$(Immirzi).pdf\")             \n",
    "    \n",
    "end # Immirzi cycle    "
   ]
  },
  {
   "cell_type": "markdown",
   "id": "39cf98b3-d0e3-4051-b189-eb23818c2232",
   "metadata": {
    "tags": []
   },
   "source": [
    "## Part 2: computing the vertex amplitudes"
   ]
  },
  {
   "cell_type": "markdown",
   "id": "73e6ecc4-9c9b-4d3e-982a-d8643616145f",
   "metadata": {},
   "source": [
    "In this Part we compute the vertex amplitudes tensors required above. We employ the sl2cfoam-next library:\n",
    "https://github.com/qg-cpt-marseille/sl2cfoam-next\n",
    "\n",
    "See also:\n",
    "https://arxiv.org/abs/2107.13952\n",
    "\n",
    "In order to compile this part you first need to install the above library. "
   ]
  },
  {
   "cell_type": "code",
   "execution_count": 3,
   "id": "3ed64790-b283-4cb1-bac8-3f626a8d25e9",
   "metadata": {},
   "outputs": [],
   "source": [
    "# required packages  \n",
    "using SL2Cfoam\n",
    "using Dates"
   ]
  },
  {
   "cell_type": "code",
   "execution_count": 4,
   "id": "90be7adf-8a6a-4ff8-9b2e-a6eace0321de",
   "metadata": {},
   "outputs": [
    {
     "data": {
      "text/plain": [
       "log (generic function with 1 method)"
      ]
     },
     "execution_count": 4,
     "metadata": {},
     "output_type": "execute_result"
    }
   ],
   "source": [
    "# print with flush\n",
    "function log(x...)\n",
    "    println(now(), \" \", join(x, \" \")...)\n",
    "    flush(stdout)\n",
    "end"
   ]
  },
  {
   "cell_type": "code",
   "execution_count": 5,
   "id": "1bef84e9-7169-477c-9f9d-4598b16bfbea",
   "metadata": {},
   "outputs": [
    {
     "data": {
      "text/plain": [
       "initializing_library (generic function with 1 method)"
      ]
     },
     "execution_count": 5,
     "metadata": {},
     "output_type": "execute_result"
    }
   ],
   "source": [
    "function initializing_library(Immirzi)\n",
    "   \n",
    "folder = \"/home/frisus95/Scrivania/sl2cfoam_next/data_sl2cfoam\";\n",
    "conf = SL2Cfoam.Config(VerbosityOff, VeryHighAccuracy, 100, 0);\n",
    "SL2Cfoam.cinit(folder, Immirzi, conf);\n",
    "    \n",
    "end    "
   ]
  },
  {
   "cell_type": "code",
   "execution_count": 8,
   "id": "ad3f7ca4-b37f-466e-bd0a-5247369d105b",
   "metadata": {},
   "outputs": [
    {
     "name": "stdout",
     "output_type": "stream",
     "text": [
      "2022-01-10T21:13:00.082 computed full vertex tensor for Immirzi=0.1 j_boundary=0.5 j_bulk=0.5 Dl=0\n",
      "2022-01-10T21:13:02.800 computed full vertex tensor for Immirzi=0.1 j_boundary=0.5 j_bulk=1.5 Dl=0\n",
      "2022-01-10T21:13:02.880 computed full vertex tensor for Immirzi=0.1 j_boundary=0.5 j_bulk=0.5 Dl=1\n",
      "2022-01-10T21:13:02.903 computed full vertex tensor for Immirzi=0.1 j_boundary=0.5 j_bulk=1.5 Dl=1\n",
      "2022-01-10T21:13:02.916 computed full vertex tensor for Immirzi=0.1 j_boundary=0.5 j_bulk=0.5 Dl=2\n",
      "2022-01-10T21:13:02.954 computed full vertex tensor for Immirzi=0.1 j_boundary=0.5 j_bulk=1.5 Dl=2\n",
      "2022-01-10T21:13:03.046 computed full vertex tensor for Immirzi=0.1 j_boundary=0.5 j_bulk=0.5 Dl=3\n",
      "2022-01-10T21:13:03.070 computed full vertex tensor for Immirzi=0.1 j_boundary=0.5 j_bulk=1.5 Dl=3\n",
      "2022-01-10T21:13:03.104 computed full vertex tensor for Immirzi=0.1 j_boundary=0.5 j_bulk=0.5 Dl=4\n",
      "2022-01-10T21:13:03.148 computed full vertex tensor for Immirzi=0.1 j_boundary=0.5 j_bulk=1.5 Dl=4\n",
      "2022-01-10T21:13:03.242 computed full vertex tensor for Immirzi=0.1 j_boundary=0.5 j_bulk=0.5 Dl=5\n",
      "2022-01-10T21:13:03.288 computed full vertex tensor for Immirzi=0.1 j_boundary=0.5 j_bulk=1.5 Dl=5\n",
      "2022-01-10T21:13:03.348 computed full vertex tensor for Immirzi=0.1 j_boundary=0.5 j_bulk=0.5 Dl=6\n",
      "2022-01-10T21:13:03.439 computed full vertex tensor for Immirzi=0.1 j_boundary=0.5 j_bulk=1.5 Dl=6\n",
      "2022-01-10T21:13:03.534 computed full vertex tensor for Immirzi=0.1 j_boundary=0.5 j_bulk=0.5 Dl=7\n",
      "2022-01-10T21:13:03.626 computed full vertex tensor for Immirzi=0.1 j_boundary=0.5 j_bulk=1.5 Dl=7\n",
      "2022-01-10T21:13:03.779 computed full vertex tensor for Immirzi=0.1 j_boundary=0.5 j_bulk=0.5 Dl=8\n",
      "2022-01-10T21:13:03.898 computed full vertex tensor for Immirzi=0.1 j_boundary=0.5 j_bulk=1.5 Dl=8\n",
      "2022-01-10T21:13:04.071 computed full vertex tensor for Immirzi=0.1 j_boundary=0.5 j_bulk=0.5 Dl=9\n",
      "2022-01-10T21:13:04.230 computed full vertex tensor for Immirzi=0.1 j_boundary=0.5 j_bulk=1.5 Dl=9\n",
      "2022-01-10T21:13:04.463 computed full vertex tensor for Immirzi=0.1 j_boundary=0.5 j_bulk=0.5 Dl=10\n",
      "2022-01-10T21:13:04.667 computed full vertex tensor for Immirzi=0.1 j_boundary=0.5 j_bulk=1.5 Dl=10\n",
      "2022-01-10T21:13:04.988 computed full vertex tensor for Immirzi=0.1 j_boundary=0.5 j_bulk=0.5 Dl=11\n",
      "2022-01-10T21:13:05.288 computed full vertex tensor for Immirzi=0.1 j_boundary=0.5 j_bulk=1.5 Dl=11\n",
      "2022-01-10T21:13:05.778 computed full vertex tensor for Immirzi=0.1 j_boundary=0.5 j_bulk=0.5 Dl=12\n",
      "2022-01-10T21:13:06.241 computed full vertex tensor for Immirzi=0.1 j_boundary=0.5 j_bulk=1.5 Dl=12\n",
      "2022-01-10T21:13:06.954 computed full vertex tensor for Immirzi=0.1 j_boundary=0.5 j_bulk=0.5 Dl=13\n",
      "2022-01-10T21:13:07.649 computed full vertex tensor for Immirzi=0.1 j_boundary=0.5 j_bulk=1.5 Dl=13\n",
      "2022-01-10T21:13:08.691 computed full vertex tensor for Immirzi=0.1 j_boundary=0.5 j_bulk=0.5 Dl=14\n",
      "2022-01-10T21:13:09.699 computed full vertex tensor for Immirzi=0.1 j_boundary=0.5 j_bulk=1.5 Dl=14\n",
      "2022-01-10T21:13:11.216 computed full vertex tensor for Immirzi=0.1 j_boundary=0.5 j_bulk=0.5 Dl=15\n",
      "2022-01-10T21:13:12.673 computed full vertex tensor for Immirzi=0.1 j_boundary=0.5 j_bulk=1.5 Dl=15\n",
      "2022-01-10T21:13:12.718 computed full vertex tensor for Immirzi=0.1 j_boundary=1.0 j_bulk=1.0 Dl=0\n",
      "2022-01-10T21:13:12.747 computed full vertex tensor for Immirzi=0.1 j_boundary=1.0 j_bulk=2.0 Dl=0\n",
      "2022-01-10T21:13:12.769 computed full vertex tensor for Immirzi=0.1 j_boundary=1.0 j_bulk=3.0 Dl=0\n",
      "2022-01-10T21:13:12.805 computed full vertex tensor for Immirzi=0.1 j_boundary=1.0 j_bulk=1.0 Dl=1\n",
      "2022-01-10T21:13:12.866 computed full vertex tensor for Immirzi=0.1 j_boundary=1.0 j_bulk=2.0 Dl=1\n",
      "2022-01-10T21:13:12.906 computed full vertex tensor for Immirzi=0.1 j_boundary=1.0 j_bulk=3.0 Dl=1\n",
      "2022-01-10T21:13:12.962 computed full vertex tensor for Immirzi=0.1 j_boundary=1.0 j_bulk=1.0 Dl=2\n",
      "2022-01-10T21:13:13.030 computed full vertex tensor for Immirzi=0.1 j_boundary=1.0 j_bulk=2.0 Dl=2\n",
      "2022-01-10T21:13:13.083 computed full vertex tensor for Immirzi=0.1 j_boundary=1.0 j_bulk=3.0 Dl=2\n",
      "2022-01-10T21:13:13.162 computed full vertex tensor for Immirzi=0.1 j_boundary=1.0 j_bulk=1.0 Dl=3\n",
      "2022-01-10T21:13:13.229 computed full vertex tensor for Immirzi=0.1 j_boundary=1.0 j_bulk=2.0 Dl=3\n",
      "2022-01-10T21:13:13.306 computed full vertex tensor for Immirzi=0.1 j_boundary=1.0 j_bulk=3.0 Dl=3\n",
      "2022-01-10T21:13:13.378 computed full vertex tensor for Immirzi=0.1 j_boundary=1.0 j_bulk=1.0 Dl=4\n",
      "2022-01-10T21:13:13.484 computed full vertex tensor for Immirzi=0.1 j_boundary=1.0 j_bulk=2.0 Dl=4\n",
      "2022-01-10T21:13:13.502 computed full vertex tensor for Immirzi=0.1 j_boundary=1.0 j_bulk=3.0 Dl=4\n",
      "2022-01-10T21:13:13.574 computed full vertex tensor for Immirzi=0.1 j_boundary=1.0 j_bulk=1.0 Dl=5\n",
      "2022-01-10T21:13:13.677 computed full vertex tensor for Immirzi=0.1 j_boundary=1.0 j_bulk=2.0 Dl=5\n",
      "2022-01-10T21:13:13.742 computed full vertex tensor for Immirzi=0.1 j_boundary=1.0 j_bulk=3.0 Dl=5\n",
      "2022-01-10T21:13:13.831 computed full vertex tensor for Immirzi=0.1 j_boundary=1.0 j_bulk=1.0 Dl=6\n",
      "2022-01-10T21:13:13.883 computed full vertex tensor for Immirzi=0.1 j_boundary=1.0 j_bulk=2.0 Dl=6\n",
      "2022-01-10T21:13:13.950 computed full vertex tensor for Immirzi=0.1 j_boundary=1.0 j_bulk=3.0 Dl=6\n",
      "2022-01-10T21:13:14.107 computed full vertex tensor for Immirzi=0.1 j_boundary=1.0 j_bulk=1.0 Dl=7\n",
      "2022-01-10T21:13:14.262 computed full vertex tensor for Immirzi=0.1 j_boundary=1.0 j_bulk=2.0 Dl=7\n",
      "2022-01-10T21:13:14.410 computed full vertex tensor for Immirzi=0.1 j_boundary=1.0 j_bulk=3.0 Dl=7\n",
      "2022-01-10T21:13:14.632 computed full vertex tensor for Immirzi=0.1 j_boundary=1.0 j_bulk=1.0 Dl=8\n",
      "2022-01-10T21:13:14.816 computed full vertex tensor for Immirzi=0.1 j_boundary=1.0 j_bulk=2.0 Dl=8\n",
      "2022-01-10T21:13:15.021 computed full vertex tensor for Immirzi=0.1 j_boundary=1.0 j_bulk=3.0 Dl=8\n",
      "2022-01-10T21:13:15.377 computed full vertex tensor for Immirzi=0.1 j_boundary=1.0 j_bulk=1.0 Dl=9\n",
      "2022-01-10T21:13:15.675 computed full vertex tensor for Immirzi=0.1 j_boundary=1.0 j_bulk=2.0 Dl=9\n",
      "2022-01-10T21:13:15.953 computed full vertex tensor for Immirzi=0.1 j_boundary=1.0 j_bulk=3.0 Dl=9\n",
      "2022-01-10T21:13:16.486 computed full vertex tensor for Immirzi=0.1 j_boundary=1.0 j_bulk=1.0 Dl=10\n",
      "2022-01-10T21:13:16.996 computed full vertex tensor for Immirzi=0.1 j_boundary=1.0 j_bulk=2.0 Dl=10\n",
      "2022-01-10T21:13:17.480 computed full vertex tensor for Immirzi=0.1 j_boundary=1.0 j_bulk=3.0 Dl=10\n",
      "2022-01-10T21:13:18.301 computed full vertex tensor for Immirzi=0.1 j_boundary=1.0 j_bulk=1.0 Dl=11\n",
      "2022-01-10T21:13:19.094 computed full vertex tensor for Immirzi=0.1 j_boundary=1.0 j_bulk=2.0 Dl=11\n",
      "2022-01-10T21:13:19.845 computed full vertex tensor for Immirzi=0.1 j_boundary=1.0 j_bulk=3.0 Dl=11\n",
      "2022-01-10T21:13:21.113 computed full vertex tensor for Immirzi=0.1 j_boundary=1.0 j_bulk=1.0 Dl=12\n",
      "2022-01-10T21:13:22.329 computed full vertex tensor for Immirzi=0.1 j_boundary=1.0 j_bulk=2.0 Dl=12\n",
      "2022-01-10T21:13:23.462 computed full vertex tensor for Immirzi=0.1 j_boundary=1.0 j_bulk=3.0 Dl=12\n",
      "2022-01-10T21:13:25.321 computed full vertex tensor for Immirzi=0.1 j_boundary=1.0 j_bulk=1.0 Dl=13\n",
      "2022-01-10T21:13:27.121 computed full vertex tensor for Immirzi=0.1 j_boundary=1.0 j_bulk=2.0 Dl=13\n",
      "2022-01-10T21:13:28.835 computed full vertex tensor for Immirzi=0.1 j_boundary=1.0 j_bulk=3.0 Dl=13\n",
      "2022-01-10T21:13:31.602 computed full vertex tensor for Immirzi=0.1 j_boundary=1.0 j_bulk=1.0 Dl=14\n",
      "2022-01-10T21:13:34.236 computed full vertex tensor for Immirzi=0.1 j_boundary=1.0 j_bulk=2.0 Dl=14\n",
      "2022-01-10T21:13:36.746 computed full vertex tensor for Immirzi=0.1 j_boundary=1.0 j_bulk=3.0 Dl=14\n",
      "2022-01-10T21:13:40.661 computed full vertex tensor for Immirzi=0.1 j_boundary=1.0 j_bulk=1.0 Dl=15\n",
      "2022-01-10T21:13:44.494 computed full vertex tensor for Immirzi=0.1 j_boundary=1.0 j_bulk=2.0 Dl=15\n",
      "2022-01-10T21:13:48.120 computed full vertex tensor for Immirzi=0.1 j_boundary=1.0 j_bulk=3.0 Dl=15\n",
      "2022-01-10T21:13:48.166 computed full vertex tensor for Immirzi=1.2 j_boundary=0.5 j_bulk=0.5 Dl=0\n",
      "2022-01-10T21:13:48.202 computed full vertex tensor for Immirzi=1.2 j_boundary=0.5 j_bulk=1.5 Dl=0\n",
      "2022-01-10T21:13:48.230 computed full vertex tensor for Immirzi=1.2 j_boundary=0.5 j_bulk=0.5 Dl=1\n",
      "2022-01-10T21:13:48.254 computed full vertex tensor for Immirzi=1.2 j_boundary=0.5 j_bulk=1.5 Dl=1\n",
      "2022-01-10T21:13:48.257 computed full vertex tensor for Immirzi=1.2 j_boundary=0.5 j_bulk=0.5 Dl=2\n",
      "2022-01-10T21:13:48.264 computed full vertex tensor for Immirzi=1.2 j_boundary=0.5 j_bulk=1.5 Dl=2\n",
      "2022-01-10T21:13:48.344 computed full vertex tensor for Immirzi=1.2 j_boundary=0.5 j_bulk=0.5 Dl=3\n",
      "2022-01-10T21:13:48.422 computed full vertex tensor for Immirzi=1.2 j_boundary=0.5 j_bulk=1.5 Dl=3\n",
      "2022-01-10T21:13:48.462 computed full vertex tensor for Immirzi=1.2 j_boundary=0.5 j_bulk=0.5 Dl=4\n",
      "2022-01-10T21:13:48.480 computed full vertex tensor for Immirzi=1.2 j_boundary=0.5 j_bulk=1.5 Dl=4\n",
      "2022-01-10T21:13:48.544 computed full vertex tensor for Immirzi=1.2 j_boundary=0.5 j_bulk=0.5 Dl=5\n",
      "2022-01-10T21:13:48.622 computed full vertex tensor for Immirzi=1.2 j_boundary=0.5 j_bulk=1.5 Dl=5\n",
      "2022-01-10T21:13:48.671 computed full vertex tensor for Immirzi=1.2 j_boundary=0.5 j_bulk=0.5 Dl=6\n",
      "2022-01-10T21:13:48.726 computed full vertex tensor for Immirzi=1.2 j_boundary=0.5 j_bulk=1.5 Dl=6\n",
      "2022-01-10T21:13:48.824 computed full vertex tensor for Immirzi=1.2 j_boundary=0.5 j_bulk=0.5 Dl=7\n",
      "2022-01-10T21:13:48.906 computed full vertex tensor for Immirzi=1.2 j_boundary=0.5 j_bulk=1.5 Dl=7\n",
      "2022-01-10T21:13:48.988 computed full vertex tensor for Immirzi=1.2 j_boundary=0.5 j_bulk=0.5 Dl=8\n",
      "2022-01-10T21:13:49.141 computed full vertex tensor for Immirzi=1.2 j_boundary=0.5 j_bulk=1.5 Dl=8\n",
      "2022-01-10T21:13:49.360 computed full vertex tensor for Immirzi=1.2 j_boundary=0.5 j_bulk=0.5 Dl=9\n",
      "2022-01-10T21:13:49.567 computed full vertex tensor for Immirzi=1.2 j_boundary=0.5 j_bulk=1.5 Dl=9\n",
      "2022-01-10T21:13:49.834 computed full vertex tensor for Immirzi=1.2 j_boundary=0.5 j_bulk=0.5 Dl=10\n",
      "2022-01-10T21:13:50.076 computed full vertex tensor for Immirzi=1.2 j_boundary=0.5 j_bulk=1.5 Dl=10\n",
      "2022-01-10T21:13:50.493 computed full vertex tensor for Immirzi=1.2 j_boundary=0.5 j_bulk=0.5 Dl=11\n",
      "2022-01-10T21:13:50.851 computed full vertex tensor for Immirzi=1.2 j_boundary=0.5 j_bulk=1.5 Dl=11\n",
      "2022-01-10T21:13:51.423 computed full vertex tensor for Immirzi=1.2 j_boundary=0.5 j_bulk=0.5 Dl=12\n",
      "2022-01-10T21:13:51.994 computed full vertex tensor for Immirzi=1.2 j_boundary=0.5 j_bulk=1.5 Dl=12\n",
      "2022-01-10T21:13:52.866 computed full vertex tensor for Immirzi=1.2 j_boundary=0.5 j_bulk=0.5 Dl=13\n",
      "2022-01-10T21:13:53.678 computed full vertex tensor for Immirzi=1.2 j_boundary=0.5 j_bulk=1.5 Dl=13\n",
      "2022-01-10T21:13:54.937 computed full vertex tensor for Immirzi=1.2 j_boundary=0.5 j_bulk=0.5 Dl=14\n",
      "2022-01-10T21:13:56.098 computed full vertex tensor for Immirzi=1.2 j_boundary=0.5 j_bulk=1.5 Dl=14\n",
      "2022-01-10T21:13:57.835 computed full vertex tensor for Immirzi=1.2 j_boundary=0.5 j_bulk=0.5 Dl=15\n",
      "2022-01-10T21:13:59.495 computed full vertex tensor for Immirzi=1.2 j_boundary=0.5 j_bulk=1.5 Dl=15\n",
      "2022-01-10T21:13:59.531 computed full vertex tensor for Immirzi=1.2 j_boundary=1.0 j_bulk=1.0 Dl=0\n",
      "2022-01-10T21:13:59.561 computed full vertex tensor for Immirzi=1.2 j_boundary=1.0 j_bulk=2.0 Dl=0\n",
      "2022-01-10T21:13:59.604 computed full vertex tensor for Immirzi=1.2 j_boundary=1.0 j_bulk=3.0 Dl=0\n",
      "2022-01-10T21:13:59.630 computed full vertex tensor for Immirzi=1.2 j_boundary=1.0 j_bulk=1.0 Dl=1\n",
      "2022-01-10T21:13:59.648 computed full vertex tensor for Immirzi=1.2 j_boundary=1.0 j_bulk=2.0 Dl=1\n",
      "2022-01-10T21:13:59.739 computed full vertex tensor for Immirzi=1.2 j_boundary=1.0 j_bulk=3.0 Dl=1\n",
      "2022-01-10T21:13:59.741 computed full vertex tensor for Immirzi=1.2 j_boundary=1.0 j_bulk=1.0 Dl=2\n",
      "2022-01-10T21:13:59.795 computed full vertex tensor for Immirzi=1.2 j_boundary=1.0 j_bulk=2.0 Dl=2\n",
      "2022-01-10T21:13:59.866 computed full vertex tensor for Immirzi=1.2 j_boundary=1.0 j_bulk=3.0 Dl=2\n",
      "2022-01-10T21:13:59.938 computed full vertex tensor for Immirzi=1.2 j_boundary=1.0 j_bulk=1.0 Dl=3\n",
      "2022-01-10T21:14:00 computed full vertex tensor for Immirzi=1.2 j_boundary=1.0 j_bulk=2.0 Dl=3\n",
      "2022-01-10T21:14:00.027 computed full vertex tensor for Immirzi=1.2 j_boundary=1.0 j_bulk=3.0 Dl=3\n",
      "2022-01-10T21:14:00.076 computed full vertex tensor for Immirzi=1.2 j_boundary=1.0 j_bulk=1.0 Dl=4\n",
      "2022-01-10T21:14:00.094 computed full vertex tensor for Immirzi=1.2 j_boundary=1.0 j_bulk=2.0 Dl=4\n",
      "2022-01-10T21:14:00.193 computed full vertex tensor for Immirzi=1.2 j_boundary=1.0 j_bulk=3.0 Dl=4\n",
      "2022-01-10T21:14:00.274 computed full vertex tensor for Immirzi=1.2 j_boundary=1.0 j_bulk=1.0 Dl=5\n",
      "2022-01-10T21:14:00.335 computed full vertex tensor for Immirzi=1.2 j_boundary=1.0 j_bulk=2.0 Dl=5\n",
      "2022-01-10T21:14:00.466 computed full vertex tensor for Immirzi=1.2 j_boundary=1.0 j_bulk=3.0 Dl=5\n",
      "2022-01-10T21:14:00.538 computed full vertex tensor for Immirzi=1.2 j_boundary=1.0 j_bulk=1.0 Dl=6\n",
      "2022-01-10T21:14:00.655 computed full vertex tensor for Immirzi=1.2 j_boundary=1.0 j_bulk=2.0 Dl=6\n",
      "2022-01-10T21:14:00.721 computed full vertex tensor for Immirzi=1.2 j_boundary=1.0 j_bulk=3.0 Dl=6\n",
      "2022-01-10T21:14:00.880 computed full vertex tensor for Immirzi=1.2 j_boundary=1.0 j_bulk=1.0 Dl=7\n",
      "2022-01-10T21:14:01.033 computed full vertex tensor for Immirzi=1.2 j_boundary=1.0 j_bulk=2.0 Dl=7\n",
      "2022-01-10T21:14:01.191 computed full vertex tensor for Immirzi=1.2 j_boundary=1.0 j_bulk=3.0 Dl=7\n",
      "2022-01-10T21:14:01.463 computed full vertex tensor for Immirzi=1.2 j_boundary=1.0 j_bulk=1.0 Dl=8\n",
      "2022-01-10T21:14:01.702 computed full vertex tensor for Immirzi=1.2 j_boundary=1.0 j_bulk=2.0 Dl=8\n",
      "2022-01-10T21:14:01.918 computed full vertex tensor for Immirzi=1.2 j_boundary=1.0 j_bulk=3.0 Dl=8\n",
      "2022-01-10T21:14:02.271 computed full vertex tensor for Immirzi=1.2 j_boundary=1.0 j_bulk=1.0 Dl=9\n",
      "2022-01-10T21:14:02.615 computed full vertex tensor for Immirzi=1.2 j_boundary=1.0 j_bulk=2.0 Dl=9\n",
      "2022-01-10T21:14:02.940 computed full vertex tensor for Immirzi=1.2 j_boundary=1.0 j_bulk=3.0 Dl=9\n",
      "2022-01-10T21:14:03.532 computed full vertex tensor for Immirzi=1.2 j_boundary=1.0 j_bulk=1.0 Dl=10\n",
      "2022-01-10T21:14:04.103 computed full vertex tensor for Immirzi=1.2 j_boundary=1.0 j_bulk=2.0 Dl=10\n",
      "2022-01-10T21:14:04.655 computed full vertex tensor for Immirzi=1.2 j_boundary=1.0 j_bulk=3.0 Dl=10\n",
      "2022-01-10T21:14:05.625 computed full vertex tensor for Immirzi=1.2 j_boundary=1.0 j_bulk=1.0 Dl=11\n",
      "2022-01-10T21:14:06.527 computed full vertex tensor for Immirzi=1.2 j_boundary=1.0 j_bulk=2.0 Dl=11\n",
      "2022-01-10T21:14:07.374 computed full vertex tensor for Immirzi=1.2 j_boundary=1.0 j_bulk=3.0 Dl=11\n",
      "2022-01-10T21:14:08.788 computed full vertex tensor for Immirzi=1.2 j_boundary=1.0 j_bulk=1.0 Dl=12\n",
      "2022-01-10T21:14:10.150 computed full vertex tensor for Immirzi=1.2 j_boundary=1.0 j_bulk=2.0 Dl=12\n",
      "2022-01-10T21:14:11.430 computed full vertex tensor for Immirzi=1.2 j_boundary=1.0 j_bulk=3.0 Dl=12\n",
      "2022-01-10T21:14:13.576 computed full vertex tensor for Immirzi=1.2 j_boundary=1.0 j_bulk=1.0 Dl=13\n",
      "2022-01-10T21:14:15.703 computed full vertex tensor for Immirzi=1.2 j_boundary=1.0 j_bulk=2.0 Dl=13\n",
      "2022-01-10T21:14:17.693 computed full vertex tensor for Immirzi=1.2 j_boundary=1.0 j_bulk=3.0 Dl=13\n",
      "2022-01-10T21:14:20.761 computed full vertex tensor for Immirzi=1.2 j_boundary=1.0 j_bulk=1.0 Dl=14\n",
      "2022-01-10T21:14:23.760 computed full vertex tensor for Immirzi=1.2 j_boundary=1.0 j_bulk=2.0 Dl=14\n",
      "2022-01-10T21:14:26.605 computed full vertex tensor for Immirzi=1.2 j_boundary=1.0 j_bulk=3.0 Dl=14\n",
      "2022-01-10T21:14:31.054 computed full vertex tensor for Immirzi=1.2 j_boundary=1.0 j_bulk=1.0 Dl=15\n",
      "2022-01-10T21:14:35.338 computed full vertex tensor for Immirzi=1.2 j_boundary=1.0 j_bulk=2.0 Dl=15\n",
      "2022-01-10T21:14:39.437 computed full vertex tensor for Immirzi=1.2 j_boundary=1.0 j_bulk=3.0 Dl=15\n"
     ]
    }
   ],
   "source": [
    "result_return = (ret = true, store = false, store_batches = false);\n",
    "\n",
    "# list of Immirzi parameters \n",
    "Immirzi_list = [0.1, 1.2]\n",
    "\n",
    "# list of boundary spins (symmetric configurations)\n",
    "j_boundary_list = [0.5,1]\n",
    "\n",
    "# maximal number of shells \n",
    "Dl_max = 15\n",
    "\n",
    "for Immirzi in Immirzi_list\n",
    "    \n",
    "   initializing_library(Immirzi)    \n",
    "\n",
    "   for j in j_boundary_list   \n",
    "    \n",
    "       for Dl = 0:Dl_max\n",
    "        \n",
    "          dest_folder = vertex_ampls_folder*\"/Immirzi=$(Immirzi)/all_j=$(j)/Dl=$(Dl)\"                 \n",
    "          mkpath(dest_folder)\n",
    "    \n",
    "             # if all boundary spins are equal to j, bulk spin has range [j, 3j]   \n",
    "             j_bulk_min = j\n",
    "             j_bulk_max = 3j  \n",
    "    \n",
    "             for j_bulk = j_bulk_min:j_bulk_max\n",
    "    \n",
    "                v = vertex_compute([j, j, j, j, j, j, j, j_bulk, j, j], Dl; result = result_return);        \n",
    "                log(\"computed full vertex tensor for Immirzi=$(Immirzi) j_boundary=$(j) j_bulk=$(j_bulk) Dl=$(Dl)\")\n",
    "                \n",
    "                vertex = v.a;        \n",
    "                @save \"$(dest_folder)/j_bulk=$(j_bulk)_fulltensor.jld2\" vertex         \n",
    "               \n",
    "             end # bulk spin cycle\n",
    "      \n",
    "        end # shell cycle\n",
    "            \n",
    "    end # j_boundary cycle\n",
    "    \n",
    "end  # Immirzi cycle"
   ]
  },
  {
   "cell_type": "code",
   "execution_count": null,
   "id": "0a6ee5d5-ec80-478b-ad07-e3bdc99d4721",
   "metadata": {},
   "outputs": [],
   "source": []
  }
 ],
 "metadata": {
  "kernelspec": {
   "display_name": "Julia 1.7.0",
   "language": "julia",
   "name": "julia-1.7"
  },
  "language_info": {
   "file_extension": ".jl",
   "mimetype": "application/julia",
   "name": "julia",
   "version": "1.7.0"
  }
 },
 "nbformat": 4,
 "nbformat_minor": 5
}
