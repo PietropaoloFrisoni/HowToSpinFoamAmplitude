{
 "cells": [
  {
   "cell_type": "markdown",
   "id": "573d0534-50b5-4ff9-afdc-5293fc73117a",
   "metadata": {
    "tags": []
   },
   "source": [
    "# Notebook for the Δ₄ amplitude computation  "
   ]
  },
  {
   "cell_type": "markdown",
   "id": "1ea8030e-9235-431c-80af-6eac54718005",
   "metadata": {
    "tags": []
   },
   "source": [
    "## Part 1: from vertex amplitudes to the Δ₄ amplitude"
   ]
  },
  {
   "cell_type": "markdown",
   "id": "bb8fabce-3780-4b4e-87a4-5881b9eaab76",
   "metadata": {},
   "source": [
    "In this Part we compute the Δ₄ amplitude starting from the vertex amplitudes tensors, \n",
    "which are already computed and stored in the current folder.\n",
    "\n",
    "In order to compile this part it is only necessary to run the julia kernel (tested with julia 1.7.0)"
   ]
  },
  {
   "cell_type": "code",
   "execution_count": 1,
   "id": "fced00d5-f8ab-47fa-b865-b2c6d6f83b36",
   "metadata": {},
   "outputs": [],
   "source": [
    "# required pkgs  \n",
    "using HalfIntegers\n",
    "using JLD2   \n",
    "using DelimitedFiles"
   ]
  },
  {
   "cell_type": "code",
   "execution_count": null,
   "id": "0081d9f6-1b33-4d5b-9ec0-aa18948c0a9a",
   "metadata": {},
   "outputs": [],
   "source": [
    "current_folder = pwd()"
   ]
  },
  {
   "cell_type": "code",
   "execution_count": 15,
   "id": "d74a9948-f3c4-4a12-a93d-8ea8f2388b2a",
   "metadata": {},
   "outputs": [
    {
     "data": {
      "text/plain": [
       "Delta_4_amplitude (generic function with 2 methods)"
      ]
     },
     "execution_count": 15,
     "metadata": {},
     "output_type": "execute_result"
    }
   ],
   "source": [
    "# folder with stored EPRL vertex ampls\n",
    "vertex_ampls_folder = \"$(current_folder)/vertex_ampls\"\n",
    "\n",
    "# list of Immirzi parameters \n",
    "Immirzi_list = [0.1, 1.2]\n",
    "\n",
    "# list of boundary spins (symmetric configurations)\n",
    "j_boundary_list = [0.5,1]\n",
    "\n",
    "# maximal number of shells \n",
    "Dl_max = 15\n",
    "\n",
    "# computes Δ₄ amplitude for given parameters\n",
    "function Delta_4_amplitude(vertex_ampls_folder, Immirzi_list, j_boundary_list, Dl_max)\n",
    "\n",
    "for Immirzi in Immirzi_list\n",
    "\n",
    "   for j_boundary in j_boundary_list    \n",
    "        \n",
    "      # if all boundary spins are equal to j, each boundary intertwiner has a range [0, 2j]     \n",
    "      i_boundary_min = 0     \n",
    "      i_boundary_max = convert(Int,2j_boundary) \n",
    "        \n",
    "      # matrix in which the computed amplitudes will be stored         \n",
    "      Delta_4_amplitudes = zeros(Dl_max + 1, i_boundary_max + 1)\n",
    "\n",
    "         for i_boundary = i_boundary_min:i_boundary_max\n",
    "          \n",
    "            # julia arrays start at index 1   \n",
    "            i_b = i_boundary + 1    \n",
    "    \n",
    "            for Dl = 0:Dl_max\n",
    "\n",
    "               ampls_folder_source = vertex_ampls_folder*\"/Immirzi=$(Immirzi)/all_j=$(j_boundary)/Dl=$(Dl)\"       \n",
    "                   \n",
    "               Delta_4_amp = 0.0 \n",
    "                \n",
    "                  # if all boundary spins are equal to j, bulk spin has range [j, 3j]   \n",
    "                  j_bulk_min = j_boundary\n",
    "                  j_bulk_max = 3j_boundary  \n",
    "    \n",
    "                  for j_bulk = j_bulk_min:j_bulk_max\n",
    "\n",
    "                  @load \"$(ampls_folder_source)/j_bulk=$(j_bulk)_fulltensor.jld2\" vertex \n",
    "                    \n",
    "                  # ranges of intertwiner space touched by the bulk spin      \n",
    "                  D = size(vertex[i_b,:,:,i_b,i_b])[1] # also [2] has the same range          \n",
    "                    \n",
    "                  partial_amp = 0.0\n",
    "  \n",
    "                  # when all spins are equal to j the phase is always unitary     \n",
    "                  for i_1234 in 1:D, i_1235 in 1:D, i_1236 in 1:D, i_1237 in 1:D\n",
    "                  @inbounds partial_amp += vertex[i_b,i_1234,i_1235,i_b,i_b]*vertex[i_b,i_1235,i_1236,i_b,i_b]*\n",
    "                                           vertex[i_b,i_1236,i_1237,i_b,i_b]*vertex[i_b,i_1237,i_1234,i_b,i_b]     \n",
    "                  end     \n",
    "\n",
    "                  # dimension of bulk spin     \n",
    "                  partial_amp *= (2j_bulk + 1)\n",
    "            \n",
    "                  Delta_4_amp += partial_amp  \n",
    "                    \n",
    "                  end # j_bulk cycle\n",
    "                \n",
    "               Delta_4_amplitudes[Dl+1,i_b] = Delta_4_amp       \n",
    "        \n",
    "               # storing the computed amplitude in JLD2 format    \n",
    "               Delta_4_JLD2_dest_folder = current_folder*\"/Delta4_ampls/Immirzi=$(Immirzi)/all_j=$(j_boundary)/JLD2_format/all_i=$(i_boundary)/\"\n",
    "               mkpath(Delta_4_JLD2_dest_folder)         \n",
    "               @save \"$(Delta_4_JLD2_dest_folder)/Dl=$(Dl).jld2\" Delta_4_amp\n",
    "        \n",
    "           end # shell cycle\n",
    "            \n",
    "           # storing the computed amplitudes in CSV format\n",
    "           Delta_4_CSV_dest_folder = current_folder*\"/Delta4_ampls/Immirzi=$(Immirzi)/all_j=$(j_boundary)/CSV_format\" \n",
    "           mkpath(Delta_4_CSV_dest_folder)\n",
    "           open(\"$(Delta_4_CSV_dest_folder)/Delta_4_ampls_Dlmax=$(Dl_max).csv\", \"w\") do io\n",
    "           writedlm(io, Delta_4_amplitudes, ',')\n",
    "           end   \n",
    "        \n",
    "        end # i_boundary cycle\n",
    "    \n",
    "   end # j_boundary cycle       \n",
    "\n",
    "end # Immirzi cycle   \n",
    "    \n",
    "end # end of function\n",
    "    "
   ]
  },
  {
   "cell_type": "code",
   "execution_count": 17,
   "id": "2fee893c-fb02-403a-a8de-8fcee863174e",
   "metadata": {},
   "outputs": [
    {
     "name": "stdout",
     "output_type": "stream",
     "text": [
      "  0.186687 seconds (252.26 k allocations: 11.650 MiB)\n"
     ]
    }
   ],
   "source": [
    "@time Delta_4_amplitude(vertex_ampls_folder, Immirzi_list, j_boundary_list, Dl_max)"
   ]
  },
  {
   "cell_type": "markdown",
   "id": "4e47daf1-afdd-47e9-87a4-a609b9eabea5",
   "metadata": {},
   "source": [
    "Notice that this way of contracting tensors is neither efficient nor elegant, but we want to keep the code as clear as possible for those unfamiliar with julia's syntax\n"
   ]
  },
  {
   "cell_type": "markdown",
   "id": "39cf98b3-d0e3-4051-b189-eb23818c2232",
   "metadata": {
    "tags": []
   },
   "source": [
    "## Part 2: computing the vertex amplitudes"
   ]
  },
  {
   "cell_type": "markdown",
   "id": "73e6ecc4-9c9b-4d3e-982a-d8643616145f",
   "metadata": {},
   "source": [
    "In this Part we compute the vertex amplitudes tensors required above. We employ the sl2cfoam-next library:\n",
    "https://github.com/qg-cpt-marseille/sl2cfoam-next\n",
    "\n",
    "See also:\n",
    "https://arxiv.org/abs/2107.13952\n",
    "\n",
    "In order to compile this part you first need to install the above library. "
   ]
  },
  {
   "cell_type": "code",
   "execution_count": 1,
   "id": "3ed64790-b283-4cb1-bac8-3f626a8d25e9",
   "metadata": {},
   "outputs": [],
   "source": [
    "# required packages  \n",
    "using SL2Cfoam\n",
    "using Dates"
   ]
  },
  {
   "cell_type": "code",
   "execution_count": 2,
   "id": "90be7adf-8a6a-4ff8-9b2e-a6eace0321de",
   "metadata": {},
   "outputs": [
    {
     "data": {
      "text/plain": [
       "log (generic function with 1 method)"
      ]
     },
     "execution_count": 2,
     "metadata": {},
     "output_type": "execute_result"
    }
   ],
   "source": [
    "# print with flush\n",
    "function log(x...)\n",
    "    println(now(), \" \", join(x, \" \")...)\n",
    "    flush(stdout)\n",
    "end"
   ]
  },
  {
   "cell_type": "code",
   "execution_count": 9,
   "id": "1bef84e9-7169-477c-9f9d-4598b16bfbea",
   "metadata": {},
   "outputs": [
    {
     "data": {
      "text/plain": [
       "initializing_library (generic function with 1 method)"
      ]
     },
     "execution_count": 9,
     "metadata": {},
     "output_type": "execute_result"
    }
   ],
   "source": [
    "# initializing sl2cfoam-next   \n",
    "sl2c_folder = \"(...)\"\n",
    "conf = SL2Cfoam.Config(VerbosityOff, VeryHighAccuracy, 100, 0)\n",
    "result_return = (ret = true, store = false, store_batches = false)\n",
    "\n",
    "function initializing_library(Immirzi)\n",
    "SL2Cfoam.cinit(sl2c_folder, Immirzi, conf)\n",
    "end    "
   ]
  },
  {
   "cell_type": "code",
   "execution_count": 8,
   "id": "ad3f7ca4-b37f-466e-bd0a-5247369d105b",
   "metadata": {},
   "outputs": [
    {
     "name": "stdout",
     "output_type": "stream",
     "text": [
      "2022-01-11T20:44:14.925 computed full vertex tensor for Immirzi=0.1 j_boundary=0.5 j_bulk=0.5 Dl=0\n",
      "2022-01-11T20:44:17.573 computed full vertex tensor for Immirzi=0.1 j_boundary=0.5 j_bulk=1.5 Dl=0\n",
      "2022-01-11T20:44:17.590 computed full vertex tensor for Immirzi=0.1 j_boundary=0.5 j_bulk=0.5 Dl=1\n",
      "2022-01-11T20:44:17.602 computed full vertex tensor for Immirzi=0.1 j_boundary=0.5 j_bulk=1.5 Dl=1\n",
      "2022-01-11T20:44:17.613 computed full vertex tensor for Immirzi=0.1 j_boundary=0.5 j_bulk=0.5 Dl=2\n",
      "2022-01-11T20:44:17.617 computed full vertex tensor for Immirzi=0.1 j_boundary=0.5 j_bulk=1.5 Dl=2\n",
      "2022-01-11T20:44:17.631 computed full vertex tensor for Immirzi=0.1 j_boundary=0.5 j_bulk=0.5 Dl=3\n",
      "2022-01-11T20:44:17.638 computed full vertex tensor for Immirzi=0.1 j_boundary=0.5 j_bulk=1.5 Dl=3\n",
      "2022-01-11T20:44:17.654 computed full vertex tensor for Immirzi=0.1 j_boundary=0.5 j_bulk=0.5 Dl=4\n",
      "2022-01-11T20:44:17.666 computed full vertex tensor for Immirzi=0.1 j_boundary=0.5 j_bulk=1.5 Dl=4\n",
      "2022-01-11T20:44:17.683 computed full vertex tensor for Immirzi=0.1 j_boundary=0.5 j_bulk=0.5 Dl=5\n",
      "2022-01-11T20:44:17.698 computed full vertex tensor for Immirzi=0.1 j_boundary=0.5 j_bulk=1.5 Dl=5\n",
      "2022-01-11T20:44:17.723 computed full vertex tensor for Immirzi=0.1 j_boundary=0.5 j_bulk=0.5 Dl=6\n",
      "2022-01-11T20:44:17.745 computed full vertex tensor for Immirzi=0.1 j_boundary=0.5 j_bulk=1.5 Dl=6\n",
      "2022-01-11T20:44:17.783 computed full vertex tensor for Immirzi=0.1 j_boundary=0.5 j_bulk=0.5 Dl=7\n",
      "2022-01-11T20:44:17.819 computed full vertex tensor for Immirzi=0.1 j_boundary=0.5 j_bulk=1.5 Dl=7\n",
      "2022-01-11T20:44:17.891 computed full vertex tensor for Immirzi=0.1 j_boundary=0.5 j_bulk=0.5 Dl=8\n",
      "2022-01-11T20:44:17.951 computed full vertex tensor for Immirzi=0.1 j_boundary=0.5 j_bulk=1.5 Dl=8\n",
      "2022-01-11T20:44:18.062 computed full vertex tensor for Immirzi=0.1 j_boundary=0.5 j_bulk=0.5 Dl=9\n",
      "2022-01-11T20:44:18.163 computed full vertex tensor for Immirzi=0.1 j_boundary=0.5 j_bulk=1.5 Dl=9\n",
      "2022-01-11T20:44:18.344 computed full vertex tensor for Immirzi=0.1 j_boundary=0.5 j_bulk=0.5 Dl=10\n",
      "2022-01-11T20:44:18.516 computed full vertex tensor for Immirzi=0.1 j_boundary=0.5 j_bulk=1.5 Dl=10\n",
      "2022-01-11T20:44:18.811 computed full vertex tensor for Immirzi=0.1 j_boundary=0.5 j_bulk=0.5 Dl=11\n",
      "2022-01-11T20:44:19.086 computed full vertex tensor for Immirzi=0.1 j_boundary=0.5 j_bulk=1.5 Dl=11\n",
      "2022-01-11T20:44:19.545 computed full vertex tensor for Immirzi=0.1 j_boundary=0.5 j_bulk=0.5 Dl=12\n",
      "2022-01-11T20:44:19.981 computed full vertex tensor for Immirzi=0.1 j_boundary=0.5 j_bulk=1.5 Dl=12\n",
      "2022-01-11T20:44:20.676 computed full vertex tensor for Immirzi=0.1 j_boundary=0.5 j_bulk=0.5 Dl=13\n",
      "2022-01-11T20:44:21.338 computed full vertex tensor for Immirzi=0.1 j_boundary=0.5 j_bulk=1.5 Dl=13\n",
      "2022-01-11T20:44:22.366 computed full vertex tensor for Immirzi=0.1 j_boundary=0.5 j_bulk=0.5 Dl=14\n",
      "2022-01-11T20:44:23.382 computed full vertex tensor for Immirzi=0.1 j_boundary=0.5 j_bulk=1.5 Dl=14\n",
      "2022-01-11T20:44:24.890 computed full vertex tensor for Immirzi=0.1 j_boundary=0.5 j_bulk=0.5 Dl=15\n",
      "2022-01-11T20:44:26.318 computed full vertex tensor for Immirzi=0.1 j_boundary=0.5 j_bulk=1.5 Dl=15\n",
      "2022-01-11T20:44:26.341 computed full vertex tensor for Immirzi=0.1 j_boundary=1.0 j_bulk=1.0 Dl=0\n",
      "2022-01-11T20:44:26.364 computed full vertex tensor for Immirzi=0.1 j_boundary=1.0 j_bulk=2.0 Dl=0\n",
      "2022-01-11T20:44:26.388 computed full vertex tensor for Immirzi=0.1 j_boundary=1.0 j_bulk=3.0 Dl=0\n",
      "2022-01-11T20:44:26.398 computed full vertex tensor for Immirzi=0.1 j_boundary=1.0 j_bulk=1.0 Dl=1\n",
      "2022-01-11T20:44:26.403 computed full vertex tensor for Immirzi=0.1 j_boundary=1.0 j_bulk=2.0 Dl=1\n",
      "2022-01-11T20:44:26.412 computed full vertex tensor for Immirzi=0.1 j_boundary=1.0 j_bulk=3.0 Dl=1\n",
      "2022-01-11T20:44:26.418 computed full vertex tensor for Immirzi=0.1 j_boundary=1.0 j_bulk=1.0 Dl=2\n",
      "2022-01-11T20:44:26.428 computed full vertex tensor for Immirzi=0.1 j_boundary=1.0 j_bulk=2.0 Dl=2\n",
      "2022-01-11T20:44:26.433 computed full vertex tensor for Immirzi=0.1 j_boundary=1.0 j_bulk=3.0 Dl=2\n",
      "2022-01-11T20:44:26.449 computed full vertex tensor for Immirzi=0.1 j_boundary=1.0 j_bulk=1.0 Dl=3\n",
      "2022-01-11T20:44:26.464 computed full vertex tensor for Immirzi=0.1 j_boundary=1.0 j_bulk=2.0 Dl=3\n",
      "2022-01-11T20:44:26.473 computed full vertex tensor for Immirzi=0.1 j_boundary=1.0 j_bulk=3.0 Dl=3\n",
      "2022-01-11T20:44:26.491 computed full vertex tensor for Immirzi=0.1 j_boundary=1.0 j_bulk=1.0 Dl=4\n",
      "2022-01-11T20:44:26.503 computed full vertex tensor for Immirzi=0.1 j_boundary=1.0 j_bulk=2.0 Dl=4\n",
      "2022-01-11T20:44:26.520 computed full vertex tensor for Immirzi=0.1 j_boundary=1.0 j_bulk=3.0 Dl=4\n",
      "2022-01-11T20:44:26.553 computed full vertex tensor for Immirzi=0.1 j_boundary=1.0 j_bulk=1.0 Dl=5\n",
      "2022-01-11T20:44:26.578 computed full vertex tensor for Immirzi=0.1 j_boundary=1.0 j_bulk=2.0 Dl=5\n",
      "2022-01-11T20:44:26.595 computed full vertex tensor for Immirzi=0.1 j_boundary=1.0 j_bulk=3.0 Dl=5\n",
      "2022-01-11T20:44:26.656 computed full vertex tensor for Immirzi=0.1 j_boundary=1.0 j_bulk=1.0 Dl=6\n",
      "2022-01-11T20:44:26.706 computed full vertex tensor for Immirzi=0.1 j_boundary=1.0 j_bulk=2.0 Dl=6\n",
      "2022-01-11T20:44:26.751 computed full vertex tensor for Immirzi=0.1 j_boundary=1.0 j_bulk=3.0 Dl=6\n",
      "2022-01-11T20:44:26.844 computed full vertex tensor for Immirzi=0.1 j_boundary=1.0 j_bulk=1.0 Dl=7\n",
      "2022-01-11T20:44:26.931 computed full vertex tensor for Immirzi=0.1 j_boundary=1.0 j_bulk=2.0 Dl=7\n",
      "2022-01-11T20:44:27.007 computed full vertex tensor for Immirzi=0.1 j_boundary=1.0 j_bulk=3.0 Dl=7\n",
      "2022-01-11T20:44:27.172 computed full vertex tensor for Immirzi=0.1 j_boundary=1.0 j_bulk=1.0 Dl=8\n",
      "2022-01-11T20:44:27.324 computed full vertex tensor for Immirzi=0.1 j_boundary=1.0 j_bulk=2.0 Dl=8\n",
      "2022-01-11T20:44:27.464 computed full vertex tensor for Immirzi=0.1 j_boundary=1.0 j_bulk=3.0 Dl=8\n",
      "2022-01-11T20:44:27.749 computed full vertex tensor for Immirzi=0.1 j_boundary=1.0 j_bulk=1.0 Dl=9\n",
      "2022-01-11T20:44:28.024 computed full vertex tensor for Immirzi=0.1 j_boundary=1.0 j_bulk=2.0 Dl=9\n",
      "2022-01-11T20:44:28.274 computed full vertex tensor for Immirzi=0.1 j_boundary=1.0 j_bulk=3.0 Dl=9\n",
      "2022-01-11T20:44:28.754 computed full vertex tensor for Immirzi=0.1 j_boundary=1.0 j_bulk=1.0 Dl=10\n",
      "2022-01-11T20:44:29.206 computed full vertex tensor for Immirzi=0.1 j_boundary=1.0 j_bulk=2.0 Dl=10\n",
      "2022-01-11T20:44:29.621 computed full vertex tensor for Immirzi=0.1 j_boundary=1.0 j_bulk=3.0 Dl=10\n",
      "2022-01-11T20:44:30.371 computed full vertex tensor for Immirzi=0.1 j_boundary=1.0 j_bulk=1.0 Dl=11\n",
      "2022-01-11T20:44:31.094 computed full vertex tensor for Immirzi=0.1 j_boundary=1.0 j_bulk=2.0 Dl=11\n",
      "2022-01-11T20:44:31.776 computed full vertex tensor for Immirzi=0.1 j_boundary=1.0 j_bulk=3.0 Dl=11\n",
      "2022-01-11T20:44:32.980 computed full vertex tensor for Immirzi=0.1 j_boundary=1.0 j_bulk=1.0 Dl=12\n",
      "2022-01-11T20:44:34.118 computed full vertex tensor for Immirzi=0.1 j_boundary=1.0 j_bulk=2.0 Dl=12\n",
      "2022-01-11T20:44:35.190 computed full vertex tensor for Immirzi=0.1 j_boundary=1.0 j_bulk=3.0 Dl=12\n",
      "2022-01-11T20:44:37.002 computed full vertex tensor for Immirzi=0.1 j_boundary=1.0 j_bulk=1.0 Dl=13\n",
      "2022-01-11T20:44:38.731 computed full vertex tensor for Immirzi=0.1 j_boundary=1.0 j_bulk=2.0 Dl=13\n",
      "2022-01-11T20:44:40.367 computed full vertex tensor for Immirzi=0.1 j_boundary=1.0 j_bulk=3.0 Dl=13\n",
      "2022-01-11T20:44:43.024 computed full vertex tensor for Immirzi=0.1 j_boundary=1.0 j_bulk=1.0 Dl=14\n",
      "2022-01-11T20:44:45.580 computed full vertex tensor for Immirzi=0.1 j_boundary=1.0 j_bulk=2.0 Dl=14\n",
      "2022-01-11T20:44:48.018 computed full vertex tensor for Immirzi=0.1 j_boundary=1.0 j_bulk=3.0 Dl=14\n",
      "2022-01-11T20:44:51.901 computed full vertex tensor for Immirzi=0.1 j_boundary=1.0 j_bulk=1.0 Dl=15\n",
      "2022-01-11T20:44:55.717 computed full vertex tensor for Immirzi=0.1 j_boundary=1.0 j_bulk=2.0 Dl=15\n",
      "2022-01-11T20:44:59.268 computed full vertex tensor for Immirzi=0.1 j_boundary=1.0 j_bulk=3.0 Dl=15\n",
      "2022-01-11T20:44:59.323 computed full vertex tensor for Immirzi=1.2 j_boundary=0.5 j_bulk=0.5 Dl=0\n",
      "2022-01-11T20:44:59.344 computed full vertex tensor for Immirzi=1.2 j_boundary=0.5 j_bulk=1.5 Dl=0\n",
      "2022-01-11T20:44:59.356 computed full vertex tensor for Immirzi=1.2 j_boundary=0.5 j_bulk=0.5 Dl=1\n",
      "2022-01-11T20:44:59.370 computed full vertex tensor for Immirzi=1.2 j_boundary=0.5 j_bulk=1.5 Dl=1\n",
      "2022-01-11T20:44:59.375 computed full vertex tensor for Immirzi=1.2 j_boundary=0.5 j_bulk=0.5 Dl=2\n",
      "2022-01-11T20:44:59.382 computed full vertex tensor for Immirzi=1.2 j_boundary=0.5 j_bulk=1.5 Dl=2\n",
      "2022-01-11T20:44:59.394 computed full vertex tensor for Immirzi=1.2 j_boundary=0.5 j_bulk=0.5 Dl=3\n",
      "2022-01-11T20:44:59.405 computed full vertex tensor for Immirzi=1.2 j_boundary=0.5 j_bulk=1.5 Dl=3\n",
      "2022-01-11T20:44:59.416 computed full vertex tensor for Immirzi=1.2 j_boundary=0.5 j_bulk=0.5 Dl=4\n",
      "2022-01-11T20:44:59.422 computed full vertex tensor for Immirzi=1.2 j_boundary=0.5 j_bulk=1.5 Dl=4\n",
      "2022-01-11T20:44:59.440 computed full vertex tensor for Immirzi=1.2 j_boundary=0.5 j_bulk=0.5 Dl=5\n",
      "2022-01-11T20:44:59.457 computed full vertex tensor for Immirzi=1.2 j_boundary=0.5 j_bulk=1.5 Dl=5\n",
      "2022-01-11T20:44:59.482 computed full vertex tensor for Immirzi=1.2 j_boundary=0.5 j_bulk=0.5 Dl=6\n",
      "2022-01-11T20:44:59.504 computed full vertex tensor for Immirzi=1.2 j_boundary=0.5 j_bulk=1.5 Dl=6\n",
      "2022-01-11T20:44:59.542 computed full vertex tensor for Immirzi=1.2 j_boundary=0.5 j_bulk=0.5 Dl=7\n",
      "2022-01-11T20:44:59.586 computed full vertex tensor for Immirzi=1.2 j_boundary=0.5 j_bulk=1.5 Dl=7\n",
      "2022-01-11T20:44:59.652 computed full vertex tensor for Immirzi=1.2 j_boundary=0.5 j_bulk=0.5 Dl=8\n",
      "2022-01-11T20:44:59.712 computed full vertex tensor for Immirzi=1.2 j_boundary=0.5 j_bulk=1.5 Dl=8\n",
      "2022-01-11T20:44:59.821 computed full vertex tensor for Immirzi=1.2 j_boundary=0.5 j_bulk=0.5 Dl=9\n",
      "2022-01-11T20:44:59.927 computed full vertex tensor for Immirzi=1.2 j_boundary=0.5 j_bulk=1.5 Dl=9\n",
      "2022-01-11T20:45:00.114 computed full vertex tensor for Immirzi=1.2 j_boundary=0.5 j_bulk=0.5 Dl=10\n",
      "2022-01-11T20:45:00.301 computed full vertex tensor for Immirzi=1.2 j_boundary=0.5 j_bulk=1.5 Dl=10\n",
      "2022-01-11T20:45:00.618 computed full vertex tensor for Immirzi=1.2 j_boundary=0.5 j_bulk=0.5 Dl=11\n",
      "2022-01-11T20:45:00.905 computed full vertex tensor for Immirzi=1.2 j_boundary=0.5 j_bulk=1.5 Dl=11\n",
      "2022-01-11T20:45:01.379 computed full vertex tensor for Immirzi=1.2 j_boundary=0.5 j_bulk=0.5 Dl=12\n",
      "2022-01-11T20:45:01.829 computed full vertex tensor for Immirzi=1.2 j_boundary=0.5 j_bulk=1.5 Dl=12\n",
      "2022-01-11T20:45:02.569 computed full vertex tensor for Immirzi=1.2 j_boundary=0.5 j_bulk=0.5 Dl=13\n",
      "2022-01-11T20:45:03.278 computed full vertex tensor for Immirzi=1.2 j_boundary=0.5 j_bulk=1.5 Dl=13\n",
      "2022-01-11T20:45:04.376 computed full vertex tensor for Immirzi=1.2 j_boundary=0.5 j_bulk=0.5 Dl=14\n",
      "2022-01-11T20:45:05.427 computed full vertex tensor for Immirzi=1.2 j_boundary=0.5 j_bulk=1.5 Dl=14\n",
      "2022-01-11T20:45:06.982 computed full vertex tensor for Immirzi=1.2 j_boundary=0.5 j_bulk=0.5 Dl=15\n",
      "2022-01-11T20:45:08.469 computed full vertex tensor for Immirzi=1.2 j_boundary=0.5 j_bulk=1.5 Dl=15\n",
      "2022-01-11T20:45:08.490 computed full vertex tensor for Immirzi=1.2 j_boundary=1.0 j_bulk=1.0 Dl=0\n",
      "2022-01-11T20:45:08.511 computed full vertex tensor for Immirzi=1.2 j_boundary=1.0 j_bulk=2.0 Dl=0\n",
      "2022-01-11T20:45:08.532 computed full vertex tensor for Immirzi=1.2 j_boundary=1.0 j_bulk=3.0 Dl=0\n",
      "2022-01-11T20:45:08.545 computed full vertex tensor for Immirzi=1.2 j_boundary=1.0 j_bulk=1.0 Dl=1\n",
      "2022-01-11T20:45:08.558 computed full vertex tensor for Immirzi=1.2 j_boundary=1.0 j_bulk=2.0 Dl=1\n",
      "2022-01-11T20:45:08.568 computed full vertex tensor for Immirzi=1.2 j_boundary=1.0 j_bulk=3.0 Dl=1\n",
      "2022-01-11T20:45:08.571 computed full vertex tensor for Immirzi=1.2 j_boundary=1.0 j_bulk=1.0 Dl=2\n",
      "2022-01-11T20:45:08.585 computed full vertex tensor for Immirzi=1.2 j_boundary=1.0 j_bulk=2.0 Dl=2\n",
      "2022-01-11T20:45:08.596 computed full vertex tensor for Immirzi=1.2 j_boundary=1.0 j_bulk=3.0 Dl=2\n",
      "2022-01-11T20:45:08.608 computed full vertex tensor for Immirzi=1.2 j_boundary=1.0 j_bulk=1.0 Dl=3\n",
      "2022-01-11T20:45:08.622 computed full vertex tensor for Immirzi=1.2 j_boundary=1.0 j_bulk=2.0 Dl=3\n",
      "2022-01-11T20:45:08.634 computed full vertex tensor for Immirzi=1.2 j_boundary=1.0 j_bulk=3.0 Dl=3\n",
      "2022-01-11T20:45:08.649 computed full vertex tensor for Immirzi=1.2 j_boundary=1.0 j_bulk=1.0 Dl=4\n",
      "2022-01-11T20:45:08.662 computed full vertex tensor for Immirzi=1.2 j_boundary=1.0 j_bulk=2.0 Dl=4\n",
      "2022-01-11T20:45:08.679 computed full vertex tensor for Immirzi=1.2 j_boundary=1.0 j_bulk=3.0 Dl=4\n",
      "2022-01-11T20:45:08.707 computed full vertex tensor for Immirzi=1.2 j_boundary=1.0 j_bulk=1.0 Dl=5\n",
      "2022-01-11T20:45:08.736 computed full vertex tensor for Immirzi=1.2 j_boundary=1.0 j_bulk=2.0 Dl=5\n",
      "2022-01-11T20:45:08.752 computed full vertex tensor for Immirzi=1.2 j_boundary=1.0 j_bulk=3.0 Dl=5\n",
      "2022-01-11T20:45:08.806 computed full vertex tensor for Immirzi=1.2 j_boundary=1.0 j_bulk=1.0 Dl=6\n",
      "2022-01-11T20:45:08.861 computed full vertex tensor for Immirzi=1.2 j_boundary=1.0 j_bulk=2.0 Dl=6\n",
      "2022-01-11T20:45:08.907 computed full vertex tensor for Immirzi=1.2 j_boundary=1.0 j_bulk=3.0 Dl=6\n",
      "2022-01-11T20:45:09.006 computed full vertex tensor for Immirzi=1.2 j_boundary=1.0 j_bulk=1.0 Dl=7\n",
      "2022-01-11T20:45:09.100 computed full vertex tensor for Immirzi=1.2 j_boundary=1.0 j_bulk=2.0 Dl=7\n",
      "2022-01-11T20:45:09.183 computed full vertex tensor for Immirzi=1.2 j_boundary=1.0 j_bulk=3.0 Dl=7\n",
      "2022-01-11T20:45:09.355 computed full vertex tensor for Immirzi=1.2 j_boundary=1.0 j_bulk=1.0 Dl=8\n",
      "2022-01-11T20:45:09.530 computed full vertex tensor for Immirzi=1.2 j_boundary=1.0 j_bulk=2.0 Dl=8\n",
      "2022-01-11T20:45:09.699 computed full vertex tensor for Immirzi=1.2 j_boundary=1.0 j_bulk=3.0 Dl=8\n",
      "2022-01-11T20:45:10.038 computed full vertex tensor for Immirzi=1.2 j_boundary=1.0 j_bulk=1.0 Dl=9\n",
      "2022-01-11T20:45:10.361 computed full vertex tensor for Immirzi=1.2 j_boundary=1.0 j_bulk=2.0 Dl=9\n",
      "2022-01-11T20:45:10.662 computed full vertex tensor for Immirzi=1.2 j_boundary=1.0 j_bulk=3.0 Dl=9\n",
      "2022-01-11T20:45:11.232 computed full vertex tensor for Immirzi=1.2 j_boundary=1.0 j_bulk=1.0 Dl=10\n",
      "2022-01-11T20:45:11.773 computed full vertex tensor for Immirzi=1.2 j_boundary=1.0 j_bulk=2.0 Dl=10\n",
      "2022-01-11T20:45:12.277 computed full vertex tensor for Immirzi=1.2 j_boundary=1.0 j_bulk=3.0 Dl=10\n",
      "2022-01-11T20:45:13.196 computed full vertex tensor for Immirzi=1.2 j_boundary=1.0 j_bulk=1.0 Dl=11\n",
      "2022-01-11T20:45:14.103 computed full vertex tensor for Immirzi=1.2 j_boundary=1.0 j_bulk=2.0 Dl=11\n",
      "2022-01-11T20:45:14.920 computed full vertex tensor for Immirzi=1.2 j_boundary=1.0 j_bulk=3.0 Dl=11\n",
      "2022-01-11T20:45:16.326 computed full vertex tensor for Immirzi=1.2 j_boundary=1.0 j_bulk=1.0 Dl=12\n",
      "2022-01-11T20:45:17.665 computed full vertex tensor for Immirzi=1.2 j_boundary=1.0 j_bulk=2.0 Dl=12\n",
      "2022-01-11T20:45:18.919 computed full vertex tensor for Immirzi=1.2 j_boundary=1.0 j_bulk=3.0 Dl=12\n",
      "2022-01-11T20:45:21.062 computed full vertex tensor for Immirzi=1.2 j_boundary=1.0 j_bulk=1.0 Dl=13\n",
      "2022-01-11T20:45:23.116 computed full vertex tensor for Immirzi=1.2 j_boundary=1.0 j_bulk=2.0 Dl=13\n",
      "2022-01-11T20:45:25.035 computed full vertex tensor for Immirzi=1.2 j_boundary=1.0 j_bulk=3.0 Dl=13\n",
      "2022-01-11T20:45:28.135 computed full vertex tensor for Immirzi=1.2 j_boundary=1.0 j_bulk=1.0 Dl=14\n",
      "2022-01-11T20:45:31.135 computed full vertex tensor for Immirzi=1.2 j_boundary=1.0 j_bulk=2.0 Dl=14\n",
      "2022-01-11T20:45:33.933 computed full vertex tensor for Immirzi=1.2 j_boundary=1.0 j_bulk=3.0 Dl=14\n",
      "2022-01-11T20:45:38.355 computed full vertex tensor for Immirzi=1.2 j_boundary=1.0 j_bulk=1.0 Dl=15\n",
      "2022-01-11T20:45:42.647 computed full vertex tensor for Immirzi=1.2 j_boundary=1.0 j_bulk=2.0 Dl=15\n",
      "2022-01-11T20:45:46.812 computed full vertex tensor for Immirzi=1.2 j_boundary=1.0 j_bulk=3.0 Dl=15\n"
     ]
    }
   ],
   "source": [
    "# list of Immirzi parameters \n",
    "Immirzi_list = [0.1, 1.2]\n",
    "\n",
    "# list of boundary spins (symmetric configurations)\n",
    "j_boundary_list = [0.5,1]\n",
    "\n",
    "# maximal number of shells \n",
    "Dl_max = 15\n",
    "\n",
    "for Immirzi in Immirzi_list\n",
    "    \n",
    "   initializing_library(Immirzi)    \n",
    "\n",
    "   for j in j_boundary_list   \n",
    "    \n",
    "       for Dl = 0:Dl_max\n",
    "        \n",
    "          dest_folder = vertex_ampls_folder*\"/Immirzi=$(Immirzi)/all_j=$(j)/Dl=$(Dl)\"                 \n",
    "          mkpath(dest_folder)\n",
    "    \n",
    "             # if all boundary spins are equal to j, bulk spin has range [j, 3j]   \n",
    "             j_bulk_min = j\n",
    "             j_bulk_max = 3j  \n",
    "    \n",
    "             for j_bulk = j_bulk_min:j_bulk_max\n",
    "    \n",
    "                v = vertex_compute([j, j, j, j, j, j, j, j_bulk, j, j], Dl; result = result_return);        \n",
    "                log(\"computed full vertex tensor for Immirzi=$(Immirzi) j_boundary=$(j) j_bulk=$(j_bulk) Dl=$(Dl)\")\n",
    "                \n",
    "                vertex = v.a;        \n",
    "                @save \"$(dest_folder)/j_bulk=$(j_bulk)_fulltensor.jld2\" vertex         \n",
    "               \n",
    "             end # bulk spin cycle\n",
    "      \n",
    "        end # shell cycle\n",
    "            \n",
    "    end # j_boundary cycle\n",
    "    \n",
    "end  # Immirzi cycle"
   ]
  },
  {
   "cell_type": "code",
   "execution_count": null,
   "id": "0a6ee5d5-ec80-478b-ad07-e3bdc99d4721",
   "metadata": {},
   "outputs": [],
   "source": []
  }
 ],
 "metadata": {
  "kernelspec": {
   "display_name": "Julia 1.7.0",
   "language": "julia",
   "name": "julia-1.7"
  },
  "language_info": {
   "file_extension": ".jl",
   "mimetype": "application/julia",
   "name": "julia",
   "version": "1.7.0"
  }
 },
 "nbformat": 4,
 "nbformat_minor": 5
}
