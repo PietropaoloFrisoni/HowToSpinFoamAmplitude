{
 "cells": [
  {
   "cell_type": "markdown",
   "id": "e416d8f0-6c4d-4395-89f8-69632315be12",
   "metadata": {},
   "source": [
    "# How to spinfoam amplitudes\n",
    "## Contracting the EPRL vertex amplitudes"
   ]
  },
  {
   "cell_type": "markdown",
   "id": "15af7fbb-64a3-422a-94c5-56016af5ef96",
   "metadata": {},
   "source": [
    "In this notebook we contract the *previously computed* EPRL vertices in order to obtain the Δ4 amplitude.\n",
    "\n",
    "Since the required vertices have already been computed, \n",
    "the cells below can be compiled just installing the required packages, even if the sl2cfoam-next is not installed in your system.\n",
    "\n",
    "Obviously, if you try to assemble vertices which have not been pre-computed in this repository you get an error. "
   ]
  },
  {
   "cell_type": "markdown",
   "id": "8b1c629a-6b3c-4f87-8cc0-ec01414ae1b3",
   "metadata": {},
   "source": [
    "<img src=\"Pics/Delta_4.SVG\" alt=\"Drawing\" style=\"width: 700px;\"/>"
   ]
  },
  {
   "cell_type": "markdown",
   "id": "710c7cf9-4217-435f-933d-47b5d729b97a",
   "metadata": {
    "tags": []
   },
   "source": [
    "### Building the Δ4 amplitude"
   ]
  },
  {
   "cell_type": "code",
   "execution_count": 35,
   "id": "9d6dd107-71d9-4d64-9b1f-406195594023",
   "metadata": {},
   "outputs": [],
   "source": [
    "# required pkgs  \n",
    "using HalfIntegers\n",
    "using JLD2   \n",
    "using DelimitedFiles\n",
    "using DataFrames"
   ]
  },
  {
   "cell_type": "code",
   "execution_count": 36,
   "id": "946e8f58-c17c-45e6-9a15-7cd34097f428",
   "metadata": {},
   "outputs": [],
   "source": [
    "# Barbero-Immirzi parameter\n",
    "γ = 1.2\n",
    "\n",
    "# current folder\n",
    "root_dir = pwd()\n",
    "\n",
    "# homogeneous cut-off \n",
    "Δl = 15;"
   ]
  },
  {
   "cell_type": "markdown",
   "id": "fe905ac0-3227-481f-82c2-413d19cd489b",
   "metadata": {},
   "source": [
    "Let's start by showing a way to contract amplitudes.\n",
    "\n",
    "Notice that **in julia best performance is achieved by using functions**.\n",
    "\n",
    "Although performance is not the priority of this notebook, for those interested in writing beautiful and efficient julia code we refer to [julia performance tips](https://docs.julialang.org/en/v1/manual/performance-tips/)."
   ]
  },
  {
   "cell_type": "code",
   "execution_count": 6,
   "id": "9c16fa05-b7f1-4a3f-9aa3-ff2f58cc2319",
   "metadata": {},
   "outputs": [
    {
     "name": "stdout",
     "output_type": "stream",
     "text": [
      "Δ4_amp = 1.849656117029305e-37\n"
     ]
    },
    {
     "data": {
      "text/plain": [
       "1.849656117029305e-37"
      ]
     },
     "execution_count": 6,
     "metadata": {},
     "output_type": "execute_result"
    }
   ],
   "source": [
    "# value of all boundary spins (symmetric configuration)    \n",
    "j = 1.0\n",
    "\n",
    "# value of all boundary intertwiners (symmetric configuration)   \n",
    "i_boundary = 0\n",
    "\n",
    "# julia arrays start at index 1   \n",
    "i_b = i_boundary + 1    \n",
    "    \n",
    "# folder with stored vertex amplitudes \n",
    "vertex_path = \"$(root_dir)/vertex_ampls/Immirzi_$(γ)/j_$(j)/Dl_$(Δl)\"                     \n",
    "                   \n",
    "Δ4_amp = 0.0 \n",
    "    \n",
    "# if all boundary spins are integers and equal to j, bulk spin has range [0, 3j]   \n",
    "j_bulk_min, j_bulk_max = 0, 3j \n",
    "    \n",
    "for j_bulk = j_bulk_min:j_bulk_max\n",
    "\n",
    "fulltensor_to_load = \"$(vertex_path)/j_bulk_$(j_bulk)_fulltensor.jld2\"\n",
    "if(!isfile(fulltensor_to_load)) error(\"vertex fulltensor for γ=$(γ) j=$(j) Δl=$(Δl) not found, it must be computed first\") end   \n",
    "@load \"$(fulltensor_to_load)\" vertex \n",
    "                    \n",
    "# ranges of intertwiner spaces touched by the bulk spin      \n",
    "D = size(vertex[i_b,:,:,i_b,i_b])[1] # also [2] has the same range          \n",
    "                    \n",
    "Δ4_partial_amp = 0.0\n",
    "  \n",
    "for i_1234 in 1:D, i_1235 in 1:D, i_1236 in 1:D, i_1237 in 1:D\n",
    "@inbounds Δ4_partial_amp += vertex[i_b,i_1234,i_1235,i_b,i_b]*vertex[i_b,i_1235,i_1236,i_b,i_b]*\n",
    "                            vertex[i_b,i_1236,i_1237,i_b,i_b]*vertex[i_b,i_1237,i_1234,i_b,i_b]     \n",
    "end     \n",
    "\n",
    "# dimension of bulk spin     \n",
    "Δ4_partial_amp *= (2j_bulk + 1)\n",
    "            \n",
    "Δ4_amp += Δ4_partial_amp  \n",
    "                    \n",
    "end # j_bulk cycle\n",
    "               \n",
    "@show Δ4_amp"
   ]
  },
  {
   "cell_type": "markdown",
   "id": "326c375d-f8c6-458e-8759-026aa05c3633",
   "metadata": {},
   "source": [
    "For convenience, we write a function that contracts all the required vertices for given lists of boundary parameters in the symmetric configuration.\n",
    "\n",
    "We collect all the amplitudes in a matrix for increasing values of the cut-off Δl and different intertwiners configurations, \n",
    "then we plot and store the amplitudes. \n",
    "\n",
    "Notice that julia plots below are just a useful tool for qualitative analysis, as they are not optimal."
   ]
  },
  {
   "cell_type": "code",
   "execution_count": 38,
   "id": "e325ed0d-dedd-4068-8470-5122daf252dc",
   "metadata": {},
   "outputs": [
    {
     "data": {
      "text/plain": [
       "Plots.PGFPlotsXBackend()"
      ]
     },
     "execution_count": 38,
     "metadata": {},
     "output_type": "execute_result"
    }
   ],
   "source": [
    "# required pkgs\n",
    "using Plots\n",
    "using Plots.PlotMeasures\n",
    "using LaTeXStrings\n",
    "\n",
    "# set backend and style\n",
    "pgfplotsx()\n",
    "theme(:default)\n",
    "default(markerstrokewidth = 0, \n",
    "        markerstrokealpha = 0, \n",
    "        linewidth = 2, \n",
    "        #grid=:none,   \n",
    "        opacity = 0.8,\n",
    "        gridlinewidth= 0.5,\n",
    "        markersize = 10,\n",
    "        markershape = :circle,\n",
    "        tickfontsize = 18, \n",
    "        size = (900, 600), \n",
    "        yformatter = string,\n",
    "        legendfontsize = 24, \n",
    "        guidefontsize=20,\n",
    "        titlefontsize = 37,\n",
    "        legend=(0.03,0.98), \n",
    "        foreground_color_axis = \"black\",\n",
    "        foreground_color_border = \"black\",\n",
    "        foreground_color_guide = \"darkorange\",\n",
    "        foreground_color_text = \"black\",\n",
    "        guidefontcolor = \"black\", \n",
    "        plot_titlefontcolor = \"black\",\n",
    "        titlefontcolor = \"black\", \n",
    "        shape=[:circle])\n",
    "\n",
    "Plots.PGFPlotsXBackend()"
   ]
  },
  {
   "cell_type": "code",
   "execution_count": 81,
   "id": "082301d1-a43e-4f60-a08b-26bb4dc1007d",
   "metadata": {},
   "outputs": [
    {
     "data": {
      "text/plain": [
       "Δ4_assemble (generic function with 1 method)"
      ]
     },
     "execution_count": 81,
     "metadata": {},
     "output_type": "execute_result"
    }
   ],
   "source": [
    "function Δ4_assemble(Immirzi_list, j_boundary_list, Δl_max)\n",
    "    \n",
    "for γ in Immirzi_list\n",
    "\n",
    "   for j in j_boundary_list    \n",
    "           \n",
    "      i_boundary_min, i_boundary_max = 0, convert(Int, 2j)\n",
    "        \n",
    "      # matrix in which the computed amplitudes will be stored         \n",
    "      Δ4_amplitudes = zeros(Δl_max + 1, i_boundary_max + 1)           \n",
    "      column_labels = String[] \n",
    "      ampls_to_plot = Vector{Float64}[]      \n",
    "\n",
    "      for i_boundary = i_boundary_min:i_boundary_max\n",
    "          \n",
    "         i_b = i_boundary + 1 \n",
    "         push!(column_labels, \"i=$(i_boundary)\")        \n",
    "    \n",
    "         for Δl = 0:Δl_max\n",
    "\n",
    "            vertex_path = \"$(root_dir)/vertex_ampls/Immirzi_$(γ)/j_$(j)/Dl_$(Δl)\"                           \n",
    "            Δ4_amp = 0.0 \n",
    "                \n",
    "            if (iszero(j%1)) j_bulk_min = 0 else j_bulk_min = 0.5 end       \n",
    "            j_bulk_max = 3j\n",
    "    \n",
    "            for j_bulk = j_bulk_min:j_bulk_max\n",
    "\n",
    "            fulltensor_to_load = \"$(vertex_path)/j_bulk_$(j_bulk)_fulltensor.jld2\"\n",
    "            if(!isfile(fulltensor_to_load)) error(\"vertex fulltensor for γ=$(γ) j=$(j) Δl=$(Δl) not found, it must be computed first\") end    \n",
    "            @load \"$(fulltensor_to_load)\" vertex \n",
    "                        \n",
    "               D = size(vertex[i_b,:,:,i_b,i_b])[1]                              \n",
    "               Δ4_partial_amp = 0.0\n",
    "  \n",
    "                  for i_1234 in 1:D, i_1235 in 1:D, i_1236 in 1:D, i_1237 in 1:D\n",
    "                  @inbounds Δ4_partial_amp += vertex[i_b,i_1234,i_1235,i_b,i_b]*vertex[i_b,i_1235,i_1236,i_b,i_b]*\n",
    "                                              vertex[i_b,i_1236,i_1237,i_b,i_b]*vertex[i_b,i_1237,i_1234,i_b,i_b]     \n",
    "                  end     \n",
    "   \n",
    "                  Δ4_partial_amp *= (2j_bulk + 1)            \n",
    "                  Δ4_amp += Δ4_partial_amp \n",
    "                        \n",
    "                  end # j_bulk cycle\n",
    "                \n",
    "               Δ4_amplitudes[Δl+1,i_b] = Δ4_amp       \n",
    "        \n",
    "               # storing the Δ4 amplitude in JLD2 format    \n",
    "               Δ4_JLD2_path = \"$(root_dir)/Delta_4_ampls/Immirzi_$(γ)/j_$(j)/JLD2_format/i_$(i_boundary)/\"\n",
    "               mkpath(Δ4_JLD2_path)         \n",
    "               @save \"$(Δ4_JLD2_path)/Dl_$(Δl).jld2\" Δ4_amp\n",
    "        \n",
    "               end # cut-off cycle    \n",
    "                \n",
    "            push!(ampls_to_plot, Δ4_amplitudes[:,i_b])\n",
    "        \n",
    "            end # i_boundary cycle    \n",
    "         \n",
    "         # plotting the amplitudes   \n",
    "         # TODO: add dynamic labels to intertwiners   \n",
    "         plot(0:Δl_max, \n",
    "         ampls_to_plot, \n",
    "         xticks = 0:Δl_max,       \n",
    "         markersize = 10,\n",
    "         markershape = :circle,\n",
    "         palette = :RdYlGn_9,\n",
    "         ylims = (0, maximum(Δ4_amplitudes)),    \n",
    "         label=\"\",       \n",
    "         legend=(0.04,0.95))    \n",
    "         xlabel!(L\" \\Delta l\" )\n",
    "         ylabel!(L\" A_{\\Delta 4}\" )\n",
    "         title!(L\"\\mathrm{\\Delta 4\\ amplitude\\ \\left( j=%$(j)\\ \\gamma=%$(γ) \\right) }\\ \")\n",
    "         savefig(\"$(root_dir)/Plots/Delta_4_j=$(j)_gamma=$(γ).pdf\")     \n",
    "                  \n",
    "         # storing the Δ4 amplitudes in CSV format\n",
    "         Δ4_CSV_path = \"$(root_dir)/Delta_4_ampls/Immirzi_$(γ)/j_$(j)/CSV_format\" \n",
    "         mkpath(Δ4_CSV_path)\n",
    "         open(\"$(Δ4_CSV_path)/Delta_4_ampls_Dl_max_$(Δl_max).csv\", \"w\") do io\n",
    "         writedlm(io, Δ4_amplitudes)\n",
    "         end   \n",
    "          \n",
    "         # notice that i-th row corresponds to Δl=i-1 \n",
    "         Amplitudes = DataFrame(Δ4_amplitudes, column_labels)    \n",
    "         println(\"Δ4 amplitudes for j = $(j) and γ = $(γ) are:\\n\", Amplitudes, \"\\n\\n\")  \n",
    "\n",
    "   end # j_boundary cycle       \n",
    "\n",
    "end # Immirzi cycle   \n",
    "    \n",
    "end # end of function"
   ]
  },
  {
   "cell_type": "code",
   "execution_count": 82,
   "id": "c7e629d6-a0cd-4605-90b2-3e0c804539b1",
   "metadata": {},
   "outputs": [],
   "source": [
    "# list of Immirzi parameters \n",
    "Immirzi_list = [0.1, 1.0, 1.2]\n",
    "\n",
    "# list of boundary spins (symmetric configurations)\n",
    "j_boundary_list = [1.0]\n",
    "\n",
    "# maximal cut-off  \n",
    "Δl_max = 25;"
   ]
  },
  {
   "cell_type": "code",
   "execution_count": 83,
   "id": "bbdb8289-0bed-4852-97f1-0c8e0089e76a",
   "metadata": {},
   "outputs": [
    {
     "name": "stdout",
     "output_type": "stream",
     "text": [
      "Δ4 amplitudes for j = 1.0 and γ = 0.1 are:\n",
      "\u001b[1m26×3 DataFrame\u001b[0m\n",
      "\u001b[1m Row \u001b[0m│\u001b[1m i=0         \u001b[0m\u001b[1m i=1         \u001b[0m\u001b[1m i=2         \u001b[0m\n",
      "\u001b[1m     \u001b[0m│\u001b[90m Float64     \u001b[0m\u001b[90m Float64     \u001b[0m\u001b[90m Float64     \u001b[0m\n",
      "─────┼───────────────────────────────────────\n",
      "   1 │ 8.11368e-27  5.95039e-26  1.73228e-25\n",
      "   2 │ 3.87335e-26  2.76091e-25  8.4097e-25\n",
      "   3 │ 7.74983e-26  5.21764e-25  1.64612e-24\n",
      "   4 │ 1.11081e-25  7.12266e-25  2.30166e-24\n",
      "   5 │ 1.37469e-25  8.48548e-25  2.78686e-24\n",
      "   6 │ 1.57478e-25  9.44201e-25  3.13607e-24\n",
      "   7 │ 1.72678e-25  1.01247e-24  3.38984e-24\n",
      "   8 │ 1.84306e-25  1.06208e-24  3.57681e-24\n",
      "   9 │ 1.93335e-25  1.099e-24    3.71739e-24\n",
      "  10 │ 2.00436e-25  1.12701e-24  3.82497e-24\n",
      "  11 │ 2.06105e-25  1.1487e-24   3.90883e-24\n",
      "  12 │ 2.10686e-25  1.16578e-24  3.97521e-24\n",
      "  13 │ 2.14436e-25  1.17945e-24  4.02856e-24\n",
      "  14 │ 2.17538e-25  1.19053e-24  4.07199e-24\n",
      "  15 │ 2.20131e-25  1.19964e-24  4.10777e-24\n",
      "  16 │ 2.22318e-25  1.20721e-24  4.13757e-24\n",
      "  17 │ 2.24178e-25  1.21355e-24  4.16263e-24\n",
      "  18 │ 2.25773e-25  1.21893e-24  4.18389e-24\n",
      "  19 │ 2.27149e-25  1.22352e-24  4.20208e-24\n",
      "  20 │ 2.28346e-25  1.22747e-24  4.21774e-24\n",
      "  21 │ 2.29391e-25  1.23089e-24  4.23133e-24\n",
      "  22 │ 2.30311e-25  1.23387e-24  4.24319e-24\n",
      "  23 │ 2.31123e-25  1.23649e-24  4.2536e-24\n",
      "  24 │ 2.31843e-25  1.23879e-24  4.26278e-24\n",
      "  25 │ 2.32486e-25  1.24083e-24  4.27093e-24\n",
      "  26 │ 2.33061e-25  1.24265e-24  4.27818e-24\n",
      "\n",
      "\n",
      "Δ4 amplitudes for j = 1.0 and γ = 1.0 are:\n",
      "\u001b[1m26×3 DataFrame\u001b[0m\n",
      "\u001b[1m Row \u001b[0m│\u001b[1m i=0         \u001b[0m\u001b[1m i=1         \u001b[0m\u001b[1m i=2         \u001b[0m\n",
      "\u001b[1m     \u001b[0m│\u001b[90m Float64     \u001b[0m\u001b[90m Float64     \u001b[0m\u001b[90m Float64     \u001b[0m\n",
      "─────┼───────────────────────────────────────\n",
      "   1 │ 2.06534e-36  1.05745e-35  5.27118e-35\n",
      "   2 │ 1.09491e-35  5.16122e-35  2.75497e-34\n",
      "   3 │ 2.17843e-35  9.14134e-35  5.16261e-34\n",
      "   4 │ 2.98008e-35  1.14439e-34  6.68525e-34\n",
      "   5 │ 3.51451e-35  1.26546e-34  7.55624e-34\n",
      "   6 │ 3.87472e-35  1.33302e-34  8.0788e-34\n",
      "   7 │ 4.124e-35    1.37411e-34  8.41413e-34\n",
      "   8 │ 4.3023e-35   1.40145e-34  8.6435e-34\n",
      "   9 │ 4.43351e-35  1.42089e-34  8.80825e-34\n",
      "  10 │ 4.53267e-35  1.4354e-34   8.93117e-34\n",
      "  11 │ 4.60938e-35  1.44661e-34  9.02572e-34\n",
      "  12 │ 4.66991e-35  1.45547e-34  9.10011e-34\n",
      "  13 │ 4.71853e-35  1.46262e-34  9.15979e-34\n",
      "  14 │ 4.75815e-35  1.46847e-34  9.20837e-34\n",
      "  15 │ 4.79089e-35  1.4733e-34   9.24846e-34\n",
      "  16 │ 4.81823e-35  1.47734e-34  9.28188e-34\n",
      "  17 │ 4.8413e-35   1.48075e-34  9.31004e-34\n",
      "  18 │ 4.86094e-35  1.48364e-34  9.33395e-34\n",
      "  19 │ 4.8778e-35   1.48612e-34  9.35442e-34\n",
      "  20 │ 4.89238e-35  1.48826e-34  9.37208e-34\n",
      "  21 │ 4.90506e-35  1.49011e-34  9.3874e-34\n",
      "  22 │ 4.91617e-35  1.49173e-34  9.40078e-34\n",
      "  23 │ 4.92594e-35  1.49314e-34  9.41253e-34\n",
      "  24 │ 4.93459e-35  1.49439e-34  9.4229e-34\n",
      "  25 │ 4.94228e-35  1.4955e-34   9.4321e-34\n",
      "  26 │ 4.94915e-35  1.49649e-34  9.44029e-34\n",
      "\n",
      "\n",
      "Δ4 amplitudes for j = 1.0 and γ = 1.2 are:\n",
      "\u001b[1m26×3 DataFrame\u001b[0m\n",
      "\u001b[1m Row \u001b[0m│\u001b[1m i=0         \u001b[0m\u001b[1m i=1         \u001b[0m\u001b[1m i=2         \u001b[0m\n",
      "\u001b[1m     \u001b[0m│\u001b[90m Float64     \u001b[0m\u001b[90m Float64     \u001b[0m\u001b[90m Float64     \u001b[0m\n",
      "─────┼───────────────────────────────────────\n",
      "   1 │ 7.7684e-39   3.70797e-38  2.02191e-37\n",
      "   2 │ 4.28146e-38  1.83833e-37  1.09032e-36\n",
      "   3 │ 8.53782e-38  3.21386e-37  2.03264e-36\n",
      "   4 │ 1.15625e-37  3.95264e-37  2.59232e-36\n",
      "   5 │ 1.35431e-37  4.31891e-37  2.90128e-36\n",
      "   6 │ 1.48838e-37  4.52113e-37  3.08743e-36\n",
      "   7 │ 1.58213e-37  4.64769e-37  3.20956e-36\n",
      "   8 │ 1.64978e-37  4.73539e-37  3.29512e-36\n",
      "   9 │ 1.70004e-37  4.80034e-37  3.35803e-36\n",
      "  10 │ 1.73828e-37  4.85013e-37  3.4058e-36\n",
      "  11 │ 1.76805e-37  4.8893e-37   3.44301e-36\n",
      "  12 │ 1.79164e-37  4.92049e-37  3.47247e-36\n",
      "  13 │ 1.81064e-37  4.94566e-37  3.49617e-36\n",
      "  14 │ 1.82615e-37  4.96616e-37  3.51544e-36\n",
      "  15 │ 1.83896e-37  4.98301e-37  3.53128e-36\n",
      "  16 │ 1.84966e-37  4.99698e-37  3.54445e-36\n",
      "  17 │ 1.85868e-37  5.00868e-37  3.55549e-36\n",
      "  18 │ 1.86635e-37  5.01855e-37  3.56483e-36\n",
      "  19 │ 1.87293e-37  5.02695e-37  3.5728e-36\n",
      "  20 │ 1.87862e-37  5.03415e-37  3.57966e-36\n",
      "  21 │ 1.88357e-37  5.04037e-37  3.58559e-36\n",
      "  22 │ 1.8879e-37   5.04578e-37  3.59077e-36\n",
      "  23 │ 1.8917e-37   5.05051e-37  3.59531e-36\n",
      "  24 │ 1.89507e-37  5.05468e-37  3.59931e-36\n",
      "  25 │ 1.89807e-37  5.05837e-37  3.60286e-36\n",
      "  26 │ 1.90074e-37  5.06166e-37  3.60603e-36\n",
      "\n",
      "\n"
     ]
    }
   ],
   "source": [
    "Δ4_assemble(Immirzi_list, j_boundary_list, Δl_max)"
   ]
  }
 ],
 "metadata": {
  "kernelspec": {
   "display_name": "Julia 1.7.0",
   "language": "julia",
   "name": "julia-1.7"
  },
  "language_info": {
   "file_extension": ".jl",
   "mimetype": "application/julia",
   "name": "julia",
   "version": "1.7.0"
  }
 },
 "nbformat": 4,
 "nbformat_minor": 5
}
