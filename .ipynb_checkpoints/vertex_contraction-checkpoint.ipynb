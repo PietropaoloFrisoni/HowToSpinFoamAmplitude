{
 "cells": [
  {
   "cell_type": "markdown",
   "id": "e416d8f0-6c4d-4395-89f8-69632315be12",
   "metadata": {},
   "source": [
    "# How to spinfoam amplitudes\n",
    "## Contracting the EPRL vertex amplitudes"
   ]
  },
  {
   "cell_type": "markdown",
   "id": "15af7fbb-64a3-422a-94c5-56016af5ef96",
   "metadata": {},
   "source": [
    "In this notebook we contract the EPRL vertices (previously computed) in order to obtain the Δ4 amplitude.\n",
    "\n",
    "Since the required vertices have been computed in the other notebook, \n",
    "the cells below can be compiled just installing the required packages, even if the sl2cfoam-next is not installed. "
   ]
  },
  {
   "cell_type": "code",
   "execution_count": 1,
   "id": "9d6dd107-71d9-4d64-9b1f-406195594023",
   "metadata": {},
   "outputs": [],
   "source": [
    "# required pkgs  \n",
    "using HalfIntegers\n",
    "using JLD2   \n",
    "using DelimitedFiles"
   ]
  },
  {
   "cell_type": "code",
   "execution_count": 4,
   "id": "946e8f58-c17c-45e6-9a15-7cd34097f428",
   "metadata": {},
   "outputs": [],
   "source": [
    "# Barbero-Immirzi parameter\n",
    "γ = 1.2\n",
    "\n",
    "# current folder\n",
    "root_dir = pwd()\n",
    "\n",
    "# homogeneous cut-off \n",
    "Δl = 0;"
   ]
  },
  {
   "cell_type": "code",
   "execution_count": 17,
   "id": "ceaf9450-a616-47d3-83ab-eba67d3eca14",
   "metadata": {},
   "outputs": [
    {
     "data": {
      "text/plain": [
       "log (generic function with 1 method)"
      ]
     },
     "execution_count": 17,
     "metadata": {},
     "output_type": "execute_result"
    }
   ],
   "source": [
    "# print with flush\n",
    "function log(x...)\n",
    "    println(now(), \" \", join(x, \" \")...)\n",
    "    flush(stdout)\n",
    "end"
   ]
  },
  {
   "cell_type": "code",
   "execution_count": 16,
   "id": "9c16fa05-b7f1-4a3f-9aa3-ff2f58cc2319",
   "metadata": {},
   "outputs": [
    {
     "name": "stdout",
     "output_type": "stream",
     "text": [
      "Δ4_amp = 6.699368970275962e-39\n"
     ]
    },
    {
     "data": {
      "text/plain": [
       "6.699368970275962e-39"
      ]
     },
     "execution_count": 16,
     "metadata": {},
     "output_type": "execute_result"
    }
   ],
   "source": [
    "# value of all boundary spins (symmetric configuration)    \n",
    "j = 1.0\n",
    "\n",
    "# value of all boundary intertwiners (symmetric configuration)   \n",
    "i_boundary = 0\n",
    "\n",
    "# julia arrays start at index 1   \n",
    "i_b = i_boundary + 1    \n",
    "    \n",
    "# folder with vertex amplitudes \n",
    "vertex_path = \"$(root_dir)/vertex_ampls/Immirzi_$(γ)/j_$(j)/Dl_$(Δl)\"                     \n",
    "                   \n",
    "Δ4_amp = 0.0 \n",
    "    \n",
    "# if all boundary spins are equal to j, bulk spin has range [j, 3j]   \n",
    "j_bulk_min, j_bulk_max = j, 3j \n",
    "    \n",
    "for j_bulk = j_bulk_min:j_bulk_max\n",
    "\n",
    "@load \"$(vertex_path)/j_bulk_$(j_bulk)_fulltensor.jld2\" vertex \n",
    "                    \n",
    "# ranges of intertwiner spaces touched by the bulk spin      \n",
    "D = size(vertex[i_b,:,:,i_b,i_b])[1] # also [2] has the same range          \n",
    "                    \n",
    "Δ4_partial_amp = 0.0\n",
    "  \n",
    "for i_1234 in 1:D, i_1235 in 1:D, i_1236 in 1:D, i_1237 in 1:D\n",
    "@inbounds Δ4_partial_amp += vertex[i_b,i_1234,i_1235,i_b,i_b]*vertex[i_b,i_1235,i_1236,i_b,i_b]*\n",
    "                            vertex[i_b,i_1236,i_1237,i_b,i_b]*vertex[i_b,i_1237,i_1234,i_b,i_b]     \n",
    "end     \n",
    "\n",
    "# dimension of bulk spin     \n",
    "Δ4_partial_amp *= (2j_bulk + 1)\n",
    "            \n",
    "Δ4_amp += Δ4_partial_amp  \n",
    "                    \n",
    "end # j_bulk cycle\n",
    "               \n",
    "@show Δ4_amp\n",
    "     "
   ]
  },
  {
   "cell_type": "markdown",
   "id": "326c375d-f8c6-458e-8759-026aa05c3633",
   "metadata": {},
   "source": [
    "For convenience, we write a function that contracts all the required vertices for given lists of boundary parameters in the symmetric configuration"
   ]
  },
  {
   "cell_type": "code",
   "execution_count": 32,
   "id": "082301d1-a43e-4f60-a08b-26bb4dc1007d",
   "metadata": {},
   "outputs": [
    {
     "data": {
      "text/plain": [
       "Δ4_assemble (generic function with 1 method)"
      ]
     },
     "execution_count": 32,
     "metadata": {},
     "output_type": "execute_result"
    }
   ],
   "source": [
    "function Δ4_assemble(Immirzi_list, j_boundary_list, Δl_max)\n",
    "    \n",
    "for γ in Immirzi_list\n",
    "\n",
    "   for j in j_boundary_list    \n",
    "        \n",
    "      # if all boundary spins are equal to j, each boundary intertwiner has a range [0, 2j]     \n",
    "      i_boundary_min,i_boundary_max = 0, convert(Int, 2j)\n",
    "        \n",
    "      # matrix in which the computed amplitudes will be stored         \n",
    "      Δ4_amplitudes = zeros(Δl_max + 1, i_boundary_max + 1)\n",
    "\n",
    "      for i_boundary = i_boundary_min:i_boundary_max\n",
    "          \n",
    "         # julia arrays start at index 1   \n",
    "         i_b = i_boundary + 1    \n",
    "    \n",
    "         for Δl = 0:Δl_max\n",
    "\n",
    "            # folder with vertex amplitudes \n",
    "            vertex_path = \"$(root_dir)/vertex_ampls/Immirzi_$(γ)/j_$(j)/Dl_$(Δl)\"        \n",
    "                   \n",
    "            Δ4_amp = 0.0 \n",
    "                \n",
    "            # if all boundary spins are equal to j, bulk spin has range [j, 3j]   \n",
    "            j_bulk_min, j_bulk_max = j, 3j\n",
    "    \n",
    "            for j_bulk = j_bulk_min:j_bulk_max\n",
    "\n",
    "               @load \"$(vertex_path)/j_bulk_$(j_bulk)_fulltensor.jld2\" vertex \n",
    "                    \n",
    "               # ranges of intertwiner space touched by the bulk spin      \n",
    "               D = size(vertex[i_b,:,:,i_b,i_b])[1] # also [2] has the same range          \n",
    "                    \n",
    "               Δ4_partial_amp = 0.0\n",
    "  \n",
    "                  for i_1234 in 1:D, i_1235 in 1:D, i_1236 in 1:D, i_1237 in 1:D\n",
    "                  @inbounds Δ4_partial_amp += vertex[i_b,i_1234,i_1235,i_b,i_b]*vertex[i_b,i_1235,i_1236,i_b,i_b]*\n",
    "                                              vertex[i_b,i_1236,i_1237,i_b,i_b]*vertex[i_b,i_1237,i_1234,i_b,i_b]     \n",
    "                  end     \n",
    "\n",
    "                  # dimension of bulk spin     \n",
    "                  Δ4_partial_amp *= (2j_bulk + 1)\n",
    "            \n",
    "                  Δ4_amp += Δ4_partial_amp  \n",
    "                    \n",
    "                  end # j_bulk cycle\n",
    "                \n",
    "               Δ4_amplitudes[Δl+1,i_b] = Δ4_amp       \n",
    "        \n",
    "               # storing the Δ4 amplitude in JLD2 format    \n",
    "               Δ4_JLD2_dest_folder = \"$(root_dir)/Delta_4_ampls/Immirzi_$(γ)/j_$(j)/JLD2_format/i_$(i_boundary)/\"\n",
    "               mkpath(Δ4_JLD2_dest_folder)         \n",
    "               @save \"$(Δ4_JLD2_dest_folder)/Dl_$(Δl).jld2\" Δ4_amp\n",
    "        \n",
    "            end # shell cycle\n",
    "            \n",
    "         # storing the Δ4 amplitudes in CSV format\n",
    "         Δ4_CSV_dest_folder = \"$(root_dir)/Delta_4_ampls/Immirzi_$(γ)/j_$(j)/CSV_format\" \n",
    "         mkpath(Δ4_CSV_dest_folder)\n",
    "         open(\"$(Δ4_CSV_dest_folder)/Delta_4_ampls_Dl_max_$(Δl_max).csv\", \"w\") do io\n",
    "         writedlm(io, Δ4_amplitudes, ',')\n",
    "         end   \n",
    "        \n",
    "      end # i_boundary cycle\n",
    "    \n",
    "   end # j_boundary cycle       \n",
    "\n",
    "end # Immirzi cycle   \n",
    "    \n",
    "end # end of function"
   ]
  },
  {
   "cell_type": "code",
   "execution_count": 37,
   "id": "c7e629d6-a0cd-4605-90b2-3e0c804539b1",
   "metadata": {},
   "outputs": [],
   "source": [
    "# list of Immirzi parameters \n",
    "Immirzi_list = [0.1, 1.2]\n",
    "\n",
    "# list of boundary spins (symmetric configurations)\n",
    "j_boundary_list = [0.5,1]\n",
    "\n",
    "# maximal cut-off  \n",
    "Δl_max = 15;"
   ]
  },
  {
   "cell_type": "code",
   "execution_count": 39,
   "id": "bbdb8289-0bed-4852-97f1-0c8e0089e76a",
   "metadata": {},
   "outputs": [],
   "source": [
    "Δ4_assemble(Immirzi_list, j_boundary_list, Δl_max)"
   ]
  },
  {
   "cell_type": "code",
   "execution_count": null,
   "id": "d7e8823a-43a0-4dbe-a039-0273fbf5e23e",
   "metadata": {},
   "outputs": [],
   "source": []
  }
 ],
 "metadata": {
  "kernelspec": {
   "display_name": "Julia 1.7.0",
   "language": "julia",
   "name": "julia-1.7"
  },
  "language_info": {
   "file_extension": ".jl",
   "mimetype": "application/julia",
   "name": "julia",
   "version": "1.7.0"
  }
 },
 "nbformat": 4,
 "nbformat_minor": 5
}
