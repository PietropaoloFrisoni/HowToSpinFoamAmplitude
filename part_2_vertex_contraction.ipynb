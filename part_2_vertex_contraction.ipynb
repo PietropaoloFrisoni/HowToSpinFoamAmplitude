{
 "cells": [
  {
   "cell_type": "markdown",
   "id": "e416d8f0-6c4d-4395-89f8-69632315be12",
   "metadata": {},
   "source": [
    "# How to spinfoam amplitudes\n",
    "## Contracting the EPRL vertex amplitudes"
   ]
  },
  {
   "cell_type": "markdown",
   "id": "15af7fbb-64a3-422a-94c5-56016af5ef96",
   "metadata": {},
   "source": [
    "In this notebook we contract the EPRL vertices (previously computed) in order to obtain the Δ4 amplitude.\n",
    "\n",
    "Since the required vertices have already been computed, \n",
    "the cells below can be compiled just installing the required packages, even if the sl2cfoam-next is not installed. "
   ]
  },
  {
   "cell_type": "code",
   "execution_count": 1,
   "id": "9d6dd107-71d9-4d64-9b1f-406195594023",
   "metadata": {},
   "outputs": [],
   "source": [
    "# required pkgs  \n",
    "using HalfIntegers\n",
    "using JLD2   \n",
    "using DelimitedFiles\n",
    "using DataFrames"
   ]
  },
  {
   "cell_type": "code",
   "execution_count": 2,
   "id": "946e8f58-c17c-45e6-9a15-7cd34097f428",
   "metadata": {},
   "outputs": [],
   "source": [
    "# Barbero-Immirzi parameter\n",
    "γ = 1.2\n",
    "\n",
    "# current folder\n",
    "root_dir = pwd()\n",
    "\n",
    "# homogeneous cut-off \n",
    "Δl = 0;"
   ]
  },
  {
   "cell_type": "markdown",
   "id": "fe905ac0-3227-481f-82c2-413d19cd489b",
   "metadata": {},
   "source": [
    "Let's start by showing a way to contract amplitudes.\n",
    "\n",
    "Notice that in julia best performance is achieved by using a function"
   ]
  },
  {
   "cell_type": "code",
   "execution_count": 133,
   "id": "9c16fa05-b7f1-4a3f-9aa3-ff2f58cc2319",
   "metadata": {},
   "outputs": [
    {
     "name": "stdout",
     "output_type": "stream",
     "text": [
      "Δ4_amp = 7.768396061116365e-39\n"
     ]
    },
    {
     "data": {
      "text/plain": [
       "7.768396061116365e-39"
      ]
     },
     "execution_count": 133,
     "metadata": {},
     "output_type": "execute_result"
    }
   ],
   "source": [
    "# value of all boundary spins (symmetric configuration)    \n",
    "j = 1.0\n",
    "\n",
    "# value of all boundary intertwiners (symmetric configuration)   \n",
    "i_boundary = 0\n",
    "\n",
    "# julia arrays start at index 1   \n",
    "i_b = i_boundary + 1    \n",
    "    \n",
    "# folder with stored vertex amplitudes \n",
    "vertex_path = \"$(root_dir)/vertex_ampls/Immirzi_$(γ)/j_$(j)/Dl_$(Δl)\"                     \n",
    "                   \n",
    "Δ4_amp = 0.0 \n",
    "    \n",
    "# if all boundary spins are integers and equal to j, bulk spin has range [0, 3j]   \n",
    "j_bulk_min, j_bulk_max = 0, 3j \n",
    "    \n",
    "for j_bulk = j_bulk_min:j_bulk_max\n",
    "\n",
    "fulltensor_to_load = \"$(vertex_path)/j_bulk_$(j_bulk)_fulltensor.jld2\"\n",
    "if(!isfile(fulltensor_to_load)) error(\"vertex fulltensor for γ=$(γ) j=$(j) Δl=$(Δl) not found, it must be computed first\") end   \n",
    "@load \"$(fulltensor_to_load)\" vertex \n",
    "                    \n",
    "# ranges of intertwiner spaces touched by the bulk spin      \n",
    "D = size(vertex[i_b,:,:,i_b,i_b])[1] # also [2] has the same range          \n",
    "                    \n",
    "Δ4_partial_amp = 0.0\n",
    "  \n",
    "for i_1234 in 1:D, i_1235 in 1:D, i_1236 in 1:D, i_1237 in 1:D\n",
    "@inbounds Δ4_partial_amp += vertex[i_b,i_1234,i_1235,i_b,i_b]*vertex[i_b,i_1235,i_1236,i_b,i_b]*\n",
    "                            vertex[i_b,i_1236,i_1237,i_b,i_b]*vertex[i_b,i_1237,i_1234,i_b,i_b]     \n",
    "end     \n",
    "\n",
    "# dimension of bulk spin     \n",
    "Δ4_partial_amp *= (2j_bulk + 1)\n",
    "            \n",
    "Δ4_amp += Δ4_partial_amp  \n",
    "                    \n",
    "end # j_bulk cycle\n",
    "               \n",
    "@show Δ4_amp"
   ]
  },
  {
   "cell_type": "markdown",
   "id": "326c375d-f8c6-458e-8759-026aa05c3633",
   "metadata": {},
   "source": [
    "For convenience, we write a function that contracts all the required vertices for given lists of boundary parameters in the symmetric configuration.\n",
    "\n",
    "We collect all the amplitudes in a matrix for increasing values of the cut-off Δl and different intertwiners configurations, \n",
    "then we store in CSV format."
   ]
  },
  {
   "cell_type": "code",
   "execution_count": 134,
   "id": "082301d1-a43e-4f60-a08b-26bb4dc1007d",
   "metadata": {},
   "outputs": [
    {
     "data": {
      "text/plain": [
       "Δ4_assemble (generic function with 1 method)"
      ]
     },
     "execution_count": 134,
     "metadata": {},
     "output_type": "execute_result"
    }
   ],
   "source": [
    "function Δ4_assemble(Immirzi_list, j_boundary_list, Δl_max)\n",
    "    \n",
    "for γ in Immirzi_list\n",
    "\n",
    "   for j in j_boundary_list    \n",
    "        \n",
    "      # if all boundary spins are equal to j, each boundary intertwiner has a range [0, 2j]     \n",
    "      i_boundary_min, i_boundary_max = 0, convert(Int, 2j)\n",
    "        \n",
    "      # matrix in which the computed amplitudes will be stored         \n",
    "      Δ4_amplitudes = zeros(Δl_max + 1, i_boundary_max + 1)           \n",
    "      column_labes = String[]      \n",
    "\n",
    "      for i_boundary = i_boundary_min:i_boundary_max\n",
    "          \n",
    "         i_b = i_boundary + 1 \n",
    "         push!(column_labes, \"i=$(i_boundary)\")       \n",
    "    \n",
    "         for Δl = 0:Δl_max\n",
    "\n",
    "            vertex_path = \"$(root_dir)/vertex_ampls/Immirzi_$(γ)/j_$(j)/Dl_$(Δl)\"                           \n",
    "            Δ4_amp = 0.0 \n",
    "                \n",
    "            if (iszero(j%1)) j_bulk_min = 0 else j_bulk_min = 0.5 end       \n",
    "            j_bulk_max = 3j\n",
    "    \n",
    "            for j_bulk = j_bulk_min:j_bulk_max\n",
    "\n",
    "            fulltensor_to_load = \"$(vertex_path)/j_bulk_$(j_bulk)_fulltensor.jld2\"\n",
    "            if(!isfile(fulltensor_to_load)) error(\"vertex fulltensor for γ=$(γ) j=$(j) Δl=$(Δl) not found, it must be computed first\") end    \n",
    "            @load \"$(fulltensor_to_load)\" vertex \n",
    "                        \n",
    "               D = size(vertex[i_b,:,:,i_b,i_b])[1]                              \n",
    "               Δ4_partial_amp = 0.0\n",
    "  \n",
    "                  for i_1234 in 1:D, i_1235 in 1:D, i_1236 in 1:D, i_1237 in 1:D\n",
    "                  @inbounds Δ4_partial_amp += vertex[i_b,i_1234,i_1235,i_b,i_b]*vertex[i_b,i_1235,i_1236,i_b,i_b]*\n",
    "                                              vertex[i_b,i_1236,i_1237,i_b,i_b]*vertex[i_b,i_1237,i_1234,i_b,i_b]     \n",
    "                  end     \n",
    "   \n",
    "                  Δ4_partial_amp *= (2j_bulk + 1)            \n",
    "                  Δ4_amp += Δ4_partial_amp \n",
    "                        \n",
    "                  end # j_bulk cycle\n",
    "                \n",
    "               Δ4_amplitudes[Δl+1,i_b] = Δ4_amp       \n",
    "        \n",
    "               # storing the Δ4 amplitude in JLD2 format    \n",
    "               Δ4_JLD2_path = \"$(root_dir)/Delta_4_ampls/Immirzi_$(γ)/j_$(j)/JLD2_format/i_$(i_boundary)/\"\n",
    "               mkpath(Δ4_JLD2_path)         \n",
    "               @save \"$(Δ4_JLD2_path)/Dl_$(Δl).jld2\" Δ4_amp\n",
    "        \n",
    "               end # cut-off cycle    \n",
    "        \n",
    "            end # i_boundary cycle    \n",
    "                  \n",
    "         # storing the Δ4 amplitudes in CSV format\n",
    "         Δ4_CSV_path = \"$(root_dir)/Delta_4_ampls/Immirzi_$(γ)/j_$(j)/CSV_format\" \n",
    "         mkpath(Δ4_CSV_path)\n",
    "         open(\"$(Δ4_CSV_path)/Delta_4_ampls_Dl_max_$(Δl_max).csv\", \"w\") do io\n",
    "         writedlm(io, Δ4_amplitudes, ',')\n",
    "         end   \n",
    "          \n",
    "         # notice that i-th row is corresponds to Δl=i-1 \n",
    "         Amplitudes = DataFrame(Δ4_amplitudes, column_labes)    \n",
    "         println(\"Δ4 amplitudes for j = $(j) and γ = $(γ) are:\\n\", Amplitudes, \"\\n\\n\")\n",
    "\n",
    "   end # j_boundary cycle       \n",
    "\n",
    "end # Immirzi cycle   \n",
    "    \n",
    "end # end of function"
   ]
  },
  {
   "cell_type": "code",
   "execution_count": 135,
   "id": "c7e629d6-a0cd-4605-90b2-3e0c804539b1",
   "metadata": {},
   "outputs": [],
   "source": [
    "# list of Immirzi parameters \n",
    "Immirzi_list = [0.1, 1.2]\n",
    "\n",
    "# list of boundary spins (symmetric configurations)\n",
    "j_boundary_list = [0.5,1]\n",
    "\n",
    "# maximal cut-off  \n",
    "Δl_max = 15;"
   ]
  },
  {
   "cell_type": "code",
   "execution_count": 136,
   "id": "bbdb8289-0bed-4852-97f1-0c8e0089e76a",
   "metadata": {},
   "outputs": [
    {
     "name": "stdout",
     "output_type": "stream",
     "text": [
      "Δ4 amplitudes for j = 0.5 and γ = 0.1 are:\n",
      "\u001b[1m16×2 DataFrame\u001b[0m\n",
      "\u001b[1m Row \u001b[0m│\u001b[1m i=0         \u001b[0m\u001b[1m i=1         \u001b[0m\n",
      "\u001b[1m     \u001b[0m│\u001b[90m Float64     \u001b[0m\u001b[90m Float64     \u001b[0m\n",
      "─────┼──────────────────────────\n",
      "   1 │ 4.81247e-21  3.8768e-20\n",
      "   2 │ 2.50346e-20  2.0026e-19\n",
      "   3 │ 5.12196e-20  4.07089e-19\n",
      "   4 │ 7.37273e-20  5.83916e-19\n",
      "   5 │ 9.12362e-20  7.20837e-19\n",
      "   6 │ 1.04391e-19  8.23385e-19\n",
      "   7 │ 1.14328e-19  9.00632e-19\n",
      "   8 │ 1.21897e-19  9.59364e-19\n",
      "   9 │ 1.27762e-19  1.00479e-18\n",
      "  10 │ 1.32368e-19  1.04041e-18\n",
      "  11 │ 1.36043e-19  1.06881e-18\n",
      "  12 │ 1.39013e-19  1.09173e-18\n",
      "  13 │ 1.41444e-19  1.11047e-18\n",
      "  14 │ 1.43456e-19  1.12598e-18\n",
      "  15 │ 1.45138e-19  1.13894e-18\n",
      "  16 │ 1.46559e-19  1.14987e-18\n",
      "\n",
      "\n",
      "Δ4 amplitudes for j = 1.0 and γ = 0.1 are:\n",
      "\u001b[1m16×3 DataFrame\u001b[0m\n",
      "\u001b[1m Row \u001b[0m│\u001b[1m i=0         \u001b[0m\u001b[1m i=1         \u001b[0m\u001b[1m i=2         \u001b[0m\n",
      "\u001b[1m     \u001b[0m│\u001b[90m Float64     \u001b[0m\u001b[90m Float64     \u001b[0m\u001b[90m Float64     \u001b[0m\n",
      "─────┼───────────────────────────────────────\n",
      "   1 │ 8.11368e-27  5.95039e-26  1.73228e-25\n",
      "   2 │ 3.87335e-26  2.76091e-25  8.4097e-25\n",
      "   3 │ 7.74983e-26  5.21764e-25  1.64612e-24\n",
      "   4 │ 1.11081e-25  7.12266e-25  2.30166e-24\n",
      "   5 │ 1.37469e-25  8.48548e-25  2.78686e-24\n",
      "   6 │ 1.57478e-25  9.44201e-25  3.13607e-24\n",
      "   7 │ 1.72678e-25  1.01247e-24  3.38984e-24\n",
      "   8 │ 1.84306e-25  1.06208e-24  3.57681e-24\n",
      "   9 │ 1.93335e-25  1.099e-24    3.71739e-24\n",
      "  10 │ 2.00436e-25  1.12701e-24  3.82497e-24\n",
      "  11 │ 2.06105e-25  1.1487e-24   3.90883e-24\n",
      "  12 │ 2.10686e-25  1.16578e-24  3.97521e-24\n",
      "  13 │ 2.14436e-25  1.17945e-24  4.02856e-24\n",
      "  14 │ 2.17538e-25  1.19053e-24  4.07199e-24\n",
      "  15 │ 2.20131e-25  1.19964e-24  4.10777e-24\n",
      "  16 │ 2.22318e-25  1.20721e-24  4.13757e-24\n",
      "\n",
      "\n",
      "Δ4 amplitudes for j = 0.5 and γ = 1.2 are:\n",
      "\u001b[1m16×2 DataFrame\u001b[0m\n",
      "\u001b[1m Row \u001b[0m│\u001b[1m i=0         \u001b[0m\u001b[1m i=1         \u001b[0m\n",
      "\u001b[1m     \u001b[0m│\u001b[90m Float64     \u001b[0m\u001b[90m Float64     \u001b[0m\n",
      "─────┼──────────────────────────\n",
      "   1 │ 2.3342e-34   1.80489e-33\n",
      "   2 │ 1.28046e-33  9.80484e-33\n",
      "   3 │ 2.33666e-33  1.76551e-32\n",
      "   4 │ 2.88742e-33  2.16985e-32\n",
      "   5 │ 3.14681e-33  2.36016e-32\n",
      "   6 │ 3.28248e-33  2.46024e-32\n",
      "   7 │ 3.36363e-33  2.52023e-32\n",
      "   8 │ 3.41817e-33  2.56046e-32\n",
      "   9 │ 3.45798e-33  2.58968e-32\n",
      "  10 │ 3.48866e-33  2.61209e-32\n",
      "  11 │ 3.51317e-33  2.62993e-32\n",
      "  12 │ 3.53316e-33  2.64442e-32\n",
      "  13 │ 3.54972e-33  2.65638e-32\n",
      "  14 │ 3.56355e-33  2.66633e-32\n",
      "  15 │ 3.57518e-33  2.67468e-32\n",
      "  16 │ 3.58502e-33  2.68171e-32\n",
      "\n",
      "\n",
      "Δ4 amplitudes for j = 1.0 and γ = 1.2 are:\n",
      "\u001b[1m16×3 DataFrame\u001b[0m\n",
      "\u001b[1m Row \u001b[0m│\u001b[1m i=0         \u001b[0m\u001b[1m i=1         \u001b[0m\u001b[1m i=2         \u001b[0m\n",
      "\u001b[1m     \u001b[0m│\u001b[90m Float64     \u001b[0m\u001b[90m Float64     \u001b[0m\u001b[90m Float64     \u001b[0m\n",
      "─────┼───────────────────────────────────────\n",
      "   1 │ 7.7684e-39   3.70797e-38  2.02191e-37\n",
      "   2 │ 4.28146e-38  1.83833e-37  1.09032e-36\n",
      "   3 │ 8.53782e-38  3.21386e-37  2.03264e-36\n",
      "   4 │ 1.15625e-37  3.95264e-37  2.59232e-36\n",
      "   5 │ 1.35431e-37  4.31891e-37  2.90128e-36\n",
      "   6 │ 1.48838e-37  4.52113e-37  3.08743e-36\n",
      "   7 │ 1.58213e-37  4.64769e-37  3.20956e-36\n",
      "   8 │ 1.64978e-37  4.73539e-37  3.29512e-36\n",
      "   9 │ 1.70004e-37  4.80034e-37  3.35803e-36\n",
      "  10 │ 1.73828e-37  4.85013e-37  3.4058e-36\n",
      "  11 │ 1.76805e-37  4.8893e-37   3.44301e-36\n",
      "  12 │ 1.79164e-37  4.92049e-37  3.47247e-36\n",
      "  13 │ 1.81064e-37  4.94566e-37  3.49617e-36\n",
      "  14 │ 1.82615e-37  4.96616e-37  3.51544e-36\n",
      "  15 │ 1.83896e-37  4.98301e-37  3.53128e-36\n",
      "  16 │ 1.84966e-37  4.99698e-37  3.54445e-36\n",
      "\n",
      "\n"
     ]
    }
   ],
   "source": [
    "Δ4_assemble(Immirzi_list, j_boundary_list, Δl_max)"
   ]
  },
  {
   "cell_type": "code",
   "execution_count": null,
   "id": "51201579-dd56-46d0-942a-279ff9295479",
   "metadata": {},
   "outputs": [],
   "source": []
  }
 ],
 "metadata": {
  "kernelspec": {
   "display_name": "Julia 1.7.0",
   "language": "julia",
   "name": "julia-1.7"
  },
  "language_info": {
   "file_extension": ".jl",
   "mimetype": "application/julia",
   "name": "julia",
   "version": "1.7.0"
  }
 },
 "nbformat": 4,
 "nbformat_minor": 5
}
