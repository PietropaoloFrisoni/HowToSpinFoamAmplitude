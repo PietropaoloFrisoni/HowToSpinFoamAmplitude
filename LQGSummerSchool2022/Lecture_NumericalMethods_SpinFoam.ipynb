{
 "cells": [
  {
   "cell_type": "markdown",
   "metadata": {
    "slideshow": {
     "slide_type": "skip"
    },
    "tags": []
   },
   "source": [
    "#### Using a Julia 1.7.2 kernel"
   ]
  },
  {
   "cell_type": "markdown",
   "metadata": {
    "ExecuteTime": {
     "end_time": "2022-04-19T17:24:30.796417Z",
     "start_time": "2022-04-19T17:24:30.789287Z"
    },
    "slideshow": {
     "slide_type": "slide"
    },
    "tags": []
   },
   "source": [
    "# Numerical calculation of an EPRL spin foam amplitude\n",
    "\n",
    "## Pietro Dona\n",
    "Center for Space, Time and the Quantum\n",
    "\n",
    "dona.pietro [at] gmail.com"
   ]
  },
  {
   "cell_type": "markdown",
   "metadata": {
    "ExecuteTime": {
     "end_time": "2022-04-19T17:24:30.796417Z",
     "start_time": "2022-04-19T17:24:30.789287Z"
    },
    "slideshow": {
     "slide_type": "slide"
    },
    "tags": []
   },
   "source": [
    "## References\n",
    "\n",
    "### How-To, Tutorial\n",
    "P.D., P. Frisoni - *How-To compute EPRL spin foam amplitudes* <br/>\n",
    "Universe 8 (2022) no.4, 208 - doi:10.3390/universe8040208 <br/>\n",
    "[arXiv:2202.04360](https://arxiv.org/abs/2202.04360)\n",
    "\n",
    "\n",
    "and companion GitHub repository <br/>\n",
    "[HowToSpinfoamAmplitude](https://github.com/PietropaoloFrisoni/HowToSpinFoamAmplitude)"
   ]
  },
  {
   "cell_type": "markdown",
   "metadata": {
    "ExecuteTime": {
     "end_time": "2022-04-19T18:14:34.553747Z",
     "start_time": "2022-04-19T18:14:34.543052Z"
    },
    "slideshow": {
     "slide_type": "slide"
    },
    "tags": []
   },
   "source": [
    "### Other spin foam resources\n",
    "C. Rovelli and F. Vidotto - *Covariant loop quantum gravity: An elementary introduction to quantum gravity and spinfoam theory.* <br/>\n",
    "Cambridge Univeristity Press, 2015 <br/>\n",
    "[draft](https://www.cpt.univ-mrs.fr/~rovelli/IntroductionLQG.pdf)\n",
    "\n",
    "\n",
    "A. Perez - *The Spin-Foam Approach to Quantum Gravity.* <br/>\n",
    "Living Reviews in Relativity, vol. 16, 2013 <br/>\n",
    "[link](https://link.springer.com/article/10.12942/lrr-2013-3)\n"
   ]
  },
  {
   "cell_type": "markdown",
   "metadata": {
    "ExecuteTime": {
     "end_time": "2022-04-19T18:14:34.553747Z",
     "start_time": "2022-04-19T18:14:34.543052Z"
    },
    "slideshow": {
     "slide_type": "slide"
    },
    "tags": []
   },
   "source": [
    "\n",
    "### Papers on the software\n",
    "P. D. and G. Sarno - *Numerical methods for EPRL spin foam transition amplitudes and Lorentzian recoupling theory.* <br/>\n",
    "Gen. Rel. Grav. 50 (2018), 127 - doi:10.1007/s10714-018-2452-7 <br/>\n",
    "[arXiv:1807.03066](https://arxiv.org/abs/1807.03066) <br/>\n",
    "for educational purposes only. Details on deprecated software. The filosophy is the same. \n",
    "\n",
    "F. Gozzini - *A high-performance code for EPRL spin foam amplitudes.* <br/>\n",
    "Class. Quant. Grav. 38 (2021) no.22, 225010 - doi:10.1088/1361-6382/ac2b0b <br/>\n",
    "[arXiv:2107.13952](https://arxiv.org/abs/2107.13952) <br/>\n",
    "updated reference. Technical.\n"
   ]
  },
  {
   "cell_type": "markdown",
   "metadata": {
    "ExecuteTime": {
     "end_time": "2022-04-19T17:24:30.796417Z",
     "start_time": "2022-04-19T17:24:30.789287Z"
    },
    "slideshow": {
     "slide_type": "slide"
    },
    "tags": []
   },
   "source": [
    "## Credits\n",
    "\n",
    "I'm not an expert on any technical detail but I know a bit of everything. \n",
    "<hr/>\n",
    "Thank you to my collaborators: S. Speziale, G. Sarno, F. Gozzini, P. Frisoni"
   ]
  },
  {
   "cell_type": "markdown",
   "metadata": {
    "ExecuteTime": {
     "end_time": "2022-04-19T17:24:30.796417Z",
     "start_time": "2022-04-19T17:24:30.789287Z"
    },
    "slideshow": {
     "slide_type": "slide"
    },
    "tags": []
   },
   "source": [
    "## What you will learn\n",
    "\n",
    "- Booster decomposition of the EPRL vertex amplitude\n",
    "- Elements of `sl2cfoam-next`\n",
    "- Explicit calculation of an EPRL spin foam amplitude\n",
    "\n",
    "## What you will <span style=\"color:red\">not</span> learn\n",
    "\n",
    "- How to install and setup the library\n",
    "- HPC capability of the library (no optimizations)\n",
    "- Physical processes"
   ]
  },
  {
   "cell_type": "markdown",
   "metadata": {
    "ExecuteTime": {
     "end_time": "2022-04-19T17:24:30.796417Z",
     "start_time": "2022-04-19T17:24:30.789287Z"
    },
    "slideshow": {
     "slide_type": "slide"
    },
    "tags": []
   },
   "source": [
    "## Spin foam amplitude\n",
    "\n",
    "- Dynamics of loop quantum gravity in a background independent and Lorentz covariant way.\n",
    "- Transition amplitudes between spin network states at the boundary.\n",
    "- Regularized with a triangulation 2-complex $\\Delta$\n",
    "\n",
    "$$     A_{\\Delta} = \\sum_{j_f, i_e}  \\prod_f A_f(j_f) \\prod_e A_e(i_e) \\prod_v A_v \\left(j_f, \\  i_e\\right) $$"
   ]
  },
  {
   "cell_type": "markdown",
   "metadata": {
    "ExecuteTime": {
     "end_time": "2022-04-19T18:14:34.553747Z",
     "start_time": "2022-04-19T18:14:34.543052Z"
    },
    "slideshow": {
     "slide_type": "slide"
    },
    "tags": []
   },
   "source": [
    "## 2-complex $\\Delta$ components\n",
    "| Triangulation |     | 2-complex |\n",
    "|:-------------:|:---:|:---------:|\n",
    "| <img src=\"./img/2skeleton/4simplex.svg\" style=\"height:4rem;vertical-align: middle; margin-right:2rem;\" /> 4-simplex | $\\rightleftarrows$ | vertex <img src=\"./img/2skeleton/vertex.svg\" style=\"height:1rem;vertical-align: middle; margin-left:2rem;\"/> |\n",
    "| <img src=\"./img/2skeleton/tetrahedron.svg\" style=\"height:4rem;vertical-align: middle; margin-right:2rem;\" /> tetrahedron | $\\rightleftarrows$ | edge <img src=\"./img/2skeleton/edge.svg\" style=\"height:4rem;vertical-align: middle; margin-left:2rem;\"/> |\n",
    "| <img src=\"./img/2skeleton/triangle.svg\" style=\"height:4rem;vertical-align: middle; margin-right:2rem;\" /> triangle | $\\rightleftarrows$ | face <img src=\"./img/2skeleton/face.svg\" style=\"height:4rem;vertical-align: middle; margin-left:2rem;\"/> |"
   ]
  },
  {
   "cell_type": "markdown",
   "metadata": {
    "ExecuteTime": {
     "end_time": "2022-04-19T18:14:34.553747Z",
     "start_time": "2022-04-19T18:14:34.543052Z"
    },
    "slideshow": {
     "slide_type": "slide"
    },
    "tags": []
   },
   "source": [
    "## Spin foam amplitude - EPRL-FK\n",
    "\n",
    "<div style=\"display:grid;grid-template-columns: 1fr 3fr;\">\n",
    "\n",
    "<img src=\"./img/vertex3.svg\">\n",
    "\n",
    "\n",
    "<ul>\n",
    "  <li> Edge amplitude and face amplitude\n",
    "$$  A_f(j_f) = 2 j_f + 1 \\qquad A_e(i_e) = 2 i_e +1$$\n",
    "  </li>\n",
    "  <li>Simplicial vertex</li>\n",
    "  <li>Lorentzian holonomies at each edge $g \\in SL(2,\\mathbb{C})$ </li>\n",
    "  <li>Spins to face $j_f$ and intertwiners $i_e$ to edges </li>\n",
    "  <li>Gamma simple irreducible representations of $SL(2,\\mathbb{C})$ \n",
    "  $$ D^{\\gamma j_f ,j_f}_{j_f m j_f n} (g_t^{-1} g_s) $$\n",
    "  </li>\n",
    "  <li>Magnetic indices contracted with $\\{4jm\\}$ symbols at edges\n",
    "  </li>\n",
    "</ul> \n",
    "\n",
    "</div>\n",
    "\n",
    "$$\n",
    "A_v \\left(j_f, \\  i_e\\right)  = \\sum_{m_s,m_t} \n",
    "    \\int \\prod_{e \\in v} \\mathrm{d} g_e \n",
    "    \\delta(g_{e'}) \\prod_{f \\in v} D^{\\gamma j_f, j_f}_{j_f m_{t} j_f m_{s}} (g_{t}^{-1} g_{s})   \n",
    "    \\prod_{e \\ni f} \\left( \\begin{array}{c}\n",
    "        j_f\\\\\n",
    "        m_p\n",
    "    \\end{array}\\right)^{(i_e)} \n",
    "$$"
   ]
  },
  {
   "cell_type": "markdown",
   "metadata": {
    "ExecuteTime": {
     "end_time": "2022-04-19T17:24:30.796417Z",
     "start_time": "2022-04-19T17:24:30.789287Z"
    },
    "slideshow": {
     "slide_type": "slide"
    },
    "tags": []
   },
   "source": [
    "## Booster decomposition\n",
    "\n",
    "- Difficult problem $\\to$ divide and conquer\n",
    "- Smart parametrization of $SL(2,\\mathbb{C})$ (Cartan's) [Speziale 2016](https://arxiv.org/abs/1609.01632)\n",
    "$$ g = u e^{- i \\tfrac{1}{2} r \\sigma_3} v^\\dagger \\qquad r\\in [0,+\\infty) , \\ u,v \\in SU(2)$$"
   ]
  },
  {
   "cell_type": "markdown",
   "metadata": {
    "ExecuteTime": {
     "end_time": "2022-04-19T17:24:30.796417Z",
     "start_time": "2022-04-19T17:24:30.789287Z"
    },
    "slideshow": {
     "slide_type": "fragment"
    },
    "tags": []
   },
   "source": [
    "- Measure and irreps decompose nicely\n",
    "$$ \\mathrm{d}g = \\dfrac{1}{4\\pi} \\sinh^2 r \\mathrm{d} r \\mathrm{d}u \\mathrm{d}v \\qquad\\qquad D^{\\gamma j_f, j_f}_{l_f m j_f n} (g) = \\sum_p D^{l_f}_{mp} (g)d^{\\gamma j_f, j_f}_{l_f j_f p} (r) D^{j_f}_{p n} (g)$$\n",
    "- Collect similar group elements together\n",
    "$$ D^{\\gamma j_f, j_f}_{j_f m_{t} j_f m_{s}} (g_{t}^{-1} g_{s}) = \\sum_{l_f = j_f}^{\\infty} \\sum_{p_f} D^{\\gamma j_f, j_f}_{j_f m_{t} l_f p_f} (g_{t}^{-1})D^{\\gamma j_f, j_f}_{l_f p_f j_f m_{s}} (g_{s})  $$\n",
    "- Perform all the $SU(2)$ integrals in terms of invariants"
   ]
  },
  {
   "cell_type": "markdown",
   "metadata": {
    "ExecuteTime": {
     "end_time": "2022-04-19T18:14:34.553747Z",
     "start_time": "2022-04-19T18:14:34.543052Z"
    },
    "slideshow": {
     "slide_type": "slide"
    },
    "tags": []
   },
   "source": [
    "## Booster decomposed EPRL vertex amplitude\n",
    "Linear combination of $\\{15j\\}$ symbols \n",
    "$$     A_v \\left(j_f, \\  i_e\\right) =  \\sum_{l_f=j_f}^\\infty \\sum_{k_e} \\{ 15 j\\} (j_f,l_f)  \\prod_{e = 2}^{5}  B_4^\\gamma \\left( l_f, j_f ; i_{e} ,k_{e} \\right) (2k_{e}+1)  $$\n",
    "weighted by the booster functions \n",
    "$$B_4^\\gamma\\left( j_f, l_f ; i,k\\right) \n",
    "  ={\\small\n",
    "  \\sum_{ p_f } \n",
    "  \\left(\\begin{array}{cccc} l_1 & l_2 & l_3 & l_4 \\\\ p_1 & p_2 & p_3 & p_4 \\end{array}\\right)^{(k)}\n",
    "  \\left(\\int_0^\\infty \\mathrm{d} r \\frac{1}{4\\pi}\\sinh^2r \\, \\bigotimes_{f=1}^4 d^{\\gamma j_f,j_f}_{l_f j_f p_f}(r) \\right)\n",
    "  \\left(\\begin{array}{cccc} j_1 & j_2 & j_3 & j_4 \\\\ p_1 & p_2 & p_3 & p_4 \\end{array}\\right)^{(i)}}  $$\n",
    "\n",
    "- Six sums\n",
    "- SU(2) invariants\n",
    "- One dimensional integrals (booster functions)"
   ]
  },
  {
   "cell_type": "markdown",
   "metadata": {
    "ExecuteTime": {
     "end_time": "2022-04-19T17:24:30.796417Z",
     "start_time": "2022-04-19T17:24:30.789287Z"
    },
    "slideshow": {
     "slide_type": "slide"
    },
    "tags": []
   },
   "source": [
    "## Numerical implementation\n",
    "The frameworks `sl2cfoam` and `sl2cfoam-next`\n",
    "\n",
    "Advantages:\n",
    "+ Open source (<span style=\"color:green;\">help up make it better</span>)\n",
    "+ Written in C (<span style=\"color:green;\">speed</span>)\n",
    "+ Modular and Scalable (<span style=\"color:green;\">any amplitude</span>)\n",
    "+ Optimized for HPC (<span style=\"color:green;\">many nodes, many cores</span>)\n",
    "+ User friendly  (<span style=\"color:green;\">Julia interactive interface</span>)"
   ]
  },
  {
   "cell_type": "markdown",
   "metadata": {
    "ExecuteTime": {
     "end_time": "2022-04-19T18:14:34.587384Z",
     "start_time": "2022-04-19T18:14:34.556811Z"
    },
    "slideshow": {
     "slide_type": "fragment"
    }
   },
   "source": [
    "Disadvantages\n",
    "- Resource demanding  (<span style=\"color:red;\">costly</span>)\n",
    "- Unavoidable approximation  (<span style=\"color:red;\">truncation parameter</span>)"
   ]
  },
  {
   "cell_type": "markdown",
   "metadata": {
    "ExecuteTime": {
     "end_time": "2022-04-19T17:24:30.796417Z",
     "start_time": "2022-04-19T17:24:30.789287Z"
    },
    "slideshow": {
     "slide_type": "slide"
    },
    "tags": []
   },
   "source": [
    "## Three main ingredients\n",
    "1. $SU(2)$ invariants are computed using `WIGXJPF` and `FASTWIGXJ` [Johansson, Forssén 2015](https://arxiv.org/abs/1504.08329)\n",
    "2. Booster functions (1D bounded integrals, oscillating adaptive Gauss–Kronrod quadrature method)"
   ]
  },
  {
   "cell_type": "markdown",
   "metadata": {
    "ExecuteTime": {
     "end_time": "2022-04-19T17:24:30.796417Z",
     "start_time": "2022-04-19T17:24:30.789287Z"
    },
    "slideshow": {
     "slide_type": "fragment"
    },
    "tags": []
   },
   "source": [
    "3. Convergent <span style=\"color:red;\">unbounded</span> sums\n",
    "   $$ \\sum_{l_f = j_f}^\\infty \\to \\sum_{l_f = j_f}^{j_f + \\Delta l}$$\n",
    "Uniform truncation parameter $\\Delta l$ \n",
    "- good approximation (<span style=\"color:green;\">amplitude is finite</span>)\n",
    "- how good (<span style=\"color:red;\">weak control on the error</span>)\n",
    "- rule of thumb ($\\Delta l \\gtrsim \\mathrm{max}j_f$)\n",
    "- convergence acceleration technique (<span style=\"color:gray;\">Aitken delta-squared</span>)"
   ]
  },
  {
   "cell_type": "markdown",
   "metadata": {
    "ExecuteTime": {
     "end_time": "2022-04-19T17:24:30.796417Z",
     "start_time": "2022-04-19T17:24:30.789287Z"
    },
    "slideshow": {
     "slide_type": "slide"
    },
    "tags": []
   },
   "source": [
    "## Initialization\n",
    "Initialize the library first. We specify:\n",
    "- Immirzi parameter value\n",
    "- Folder where to save partial amplitudes, booster and $SU(2)$ invariants\n",
    "- Truncation parameter\n",
    "- Fix other technical parameters (Accuracy, Verbosity)\n"
   ]
  },
  {
   "cell_type": "code",
   "execution_count": 14,
   "metadata": {
    "ExecuteTime": {
     "end_time": "2022-04-19T18:14:34.553747Z",
     "start_time": "2022-04-19T18:14:34.543052Z"
    },
    "slideshow": {
     "slide_type": "slide"
    },
    "tags": []
   },
   "outputs": [],
   "source": [
    "# import the library\n",
    "using SL2Cfoam\n",
    "\n",
    "# Barbero-Immirzi parameter\n",
    "Immirzi = 1.0\n",
    "\n",
    "# initializing sl2cfoam-next   \n",
    "sl2c_data_folder = \"/home/pdona/data_sl2cfoam\"\n",
    "sl2c_config = SL2Cfoam.Config(VerbosityOff, VeryHighAccuracy, 100, 0)\n",
    "SL2Cfoam.cinit(sl2c_data_folder,Immirzi, sl2c_config)\n",
    "\n",
    "# truncation parameter\n",
    "Dl = 5;"
   ]
  },
  {
   "cell_type": "markdown",
   "metadata": {
    "ExecuteTime": {
     "end_time": "2022-04-19T17:24:30.796417Z",
     "start_time": "2022-04-19T17:24:30.789287Z"
    },
    "slideshow": {
     "slide_type": "slide"
    },
    "tags": []
   },
   "source": [
    "## Quickstart - Calculation of $A_v(j_f,i_e)$\n",
    "Let's compute the EPRL vertex amplitude with all spins $j_f=1$ and all intertwiners $i_e=0$ ($\\gamma=1$ and $\\Delta l =5$)"
   ]
  },
  {
   "cell_type": "code",
   "execution_count": 15,
   "metadata": {
    "ExecuteTime": {
     "end_time": "2022-04-19T18:14:34.587384Z",
     "start_time": "2022-04-19T18:14:34.556811Z"
    },
    "tags": []
   },
   "outputs": [
    {
     "name": "stdout",
     "output_type": "stream",
     "text": [
      "  0.000059 seconds (5 allocations: 272 bytes)\n"
     ]
    },
    {
     "data": {
      "text/plain": [
       "1.4050824071931564e-9"
      ]
     },
     "execution_count": 15,
     "metadata": {},
     "output_type": "execute_result"
    }
   ],
   "source": [
    "# set the 10 vertex boundary spins\n",
    "spins = [1,1,1,1,1,1,1,1,1,1]\n",
    "@time Av = vertex_compute(spins, Dl);\n",
    "# Av.a is the 5-dimensional array with the data\n",
    "Av.a[2,2,2,2,2]"
   ]
  },
  {
   "cell_type": "code",
   "execution_count": 16,
   "metadata": {
    "ExecuteTime": {
     "end_time": "2022-04-19T18:14:34.587384Z",
     "start_time": "2022-04-19T18:14:34.556811Z"
    },
    "tags": []
   },
   "outputs": [
    {
     "name": "stdout",
     "output_type": "stream",
     "text": [
      "  0.000058 seconds (5 allocations: 272 bytes)\n"
     ]
    },
    {
     "data": {
      "text/plain": [
       "1.4050824071931564e-9"
      ]
     },
     "execution_count": 16,
     "metadata": {},
     "output_type": "execute_result"
    }
   ],
   "source": [
    "# A second evaluation is almost istantaneous\n",
    "spins = [1,1,1,1,1,1,1,1,1,1]\n",
    "@time Av = vertex_compute(spins, Dl);\n",
    "Av.a[2,2,2,2,2]"
   ]
  },
  {
   "cell_type": "code",
   "execution_count": 119,
   "metadata": {
    "ExecuteTime": {
     "end_time": "2022-04-19T18:14:34.531172Z",
     "start_time": "2022-04-19T18:14:33.310409Z"
    },
    "slideshow": {
     "slide_type": "skip"
    }
   },
   "outputs": [
    {
     "data": {
      "text/plain": [
       "log (generic function with 1 method)"
      ]
     },
     "execution_count": 119,
     "metadata": {},
     "output_type": "execute_result"
    }
   ],
   "source": [
    "using Dates\n",
    "using LaTeXStrings\n",
    "using Plots\n",
    "using Formatting\n",
    "function log(x...)\n",
    "    println(now(), \" \", join(x, \" \")...)\n",
    "    flush(stdout)\n",
    "end"
   ]
  },
  {
   "cell_type": "markdown",
   "metadata": {
    "ExecuteTime": {
     "end_time": "2022-04-19T17:24:30.796417Z",
     "start_time": "2022-04-19T17:24:30.789287Z"
    },
    "slideshow": {
     "slide_type": "slide"
    },
    "tags": []
   },
   "source": [
    "## Let's increase the truncation\n",
    "Set $\\Delta l = 15$ and collect all the amplitudes to study the dependence on the truncation"
   ]
  },
  {
   "cell_type": "code",
   "execution_count": 18,
   "metadata": {
    "ExecuteTime": {
     "end_time": "2022-04-19T18:14:34.587384Z",
     "start_time": "2022-04-19T18:14:34.556811Z"
    },
    "tags": []
   },
   "outputs": [
    {
     "name": "stdout",
     "output_type": "stream",
     "text": [
      "Av_Dl = [7.178111490182883e-10, 1.0786886073954419e-9, 1.258996826084555e-9, 1.3413102902988803e-9, 1.3822040752123264e-9, 1.4050824071931564e-9, 1.4192243738665669e-9, 1.428724512974261e-9, 1.4354997592036745e-9, 1.4405452728545008e-9, 1.444425358064419e-9, 1.4474756478762242e-9, 1.4499200300861676e-9, 1.4519056057256162e-9, 1.4535401848839236e-9, 1.4548995320583982e-9]\n"
     ]
    }
   ],
   "source": [
    "# let's loop (can take a while ~ 7 and 1/2 min)\n",
    "spins = [1,1,1,1,1,1,1,1,1,1]\n",
    "Av_Dl = zeros(16)\n",
    "Dls = 0:15\n",
    "for Dl in Dls\n",
    "    v=vertex_compute(spins, Dl)\n",
    "    Av_Dl[Dl+1]=v.a[2,2,2,2,2]\n",
    "end\n",
    "@show Av_Dl;"
   ]
  },
  {
   "cell_type": "code",
   "execution_count": 19,
   "metadata": {
    "ExecuteTime": {
     "end_time": "2022-04-19T18:14:34.587384Z",
     "start_time": "2022-04-19T18:14:34.556811Z"
    },
    "tags": []
   },
   "outputs": [
    {
     "data": {
      "text/plain": [
       "1.0354549488415832"
      ]
     },
     "execution_count": 19,
     "metadata": {},
     "output_type": "execute_result"
    }
   ],
   "source": [
    "Av_Dl[15+1]/Av_Dl[5+1]"
   ]
  },
  {
   "cell_type": "code",
   "execution_count": 20,
   "metadata": {
    "ExecuteTime": {
     "end_time": "2022-04-19T18:14:34.587384Z",
     "start_time": "2022-04-19T18:14:34.556811Z"
    },
    "slideshow": {
     "slide_type": "slide"
    },
    "tags": []
   },
   "outputs": [
    {
     "data": {
      "image/svg+xml": [
       "<?xml version=\"1.0\" encoding=\"utf-8\"?>\n",
       "<svg xmlns=\"http://www.w3.org/2000/svg\" xmlns:xlink=\"http://www.w3.org/1999/xlink\" width=\"600\" height=\"400\" viewBox=\"0 0 2400 1600\">\n",
       "<defs>\n",
       "  <clipPath id=\"clip290\">\n",
       "    <rect x=\"0\" y=\"0\" width=\"2400\" height=\"1600\"/>\n",
       "  </clipPath>\n",
       "</defs>\n",
       "<path clip-path=\"url(#clip290)\" d=\"\n",
       "M0 1600 L2400 1600 L2400 0 L0 0  Z\n",
       "  \" fill=\"#ffffff\" fill-rule=\"evenodd\" fill-opacity=\"1\"/>\n",
       "<defs>\n",
       "  <clipPath id=\"clip291\">\n",
       "    <rect x=\"480\" y=\"0\" width=\"1681\" height=\"1600\"/>\n",
       "  </clipPath>\n",
       "</defs>\n",
       "<defs>\n",
       "  <clipPath id=\"clip292\">\n",
       "    <rect x=\"219\" y=\"154\" width=\"2134\" height=\"1270\"/>\n",
       "  </clipPath>\n",
       "</defs>\n",
       "<path clip-path=\"url(#clip290)\" d=\"\n",
       "M219.288 1423.18 L2352.76 1423.18 L2352.76 154.586 L219.288 154.586  Z\n",
       "  \" fill=\"#ffffff\" fill-rule=\"evenodd\" fill-opacity=\"1\"/>\n",
       "<polyline clip-path=\"url(#clip292)\" style=\"stroke:#000000; stroke-linecap:butt; stroke-linejoin:round; stroke-width:2; stroke-opacity:0.1; fill:none\" points=\"\n",
       "  279.669,1423.18 279.669,154.586 \n",
       "  \"/>\n",
       "<polyline clip-path=\"url(#clip292)\" style=\"stroke:#000000; stroke-linecap:butt; stroke-linejoin:round; stroke-width:2; stroke-opacity:0.1; fill:none\" points=\"\n",
       "  950.571,1423.18 950.571,154.586 \n",
       "  \"/>\n",
       "<polyline clip-path=\"url(#clip292)\" style=\"stroke:#000000; stroke-linecap:butt; stroke-linejoin:round; stroke-width:2; stroke-opacity:0.1; fill:none\" points=\"\n",
       "  1621.47,1423.18 1621.47,154.586 \n",
       "  \"/>\n",
       "<polyline clip-path=\"url(#clip292)\" style=\"stroke:#000000; stroke-linecap:butt; stroke-linejoin:round; stroke-width:2; stroke-opacity:0.1; fill:none\" points=\"\n",
       "  2292.37,1423.18 2292.37,154.586 \n",
       "  \"/>\n",
       "<polyline clip-path=\"url(#clip290)\" style=\"stroke:#000000; stroke-linecap:butt; stroke-linejoin:round; stroke-width:4; stroke-opacity:1; fill:none\" points=\"\n",
       "  219.288,1423.18 2352.76,1423.18 \n",
       "  \"/>\n",
       "<polyline clip-path=\"url(#clip290)\" style=\"stroke:#000000; stroke-linecap:butt; stroke-linejoin:round; stroke-width:4; stroke-opacity:1; fill:none\" points=\"\n",
       "  279.669,1423.18 279.669,1404.28 \n",
       "  \"/>\n",
       "<polyline clip-path=\"url(#clip290)\" style=\"stroke:#000000; stroke-linecap:butt; stroke-linejoin:round; stroke-width:4; stroke-opacity:1; fill:none\" points=\"\n",
       "  950.571,1423.18 950.571,1404.28 \n",
       "  \"/>\n",
       "<polyline clip-path=\"url(#clip290)\" style=\"stroke:#000000; stroke-linecap:butt; stroke-linejoin:round; stroke-width:4; stroke-opacity:1; fill:none\" points=\"\n",
       "  1621.47,1423.18 1621.47,1404.28 \n",
       "  \"/>\n",
       "<polyline clip-path=\"url(#clip290)\" style=\"stroke:#000000; stroke-linecap:butt; stroke-linejoin:round; stroke-width:4; stroke-opacity:1; fill:none\" points=\"\n",
       "  2292.37,1423.18 2292.37,1404.28 \n",
       "  \"/>\n",
       "<path clip-path=\"url(#clip290)\" d=\"M279.669 1454.1 Q276.058 1454.1 274.229 1457.66 Q272.423 1461.2 272.423 1468.33 Q272.423 1475.44 274.229 1479.01 Q276.058 1482.55 279.669 1482.55 Q283.303 1482.55 285.109 1479.01 Q286.937 1475.44 286.937 1468.33 Q286.937 1461.2 285.109 1457.66 Q283.303 1454.1 279.669 1454.1 M279.669 1450.39 Q285.479 1450.39 288.534 1455 Q291.613 1459.58 291.613 1468.33 Q291.613 1477.06 288.534 1481.67 Q285.479 1486.25 279.669 1486.25 Q273.859 1486.25 270.78 1481.67 Q267.724 1477.06 267.724 1468.33 Q267.724 1459.58 270.78 1455 Q273.859 1450.39 279.669 1450.39 Z\" fill=\"#000000\" fill-rule=\"evenodd\" fill-opacity=\"1\" /><path clip-path=\"url(#clip290)\" d=\"M940.849 1451.02 L959.205 1451.02 L959.205 1454.96 L945.131 1454.96 L945.131 1463.43 Q946.149 1463.08 947.168 1462.92 Q948.186 1462.73 949.205 1462.73 Q954.992 1462.73 958.372 1465.9 Q961.751 1469.08 961.751 1474.49 Q961.751 1480.07 958.279 1483.17 Q954.807 1486.25 948.487 1486.25 Q946.312 1486.25 944.043 1485.88 Q941.798 1485.51 939.39 1484.77 L939.39 1480.07 Q941.474 1481.2 943.696 1481.76 Q945.918 1482.32 948.395 1482.32 Q952.399 1482.32 954.737 1480.21 Q957.075 1478.1 957.075 1474.49 Q957.075 1470.88 954.737 1468.77 Q952.399 1466.67 948.395 1466.67 Q946.52 1466.67 944.645 1467.08 Q942.793 1467.5 940.849 1468.38 L940.849 1451.02 Z\" fill=\"#000000\" fill-rule=\"evenodd\" fill-opacity=\"1\" /><path clip-path=\"url(#clip290)\" d=\"M1596.16 1481.64 L1603.8 1481.64 L1603.8 1455.28 L1595.49 1456.95 L1595.49 1452.69 L1603.75 1451.02 L1608.43 1451.02 L1608.43 1481.64 L1616.07 1481.64 L1616.07 1485.58 L1596.16 1485.58 L1596.16 1481.64 Z\" fill=\"#000000\" fill-rule=\"evenodd\" fill-opacity=\"1\" /><path clip-path=\"url(#clip290)\" d=\"M1635.51 1454.1 Q1631.9 1454.1 1630.07 1457.66 Q1628.27 1461.2 1628.27 1468.33 Q1628.27 1475.44 1630.07 1479.01 Q1631.9 1482.55 1635.51 1482.55 Q1639.15 1482.55 1640.95 1479.01 Q1642.78 1475.44 1642.78 1468.33 Q1642.78 1461.2 1640.95 1457.66 Q1639.15 1454.1 1635.51 1454.1 M1635.51 1450.39 Q1641.32 1450.39 1644.38 1455 Q1647.46 1459.58 1647.46 1468.33 Q1647.46 1477.06 1644.38 1481.67 Q1641.32 1486.25 1635.51 1486.25 Q1629.7 1486.25 1626.62 1481.67 Q1623.57 1477.06 1623.57 1468.33 Q1623.57 1459.58 1626.62 1455 Q1629.7 1450.39 1635.51 1450.39 Z\" fill=\"#000000\" fill-rule=\"evenodd\" fill-opacity=\"1\" /><path clip-path=\"url(#clip290)\" d=\"M2267.56 1481.64 L2275.2 1481.64 L2275.2 1455.28 L2266.89 1456.95 L2266.89 1452.69 L2275.15 1451.02 L2279.83 1451.02 L2279.83 1481.64 L2287.47 1481.64 L2287.47 1485.58 L2267.56 1485.58 L2267.56 1481.64 Z\" fill=\"#000000\" fill-rule=\"evenodd\" fill-opacity=\"1\" /><path clip-path=\"url(#clip290)\" d=\"M2296.96 1451.02 L2315.31 1451.02 L2315.31 1454.96 L2301.24 1454.96 L2301.24 1463.43 Q2302.26 1463.08 2303.28 1462.92 Q2304.3 1462.73 2305.31 1462.73 Q2311.1 1462.73 2314.48 1465.9 Q2317.86 1469.08 2317.86 1474.49 Q2317.86 1480.07 2314.39 1483.17 Q2310.92 1486.25 2304.6 1486.25 Q2302.42 1486.25 2300.15 1485.88 Q2297.91 1485.51 2295.5 1484.77 L2295.5 1480.07 Q2297.58 1481.2 2299.81 1481.76 Q2302.03 1482.32 2304.5 1482.32 Q2308.51 1482.32 2310.85 1480.21 Q2313.18 1478.1 2313.18 1474.49 Q2313.18 1470.88 2310.85 1468.77 Q2308.51 1466.67 2304.5 1466.67 Q2302.63 1466.67 2300.75 1467.08 Q2298.9 1467.5 2296.96 1468.38 L2296.96 1451.02 Z\" fill=\"#000000\" fill-rule=\"evenodd\" fill-opacity=\"1\" /><path clip-path=\"url(#clip290)\" d=\"M1248.97 1578.54 Q1248.97 1578.28 1249.84 1576.6 Q1250.71 1574.9 1253.77 1568.81 Q1256.83 1562.69 1259.98 1556.28 L1271.35 1533.41 Q1272.16 1531.97 1273.19 1531.97 Q1274.12 1531.97 1274.54 1532.55 Q1274.96 1533.13 1276.89 1537.02 Q1277.89 1538.92 1278.47 1540.15 L1297.11 1577.47 Q1297.44 1578.28 1297.47 1578.54 Q1297.47 1579.18 1296.34 1579.18 L1250.71 1579.18 Q1248.97 1579.18 1248.97 1578.54 M1253.32 1574.16 L1288.81 1574.16 L1271.06 1538.54 L1253.32 1574.16 Z\" fill=\"#000000\" fill-rule=\"evenodd\" fill-opacity=\"1\" /><path clip-path=\"url(#clip290)\" d=\"M1317.72 1534.12 L1308.22 1572.26 Q1307.84 1573.77 1307.84 1575.41 Q1307.84 1578.44 1309.83 1578.44 Q1310.77 1578.44 1311.54 1577.83 Q1312.31 1577.18 1312.89 1575.93 Q1313.51 1574.64 1313.89 1573.41 Q1314.31 1572.19 1314.83 1570.29 Q1314.99 1569.55 1315.15 1569.32 Q1315.31 1569.1 1315.76 1569.1 Q1316.56 1569.1 1316.56 1569.74 Q1315.76 1573.7 1314.57 1576.22 Q1312.83 1579.92 1309.61 1579.92 Q1307.19 1579.92 1305.39 1578.25 Q1303.62 1576.54 1303.62 1573.83 Q1303.62 1572.8 1303.94 1571.58 L1312.25 1538.6 L1312.47 1537.31 Q1312.47 1536.96 1312.35 1536.76 Q1312.22 1536.57 1311.44 1536.38 Q1310.7 1536.18 1309.22 1536.18 Q1308.61 1536.18 1308.32 1536.15 Q1308.06 1536.12 1307.8 1535.96 Q1307.58 1535.8 1307.58 1535.44 Q1307.58 1534.86 1307.8 1534.54 Q1308.06 1534.22 1308.26 1534.16 Q1308.45 1534.09 1308.84 1534.06 Q1309.38 1534.03 1311.22 1533.87 Q1313.05 1533.67 1314.63 1533.54 Q1316.21 1533.41 1316.89 1533.41 Q1317.27 1533.41 1317.47 1533.61 Q1317.69 1533.77 1317.72 1533.96 L1317.72 1534.12 Z\" fill=\"#000000\" fill-rule=\"evenodd\" fill-opacity=\"1\" /><polyline clip-path=\"url(#clip292)\" style=\"stroke:#000000; stroke-linecap:butt; stroke-linejoin:round; stroke-width:2; stroke-opacity:0.1; fill:none\" points=\"\n",
       "  219.288,1416.2 2352.76,1416.2 \n",
       "  \"/>\n",
       "<polyline clip-path=\"url(#clip292)\" style=\"stroke:#000000; stroke-linecap:butt; stroke-linejoin:round; stroke-width:2; stroke-opacity:0.1; fill:none\" points=\"\n",
       "  219.288,1253.83 2352.76,1253.83 \n",
       "  \"/>\n",
       "<polyline clip-path=\"url(#clip292)\" style=\"stroke:#000000; stroke-linecap:butt; stroke-linejoin:round; stroke-width:2; stroke-opacity:0.1; fill:none\" points=\"\n",
       "  219.288,1091.46 2352.76,1091.46 \n",
       "  \"/>\n",
       "<polyline clip-path=\"url(#clip292)\" style=\"stroke:#000000; stroke-linecap:butt; stroke-linejoin:round; stroke-width:2; stroke-opacity:0.1; fill:none\" points=\"\n",
       "  219.288,929.095 2352.76,929.095 \n",
       "  \"/>\n",
       "<polyline clip-path=\"url(#clip292)\" style=\"stroke:#000000; stroke-linecap:butt; stroke-linejoin:round; stroke-width:2; stroke-opacity:0.1; fill:none\" points=\"\n",
       "  219.288,766.728 2352.76,766.728 \n",
       "  \"/>\n",
       "<polyline clip-path=\"url(#clip292)\" style=\"stroke:#000000; stroke-linecap:butt; stroke-linejoin:round; stroke-width:2; stroke-opacity:0.1; fill:none\" points=\"\n",
       "  219.288,604.362 2352.76,604.362 \n",
       "  \"/>\n",
       "<polyline clip-path=\"url(#clip292)\" style=\"stroke:#000000; stroke-linecap:butt; stroke-linejoin:round; stroke-width:2; stroke-opacity:0.1; fill:none\" points=\"\n",
       "  219.288,441.995 2352.76,441.995 \n",
       "  \"/>\n",
       "<polyline clip-path=\"url(#clip292)\" style=\"stroke:#000000; stroke-linecap:butt; stroke-linejoin:round; stroke-width:2; stroke-opacity:0.1; fill:none\" points=\"\n",
       "  219.288,279.628 2352.76,279.628 \n",
       "  \"/>\n",
       "<polyline clip-path=\"url(#clip290)\" style=\"stroke:#000000; stroke-linecap:butt; stroke-linejoin:round; stroke-width:4; stroke-opacity:1; fill:none\" points=\"\n",
       "  219.288,1423.18 219.288,154.586 \n",
       "  \"/>\n",
       "<polyline clip-path=\"url(#clip290)\" style=\"stroke:#000000; stroke-linecap:butt; stroke-linejoin:round; stroke-width:4; stroke-opacity:1; fill:none\" points=\"\n",
       "  219.288,1416.2 238.185,1416.2 \n",
       "  \"/>\n",
       "<polyline clip-path=\"url(#clip290)\" style=\"stroke:#000000; stroke-linecap:butt; stroke-linejoin:round; stroke-width:4; stroke-opacity:1; fill:none\" points=\"\n",
       "  219.288,1253.83 238.185,1253.83 \n",
       "  \"/>\n",
       "<polyline clip-path=\"url(#clip290)\" style=\"stroke:#000000; stroke-linecap:butt; stroke-linejoin:round; stroke-width:4; stroke-opacity:1; fill:none\" points=\"\n",
       "  219.288,1091.46 238.185,1091.46 \n",
       "  \"/>\n",
       "<polyline clip-path=\"url(#clip290)\" style=\"stroke:#000000; stroke-linecap:butt; stroke-linejoin:round; stroke-width:4; stroke-opacity:1; fill:none\" points=\"\n",
       "  219.288,929.095 238.185,929.095 \n",
       "  \"/>\n",
       "<polyline clip-path=\"url(#clip290)\" style=\"stroke:#000000; stroke-linecap:butt; stroke-linejoin:round; stroke-width:4; stroke-opacity:1; fill:none\" points=\"\n",
       "  219.288,766.728 238.185,766.728 \n",
       "  \"/>\n",
       "<polyline clip-path=\"url(#clip290)\" style=\"stroke:#000000; stroke-linecap:butt; stroke-linejoin:round; stroke-width:4; stroke-opacity:1; fill:none\" points=\"\n",
       "  219.288,604.362 238.185,604.362 \n",
       "  \"/>\n",
       "<polyline clip-path=\"url(#clip290)\" style=\"stroke:#000000; stroke-linecap:butt; stroke-linejoin:round; stroke-width:4; stroke-opacity:1; fill:none\" points=\"\n",
       "  219.288,441.995 238.185,441.995 \n",
       "  \"/>\n",
       "<polyline clip-path=\"url(#clip290)\" style=\"stroke:#000000; stroke-linecap:butt; stroke-linejoin:round; stroke-width:4; stroke-opacity:1; fill:none\" points=\"\n",
       "  219.288,279.628 238.185,279.628 \n",
       "  \"/>\n",
       "<path clip-path=\"url(#clip290)\" d=\"M127.015 1401.99 Q123.404 1401.99 121.575 1405.56 Q119.769 1409.1 119.769 1416.23 Q119.769 1423.34 121.575 1426.9 Q123.404 1430.44 127.015 1430.44 Q130.649 1430.44 132.455 1426.9 Q134.283 1423.34 134.283 1416.23 Q134.283 1409.1 132.455 1405.56 Q130.649 1401.99 127.015 1401.99 M127.015 1398.29 Q132.825 1398.29 135.88 1402.9 Q138.959 1407.48 138.959 1416.23 Q138.959 1424.96 135.88 1429.56 Q132.825 1434.15 127.015 1434.15 Q121.205 1434.15 118.126 1429.56 Q115.07 1424.96 115.07 1416.23 Q115.07 1407.48 118.126 1402.9 Q121.205 1398.29 127.015 1398.29 Z\" fill=\"#000000\" fill-rule=\"evenodd\" fill-opacity=\"1\" /><path clip-path=\"url(#clip290)\" d=\"M147.177 1427.6 L152.061 1427.6 L152.061 1433.48 L147.177 1433.48 L147.177 1427.6 Z\" fill=\"#000000\" fill-rule=\"evenodd\" fill-opacity=\"1\" /><path clip-path=\"url(#clip290)\" d=\"M161.065 1398.92 L183.288 1398.92 L183.288 1400.91 L170.741 1433.48 L165.857 1433.48 L177.663 1402.85 L161.065 1402.85 L161.065 1398.92 Z\" fill=\"#000000\" fill-rule=\"evenodd\" fill-opacity=\"1\" /><path clip-path=\"url(#clip290)\" d=\"M126.205 1239.63 Q122.593 1239.63 120.765 1243.19 Q118.959 1246.73 118.959 1253.86 Q118.959 1260.97 120.765 1264.53 Q122.593 1268.08 126.205 1268.08 Q129.839 1268.08 131.644 1264.53 Q133.473 1260.97 133.473 1253.86 Q133.473 1246.73 131.644 1243.19 Q129.839 1239.63 126.205 1239.63 M126.205 1235.92 Q132.015 1235.92 135.07 1240.53 Q138.149 1245.11 138.149 1253.86 Q138.149 1262.59 135.07 1267.2 Q132.015 1271.78 126.205 1271.78 Q120.394 1271.78 117.316 1267.2 Q114.26 1262.59 114.26 1253.86 Q114.26 1245.11 117.316 1240.53 Q120.394 1235.92 126.205 1235.92 Z\" fill=\"#000000\" fill-rule=\"evenodd\" fill-opacity=\"1\" /><path clip-path=\"url(#clip290)\" d=\"M146.366 1265.23 L151.251 1265.23 L151.251 1271.11 L146.366 1271.11 L146.366 1265.23 Z\" fill=\"#000000\" fill-rule=\"evenodd\" fill-opacity=\"1\" /><path clip-path=\"url(#clip290)\" d=\"M171.436 1254.7 Q168.102 1254.7 166.181 1256.48 Q164.283 1258.26 164.283 1261.39 Q164.283 1264.51 166.181 1266.29 Q168.102 1268.08 171.436 1268.08 Q174.769 1268.08 176.69 1266.29 Q178.612 1264.49 178.612 1261.39 Q178.612 1258.26 176.69 1256.48 Q174.792 1254.7 171.436 1254.7 M166.76 1252.71 Q163.751 1251.97 162.061 1249.91 Q160.394 1247.85 160.394 1244.88 Q160.394 1240.74 163.334 1238.33 Q166.297 1235.92 171.436 1235.92 Q176.598 1235.92 179.538 1238.33 Q182.477 1240.74 182.477 1244.88 Q182.477 1247.85 180.788 1249.91 Q179.121 1251.97 176.135 1252.71 Q179.514 1253.49 181.389 1255.78 Q183.288 1258.08 183.288 1261.39 Q183.288 1266.41 180.209 1269.09 Q177.153 1271.78 171.436 1271.78 Q165.718 1271.78 162.64 1269.09 Q159.584 1266.41 159.584 1261.39 Q159.584 1258.08 161.482 1255.78 Q163.38 1253.49 166.76 1252.71 M165.047 1245.32 Q165.047 1248.01 166.714 1249.51 Q168.403 1251.02 171.436 1251.02 Q174.445 1251.02 176.135 1249.51 Q177.848 1248.01 177.848 1245.32 Q177.848 1242.64 176.135 1241.13 Q174.445 1239.63 171.436 1239.63 Q168.403 1239.63 166.714 1241.13 Q165.047 1242.64 165.047 1245.32 Z\" fill=\"#000000\" fill-rule=\"evenodd\" fill-opacity=\"1\" /><path clip-path=\"url(#clip290)\" d=\"M126.297 1077.26 Q122.686 1077.26 120.857 1080.83 Q119.052 1084.37 119.052 1091.5 Q119.052 1098.6 120.857 1102.17 Q122.686 1105.71 126.297 1105.71 Q129.931 1105.71 131.737 1102.17 Q133.566 1098.6 133.566 1091.5 Q133.566 1084.37 131.737 1080.83 Q129.931 1077.26 126.297 1077.26 M126.297 1073.56 Q132.107 1073.56 135.163 1078.16 Q138.242 1082.75 138.242 1091.5 Q138.242 1100.22 135.163 1104.83 Q132.107 1109.41 126.297 1109.41 Q120.487 1109.41 117.408 1104.83 Q114.353 1100.22 114.353 1091.5 Q114.353 1082.75 117.408 1078.16 Q120.487 1073.56 126.297 1073.56 Z\" fill=\"#000000\" fill-rule=\"evenodd\" fill-opacity=\"1\" /><path clip-path=\"url(#clip290)\" d=\"M146.459 1102.86 L151.343 1102.86 L151.343 1108.74 L146.459 1108.74 L146.459 1102.86 Z\" fill=\"#000000\" fill-rule=\"evenodd\" fill-opacity=\"1\" /><path clip-path=\"url(#clip290)\" d=\"M161.667 1108.02 L161.667 1103.77 Q163.427 1104.6 165.232 1105.04 Q167.038 1105.48 168.774 1105.48 Q173.403 1105.48 175.834 1102.38 Q178.288 1099.25 178.635 1092.91 Q177.292 1094.9 175.232 1095.96 Q173.172 1097.03 170.672 1097.03 Q165.487 1097.03 162.454 1093.9 Q159.445 1090.76 159.445 1085.32 Q159.445 1079.99 162.593 1076.77 Q165.741 1073.56 170.973 1073.56 Q176.968 1073.56 180.116 1078.16 Q183.288 1082.75 183.288 1091.5 Q183.288 1099.67 179.399 1104.55 Q175.533 1109.41 168.982 1109.41 Q167.223 1109.41 165.417 1109.07 Q163.612 1108.72 161.667 1108.02 M170.973 1093.37 Q174.121 1093.37 175.95 1091.22 Q177.801 1089.07 177.801 1085.32 Q177.801 1081.59 175.95 1079.44 Q174.121 1077.26 170.973 1077.26 Q167.825 1077.26 165.973 1079.44 Q164.144 1081.59 164.144 1085.32 Q164.144 1089.07 165.973 1091.22 Q167.825 1093.37 170.973 1093.37 Z\" fill=\"#000000\" fill-rule=\"evenodd\" fill-opacity=\"1\" /><path clip-path=\"url(#clip290)\" d=\"M116.922 942.44 L124.561 942.44 L124.561 916.074 L116.251 917.741 L116.251 913.482 L124.515 911.815 L129.191 911.815 L129.191 942.44 L136.829 942.44 L136.829 946.375 L116.922 946.375 L116.922 942.44 Z\" fill=\"#000000\" fill-rule=\"evenodd\" fill-opacity=\"1\" /><path clip-path=\"url(#clip290)\" d=\"M146.274 940.496 L151.158 940.496 L151.158 946.375 L146.274 946.375 L146.274 940.496 Z\" fill=\"#000000\" fill-rule=\"evenodd\" fill-opacity=\"1\" /><path clip-path=\"url(#clip290)\" d=\"M171.343 914.894 Q167.732 914.894 165.903 918.459 Q164.098 922 164.098 929.13 Q164.098 936.236 165.903 939.801 Q167.732 943.343 171.343 943.343 Q174.977 943.343 176.783 939.801 Q178.612 936.236 178.612 929.13 Q178.612 922 176.783 918.459 Q174.977 914.894 171.343 914.894 M171.343 911.19 Q177.153 911.19 180.209 915.797 Q183.288 920.38 183.288 929.13 Q183.288 937.857 180.209 942.463 Q177.153 947.047 171.343 947.047 Q165.533 947.047 162.454 942.463 Q159.399 937.857 159.399 929.13 Q159.399 920.38 162.454 915.797 Q165.533 911.19 171.343 911.19 Z\" fill=\"#000000\" fill-rule=\"evenodd\" fill-opacity=\"1\" /><path clip-path=\"url(#clip290)\" d=\"M118.149 780.073 L125.788 780.073 L125.788 753.708 L117.478 755.374 L117.478 751.115 L125.742 749.448 L130.417 749.448 L130.417 780.073 L138.056 780.073 L138.056 784.008 L118.149 784.008 L118.149 780.073 Z\" fill=\"#000000\" fill-rule=\"evenodd\" fill-opacity=\"1\" /><path clip-path=\"url(#clip290)\" d=\"M147.501 778.129 L152.385 778.129 L152.385 784.008 L147.501 784.008 L147.501 778.129 Z\" fill=\"#000000\" fill-rule=\"evenodd\" fill-opacity=\"1\" /><path clip-path=\"url(#clip290)\" d=\"M163.38 780.073 L171.019 780.073 L171.019 753.708 L162.709 755.374 L162.709 751.115 L170.973 749.448 L175.649 749.448 L175.649 780.073 L183.288 780.073 L183.288 784.008 L163.38 784.008 L163.38 780.073 Z\" fill=\"#000000\" fill-rule=\"evenodd\" fill-opacity=\"1\" /><path clip-path=\"url(#clip290)\" d=\"M118.519 617.707 L126.158 617.707 L126.158 591.341 L117.848 593.008 L117.848 588.748 L126.112 587.082 L130.788 587.082 L130.788 617.707 L138.427 617.707 L138.427 621.642 L118.519 621.642 L118.519 617.707 Z\" fill=\"#000000\" fill-rule=\"evenodd\" fill-opacity=\"1\" /><path clip-path=\"url(#clip290)\" d=\"M147.871 615.762 L152.755 615.762 L152.755 621.642 L147.871 621.642 L147.871 615.762 Z\" fill=\"#000000\" fill-rule=\"evenodd\" fill-opacity=\"1\" /><path clip-path=\"url(#clip290)\" d=\"M166.968 617.707 L183.288 617.707 L183.288 621.642 L161.343 621.642 L161.343 617.707 Q164.005 614.952 168.589 610.322 Q173.195 605.67 174.376 604.327 Q176.621 601.804 177.501 600.068 Q178.403 598.308 178.403 596.619 Q178.403 593.864 176.459 592.128 Q174.538 590.392 171.436 590.392 Q169.237 590.392 166.783 591.156 Q164.352 591.92 161.575 593.471 L161.575 588.748 Q164.399 587.614 166.852 587.035 Q169.306 586.457 171.343 586.457 Q176.714 586.457 179.908 589.142 Q183.102 591.827 183.102 596.318 Q183.102 598.447 182.292 600.369 Q181.505 602.267 179.399 604.859 Q178.82 605.531 175.718 608.748 Q172.616 611.943 166.968 617.707 Z\" fill=\"#000000\" fill-rule=\"evenodd\" fill-opacity=\"1\" /><path clip-path=\"url(#clip290)\" d=\"M117.57 455.34 L125.209 455.34 L125.209 428.974 L116.899 430.641 L116.899 426.382 L125.163 424.715 L129.839 424.715 L129.839 455.34 L137.478 455.34 L137.478 459.275 L117.57 459.275 L117.57 455.34 Z\" fill=\"#000000\" fill-rule=\"evenodd\" fill-opacity=\"1\" /><path clip-path=\"url(#clip290)\" d=\"M146.922 453.395 L151.806 453.395 L151.806 459.275 L146.922 459.275 L146.922 453.395 Z\" fill=\"#000000\" fill-rule=\"evenodd\" fill-opacity=\"1\" /><path clip-path=\"url(#clip290)\" d=\"M176.158 440.641 Q179.514 441.358 181.389 443.627 Q183.288 445.895 183.288 449.229 Q183.288 454.344 179.769 457.145 Q176.251 459.946 169.769 459.946 Q167.593 459.946 165.278 459.506 Q162.987 459.09 160.533 458.233 L160.533 453.719 Q162.477 454.854 164.792 455.432 Q167.107 456.011 169.63 456.011 Q174.028 456.011 176.32 454.275 Q178.635 452.539 178.635 449.229 Q178.635 446.173 176.482 444.46 Q174.352 442.724 170.533 442.724 L166.505 442.724 L166.505 438.881 L170.718 438.881 Q174.167 438.881 175.996 437.516 Q177.825 436.127 177.825 433.534 Q177.825 430.872 175.926 429.46 Q174.052 428.025 170.533 428.025 Q168.612 428.025 166.413 428.442 Q164.214 428.858 161.575 429.738 L161.575 425.571 Q164.237 424.831 166.552 424.46 Q168.889 424.09 170.95 424.09 Q176.274 424.09 179.376 426.52 Q182.477 428.928 182.477 433.048 Q182.477 435.919 180.834 437.909 Q179.19 439.877 176.158 440.641 Z\" fill=\"#000000\" fill-rule=\"evenodd\" fill-opacity=\"1\" /><path clip-path=\"url(#clip290)\" d=\"M116.436 292.973 L124.075 292.973 L124.075 266.607 L115.765 268.274 L115.765 264.015 L124.029 262.348 L128.705 262.348 L128.705 292.973 L136.343 292.973 L136.343 296.908 L116.436 296.908 L116.436 292.973 Z\" fill=\"#000000\" fill-rule=\"evenodd\" fill-opacity=\"1\" /><path clip-path=\"url(#clip290)\" d=\"M145.788 291.028 L150.672 291.028 L150.672 296.908 L145.788 296.908 L145.788 291.028 Z\" fill=\"#000000\" fill-rule=\"evenodd\" fill-opacity=\"1\" /><path clip-path=\"url(#clip290)\" d=\"M173.704 266.422 L161.899 284.871 L173.704 284.871 L173.704 266.422 M172.477 262.348 L178.357 262.348 L178.357 284.871 L183.288 284.871 L183.288 288.76 L178.357 288.76 L178.357 296.908 L173.704 296.908 L173.704 288.76 L158.103 288.76 L158.103 284.246 L172.477 262.348 Z\" fill=\"#000000\" fill-rule=\"evenodd\" fill-opacity=\"1\" /><path clip-path=\"url(#clip290)\" d=\"M67.1397 844.573 Q67.7516 844.573 68.0736 844.831 Q68.3635 845.056 68.4279 845.281 Q68.4601 845.475 68.4601 845.765 Q68.4601 846.602 68.3635 849.5 Q68.2669 852.399 68.2669 853.236 Q68.2669 854.589 68.3635 857.359 Q68.4601 860.128 68.4601 861.481 Q68.4601 862.383 67.7194 862.383 Q67.2363 862.383 66.9786 862.286 Q66.6888 862.19 66.5922 861.932 Q66.4633 861.642 66.4633 861.481 Q66.4311 861.288 66.4311 860.805 Q66.4311 860.161 66.3667 859.484 Q66.2701 858.808 66.0769 857.971 Q65.8836 857.133 65.4005 856.618 Q64.9175 856.07 64.2411 856.07 Q63.9513 856.07 61.568 856.296 Q59.1848 856.521 56.4151 856.811 Q53.6132 857.101 53.2267 857.133 L53.2267 873.687 Q55.8354 875.201 57.6389 876.264 Q59.4425 877.326 60.0544 877.713 Q60.6663 878.099 61.0527 878.325 Q61.4392 878.55 61.6647 878.679 Q63.3716 879.613 64.1123 879.613 Q66.1735 879.613 66.4311 876.521 Q66.4311 875.458 67.2041 875.458 Q67.7838 875.458 68.1058 875.716 Q68.3957 875.974 68.4279 876.199 Q68.4601 876.392 68.4601 876.714 Q68.4601 877.777 68.3635 879.999 Q68.2669 882.222 68.2669 883.317 Q68.2669 884.251 68.3635 886.183 Q68.4601 888.115 68.4601 888.985 Q68.4601 889.371 68.2347 889.597 Q68.0092 889.822 67.7194 889.822 Q67.2685 889.822 67.0108 889.758 Q66.7532 889.661 66.6244 889.404 Q66.4955 889.146 66.4955 889.017 Q66.4633 888.888 66.4311 888.437 Q66.2701 885.99 65.1107 884.09 Q63.9191 882.157 60.8595 880.321 L22.3413 857.391 Q21.9548 857.165 21.7616 857.004 Q21.5684 856.843 21.4073 856.521 Q21.2463 856.167 21.2463 855.652 Q21.2463 854.847 21.5039 854.686 Q21.7294 854.525 22.8244 854.428 L64.0479 850.402 Q64.9175 850.306 65.2717 850.241 Q65.5938 850.145 65.948 849.726 Q66.2701 849.275 66.3667 848.47 Q66.4311 847.633 66.4311 846.087 Q66.4311 845.507 66.4633 845.281 Q66.4633 845.056 66.6244 844.831 Q66.7854 844.573 67.1397 844.573 M51.1655 857.326 L29.4266 859.42 L51.1655 872.431 L51.1655 857.326 Z\" fill=\"#000000\" fill-rule=\"evenodd\" fill-opacity=\"1\" /><path clip-path=\"url(#clip290)\" d=\"M63.409 817.703 Q63.9951 817.703 65.1449 817.86 Q66.2946 818.018 67.9629 818.401 Q69.6312 818.785 71.3896 819.348 Q73.148 819.889 74.9065 820.746 Q76.6424 821.603 78.0176 822.617 Q79.3928 823.632 80.2494 825.052 Q81.1061 826.472 81.1061 828.073 Q81.1061 828.817 80.9934 829.538 Q80.8807 830.26 80.52 831.161 Q80.1593 832.063 79.5731 832.717 Q78.9644 833.371 77.8823 833.822 Q76.8002 834.272 75.3799 834.272 Q73.9145 834.272 71.9532 833.731 Q69.9693 833.168 65.9114 831.635 Q63.8148 830.846 62.665 830.846 Q62.1465 830.846 61.8309 830.958 Q61.4927 831.071 61.38 831.297 Q61.2448 831.522 61.2222 831.657 Q61.1997 831.77 61.1997 831.995 Q61.1997 833.235 62.4847 834.498 Q63.7697 835.76 66.9259 836.662 Q67.4895 836.842 67.6247 836.955 Q67.76 837.068 67.76 837.406 Q67.7375 837.97 67.2866 837.97 Q67.1513 837.97 66.6328 837.812 Q66.0917 837.654 65.2801 837.361 Q64.446 837.068 63.5893 836.549 Q62.7101 836.031 61.9436 835.4 Q61.1771 834.746 60.6812 833.822 Q60.1852 832.897 60.1852 831.86 Q60.1852 830.169 61.2898 829.132 Q62.372 828.073 63.9726 828.073 Q64.8518 828.073 66.2721 828.636 Q68.8421 829.583 70.082 830.012 Q71.322 830.44 73.0804 830.891 Q74.8388 831.319 76.0562 831.319 Q77.9048 831.319 78.987 830.462 Q80.0691 829.606 80.0691 827.892 Q80.0691 826.359 78.9644 824.984 Q77.8372 823.587 76.2366 822.662 Q74.6134 821.738 72.8099 821.039 Q70.9838 820.34 69.6086 820.025 Q68.2109 819.686 67.5571 819.686 Q65.2801 819.686 63.7922 821.242 Q63.3639 821.67 63.0934 821.828 Q62.8228 821.986 62.3945 821.986 Q61.6055 821.986 60.9066 821.287 Q60.1852 820.566 60.1852 819.732 Q60.1852 818.965 60.9517 818.334 Q61.7182 817.703 63.409 817.703 Z\" fill=\"#000000\" fill-rule=\"evenodd\" fill-opacity=\"1\" /><path clip-path=\"url(#clip290)\" d=\"M51.9707 810.859 Q40.8275 810.859 31.842 806.705 Q28.0739 804.933 24.9178 802.454 Q21.7616 799.974 20.3767 798.331 Q18.9919 796.689 18.9919 796.238 Q18.9919 795.594 19.636 795.562 Q19.9581 795.562 20.7632 796.431 Q31.5844 807.059 51.9707 807.027 Q72.4214 807.027 82.8239 796.689 Q83.9511 795.562 84.3054 795.562 Q84.9495 795.562 84.9495 796.238 Q84.9495 796.689 83.6291 798.267 Q82.3086 799.845 79.2813 802.293 Q76.2539 804.74 72.5502 806.512 Q63.5648 810.859 51.9707 810.859 Z\" fill=\"#000000\" fill-rule=\"evenodd\" fill-opacity=\"1\" /><path clip-path=\"url(#clip290)\" d=\"M67.816 789.492 Q67.5583 789.492 65.8836 788.622 Q64.1767 787.753 58.0898 784.693 Q51.9707 781.634 45.5617 778.478 L22.6956 767.109 Q21.2463 766.304 21.2463 765.273 Q21.2463 764.339 21.826 763.921 Q22.4057 763.502 26.3026 761.569 Q28.2028 760.571 29.4266 759.991 L66.7532 741.344 Q67.5583 741.022 67.816 740.99 Q68.4601 740.99 68.4601 742.117 L68.4601 787.753 Q68.4601 789.492 67.816 789.492 M63.436 785.144 L63.436 749.653 L27.8163 767.399 L63.436 785.144 Z\" fill=\"#000000\" fill-rule=\"evenodd\" fill-opacity=\"1\" /><path clip-path=\"url(#clip290)\" d=\"M23.4041 720.735 L61.5358 730.236 Q63.0495 730.622 64.692 730.622 Q67.7194 730.622 67.7194 728.625 Q67.7194 727.691 67.1074 726.918 Q66.4633 726.145 65.2073 725.566 Q63.9191 724.954 62.6952 724.567 Q61.4714 724.149 59.5713 723.633 Q58.8305 723.472 58.6051 723.311 Q58.3797 723.15 58.3797 722.699 Q58.3797 721.894 59.0238 721.894 Q62.9851 722.699 65.4972 723.891 Q69.2008 725.63 69.2008 728.851 Q69.2008 731.266 67.5261 733.07 Q65.8192 734.841 63.1139 734.841 Q62.0833 734.841 60.8595 734.519 L27.8807 726.21 L26.5925 725.984 Q26.2382 725.984 26.045 726.113 Q25.8517 726.242 25.6585 727.015 Q25.4653 727.756 25.4653 729.237 Q25.4653 729.849 25.4331 730.139 Q25.4009 730.397 25.2398 730.654 Q25.0788 730.88 24.7245 730.88 Q24.1448 730.88 23.8228 730.654 Q23.5007 730.397 23.4363 730.203 Q23.3719 730.01 23.3397 729.624 Q23.3075 729.076 23.1464 727.24 Q22.9532 725.405 22.8244 723.827 Q22.6956 722.249 22.6956 721.572 Q22.6956 721.186 22.8888 720.993 Q23.0498 720.767 23.2431 720.735 L23.4041 720.735 Z\" fill=\"#000000\" fill-rule=\"evenodd\" fill-opacity=\"1\" /><path clip-path=\"url(#clip290)\" d=\"M84.3054 713.271 Q83.9833 713.271 83.1782 712.434 Q72.357 701.806 51.9707 701.806 Q31.52 701.806 21.1819 712.015 Q19.9903 713.271 19.636 713.271 Q18.9919 713.271 18.9919 712.627 Q18.9919 712.176 20.3123 710.598 Q21.6328 708.988 24.6601 706.572 Q27.6875 704.124 31.3911 702.321 Q40.3766 697.973 51.9707 697.973 Q63.1139 697.973 72.0994 702.128 Q75.8674 703.899 79.0236 706.379 Q82.1798 708.859 83.5646 710.501 Q84.9495 712.144 84.9495 712.627 Q84.9495 713.271 84.3054 713.271 Z\" fill=\"#000000\" fill-rule=\"evenodd\" fill-opacity=\"1\" /><path clip-path=\"url(#clip290)\" d=\"M781.466 74.8979 Q781.466 60.7156 786.753 49.2796 Q789.008 44.4839 792.164 40.4669 Q795.32 36.45 797.41 34.6874 Q799.501 32.9249 800.075 32.9249 Q800.895 32.9249 800.936 33.7447 Q800.936 34.1546 799.829 35.1793 Q786.302 48.9517 786.343 74.8979 Q786.343 100.926 799.501 114.166 Q800.936 115.6 800.936 116.051 Q800.936 116.871 800.075 116.871 Q799.501 116.871 797.492 115.19 Q795.484 113.51 792.369 109.657 Q789.254 105.804 786.999 101.09 Q781.466 89.6541 781.466 74.8979 Z\" fill=\"#000000\" fill-rule=\"evenodd\" fill-opacity=\"1\" /><path clip-path=\"url(#clip290)\" d=\"M848.13 43.4182 Q848.13 45.0987 846.695 46.4924 Q845.261 47.886 843.58 47.886 Q842.186 47.886 841.326 47.0252 Q840.506 46.1644 840.506 44.8528 Q840.506 43.0493 841.94 41.7376 Q843.375 40.385 844.933 40.385 Q846.367 40.385 847.228 41.2867 Q848.13 42.1475 848.13 43.4182 M845.015 66.4951 Q845.015 67.9297 844.605 69.6103 L836.899 100.352 Q836.161 103.344 834.398 105.804 Q832.636 108.304 830.382 109.862 Q828.168 111.419 825.75 112.239 Q823.372 113.1 821.118 113.1 Q817.962 113.1 815.83 111.706 Q813.699 110.313 813.699 107.894 Q813.699 105.763 815.093 104.41 Q816.527 103.099 818.249 103.099 Q819.806 103.099 820.626 104 Q821.446 104.902 821.446 106.05 Q821.446 107.443 820.421 108.755 Q819.437 110.067 817.675 110.477 Q819.273 111.255 820.954 111.255 Q824.397 111.255 827.184 108.099 Q830.013 104.984 831.242 100.065 L839.153 68.7495 Q839.727 66.2492 839.727 64.4867 Q839.727 62.8471 839.276 61.9453 Q838.825 61.0436 838.292 60.8386 Q837.801 60.6337 837.063 60.6337 Q833.825 60.6337 831.037 63.6259 Q828.25 66.5771 826.488 70.881 Q825.996 72.0697 825.75 72.3156 Q825.545 72.5615 824.971 72.5615 Q823.946 72.5205 823.946 71.7008 Q823.946 71.4548 824.356 70.4711 Q824.766 69.4873 825.504 68.0527 Q826.242 66.5771 827.43 64.9785 Q828.619 63.3799 830.013 61.9863 Q831.447 60.5927 833.374 59.6909 Q835.3 58.7891 837.309 58.7891 Q840.547 58.7891 842.76 60.9206 Q845.015 63.011 845.015 66.4951 Z\" fill=\"#000000\" fill-rule=\"evenodd\" fill-opacity=\"1\" /><path clip-path=\"url(#clip290)\" d=\"M886.048 100.167 Q886.048 101.746 885.043 102.721 Q884.068 103.697 882.834 103.697 Q881.945 103.697 881.285 103.152 Q880.653 102.606 880.653 101.66 Q880.653 100.684 881.399 99.651 Q882.145 98.6181 883.838 98.4746 Q882.719 97.413 880.94 97.413 Q880.051 97.413 879.305 97.9869 Q878.588 98.532 878.186 99.4215 Q877.756 100.34 876.78 105.533 Q876.464 107.226 876.177 108.861 Q875.891 110.497 875.546 112.218 L880.424 112.218 Q881.055 112.218 881.313 112.247 Q881.572 112.276 881.772 112.419 Q882.002 112.563 882.002 112.878 Q882.002 113.682 881.629 113.883 Q881.285 114.055 880.252 114.055 L875.202 114.055 L871.673 132.676 Q871.587 133.221 871.214 134.943 Q870.869 136.636 870.037 139.419 Q869.205 142.231 868.373 143.895 Q867.914 144.842 867.311 145.731 Q866.738 146.649 865.906 147.567 Q865.073 148.486 863.983 149.031 Q862.893 149.605 861.745 149.605 Q859.794 149.605 858.273 148.514 Q856.753 147.424 856.753 145.559 Q856.753 143.981 857.728 143.005 Q858.732 142.03 859.966 142.03 Q860.856 142.03 861.487 142.575 Q862.147 143.12 862.147 144.067 Q862.147 144.469 862.003 144.928 Q861.86 145.387 861.544 145.903 Q861.229 146.448 860.54 146.821 Q859.851 147.194 858.905 147.252 Q860.024 148.313 861.745 148.313 Q862.29 148.313 862.778 148.084 Q863.266 147.883 863.668 147.367 Q864.098 146.85 864.414 146.334 Q864.729 145.846 865.045 144.899 Q865.36 143.981 865.561 143.292 Q865.762 142.604 866.02 141.37 Q866.307 140.136 866.451 139.39 Q866.594 138.673 866.852 137.267 L871.242 114.055 L867.369 114.055 Q866.68 114.055 866.393 114.026 Q866.135 113.997 865.934 113.854 Q865.733 113.682 865.733 113.337 Q865.733 112.792 865.963 112.563 Q866.221 112.304 866.508 112.276 Q866.795 112.218 867.484 112.218 L871.558 112.218 Q872.935 104.959 873.48 103.008 Q874.112 100.942 875.087 99.5076 Q876.063 98.0442 877.153 97.3556 Q878.243 96.667 879.133 96.4088 Q880.051 96.1219 880.94 96.1219 Q882.949 96.1219 884.498 97.2122 Q886.048 98.2738 886.048 100.167 Z\" fill=\"#000000\" fill-rule=\"evenodd\" fill-opacity=\"1\" /><path clip-path=\"url(#clip290)\" d=\"M918.009 83.1368 Q918.091 82.112 919.69 82.112 L971.131 82.112 Q973.55 82.112 973.591 83.0548 Q973.591 84.0795 971.295 84.0385 L920.264 84.0385 Q918.009 84.0795 918.009 83.1368 M918.009 66.7411 Q918.009 65.7163 919.772 65.7573 L971.05 65.7573 Q973.55 65.7573 973.591 66.7411 Q973.591 67.6838 971.459 67.6838 L919.69 67.6838 Q918.009 67.6838 918.009 66.7411 Z\" fill=\"#000000\" fill-rule=\"evenodd\" fill-opacity=\"1\" /><path clip-path=\"url(#clip290)\" d=\"M1005.97 47.968 L1005.97 45.3447 Q1016.05 45.3447 1021.26 39.9751 Q1022.69 39.9751 1022.94 40.303 Q1023.18 40.6309 1023.18 42.1475 L1023.18 89.2442 Q1023.18 91.7445 1024.41 92.5233 Q1025.64 93.3021 1031.01 93.3021 L1033.68 93.3021 L1033.68 95.8844 Q1030.73 95.6385 1020.07 95.6385 Q1009.41 95.6385 1006.5 95.8844 L1006.5 93.3021 L1009.17 93.3021 Q1014.45 93.3021 1015.72 92.5643 Q1017 91.7855 1017 89.2442 L1017 45.7546 Q1012.61 47.968 1005.97 47.968 Z\" fill=\"#000000\" fill-rule=\"evenodd\" fill-opacity=\"1\" /><path clip-path=\"url(#clip290)\" d=\"M1048.73 94.5318 Q1047.54 93.1791 1047.54 91.4166 Q1047.54 89.6541 1048.69 88.3424 Q1049.88 86.9898 1052.01 86.9898 Q1054.51 86.9898 1055.94 89.4081 Q1057.38 91.7855 1057.38 95.8025 Q1057.38 100.147 1055.61 104.164 Q1053.85 108.222 1052.13 110.149 Q1050.41 112.075 1049.71 112.075 Q1048.89 112.075 1048.89 111.173 Q1048.89 110.846 1049.47 110.231 Q1055.49 103.754 1055.53 95.8025 Q1055.53 94.5318 1055.37 94.5318 L1055.16 94.6957 Q1053.73 95.8844 1052.01 95.8844 Q1049.92 95.8844 1048.73 94.5318 Z\" fill=\"#000000\" fill-rule=\"evenodd\" fill-opacity=\"1\" /><path clip-path=\"url(#clip290)\" d=\"M1105.3 43.4182 Q1105.3 45.2217 1103.83 46.5743 Q1102.39 47.886 1100.84 47.886 Q1099.4 47.886 1098.5 47.0252 Q1097.64 46.1235 1097.64 44.8528 Q1097.64 43.1722 1099.07 41.7786 Q1100.51 40.385 1102.19 40.385 Q1103.58 40.385 1104.44 41.2457 Q1105.3 42.1065 1105.3 43.4182 M1106.04 83.8746 Q1106.04 84.2025 1105.67 85.5142 Q1105.3 86.7848 1104.4 88.7523 Q1103.54 90.6788 1102.35 92.4823 Q1101.16 94.2859 1099.2 95.5565 Q1097.27 96.8272 1095.06 96.8272 Q1092.06 96.8272 1090.1 94.8597 Q1088.17 92.8922 1088.17 89.941 Q1088.17 88.3424 1090.1 83.2188 Q1095.67 68.2987 1095.88 67.6838 Q1096.82 65.3474 1096.82 63.298 Q1096.82 62.3552 1096.61 61.7814 Q1096.41 61.1665 1096 60.9616 Q1095.59 60.7156 1095.34 60.6746 Q1095.14 60.6337 1094.73 60.6337 Q1092.31 60.6337 1090.06 63.093 Q1087.8 65.5524 1086.24 71.0449 Q1085.92 72.0697 1085.71 72.3156 Q1085.51 72.5615 1084.89 72.5615 Q1083.87 72.5205 1083.87 71.7008 Q1083.87 71.4548 1084.15 70.5121 Q1084.44 69.5283 1084.97 68.0527 Q1085.51 66.5361 1086.45 64.9785 Q1087.39 63.3799 1088.54 61.9863 Q1089.73 60.5927 1091.41 59.6909 Q1093.09 58.7891 1094.97 58.7891 Q1098.05 58.7891 1099.93 60.7976 Q1101.86 62.7651 1101.86 65.6753 Q1101.86 67.2739 1100.75 70.1022 Q1099.4 73.7912 1098.91 74.9799 L1095.63 83.7926 Q1094.44 86.9898 1094.07 87.9735 Q1093.74 88.9163 1093.46 90.064 Q1093.21 91.1707 1093.21 92.1954 Q1093.21 93.63 1093.66 94.2859 Q1094.15 94.9417 1095.22 94.9417 Q1098.17 94.9417 1100.34 92.0314 Q1102.52 89.0802 1103.79 84.5714 Q1103.83 84.4484 1103.87 84.2435 Q1104.2 83.2188 1104.53 83.0958 Q1104.69 83.0548 1105.02 83.0548 Q1106.04 83.0548 1106.04 83.8746 Z\" fill=\"#000000\" fill-rule=\"evenodd\" fill-opacity=\"1\" /><path clip-path=\"url(#clip290)\" d=\"M1137.13 105.45 Q1137.36 105.708 1137.36 105.967 Q1137.36 106.225 1136.79 106.971 Q1136.24 107.717 1135.07 108.721 Q1133.89 109.725 1132.37 110.672 Q1130.85 111.619 1128.61 112.25 Q1126.37 112.91 1124.02 112.91 Q1119.8 112.91 1117.28 109.898 Q1114.78 106.885 1114.78 102.265 Q1114.78 99.3101 1115.76 96.699 Q1116.73 94.0593 1118.31 92.1943 Q1119.92 90.3293 1121.92 88.9808 Q1123.96 87.6035 1126.08 86.9436 Q1128.21 86.2837 1130.19 86.2837 Q1133.09 86.2837 1134.78 87.747 Q1136.47 89.2103 1136.47 91.2762 Q1136.47 91.7639 1136.33 92.3665 Q1136.21 92.969 1135.81 93.9159 Q1135.44 94.8627 1134.46 95.8096 Q1133.49 96.7277 1132.05 97.3303 Q1128.87 98.6788 1123.07 98.6788 L1119.94 98.6788 Q1119.03 102.38 1119.03 104.79 Q1119.03 105.737 1119.2 106.713 Q1119.37 107.66 1119.83 108.865 Q1120.32 110.07 1121.41 110.844 Q1122.53 111.59 1124.13 111.59 Q1124.65 111.59 1125.19 111.562 Q1125.77 111.533 1127.2 111.217 Q1128.67 110.902 1129.96 110.357 Q1131.25 109.812 1132.88 108.635 Q1134.55 107.43 1135.87 105.795 Q1136.33 105.192 1136.64 105.192 Q1136.9 105.192 1137.13 105.45 M1134.52 91.2762 Q1134.52 89.6981 1133.34 88.6365 Q1132.2 87.5748 1130.19 87.5748 Q1129.56 87.5748 1128.78 87.7183 Q1128.01 87.8618 1126.72 88.4643 Q1125.45 89.0668 1124.33 90.0711 Q1123.22 91.0466 1122.1 92.969 Q1120.98 94.8627 1120.32 97.3877 L1122.73 97.3877 Q1123.56 97.3877 1124.16 97.3877 Q1124.76 97.359 1126.08 97.2442 Q1127.43 97.1294 1128.41 96.9286 Q1129.38 96.699 1130.62 96.24 Q1131.85 95.7809 1132.63 95.1783 Q1133.43 94.5471 1133.97 93.5429 Q1134.52 92.5386 1134.52 91.2762 Z\" fill=\"#000000\" fill-rule=\"evenodd\" fill-opacity=\"1\" /><path clip-path=\"url(#clip290)\" d=\"M1169.39 83.1368 Q1169.47 82.112 1171.07 82.112 L1222.51 82.112 Q1224.93 82.112 1224.97 83.0548 Q1224.97 84.0795 1222.67 84.0385 L1171.64 84.0385 Q1169.39 84.0795 1169.39 83.1368 M1169.39 66.7411 Q1169.39 65.7163 1171.15 65.7573 L1222.43 65.7573 Q1224.93 65.7573 1224.97 66.7411 Q1224.97 67.6838 1222.84 67.6838 L1171.07 67.6838 Q1169.39 67.6838 1169.39 66.7411 Z\" fill=\"#000000\" fill-rule=\"evenodd\" fill-opacity=\"1\" /><path clip-path=\"url(#clip290)\" d=\"M1257.35 69.0365 Q1257.35 56.6987 1260.46 49.9764 Q1264.81 39.9751 1275.05 39.9751 Q1277.23 39.9751 1279.48 40.5899 Q1281.78 41.1638 1284.65 43.4182 Q1287.56 45.6726 1289.32 49.3616 Q1292.68 56.4937 1292.68 69.0365 Q1292.68 81.2923 1289.56 87.9735 Q1285.01 97.729 1274.97 97.729 Q1271.2 97.729 1267.35 95.8025 Q1263.54 93.876 1261.12 89.2442 Q1257.35 82.317 1257.35 69.0365 M1264.31 68.0117 Q1264.31 80.6774 1265.22 85.7191 Q1266.24 91.1707 1269.03 93.548 Q1271.86 95.8844 1274.97 95.8844 Q1278.33 95.8844 1281.12 93.3841 Q1283.95 90.8428 1284.81 85.3912 Q1285.75 80.0216 1285.71 68.0117 Q1285.71 56.3298 1284.89 51.657 Q1283.78 46.2054 1280.83 44.033 Q1277.92 41.8196 1274.97 41.8196 Q1273.86 41.8196 1272.68 42.1475 Q1271.53 42.4754 1269.85 43.4182 Q1268.17 44.3609 1266.86 46.6973 Q1265.59 49.0337 1264.97 52.5588 Q1264.31 57.1086 1264.31 68.0117 Z\" fill=\"#000000\" fill-rule=\"evenodd\" fill-opacity=\"1\" /><path clip-path=\"url(#clip290)\" d=\"M1300.11 94.5318 Q1298.92 93.1791 1298.92 91.4166 Q1298.92 89.6541 1300.06 88.3424 Q1301.25 86.9898 1303.38 86.9898 Q1305.88 86.9898 1307.32 89.4081 Q1308.75 91.7855 1308.75 95.8025 Q1308.75 100.147 1306.99 104.164 Q1305.23 108.222 1303.51 110.149 Q1301.79 112.075 1301.09 112.075 Q1300.27 112.075 1300.27 111.173 Q1300.27 110.846 1300.84 110.231 Q1306.87 103.754 1306.91 95.8025 Q1306.91 94.5318 1306.75 94.5318 L1306.54 94.6957 Q1305.11 95.8844 1303.38 95.8844 Q1301.29 95.8844 1300.11 94.5318 Z\" fill=\"#000000\" fill-rule=\"evenodd\" fill-opacity=\"1\" /><path clip-path=\"url(#clip290)\" d=\"M1379.31 60.5517 Q1379.31 60.8796 1377.71 63.7488 Q1375.04 69.0365 1371.64 77.1113 Q1368.24 85.1862 1366.31 91.1707 Q1365.9 92.6053 1365.62 94.4498 Q1364.88 100.106 1362.5 108.878 Q1361.68 111.624 1361.15 112.772 Q1360.62 113.92 1359.84 113.92 Q1358.73 113.92 1358.73 112.403 Q1358.73 110.887 1360.12 105.23 Q1361.56 99.5735 1363.12 94.3678 Q1364.1 91.4986 1364.1 86.129 Q1364.1 84.4074 1364.02 82.8498 Q1363.94 81.2923 1363.61 79.0378 Q1363.28 76.7834 1362.75 74.9389 Q1362.21 73.0944 1361.19 71.1679 Q1360.16 69.2004 1358.77 67.8888 Q1357.38 66.5361 1355.25 65.6753 Q1353.16 64.8146 1350.53 64.8146 Q1349.88 64.8146 1349.06 64.8965 Q1348.28 64.9375 1346.39 65.4704 Q1344.55 66.0033 1342.99 66.946 Q1341.43 67.8478 1339.75 69.8562 Q1338.07 71.8647 1337.17 74.57 L1336.84 74.9799 Q1336.31 74.9799 1336.02 74.9799 Q1335.78 74.9389 1335.49 74.734 Q1335.24 74.529 1335.24 74.1601 Q1335.24 73.2993 1335.9 71.5778 Q1336.6 69.8562 1337.99 67.6428 Q1339.42 65.4294 1341.27 63.4619 Q1343.15 61.4944 1345.9 60.1418 Q1348.65 58.7891 1351.6 58.7891 Q1359.18 58.7891 1362.79 68.0117 Q1365.94 75.8407 1366.23 85.1452 Q1372.79 68.6266 1377.3 60.3057 Q1377.54 59.6909 1378.28 59.6909 Q1379.31 59.7319 1379.31 60.5517 Z\" fill=\"#000000\" fill-rule=\"evenodd\" fill-opacity=\"1\" /><path clip-path=\"url(#clip290)\" d=\"M1401.57 83.1368 Q1401.65 82.112 1403.25 82.112 L1454.69 82.112 Q1457.11 82.112 1457.15 83.0548 Q1457.15 84.0795 1454.85 84.0385 L1403.82 84.0385 Q1401.57 84.0795 1401.57 83.1368 M1401.57 66.7411 Q1401.57 65.7163 1403.33 65.7573 L1454.61 65.7573 Q1457.11 65.7573 1457.15 66.7411 Q1457.15 67.6838 1455.02 67.6838 L1403.25 67.6838 Q1401.57 67.6838 1401.57 66.7411 Z\" fill=\"#000000\" fill-rule=\"evenodd\" fill-opacity=\"1\" /><path clip-path=\"url(#clip290)\" d=\"M1489.53 47.968 L1489.53 45.3447 Q1499.61 45.3447 1504.81 39.9751 Q1506.25 39.9751 1506.5 40.303 Q1506.74 40.6309 1506.74 42.1475 L1506.74 89.2442 Q1506.74 91.7445 1507.97 92.5233 Q1509.2 93.3021 1514.57 93.3021 L1517.23 93.3021 L1517.23 95.8844 Q1514.28 95.6385 1503.63 95.6385 Q1492.97 95.6385 1490.06 95.8844 L1490.06 93.3021 L1492.72 93.3021 Q1498.01 93.3021 1499.28 92.5643 Q1500.55 91.7855 1500.55 89.2442 L1500.55 45.7546 Q1496.17 47.968 1489.53 47.968 Z\" fill=\"#000000\" fill-rule=\"evenodd\" fill-opacity=\"1\" /><path clip-path=\"url(#clip290)\" d=\"M1529.75 116.051 Q1529.75 115.641 1530.82 114.617 Q1544.34 100.844 1544.34 74.8979 Q1544.34 48.8697 1531.35 35.7122 Q1529.75 34.1956 1529.75 33.7447 Q1529.75 32.9249 1530.57 32.9249 Q1531.15 32.9249 1533.15 34.6055 Q1535.2 36.286 1538.28 40.139 Q1541.39 43.992 1543.69 48.7058 Q1549.22 60.1418 1549.22 74.8979 Q1549.22 89.0802 1543.93 100.516 Q1541.68 105.312 1538.52 109.329 Q1535.37 113.346 1533.28 115.108 Q1531.19 116.871 1530.57 116.871 Q1529.75 116.871 1529.75 116.051 Z\" fill=\"#000000\" fill-rule=\"evenodd\" fill-opacity=\"1\" /><path clip-path=\"url(#clip290)\" d=\"M1631.89 94.6138 Q1631.48 95.1056 1630.75 95.1056 Q1630.05 95.1056 1629.56 94.6138 L1612.18 77.2343 L1594.8 94.6138 Q1594.31 95.1056 1593.57 95.1056 Q1592.87 95.1056 1592.42 94.6138 Q1591.93 94.1629 1591.93 93.4661 Q1591.93 92.7693 1592.42 92.2774 L1609.8 74.8979 L1592.42 57.5185 Q1591.93 57.0266 1591.93 56.3298 Q1591.93 55.592 1592.42 55.1821 Q1592.87 54.6902 1593.57 54.6902 Q1594.31 54.6902 1594.8 55.1821 L1612.18 72.5615 L1629.56 55.1821 Q1630.05 54.6902 1630.75 54.6902 Q1631.48 54.6902 1631.89 55.1821 Q1632.39 55.592 1632.39 56.3298 Q1632.39 57.0266 1631.89 57.5185 L1614.52 74.8979 L1631.89 92.2774 Q1632.39 92.7693 1632.39 93.5071 Q1632.39 94.2039 1631.89 94.6138 Z\" fill=\"#000000\" fill-rule=\"evenodd\" fill-opacity=\"1\" /><path clip-path=\"url(#clip290)\" d=\"M1671.95 47.968 L1671.95 45.3447 Q1682.04 45.3447 1687.24 39.9751 Q1688.68 39.9751 1688.92 40.303 Q1689.17 40.6309 1689.17 42.1475 L1689.17 89.2442 Q1689.17 91.7445 1690.4 92.5233 Q1691.63 93.3021 1697 93.3021 L1699.66 93.3021 L1699.66 95.8844 Q1696.71 95.6385 1686.05 95.6385 Q1675.4 95.6385 1672.49 95.8844 L1672.49 93.3021 L1675.15 93.3021 Q1680.44 93.3021 1681.71 92.5643 Q1682.98 91.7855 1682.98 89.2442 L1682.98 45.7546 Q1678.59 47.968 1671.95 47.968 Z\" fill=\"#000000\" fill-rule=\"evenodd\" fill-opacity=\"1\" /><path clip-path=\"url(#clip290)\" d=\"M1713.52 69.0365 Q1713.52 56.6987 1716.64 49.9764 Q1720.98 39.9751 1731.23 39.9751 Q1733.4 39.9751 1735.66 40.5899 Q1737.95 41.1638 1740.82 43.4182 Q1743.73 45.6726 1745.5 49.3616 Q1748.86 56.4937 1748.86 69.0365 Q1748.86 81.2923 1745.74 87.9735 Q1741.19 97.729 1731.15 97.729 Q1727.38 97.729 1723.52 95.8025 Q1719.71 93.876 1717.29 89.2442 Q1713.52 82.317 1713.52 69.0365 M1720.49 68.0117 Q1720.49 80.6774 1721.39 85.7191 Q1722.42 91.1707 1725.21 93.548 Q1728.03 95.8844 1731.15 95.8844 Q1734.51 95.8844 1737.3 93.3841 Q1740.13 90.8428 1740.99 85.3912 Q1741.93 80.0216 1741.89 68.0117 Q1741.89 56.3298 1741.07 51.657 Q1739.96 46.2054 1737.01 44.033 Q1734.1 41.8196 1731.15 41.8196 Q1730.04 41.8196 1728.85 42.1475 Q1727.71 42.4754 1726.03 43.4182 Q1724.34 44.3609 1723.03 46.6973 Q1721.76 49.0337 1721.15 52.5588 Q1720.49 57.1086 1720.49 68.0117 Z\" fill=\"#000000\" fill-rule=\"evenodd\" fill-opacity=\"1\" /><path clip-path=\"url(#clip290)\" d=\"M1757.47 24.9492 Q1757.47 21.8217 1758.39 19.6985 Q1759.3 17.5465 1761.23 15.4233 Q1764.76 11.7219 1769.86 11.7219 Q1772.04 11.7219 1773.97 12.6401 Q1775.92 13.5583 1777.75 15.6528 Q1779.62 17.7187 1780.74 21.8217 Q1781.86 25.896 1781.86 31.5198 Q1781.86 40.6153 1777.44 46.3825 Q1773.05 52.1497 1767.11 52.1497 Q1763.35 52.1497 1761.14 50.4568 Q1758.93 48.7353 1758.93 45.8086 Q1758.93 44.2879 1759.79 43.6567 Q1760.65 42.9968 1761.63 42.9968 Q1762.69 42.9968 1763.52 43.7141 Q1764.35 44.4027 1764.35 45.6939 Q1764.35 46.7555 1763.67 47.5876 Q1763.01 48.3909 1761.28 48.3909 Q1762.98 50.5142 1767.05 50.5142 Q1768.51 50.5142 1769.98 49.8543 Q1771.44 49.1656 1773.02 47.5302 Q1774.63 45.866 1775.6 42.3942 Q1776.58 38.9224 1776.58 34.0447 L1776.58 32.1797 Q1774.22 38.0616 1769.23 38.0616 Q1764.3 38.0616 1760.88 34.2742 Q1757.47 30.4868 1757.47 24.9492 M1762.75 25.0066 Q1762.75 30.8311 1763.81 32.9831 Q1765.62 36.6844 1769.29 36.6844 Q1772.88 36.6844 1774.65 33.4995 Q1776.46 30.286 1776.46 26.1256 Q1776.46 20.3584 1775.52 17.8334 Q1773.77 13.1853 1769.86 13.1853 Q1765.99 13.1853 1763.98 16.8866 Q1762.75 19.0672 1762.75 25.0066 Z\" fill=\"#000000\" fill-rule=\"evenodd\" fill-opacity=\"1\" /><circle clip-path=\"url(#clip292)\" cx=\"279.669\" cy=\"1387.28\" r=\"14\" fill=\"#009af9\" fill-rule=\"evenodd\" fill-opacity=\"1\" stroke=\"#000000\" stroke-opacity=\"1\" stroke-width=\"3.2\"/>\n",
       "<circle clip-path=\"url(#clip292)\" cx=\"413.849\" cy=\"801.331\" r=\"14\" fill=\"#009af9\" fill-rule=\"evenodd\" fill-opacity=\"1\" stroke=\"#000000\" stroke-opacity=\"1\" stroke-width=\"3.2\"/>\n",
       "<circle clip-path=\"url(#clip292)\" cx=\"548.03\" cy=\"508.57\" r=\"14\" fill=\"#009af9\" fill-rule=\"evenodd\" fill-opacity=\"1\" stroke=\"#000000\" stroke-opacity=\"1\" stroke-width=\"3.2\"/>\n",
       "<circle clip-path=\"url(#clip292)\" cx=\"682.21\" cy=\"374.921\" r=\"14\" fill=\"#009af9\" fill-rule=\"evenodd\" fill-opacity=\"1\" stroke=\"#000000\" stroke-opacity=\"1\" stroke-width=\"3.2\"/>\n",
       "<circle clip-path=\"url(#clip292)\" cx=\"816.39\" cy=\"308.523\" r=\"14\" fill=\"#009af9\" fill-rule=\"evenodd\" fill-opacity=\"1\" stroke=\"#000000\" stroke-opacity=\"1\" stroke-width=\"3.2\"/>\n",
       "<circle clip-path=\"url(#clip292)\" cx=\"950.571\" cy=\"271.376\" r=\"14\" fill=\"#009af9\" fill-rule=\"evenodd\" fill-opacity=\"1\" stroke=\"#000000\" stroke-opacity=\"1\" stroke-width=\"3.2\"/>\n",
       "<circle clip-path=\"url(#clip292)\" cx=\"1084.75\" cy=\"248.414\" r=\"14\" fill=\"#009af9\" fill-rule=\"evenodd\" fill-opacity=\"1\" stroke=\"#000000\" stroke-opacity=\"1\" stroke-width=\"3.2\"/>\n",
       "<circle clip-path=\"url(#clip292)\" cx=\"1218.93\" cy=\"232.989\" r=\"14\" fill=\"#009af9\" fill-rule=\"evenodd\" fill-opacity=\"1\" stroke=\"#000000\" stroke-opacity=\"1\" stroke-width=\"3.2\"/>\n",
       "<circle clip-path=\"url(#clip292)\" cx=\"1353.11\" cy=\"221.988\" r=\"14\" fill=\"#009af9\" fill-rule=\"evenodd\" fill-opacity=\"1\" stroke=\"#000000\" stroke-opacity=\"1\" stroke-width=\"3.2\"/>\n",
       "<circle clip-path=\"url(#clip292)\" cx=\"1487.29\" cy=\"213.796\" r=\"14\" fill=\"#009af9\" fill-rule=\"evenodd\" fill-opacity=\"1\" stroke=\"#000000\" stroke-opacity=\"1\" stroke-width=\"3.2\"/>\n",
       "<circle clip-path=\"url(#clip292)\" cx=\"1621.47\" cy=\"207.496\" r=\"14\" fill=\"#009af9\" fill-rule=\"evenodd\" fill-opacity=\"1\" stroke=\"#000000\" stroke-opacity=\"1\" stroke-width=\"3.2\"/>\n",
       "<circle clip-path=\"url(#clip292)\" cx=\"1755.65\" cy=\"202.543\" r=\"14\" fill=\"#009af9\" fill-rule=\"evenodd\" fill-opacity=\"1\" stroke=\"#000000\" stroke-opacity=\"1\" stroke-width=\"3.2\"/>\n",
       "<circle clip-path=\"url(#clip292)\" cx=\"1889.83\" cy=\"198.575\" r=\"14\" fill=\"#009af9\" fill-rule=\"evenodd\" fill-opacity=\"1\" stroke=\"#000000\" stroke-opacity=\"1\" stroke-width=\"3.2\"/>\n",
       "<circle clip-path=\"url(#clip292)\" cx=\"2024.01\" cy=\"195.351\" r=\"14\" fill=\"#009af9\" fill-rule=\"evenodd\" fill-opacity=\"1\" stroke=\"#000000\" stroke-opacity=\"1\" stroke-width=\"3.2\"/>\n",
       "<circle clip-path=\"url(#clip292)\" cx=\"2158.19\" cy=\"192.697\" r=\"14\" fill=\"#009af9\" fill-rule=\"evenodd\" fill-opacity=\"1\" stroke=\"#000000\" stroke-opacity=\"1\" stroke-width=\"3.2\"/>\n",
       "<circle clip-path=\"url(#clip292)\" cx=\"2292.37\" cy=\"190.489\" r=\"14\" fill=\"#009af9\" fill-rule=\"evenodd\" fill-opacity=\"1\" stroke=\"#000000\" stroke-opacity=\"1\" stroke-width=\"3.2\"/>\n",
       "</svg>\n"
      ]
     },
     "execution_count": 20,
     "metadata": {},
     "output_type": "execute_result"
    }
   ],
   "source": [
    "scatter(Dls, Av_Dl*10^9, title = L\"(j_f=1,i_e=0,\\gamma=1)\\times 10^9\",\n",
    "    xlabel=L\"\\Delta l\",ylabel=L\"A_v(\\Delta l)\",legend = false)"
   ]
  },
  {
   "cell_type": "markdown",
   "metadata": {
    "ExecuteTime": {
     "end_time": "2022-04-19T17:24:30.796417Z",
     "start_time": "2022-04-19T17:24:30.789287Z"
    },
    "slideshow": {
     "slide_type": "slide"
    },
    "tags": []
   },
   "source": [
    "## Using extrapolation techniques\n",
    "Implement Aitken's delta-squared process\n",
    "$$A_v \\approx \\frac{A_v(\\Delta l)A_v(\\Delta l-2)-A_v(\\Delta l-1)^2}{A_v(\\Delta l)-2 A_v(\\Delta l-1) +A_v(\\Delta l-2)}$$"
   ]
  },
  {
   "cell_type": "code",
   "execution_count": 21,
   "metadata": {
    "ExecuteTime": {
     "end_time": "2022-04-19T18:14:34.587384Z",
     "start_time": "2022-04-19T18:14:34.556811Z"
    },
    "tags": []
   },
   "outputs": [
    {
     "data": {
      "text/plain": [
       "extrapolate (generic function with 1 method)"
      ]
     },
     "execution_count": 21,
     "metadata": {},
     "output_type": "execute_result"
    }
   ],
   "source": [
    "function extrapolate(Av_Dl)\n",
    "    l_id = length(Av_Dl)\n",
    "    num = Av_Dl[l_id] * Av_Dl[l_id-2] - Av_Dl[l_id-1]^2 \n",
    "    den = Av_Dl[l_id]  - 2* Av_Dl[l_id-1] + Av_Dl[l_id-2] \n",
    "    num/den\n",
    "end"
   ]
  },
  {
   "cell_type": "code",
   "execution_count": 22,
   "metadata": {
    "ExecuteTime": {
     "end_time": "2022-04-19T18:14:34.587384Z",
     "start_time": "2022-04-19T18:14:34.556811Z"
    },
    "tags": []
   },
   "outputs": [
    {
     "data": {
      "text/plain": [
       "1.461613231225792e-9"
      ]
     },
     "execution_count": 22,
     "metadata": {},
     "output_type": "execute_result"
    }
   ],
   "source": [
    "Av_ex = extrapolate(Av_Dl)"
   ]
  },
  {
   "cell_type": "code",
   "execution_count": 23,
   "metadata": {
    "ExecuteTime": {
     "end_time": "2022-04-19T18:14:34.587384Z",
     "start_time": "2022-04-19T18:14:34.556811Z"
    },
    "slideshow": {
     "slide_type": "slide"
    },
    "tags": []
   },
   "outputs": [
    {
     "data": {
      "image/svg+xml": [
       "<?xml version=\"1.0\" encoding=\"utf-8\"?>\n",
       "<svg xmlns=\"http://www.w3.org/2000/svg\" xmlns:xlink=\"http://www.w3.org/1999/xlink\" width=\"600\" height=\"400\" viewBox=\"0 0 2400 1600\">\n",
       "<defs>\n",
       "  <clipPath id=\"clip330\">\n",
       "    <rect x=\"0\" y=\"0\" width=\"2400\" height=\"1600\"/>\n",
       "  </clipPath>\n",
       "</defs>\n",
       "<path clip-path=\"url(#clip330)\" d=\"\n",
       "M0 1600 L2400 1600 L2400 0 L0 0  Z\n",
       "  \" fill=\"#ffffff\" fill-rule=\"evenodd\" fill-opacity=\"1\"/>\n",
       "<defs>\n",
       "  <clipPath id=\"clip331\">\n",
       "    <rect x=\"480\" y=\"0\" width=\"1681\" height=\"1600\"/>\n",
       "  </clipPath>\n",
       "</defs>\n",
       "<defs>\n",
       "  <clipPath id=\"clip332\">\n",
       "    <rect x=\"219\" y=\"154\" width=\"2134\" height=\"1270\"/>\n",
       "  </clipPath>\n",
       "</defs>\n",
       "<path clip-path=\"url(#clip330)\" d=\"\n",
       "M219.288 1423.18 L2352.76 1423.18 L2352.76 154.586 L219.288 154.586  Z\n",
       "  \" fill=\"#ffffff\" fill-rule=\"evenodd\" fill-opacity=\"1\"/>\n",
       "<polyline clip-path=\"url(#clip332)\" style=\"stroke:#000000; stroke-linecap:butt; stroke-linejoin:round; stroke-width:2; stroke-opacity:0.1; fill:none\" points=\"\n",
       "  279.669,1423.18 279.669,154.586 \n",
       "  \"/>\n",
       "<polyline clip-path=\"url(#clip332)\" style=\"stroke:#000000; stroke-linecap:butt; stroke-linejoin:round; stroke-width:2; stroke-opacity:0.1; fill:none\" points=\"\n",
       "  950.571,1423.18 950.571,154.586 \n",
       "  \"/>\n",
       "<polyline clip-path=\"url(#clip332)\" style=\"stroke:#000000; stroke-linecap:butt; stroke-linejoin:round; stroke-width:2; stroke-opacity:0.1; fill:none\" points=\"\n",
       "  1621.47,1423.18 1621.47,154.586 \n",
       "  \"/>\n",
       "<polyline clip-path=\"url(#clip332)\" style=\"stroke:#000000; stroke-linecap:butt; stroke-linejoin:round; stroke-width:2; stroke-opacity:0.1; fill:none\" points=\"\n",
       "  2292.37,1423.18 2292.37,154.586 \n",
       "  \"/>\n",
       "<polyline clip-path=\"url(#clip330)\" style=\"stroke:#000000; stroke-linecap:butt; stroke-linejoin:round; stroke-width:4; stroke-opacity:1; fill:none\" points=\"\n",
       "  219.288,1423.18 2352.76,1423.18 \n",
       "  \"/>\n",
       "<polyline clip-path=\"url(#clip330)\" style=\"stroke:#000000; stroke-linecap:butt; stroke-linejoin:round; stroke-width:4; stroke-opacity:1; fill:none\" points=\"\n",
       "  279.669,1423.18 279.669,1404.28 \n",
       "  \"/>\n",
       "<polyline clip-path=\"url(#clip330)\" style=\"stroke:#000000; stroke-linecap:butt; stroke-linejoin:round; stroke-width:4; stroke-opacity:1; fill:none\" points=\"\n",
       "  950.571,1423.18 950.571,1404.28 \n",
       "  \"/>\n",
       "<polyline clip-path=\"url(#clip330)\" style=\"stroke:#000000; stroke-linecap:butt; stroke-linejoin:round; stroke-width:4; stroke-opacity:1; fill:none\" points=\"\n",
       "  1621.47,1423.18 1621.47,1404.28 \n",
       "  \"/>\n",
       "<polyline clip-path=\"url(#clip330)\" style=\"stroke:#000000; stroke-linecap:butt; stroke-linejoin:round; stroke-width:4; stroke-opacity:1; fill:none\" points=\"\n",
       "  2292.37,1423.18 2292.37,1404.28 \n",
       "  \"/>\n",
       "<path clip-path=\"url(#clip330)\" d=\"M279.669 1454.1 Q276.058 1454.1 274.229 1457.66 Q272.423 1461.2 272.423 1468.33 Q272.423 1475.44 274.229 1479.01 Q276.058 1482.55 279.669 1482.55 Q283.303 1482.55 285.109 1479.01 Q286.937 1475.44 286.937 1468.33 Q286.937 1461.2 285.109 1457.66 Q283.303 1454.1 279.669 1454.1 M279.669 1450.39 Q285.479 1450.39 288.534 1455 Q291.613 1459.58 291.613 1468.33 Q291.613 1477.06 288.534 1481.67 Q285.479 1486.25 279.669 1486.25 Q273.859 1486.25 270.78 1481.67 Q267.724 1477.06 267.724 1468.33 Q267.724 1459.58 270.78 1455 Q273.859 1450.39 279.669 1450.39 Z\" fill=\"#000000\" fill-rule=\"evenodd\" fill-opacity=\"1\" /><path clip-path=\"url(#clip330)\" d=\"M940.849 1451.02 L959.205 1451.02 L959.205 1454.96 L945.131 1454.96 L945.131 1463.43 Q946.149 1463.08 947.168 1462.92 Q948.186 1462.73 949.205 1462.73 Q954.992 1462.73 958.372 1465.9 Q961.751 1469.08 961.751 1474.49 Q961.751 1480.07 958.279 1483.17 Q954.807 1486.25 948.487 1486.25 Q946.312 1486.25 944.043 1485.88 Q941.798 1485.51 939.39 1484.77 L939.39 1480.07 Q941.474 1481.2 943.696 1481.76 Q945.918 1482.32 948.395 1482.32 Q952.399 1482.32 954.737 1480.21 Q957.075 1478.1 957.075 1474.49 Q957.075 1470.88 954.737 1468.77 Q952.399 1466.67 948.395 1466.67 Q946.52 1466.67 944.645 1467.08 Q942.793 1467.5 940.849 1468.38 L940.849 1451.02 Z\" fill=\"#000000\" fill-rule=\"evenodd\" fill-opacity=\"1\" /><path clip-path=\"url(#clip330)\" d=\"M1596.16 1481.64 L1603.8 1481.64 L1603.8 1455.28 L1595.49 1456.95 L1595.49 1452.69 L1603.75 1451.02 L1608.43 1451.02 L1608.43 1481.64 L1616.07 1481.64 L1616.07 1485.58 L1596.16 1485.58 L1596.16 1481.64 Z\" fill=\"#000000\" fill-rule=\"evenodd\" fill-opacity=\"1\" /><path clip-path=\"url(#clip330)\" d=\"M1635.51 1454.1 Q1631.9 1454.1 1630.07 1457.66 Q1628.27 1461.2 1628.27 1468.33 Q1628.27 1475.44 1630.07 1479.01 Q1631.9 1482.55 1635.51 1482.55 Q1639.15 1482.55 1640.95 1479.01 Q1642.78 1475.44 1642.78 1468.33 Q1642.78 1461.2 1640.95 1457.66 Q1639.15 1454.1 1635.51 1454.1 M1635.51 1450.39 Q1641.32 1450.39 1644.38 1455 Q1647.46 1459.58 1647.46 1468.33 Q1647.46 1477.06 1644.38 1481.67 Q1641.32 1486.25 1635.51 1486.25 Q1629.7 1486.25 1626.62 1481.67 Q1623.57 1477.06 1623.57 1468.33 Q1623.57 1459.58 1626.62 1455 Q1629.7 1450.39 1635.51 1450.39 Z\" fill=\"#000000\" fill-rule=\"evenodd\" fill-opacity=\"1\" /><path clip-path=\"url(#clip330)\" d=\"M2267.56 1481.64 L2275.2 1481.64 L2275.2 1455.28 L2266.89 1456.95 L2266.89 1452.69 L2275.15 1451.02 L2279.83 1451.02 L2279.83 1481.64 L2287.47 1481.64 L2287.47 1485.58 L2267.56 1485.58 L2267.56 1481.64 Z\" fill=\"#000000\" fill-rule=\"evenodd\" fill-opacity=\"1\" /><path clip-path=\"url(#clip330)\" d=\"M2296.96 1451.02 L2315.31 1451.02 L2315.31 1454.96 L2301.24 1454.96 L2301.24 1463.43 Q2302.26 1463.08 2303.28 1462.92 Q2304.3 1462.73 2305.31 1462.73 Q2311.1 1462.73 2314.48 1465.9 Q2317.86 1469.08 2317.86 1474.49 Q2317.86 1480.07 2314.39 1483.17 Q2310.92 1486.25 2304.6 1486.25 Q2302.42 1486.25 2300.15 1485.88 Q2297.91 1485.51 2295.5 1484.77 L2295.5 1480.07 Q2297.58 1481.2 2299.81 1481.76 Q2302.03 1482.32 2304.5 1482.32 Q2308.51 1482.32 2310.85 1480.21 Q2313.18 1478.1 2313.18 1474.49 Q2313.18 1470.88 2310.85 1468.77 Q2308.51 1466.67 2304.5 1466.67 Q2302.63 1466.67 2300.75 1467.08 Q2298.9 1467.5 2296.96 1468.38 L2296.96 1451.02 Z\" fill=\"#000000\" fill-rule=\"evenodd\" fill-opacity=\"1\" /><path clip-path=\"url(#clip330)\" d=\"M1248.97 1578.54 Q1248.97 1578.28 1249.84 1576.6 Q1250.71 1574.9 1253.77 1568.81 Q1256.83 1562.69 1259.98 1556.28 L1271.35 1533.41 Q1272.16 1531.97 1273.19 1531.97 Q1274.12 1531.97 1274.54 1532.55 Q1274.96 1533.13 1276.89 1537.02 Q1277.89 1538.92 1278.47 1540.15 L1297.11 1577.47 Q1297.44 1578.28 1297.47 1578.54 Q1297.47 1579.18 1296.34 1579.18 L1250.71 1579.18 Q1248.97 1579.18 1248.97 1578.54 M1253.32 1574.16 L1288.81 1574.16 L1271.06 1538.54 L1253.32 1574.16 Z\" fill=\"#000000\" fill-rule=\"evenodd\" fill-opacity=\"1\" /><path clip-path=\"url(#clip330)\" d=\"M1317.72 1534.12 L1308.22 1572.26 Q1307.84 1573.77 1307.84 1575.41 Q1307.84 1578.44 1309.83 1578.44 Q1310.77 1578.44 1311.54 1577.83 Q1312.31 1577.18 1312.89 1575.93 Q1313.51 1574.64 1313.89 1573.41 Q1314.31 1572.19 1314.83 1570.29 Q1314.99 1569.55 1315.15 1569.32 Q1315.31 1569.1 1315.76 1569.1 Q1316.56 1569.1 1316.56 1569.74 Q1315.76 1573.7 1314.57 1576.22 Q1312.83 1579.92 1309.61 1579.92 Q1307.19 1579.92 1305.39 1578.25 Q1303.62 1576.54 1303.62 1573.83 Q1303.62 1572.8 1303.94 1571.58 L1312.25 1538.6 L1312.47 1537.31 Q1312.47 1536.96 1312.35 1536.76 Q1312.22 1536.57 1311.44 1536.38 Q1310.7 1536.18 1309.22 1536.18 Q1308.61 1536.18 1308.32 1536.15 Q1308.06 1536.12 1307.8 1535.96 Q1307.58 1535.8 1307.58 1535.44 Q1307.58 1534.86 1307.8 1534.54 Q1308.06 1534.22 1308.26 1534.16 Q1308.45 1534.09 1308.84 1534.06 Q1309.38 1534.03 1311.22 1533.87 Q1313.05 1533.67 1314.63 1533.54 Q1316.21 1533.41 1316.89 1533.41 Q1317.27 1533.41 1317.47 1533.61 Q1317.69 1533.77 1317.72 1533.96 L1317.72 1534.12 Z\" fill=\"#000000\" fill-rule=\"evenodd\" fill-opacity=\"1\" /><polyline clip-path=\"url(#clip332)\" style=\"stroke:#000000; stroke-linecap:butt; stroke-linejoin:round; stroke-width:2; stroke-opacity:0.1; fill:none\" points=\"\n",
       "  219.288,1415.93 2352.76,1415.93 \n",
       "  \"/>\n",
       "<polyline clip-path=\"url(#clip332)\" style=\"stroke:#000000; stroke-linecap:butt; stroke-linejoin:round; stroke-width:2; stroke-opacity:0.1; fill:none\" points=\"\n",
       "  219.288,1255.03 2352.76,1255.03 \n",
       "  \"/>\n",
       "<polyline clip-path=\"url(#clip332)\" style=\"stroke:#000000; stroke-linecap:butt; stroke-linejoin:round; stroke-width:2; stroke-opacity:0.1; fill:none\" points=\"\n",
       "  219.288,1094.13 2352.76,1094.13 \n",
       "  \"/>\n",
       "<polyline clip-path=\"url(#clip332)\" style=\"stroke:#000000; stroke-linecap:butt; stroke-linejoin:round; stroke-width:2; stroke-opacity:0.1; fill:none\" points=\"\n",
       "  219.288,933.231 2352.76,933.231 \n",
       "  \"/>\n",
       "<polyline clip-path=\"url(#clip332)\" style=\"stroke:#000000; stroke-linecap:butt; stroke-linejoin:round; stroke-width:2; stroke-opacity:0.1; fill:none\" points=\"\n",
       "  219.288,772.33 2352.76,772.33 \n",
       "  \"/>\n",
       "<polyline clip-path=\"url(#clip332)\" style=\"stroke:#000000; stroke-linecap:butt; stroke-linejoin:round; stroke-width:2; stroke-opacity:0.1; fill:none\" points=\"\n",
       "  219.288,611.428 2352.76,611.428 \n",
       "  \"/>\n",
       "<polyline clip-path=\"url(#clip332)\" style=\"stroke:#000000; stroke-linecap:butt; stroke-linejoin:round; stroke-width:2; stroke-opacity:0.1; fill:none\" points=\"\n",
       "  219.288,450.527 2352.76,450.527 \n",
       "  \"/>\n",
       "<polyline clip-path=\"url(#clip332)\" style=\"stroke:#000000; stroke-linecap:butt; stroke-linejoin:round; stroke-width:2; stroke-opacity:0.1; fill:none\" points=\"\n",
       "  219.288,289.626 2352.76,289.626 \n",
       "  \"/>\n",
       "<polyline clip-path=\"url(#clip330)\" style=\"stroke:#000000; stroke-linecap:butt; stroke-linejoin:round; stroke-width:4; stroke-opacity:1; fill:none\" points=\"\n",
       "  219.288,1423.18 219.288,154.586 \n",
       "  \"/>\n",
       "<polyline clip-path=\"url(#clip330)\" style=\"stroke:#000000; stroke-linecap:butt; stroke-linejoin:round; stroke-width:4; stroke-opacity:1; fill:none\" points=\"\n",
       "  219.288,1415.93 238.185,1415.93 \n",
       "  \"/>\n",
       "<polyline clip-path=\"url(#clip330)\" style=\"stroke:#000000; stroke-linecap:butt; stroke-linejoin:round; stroke-width:4; stroke-opacity:1; fill:none\" points=\"\n",
       "  219.288,1255.03 238.185,1255.03 \n",
       "  \"/>\n",
       "<polyline clip-path=\"url(#clip330)\" style=\"stroke:#000000; stroke-linecap:butt; stroke-linejoin:round; stroke-width:4; stroke-opacity:1; fill:none\" points=\"\n",
       "  219.288,1094.13 238.185,1094.13 \n",
       "  \"/>\n",
       "<polyline clip-path=\"url(#clip330)\" style=\"stroke:#000000; stroke-linecap:butt; stroke-linejoin:round; stroke-width:4; stroke-opacity:1; fill:none\" points=\"\n",
       "  219.288,933.231 238.185,933.231 \n",
       "  \"/>\n",
       "<polyline clip-path=\"url(#clip330)\" style=\"stroke:#000000; stroke-linecap:butt; stroke-linejoin:round; stroke-width:4; stroke-opacity:1; fill:none\" points=\"\n",
       "  219.288,772.33 238.185,772.33 \n",
       "  \"/>\n",
       "<polyline clip-path=\"url(#clip330)\" style=\"stroke:#000000; stroke-linecap:butt; stroke-linejoin:round; stroke-width:4; stroke-opacity:1; fill:none\" points=\"\n",
       "  219.288,611.428 238.185,611.428 \n",
       "  \"/>\n",
       "<polyline clip-path=\"url(#clip330)\" style=\"stroke:#000000; stroke-linecap:butt; stroke-linejoin:round; stroke-width:4; stroke-opacity:1; fill:none\" points=\"\n",
       "  219.288,450.527 238.185,450.527 \n",
       "  \"/>\n",
       "<polyline clip-path=\"url(#clip330)\" style=\"stroke:#000000; stroke-linecap:butt; stroke-linejoin:round; stroke-width:4; stroke-opacity:1; fill:none\" points=\"\n",
       "  219.288,289.626 238.185,289.626 \n",
       "  \"/>\n",
       "<path clip-path=\"url(#clip330)\" d=\"M127.015 1401.73 Q123.404 1401.73 121.575 1405.3 Q119.769 1408.84 119.769 1415.97 Q119.769 1423.08 121.575 1426.64 Q123.404 1430.18 127.015 1430.18 Q130.649 1430.18 132.455 1426.64 Q134.283 1423.08 134.283 1415.97 Q134.283 1408.84 132.455 1405.3 Q130.649 1401.73 127.015 1401.73 M127.015 1398.03 Q132.825 1398.03 135.88 1402.64 Q138.959 1407.22 138.959 1415.97 Q138.959 1424.7 135.88 1429.3 Q132.825 1433.89 127.015 1433.89 Q121.205 1433.89 118.126 1429.3 Q115.07 1424.7 115.07 1415.97 Q115.07 1407.22 118.126 1402.64 Q121.205 1398.03 127.015 1398.03 Z\" fill=\"#000000\" fill-rule=\"evenodd\" fill-opacity=\"1\" /><path clip-path=\"url(#clip330)\" d=\"M147.177 1427.34 L152.061 1427.34 L152.061 1433.21 L147.177 1433.21 L147.177 1427.34 Z\" fill=\"#000000\" fill-rule=\"evenodd\" fill-opacity=\"1\" /><path clip-path=\"url(#clip330)\" d=\"M161.065 1398.65 L183.288 1398.65 L183.288 1400.65 L170.741 1433.21 L165.857 1433.21 L177.663 1402.59 L161.065 1402.59 L161.065 1398.65 Z\" fill=\"#000000\" fill-rule=\"evenodd\" fill-opacity=\"1\" /><path clip-path=\"url(#clip330)\" d=\"M126.205 1240.83 Q122.593 1240.83 120.765 1244.4 Q118.959 1247.94 118.959 1255.07 Q118.959 1262.17 120.765 1265.74 Q122.593 1269.28 126.205 1269.28 Q129.839 1269.28 131.644 1265.74 Q133.473 1262.17 133.473 1255.07 Q133.473 1247.94 131.644 1244.4 Q129.839 1240.83 126.205 1240.83 M126.205 1237.13 Q132.015 1237.13 135.07 1241.73 Q138.149 1246.32 138.149 1255.07 Q138.149 1263.79 135.07 1268.4 Q132.015 1272.98 126.205 1272.98 Q120.394 1272.98 117.316 1268.4 Q114.26 1263.79 114.26 1255.07 Q114.26 1246.32 117.316 1241.73 Q120.394 1237.13 126.205 1237.13 Z\" fill=\"#000000\" fill-rule=\"evenodd\" fill-opacity=\"1\" /><path clip-path=\"url(#clip330)\" d=\"M146.366 1266.43 L151.251 1266.43 L151.251 1272.31 L146.366 1272.31 L146.366 1266.43 Z\" fill=\"#000000\" fill-rule=\"evenodd\" fill-opacity=\"1\" /><path clip-path=\"url(#clip330)\" d=\"M171.436 1255.9 Q168.102 1255.9 166.181 1257.68 Q164.283 1259.47 164.283 1262.59 Q164.283 1265.72 166.181 1267.5 Q168.102 1269.28 171.436 1269.28 Q174.769 1269.28 176.69 1267.5 Q178.612 1265.69 178.612 1262.59 Q178.612 1259.47 176.69 1257.68 Q174.792 1255.9 171.436 1255.9 M166.76 1253.91 Q163.751 1253.17 162.061 1251.11 Q160.394 1249.05 160.394 1246.09 Q160.394 1241.94 163.334 1239.54 Q166.297 1237.13 171.436 1237.13 Q176.598 1237.13 179.538 1239.54 Q182.477 1241.94 182.477 1246.09 Q182.477 1249.05 180.788 1251.11 Q179.121 1253.17 176.135 1253.91 Q179.514 1254.7 181.389 1256.99 Q183.288 1259.28 183.288 1262.59 Q183.288 1267.61 180.209 1270.3 Q177.153 1272.98 171.436 1272.98 Q165.718 1272.98 162.64 1270.3 Q159.584 1267.61 159.584 1262.59 Q159.584 1259.28 161.482 1256.99 Q163.38 1254.7 166.76 1253.91 M165.047 1246.53 Q165.047 1249.21 166.714 1250.72 Q168.403 1252.22 171.436 1252.22 Q174.445 1252.22 176.135 1250.72 Q177.848 1249.21 177.848 1246.53 Q177.848 1243.84 176.135 1242.34 Q174.445 1240.83 171.436 1240.83 Q168.403 1240.83 166.714 1242.34 Q165.047 1243.84 165.047 1246.53 Z\" fill=\"#000000\" fill-rule=\"evenodd\" fill-opacity=\"1\" /><path clip-path=\"url(#clip330)\" d=\"M126.297 1079.93 Q122.686 1079.93 120.857 1083.5 Q119.052 1087.04 119.052 1094.17 Q119.052 1101.27 120.857 1104.84 Q122.686 1108.38 126.297 1108.38 Q129.931 1108.38 131.737 1104.84 Q133.566 1101.27 133.566 1094.17 Q133.566 1087.04 131.737 1083.5 Q129.931 1079.93 126.297 1079.93 M126.297 1076.23 Q132.107 1076.23 135.163 1080.83 Q138.242 1085.42 138.242 1094.17 Q138.242 1102.89 135.163 1107.5 Q132.107 1112.08 126.297 1112.08 Q120.487 1112.08 117.408 1107.5 Q114.353 1102.89 114.353 1094.17 Q114.353 1085.42 117.408 1080.83 Q120.487 1076.23 126.297 1076.23 Z\" fill=\"#000000\" fill-rule=\"evenodd\" fill-opacity=\"1\" /><path clip-path=\"url(#clip330)\" d=\"M146.459 1105.53 L151.343 1105.53 L151.343 1111.41 L146.459 1111.41 L146.459 1105.53 Z\" fill=\"#000000\" fill-rule=\"evenodd\" fill-opacity=\"1\" /><path clip-path=\"url(#clip330)\" d=\"M161.667 1110.69 L161.667 1106.44 Q163.427 1107.27 165.232 1107.71 Q167.038 1108.15 168.774 1108.15 Q173.403 1108.15 175.834 1105.05 Q178.288 1101.92 178.635 1095.58 Q177.292 1097.57 175.232 1098.63 Q173.172 1099.7 170.672 1099.7 Q165.487 1099.7 162.454 1096.57 Q159.445 1093.43 159.445 1087.99 Q159.445 1082.66 162.593 1079.44 Q165.741 1076.23 170.973 1076.23 Q176.968 1076.23 180.116 1080.83 Q183.288 1085.42 183.288 1094.17 Q183.288 1102.34 179.399 1107.22 Q175.533 1112.08 168.982 1112.08 Q167.223 1112.08 165.417 1111.74 Q163.612 1111.39 161.667 1110.69 M170.973 1096.04 Q174.121 1096.04 175.95 1093.89 Q177.801 1091.74 177.801 1087.99 Q177.801 1084.26 175.95 1082.11 Q174.121 1079.93 170.973 1079.93 Q167.825 1079.93 165.973 1082.11 Q164.144 1084.26 164.144 1087.99 Q164.144 1091.74 165.973 1093.89 Q167.825 1096.04 170.973 1096.04 Z\" fill=\"#000000\" fill-rule=\"evenodd\" fill-opacity=\"1\" /><path clip-path=\"url(#clip330)\" d=\"M116.922 946.576 L124.561 946.576 L124.561 920.21 L116.251 921.877 L116.251 917.618 L124.515 915.951 L129.191 915.951 L129.191 946.576 L136.829 946.576 L136.829 950.511 L116.922 950.511 L116.922 946.576 Z\" fill=\"#000000\" fill-rule=\"evenodd\" fill-opacity=\"1\" /><path clip-path=\"url(#clip330)\" d=\"M146.274 944.631 L151.158 944.631 L151.158 950.511 L146.274 950.511 L146.274 944.631 Z\" fill=\"#000000\" fill-rule=\"evenodd\" fill-opacity=\"1\" /><path clip-path=\"url(#clip330)\" d=\"M171.343 919.03 Q167.732 919.03 165.903 922.594 Q164.098 926.136 164.098 933.266 Q164.098 940.372 165.903 943.937 Q167.732 947.478 171.343 947.478 Q174.977 947.478 176.783 943.937 Q178.612 940.372 178.612 933.266 Q178.612 926.136 176.783 922.594 Q174.977 919.03 171.343 919.03 M171.343 915.326 Q177.153 915.326 180.209 919.932 Q183.288 924.516 183.288 933.266 Q183.288 941.992 180.209 946.599 Q177.153 951.182 171.343 951.182 Q165.533 951.182 162.454 946.599 Q159.399 941.992 159.399 933.266 Q159.399 924.516 162.454 919.932 Q165.533 915.326 171.343 915.326 Z\" fill=\"#000000\" fill-rule=\"evenodd\" fill-opacity=\"1\" /><path clip-path=\"url(#clip330)\" d=\"M118.149 785.674 L125.788 785.674 L125.788 759.309 L117.478 760.976 L117.478 756.716 L125.742 755.05 L130.417 755.05 L130.417 785.674 L138.056 785.674 L138.056 789.61 L118.149 789.61 L118.149 785.674 Z\" fill=\"#000000\" fill-rule=\"evenodd\" fill-opacity=\"1\" /><path clip-path=\"url(#clip330)\" d=\"M147.501 783.73 L152.385 783.73 L152.385 789.61 L147.501 789.61 L147.501 783.73 Z\" fill=\"#000000\" fill-rule=\"evenodd\" fill-opacity=\"1\" /><path clip-path=\"url(#clip330)\" d=\"M163.38 785.674 L171.019 785.674 L171.019 759.309 L162.709 760.976 L162.709 756.716 L170.973 755.05 L175.649 755.05 L175.649 785.674 L183.288 785.674 L183.288 789.61 L163.38 789.61 L163.38 785.674 Z\" fill=\"#000000\" fill-rule=\"evenodd\" fill-opacity=\"1\" /><path clip-path=\"url(#clip330)\" d=\"M118.519 624.773 L126.158 624.773 L126.158 598.408 L117.848 600.074 L117.848 595.815 L126.112 594.148 L130.788 594.148 L130.788 624.773 L138.427 624.773 L138.427 628.708 L118.519 628.708 L118.519 624.773 Z\" fill=\"#000000\" fill-rule=\"evenodd\" fill-opacity=\"1\" /><path clip-path=\"url(#clip330)\" d=\"M147.871 622.829 L152.755 622.829 L152.755 628.708 L147.871 628.708 L147.871 622.829 Z\" fill=\"#000000\" fill-rule=\"evenodd\" fill-opacity=\"1\" /><path clip-path=\"url(#clip330)\" d=\"M166.968 624.773 L183.288 624.773 L183.288 628.708 L161.343 628.708 L161.343 624.773 Q164.005 622.019 168.589 617.389 Q173.195 612.736 174.376 611.394 Q176.621 608.871 177.501 607.134 Q178.403 605.375 178.403 603.685 Q178.403 600.931 176.459 599.195 Q174.538 597.459 171.436 597.459 Q169.237 597.459 166.783 598.222 Q164.352 598.986 161.575 600.537 L161.575 595.815 Q164.399 594.681 166.852 594.102 Q169.306 593.523 171.343 593.523 Q176.714 593.523 179.908 596.209 Q183.102 598.894 183.102 603.384 Q183.102 605.514 182.292 607.435 Q181.505 609.334 179.399 611.926 Q178.82 612.597 175.718 615.815 Q172.616 619.009 166.968 624.773 Z\" fill=\"#000000\" fill-rule=\"evenodd\" fill-opacity=\"1\" /><path clip-path=\"url(#clip330)\" d=\"M117.57 463.872 L125.209 463.872 L125.209 437.506 L116.899 439.173 L116.899 434.914 L125.163 433.247 L129.839 433.247 L129.839 463.872 L137.478 463.872 L137.478 467.807 L117.57 467.807 L117.57 463.872 Z\" fill=\"#000000\" fill-rule=\"evenodd\" fill-opacity=\"1\" /><path clip-path=\"url(#clip330)\" d=\"M146.922 461.928 L151.806 461.928 L151.806 467.807 L146.922 467.807 L146.922 461.928 Z\" fill=\"#000000\" fill-rule=\"evenodd\" fill-opacity=\"1\" /><path clip-path=\"url(#clip330)\" d=\"M176.158 449.173 Q179.514 449.891 181.389 452.159 Q183.288 454.428 183.288 457.761 Q183.288 462.877 179.769 465.678 Q176.251 468.478 169.769 468.478 Q167.593 468.478 165.278 468.039 Q162.987 467.622 160.533 466.766 L160.533 462.252 Q162.477 463.386 164.792 463.965 Q167.107 464.543 169.63 464.543 Q174.028 464.543 176.32 462.807 Q178.635 461.071 178.635 457.761 Q178.635 454.705 176.482 452.992 Q174.352 451.256 170.533 451.256 L166.505 451.256 L166.505 447.414 L170.718 447.414 Q174.167 447.414 175.996 446.048 Q177.825 444.659 177.825 442.067 Q177.825 439.405 175.926 437.993 Q174.052 436.557 170.533 436.557 Q168.612 436.557 166.413 436.974 Q164.214 437.391 161.575 438.27 L161.575 434.104 Q164.237 433.363 166.552 432.993 Q168.889 432.622 170.95 432.622 Q176.274 432.622 179.376 435.053 Q182.477 437.46 182.477 441.58 Q182.477 444.451 180.834 446.442 Q179.19 448.409 176.158 449.173 Z\" fill=\"#000000\" fill-rule=\"evenodd\" fill-opacity=\"1\" /><path clip-path=\"url(#clip330)\" d=\"M116.436 302.971 L124.075 302.971 L124.075 276.605 L115.765 278.272 L115.765 274.013 L124.029 272.346 L128.705 272.346 L128.705 302.971 L136.343 302.971 L136.343 306.906 L116.436 306.906 L116.436 302.971 Z\" fill=\"#000000\" fill-rule=\"evenodd\" fill-opacity=\"1\" /><path clip-path=\"url(#clip330)\" d=\"M145.788 301.026 L150.672 301.026 L150.672 306.906 L145.788 306.906 L145.788 301.026 Z\" fill=\"#000000\" fill-rule=\"evenodd\" fill-opacity=\"1\" /><path clip-path=\"url(#clip330)\" d=\"M173.704 276.42 L161.899 294.869 L173.704 294.869 L173.704 276.42 M172.477 272.346 L178.357 272.346 L178.357 294.869 L183.288 294.869 L183.288 298.758 L178.357 298.758 L178.357 306.906 L173.704 306.906 L173.704 298.758 L158.103 298.758 L158.103 294.244 L172.477 272.346 Z\" fill=\"#000000\" fill-rule=\"evenodd\" fill-opacity=\"1\" /><path clip-path=\"url(#clip330)\" d=\"M67.1397 844.573 Q67.7516 844.573 68.0736 844.831 Q68.3635 845.056 68.4279 845.281 Q68.4601 845.475 68.4601 845.765 Q68.4601 846.602 68.3635 849.5 Q68.2669 852.399 68.2669 853.236 Q68.2669 854.589 68.3635 857.359 Q68.4601 860.128 68.4601 861.481 Q68.4601 862.383 67.7194 862.383 Q67.2363 862.383 66.9786 862.286 Q66.6888 862.19 66.5922 861.932 Q66.4633 861.642 66.4633 861.481 Q66.4311 861.288 66.4311 860.805 Q66.4311 860.161 66.3667 859.484 Q66.2701 858.808 66.0769 857.971 Q65.8836 857.133 65.4005 856.618 Q64.9175 856.07 64.2411 856.07 Q63.9513 856.07 61.568 856.296 Q59.1848 856.521 56.4151 856.811 Q53.6132 857.101 53.2267 857.133 L53.2267 873.687 Q55.8354 875.201 57.6389 876.264 Q59.4425 877.326 60.0544 877.713 Q60.6663 878.099 61.0527 878.325 Q61.4392 878.55 61.6647 878.679 Q63.3716 879.613 64.1123 879.613 Q66.1735 879.613 66.4311 876.521 Q66.4311 875.458 67.2041 875.458 Q67.7838 875.458 68.1058 875.716 Q68.3957 875.974 68.4279 876.199 Q68.4601 876.392 68.4601 876.714 Q68.4601 877.777 68.3635 879.999 Q68.2669 882.222 68.2669 883.317 Q68.2669 884.251 68.3635 886.183 Q68.4601 888.115 68.4601 888.985 Q68.4601 889.371 68.2347 889.597 Q68.0092 889.822 67.7194 889.822 Q67.2685 889.822 67.0108 889.758 Q66.7532 889.661 66.6244 889.404 Q66.4955 889.146 66.4955 889.017 Q66.4633 888.888 66.4311 888.437 Q66.2701 885.99 65.1107 884.09 Q63.9191 882.157 60.8595 880.321 L22.3413 857.391 Q21.9548 857.165 21.7616 857.004 Q21.5684 856.843 21.4073 856.521 Q21.2463 856.167 21.2463 855.652 Q21.2463 854.847 21.5039 854.686 Q21.7294 854.525 22.8244 854.428 L64.0479 850.402 Q64.9175 850.306 65.2717 850.241 Q65.5938 850.145 65.948 849.726 Q66.2701 849.275 66.3667 848.47 Q66.4311 847.633 66.4311 846.087 Q66.4311 845.507 66.4633 845.281 Q66.4633 845.056 66.6244 844.831 Q66.7854 844.573 67.1397 844.573 M51.1655 857.326 L29.4266 859.42 L51.1655 872.431 L51.1655 857.326 Z\" fill=\"#000000\" fill-rule=\"evenodd\" fill-opacity=\"1\" /><path clip-path=\"url(#clip330)\" d=\"M63.409 817.703 Q63.9951 817.703 65.1449 817.86 Q66.2946 818.018 67.9629 818.401 Q69.6312 818.785 71.3896 819.348 Q73.148 819.889 74.9065 820.746 Q76.6424 821.603 78.0176 822.617 Q79.3928 823.632 80.2494 825.052 Q81.1061 826.472 81.1061 828.073 Q81.1061 828.817 80.9934 829.538 Q80.8807 830.26 80.52 831.161 Q80.1593 832.063 79.5731 832.717 Q78.9644 833.371 77.8823 833.822 Q76.8002 834.272 75.3799 834.272 Q73.9145 834.272 71.9532 833.731 Q69.9693 833.168 65.9114 831.635 Q63.8148 830.846 62.665 830.846 Q62.1465 830.846 61.8309 830.958 Q61.4927 831.071 61.38 831.297 Q61.2448 831.522 61.2222 831.657 Q61.1997 831.77 61.1997 831.995 Q61.1997 833.235 62.4847 834.498 Q63.7697 835.76 66.9259 836.662 Q67.4895 836.842 67.6247 836.955 Q67.76 837.068 67.76 837.406 Q67.7375 837.97 67.2866 837.97 Q67.1513 837.97 66.6328 837.812 Q66.0917 837.654 65.2801 837.361 Q64.446 837.068 63.5893 836.549 Q62.7101 836.031 61.9436 835.4 Q61.1771 834.746 60.6812 833.822 Q60.1852 832.897 60.1852 831.86 Q60.1852 830.169 61.2898 829.132 Q62.372 828.073 63.9726 828.073 Q64.8518 828.073 66.2721 828.636 Q68.8421 829.583 70.082 830.012 Q71.322 830.44 73.0804 830.891 Q74.8388 831.319 76.0562 831.319 Q77.9048 831.319 78.987 830.462 Q80.0691 829.606 80.0691 827.892 Q80.0691 826.359 78.9644 824.984 Q77.8372 823.587 76.2366 822.662 Q74.6134 821.738 72.8099 821.039 Q70.9838 820.34 69.6086 820.025 Q68.2109 819.686 67.5571 819.686 Q65.2801 819.686 63.7922 821.242 Q63.3639 821.67 63.0934 821.828 Q62.8228 821.986 62.3945 821.986 Q61.6055 821.986 60.9066 821.287 Q60.1852 820.566 60.1852 819.732 Q60.1852 818.965 60.9517 818.334 Q61.7182 817.703 63.409 817.703 Z\" fill=\"#000000\" fill-rule=\"evenodd\" fill-opacity=\"1\" /><path clip-path=\"url(#clip330)\" d=\"M51.9707 810.859 Q40.8275 810.859 31.842 806.705 Q28.0739 804.933 24.9178 802.454 Q21.7616 799.974 20.3767 798.331 Q18.9919 796.689 18.9919 796.238 Q18.9919 795.594 19.636 795.562 Q19.9581 795.562 20.7632 796.431 Q31.5844 807.059 51.9707 807.027 Q72.4214 807.027 82.8239 796.689 Q83.9511 795.562 84.3054 795.562 Q84.9495 795.562 84.9495 796.238 Q84.9495 796.689 83.6291 798.267 Q82.3086 799.845 79.2813 802.293 Q76.2539 804.74 72.5502 806.512 Q63.5648 810.859 51.9707 810.859 Z\" fill=\"#000000\" fill-rule=\"evenodd\" fill-opacity=\"1\" /><path clip-path=\"url(#clip330)\" d=\"M67.816 789.492 Q67.5583 789.492 65.8836 788.622 Q64.1767 787.753 58.0898 784.693 Q51.9707 781.634 45.5617 778.478 L22.6956 767.109 Q21.2463 766.304 21.2463 765.273 Q21.2463 764.339 21.826 763.921 Q22.4057 763.502 26.3026 761.569 Q28.2028 760.571 29.4266 759.991 L66.7532 741.344 Q67.5583 741.022 67.816 740.99 Q68.4601 740.99 68.4601 742.117 L68.4601 787.753 Q68.4601 789.492 67.816 789.492 M63.436 785.144 L63.436 749.653 L27.8163 767.399 L63.436 785.144 Z\" fill=\"#000000\" fill-rule=\"evenodd\" fill-opacity=\"1\" /><path clip-path=\"url(#clip330)\" d=\"M23.4041 720.735 L61.5358 730.236 Q63.0495 730.622 64.692 730.622 Q67.7194 730.622 67.7194 728.625 Q67.7194 727.691 67.1074 726.918 Q66.4633 726.145 65.2073 725.566 Q63.9191 724.954 62.6952 724.567 Q61.4714 724.149 59.5713 723.633 Q58.8305 723.472 58.6051 723.311 Q58.3797 723.15 58.3797 722.699 Q58.3797 721.894 59.0238 721.894 Q62.9851 722.699 65.4972 723.891 Q69.2008 725.63 69.2008 728.851 Q69.2008 731.266 67.5261 733.07 Q65.8192 734.841 63.1139 734.841 Q62.0833 734.841 60.8595 734.519 L27.8807 726.21 L26.5925 725.984 Q26.2382 725.984 26.045 726.113 Q25.8517 726.242 25.6585 727.015 Q25.4653 727.756 25.4653 729.237 Q25.4653 729.849 25.4331 730.139 Q25.4009 730.397 25.2398 730.654 Q25.0788 730.88 24.7245 730.88 Q24.1448 730.88 23.8228 730.654 Q23.5007 730.397 23.4363 730.203 Q23.3719 730.01 23.3397 729.624 Q23.3075 729.076 23.1464 727.24 Q22.9532 725.405 22.8244 723.827 Q22.6956 722.249 22.6956 721.572 Q22.6956 721.186 22.8888 720.993 Q23.0498 720.767 23.2431 720.735 L23.4041 720.735 Z\" fill=\"#000000\" fill-rule=\"evenodd\" fill-opacity=\"1\" /><path clip-path=\"url(#clip330)\" d=\"M84.3054 713.271 Q83.9833 713.271 83.1782 712.434 Q72.357 701.806 51.9707 701.806 Q31.52 701.806 21.1819 712.015 Q19.9903 713.271 19.636 713.271 Q18.9919 713.271 18.9919 712.627 Q18.9919 712.176 20.3123 710.598 Q21.6328 708.988 24.6601 706.572 Q27.6875 704.124 31.3911 702.321 Q40.3766 697.973 51.9707 697.973 Q63.1139 697.973 72.0994 702.128 Q75.8674 703.899 79.0236 706.379 Q82.1798 708.859 83.5646 710.501 Q84.9495 712.144 84.9495 712.627 Q84.9495 713.271 84.3054 713.271 Z\" fill=\"#000000\" fill-rule=\"evenodd\" fill-opacity=\"1\" /><path clip-path=\"url(#clip330)\" d=\"M781.466 74.8979 Q781.466 60.7156 786.753 49.2796 Q789.008 44.4839 792.164 40.4669 Q795.32 36.45 797.41 34.6874 Q799.501 32.9249 800.075 32.9249 Q800.895 32.9249 800.936 33.7447 Q800.936 34.1546 799.829 35.1793 Q786.302 48.9517 786.343 74.8979 Q786.343 100.926 799.501 114.166 Q800.936 115.6 800.936 116.051 Q800.936 116.871 800.075 116.871 Q799.501 116.871 797.492 115.19 Q795.484 113.51 792.369 109.657 Q789.254 105.804 786.999 101.09 Q781.466 89.6541 781.466 74.8979 Z\" fill=\"#000000\" fill-rule=\"evenodd\" fill-opacity=\"1\" /><path clip-path=\"url(#clip330)\" d=\"M848.13 43.4182 Q848.13 45.0987 846.695 46.4924 Q845.261 47.886 843.58 47.886 Q842.186 47.886 841.326 47.0252 Q840.506 46.1644 840.506 44.8528 Q840.506 43.0493 841.94 41.7376 Q843.375 40.385 844.933 40.385 Q846.367 40.385 847.228 41.2867 Q848.13 42.1475 848.13 43.4182 M845.015 66.4951 Q845.015 67.9297 844.605 69.6103 L836.899 100.352 Q836.161 103.344 834.398 105.804 Q832.636 108.304 830.382 109.862 Q828.168 111.419 825.75 112.239 Q823.372 113.1 821.118 113.1 Q817.962 113.1 815.83 111.706 Q813.699 110.313 813.699 107.894 Q813.699 105.763 815.093 104.41 Q816.527 103.099 818.249 103.099 Q819.806 103.099 820.626 104 Q821.446 104.902 821.446 106.05 Q821.446 107.443 820.421 108.755 Q819.437 110.067 817.675 110.477 Q819.273 111.255 820.954 111.255 Q824.397 111.255 827.184 108.099 Q830.013 104.984 831.242 100.065 L839.153 68.7495 Q839.727 66.2492 839.727 64.4867 Q839.727 62.8471 839.276 61.9453 Q838.825 61.0436 838.292 60.8386 Q837.801 60.6337 837.063 60.6337 Q833.825 60.6337 831.037 63.6259 Q828.25 66.5771 826.488 70.881 Q825.996 72.0697 825.75 72.3156 Q825.545 72.5615 824.971 72.5615 Q823.946 72.5205 823.946 71.7008 Q823.946 71.4548 824.356 70.4711 Q824.766 69.4873 825.504 68.0527 Q826.242 66.5771 827.43 64.9785 Q828.619 63.3799 830.013 61.9863 Q831.447 60.5927 833.374 59.6909 Q835.3 58.7891 837.309 58.7891 Q840.547 58.7891 842.76 60.9206 Q845.015 63.011 845.015 66.4951 Z\" fill=\"#000000\" fill-rule=\"evenodd\" fill-opacity=\"1\" /><path clip-path=\"url(#clip330)\" d=\"M886.048 100.167 Q886.048 101.746 885.043 102.721 Q884.068 103.697 882.834 103.697 Q881.945 103.697 881.285 103.152 Q880.653 102.606 880.653 101.66 Q880.653 100.684 881.399 99.651 Q882.145 98.6181 883.838 98.4746 Q882.719 97.413 880.94 97.413 Q880.051 97.413 879.305 97.9869 Q878.588 98.532 878.186 99.4215 Q877.756 100.34 876.78 105.533 Q876.464 107.226 876.177 108.861 Q875.891 110.497 875.546 112.218 L880.424 112.218 Q881.055 112.218 881.313 112.247 Q881.572 112.276 881.772 112.419 Q882.002 112.563 882.002 112.878 Q882.002 113.682 881.629 113.883 Q881.285 114.055 880.252 114.055 L875.202 114.055 L871.673 132.676 Q871.587 133.221 871.214 134.943 Q870.869 136.636 870.037 139.419 Q869.205 142.231 868.373 143.895 Q867.914 144.842 867.311 145.731 Q866.738 146.649 865.906 147.567 Q865.073 148.486 863.983 149.031 Q862.893 149.605 861.745 149.605 Q859.794 149.605 858.273 148.514 Q856.753 147.424 856.753 145.559 Q856.753 143.981 857.728 143.005 Q858.732 142.03 859.966 142.03 Q860.856 142.03 861.487 142.575 Q862.147 143.12 862.147 144.067 Q862.147 144.469 862.003 144.928 Q861.86 145.387 861.544 145.903 Q861.229 146.448 860.54 146.821 Q859.851 147.194 858.905 147.252 Q860.024 148.313 861.745 148.313 Q862.29 148.313 862.778 148.084 Q863.266 147.883 863.668 147.367 Q864.098 146.85 864.414 146.334 Q864.729 145.846 865.045 144.899 Q865.36 143.981 865.561 143.292 Q865.762 142.604 866.02 141.37 Q866.307 140.136 866.451 139.39 Q866.594 138.673 866.852 137.267 L871.242 114.055 L867.369 114.055 Q866.68 114.055 866.393 114.026 Q866.135 113.997 865.934 113.854 Q865.733 113.682 865.733 113.337 Q865.733 112.792 865.963 112.563 Q866.221 112.304 866.508 112.276 Q866.795 112.218 867.484 112.218 L871.558 112.218 Q872.935 104.959 873.48 103.008 Q874.112 100.942 875.087 99.5076 Q876.063 98.0442 877.153 97.3556 Q878.243 96.667 879.133 96.4088 Q880.051 96.1219 880.94 96.1219 Q882.949 96.1219 884.498 97.2122 Q886.048 98.2738 886.048 100.167 Z\" fill=\"#000000\" fill-rule=\"evenodd\" fill-opacity=\"1\" /><path clip-path=\"url(#clip330)\" d=\"M918.009 83.1368 Q918.091 82.112 919.69 82.112 L971.131 82.112 Q973.55 82.112 973.591 83.0548 Q973.591 84.0795 971.295 84.0385 L920.264 84.0385 Q918.009 84.0795 918.009 83.1368 M918.009 66.7411 Q918.009 65.7163 919.772 65.7573 L971.05 65.7573 Q973.55 65.7573 973.591 66.7411 Q973.591 67.6838 971.459 67.6838 L919.69 67.6838 Q918.009 67.6838 918.009 66.7411 Z\" fill=\"#000000\" fill-rule=\"evenodd\" fill-opacity=\"1\" /><path clip-path=\"url(#clip330)\" d=\"M1005.97 47.968 L1005.97 45.3447 Q1016.05 45.3447 1021.26 39.9751 Q1022.69 39.9751 1022.94 40.303 Q1023.18 40.6309 1023.18 42.1475 L1023.18 89.2442 Q1023.18 91.7445 1024.41 92.5233 Q1025.64 93.3021 1031.01 93.3021 L1033.68 93.3021 L1033.68 95.8844 Q1030.73 95.6385 1020.07 95.6385 Q1009.41 95.6385 1006.5 95.8844 L1006.5 93.3021 L1009.17 93.3021 Q1014.45 93.3021 1015.72 92.5643 Q1017 91.7855 1017 89.2442 L1017 45.7546 Q1012.61 47.968 1005.97 47.968 Z\" fill=\"#000000\" fill-rule=\"evenodd\" fill-opacity=\"1\" /><path clip-path=\"url(#clip330)\" d=\"M1048.73 94.5318 Q1047.54 93.1791 1047.54 91.4166 Q1047.54 89.6541 1048.69 88.3424 Q1049.88 86.9898 1052.01 86.9898 Q1054.51 86.9898 1055.94 89.4081 Q1057.38 91.7855 1057.38 95.8025 Q1057.38 100.147 1055.61 104.164 Q1053.85 108.222 1052.13 110.149 Q1050.41 112.075 1049.71 112.075 Q1048.89 112.075 1048.89 111.173 Q1048.89 110.846 1049.47 110.231 Q1055.49 103.754 1055.53 95.8025 Q1055.53 94.5318 1055.37 94.5318 L1055.16 94.6957 Q1053.73 95.8844 1052.01 95.8844 Q1049.92 95.8844 1048.73 94.5318 Z\" fill=\"#000000\" fill-rule=\"evenodd\" fill-opacity=\"1\" /><path clip-path=\"url(#clip330)\" d=\"M1105.3 43.4182 Q1105.3 45.2217 1103.83 46.5743 Q1102.39 47.886 1100.84 47.886 Q1099.4 47.886 1098.5 47.0252 Q1097.64 46.1235 1097.64 44.8528 Q1097.64 43.1722 1099.07 41.7786 Q1100.51 40.385 1102.19 40.385 Q1103.58 40.385 1104.44 41.2457 Q1105.3 42.1065 1105.3 43.4182 M1106.04 83.8746 Q1106.04 84.2025 1105.67 85.5142 Q1105.3 86.7848 1104.4 88.7523 Q1103.54 90.6788 1102.35 92.4823 Q1101.16 94.2859 1099.2 95.5565 Q1097.27 96.8272 1095.06 96.8272 Q1092.06 96.8272 1090.1 94.8597 Q1088.17 92.8922 1088.17 89.941 Q1088.17 88.3424 1090.1 83.2188 Q1095.67 68.2987 1095.88 67.6838 Q1096.82 65.3474 1096.82 63.298 Q1096.82 62.3552 1096.61 61.7814 Q1096.41 61.1665 1096 60.9616 Q1095.59 60.7156 1095.34 60.6746 Q1095.14 60.6337 1094.73 60.6337 Q1092.31 60.6337 1090.06 63.093 Q1087.8 65.5524 1086.24 71.0449 Q1085.92 72.0697 1085.71 72.3156 Q1085.51 72.5615 1084.89 72.5615 Q1083.87 72.5205 1083.87 71.7008 Q1083.87 71.4548 1084.15 70.5121 Q1084.44 69.5283 1084.97 68.0527 Q1085.51 66.5361 1086.45 64.9785 Q1087.39 63.3799 1088.54 61.9863 Q1089.73 60.5927 1091.41 59.6909 Q1093.09 58.7891 1094.97 58.7891 Q1098.05 58.7891 1099.93 60.7976 Q1101.86 62.7651 1101.86 65.6753 Q1101.86 67.2739 1100.75 70.1022 Q1099.4 73.7912 1098.91 74.9799 L1095.63 83.7926 Q1094.44 86.9898 1094.07 87.9735 Q1093.74 88.9163 1093.46 90.064 Q1093.21 91.1707 1093.21 92.1954 Q1093.21 93.63 1093.66 94.2859 Q1094.15 94.9417 1095.22 94.9417 Q1098.17 94.9417 1100.34 92.0314 Q1102.52 89.0802 1103.79 84.5714 Q1103.83 84.4484 1103.87 84.2435 Q1104.2 83.2188 1104.53 83.0958 Q1104.69 83.0548 1105.02 83.0548 Q1106.04 83.0548 1106.04 83.8746 Z\" fill=\"#000000\" fill-rule=\"evenodd\" fill-opacity=\"1\" /><path clip-path=\"url(#clip330)\" d=\"M1137.13 105.45 Q1137.36 105.708 1137.36 105.967 Q1137.36 106.225 1136.79 106.971 Q1136.24 107.717 1135.07 108.721 Q1133.89 109.725 1132.37 110.672 Q1130.85 111.619 1128.61 112.25 Q1126.37 112.91 1124.02 112.91 Q1119.8 112.91 1117.28 109.898 Q1114.78 106.885 1114.78 102.265 Q1114.78 99.3101 1115.76 96.699 Q1116.73 94.0593 1118.31 92.1943 Q1119.92 90.3293 1121.92 88.9808 Q1123.96 87.6035 1126.08 86.9436 Q1128.21 86.2837 1130.19 86.2837 Q1133.09 86.2837 1134.78 87.747 Q1136.47 89.2103 1136.47 91.2762 Q1136.47 91.7639 1136.33 92.3665 Q1136.21 92.969 1135.81 93.9159 Q1135.44 94.8627 1134.46 95.8096 Q1133.49 96.7277 1132.05 97.3303 Q1128.87 98.6788 1123.07 98.6788 L1119.94 98.6788 Q1119.03 102.38 1119.03 104.79 Q1119.03 105.737 1119.2 106.713 Q1119.37 107.66 1119.83 108.865 Q1120.32 110.07 1121.41 110.844 Q1122.53 111.59 1124.13 111.59 Q1124.65 111.59 1125.19 111.562 Q1125.77 111.533 1127.2 111.217 Q1128.67 110.902 1129.96 110.357 Q1131.25 109.812 1132.88 108.635 Q1134.55 107.43 1135.87 105.795 Q1136.33 105.192 1136.64 105.192 Q1136.9 105.192 1137.13 105.45 M1134.52 91.2762 Q1134.52 89.6981 1133.34 88.6365 Q1132.2 87.5748 1130.19 87.5748 Q1129.56 87.5748 1128.78 87.7183 Q1128.01 87.8618 1126.72 88.4643 Q1125.45 89.0668 1124.33 90.0711 Q1123.22 91.0466 1122.1 92.969 Q1120.98 94.8627 1120.32 97.3877 L1122.73 97.3877 Q1123.56 97.3877 1124.16 97.3877 Q1124.76 97.359 1126.08 97.2442 Q1127.43 97.1294 1128.41 96.9286 Q1129.38 96.699 1130.62 96.24 Q1131.85 95.7809 1132.63 95.1783 Q1133.43 94.5471 1133.97 93.5429 Q1134.52 92.5386 1134.52 91.2762 Z\" fill=\"#000000\" fill-rule=\"evenodd\" fill-opacity=\"1\" /><path clip-path=\"url(#clip330)\" d=\"M1169.39 83.1368 Q1169.47 82.112 1171.07 82.112 L1222.51 82.112 Q1224.93 82.112 1224.97 83.0548 Q1224.97 84.0795 1222.67 84.0385 L1171.64 84.0385 Q1169.39 84.0795 1169.39 83.1368 M1169.39 66.7411 Q1169.39 65.7163 1171.15 65.7573 L1222.43 65.7573 Q1224.93 65.7573 1224.97 66.7411 Q1224.97 67.6838 1222.84 67.6838 L1171.07 67.6838 Q1169.39 67.6838 1169.39 66.7411 Z\" fill=\"#000000\" fill-rule=\"evenodd\" fill-opacity=\"1\" /><path clip-path=\"url(#clip330)\" d=\"M1257.35 47.968 L1257.35 45.3447 Q1267.43 45.3447 1272.64 39.9751 Q1274.07 39.9751 1274.32 40.303 Q1274.56 40.6309 1274.56 42.1475 L1274.56 89.2442 Q1274.56 91.7445 1275.79 92.5233 Q1277.02 93.3021 1282.39 93.3021 L1285.06 93.3021 L1285.06 95.8844 Q1282.1 95.6385 1271.45 95.6385 Q1260.79 95.6385 1257.88 95.8844 L1257.88 93.3021 L1260.54 93.3021 Q1265.83 93.3021 1267.1 92.5643 Q1268.37 91.7855 1268.37 89.2442 L1268.37 45.7546 Q1263.99 47.968 1257.35 47.968 Z\" fill=\"#000000\" fill-rule=\"evenodd\" fill-opacity=\"1\" /><path clip-path=\"url(#clip330)\" d=\"M1300.11 94.5318 Q1298.92 93.1791 1298.92 91.4166 Q1298.92 89.6541 1300.06 88.3424 Q1301.25 86.9898 1303.38 86.9898 Q1305.88 86.9898 1307.32 89.4081 Q1308.75 91.7855 1308.75 95.8025 Q1308.75 100.147 1306.99 104.164 Q1305.23 108.222 1303.51 110.149 Q1301.79 112.075 1301.09 112.075 Q1300.27 112.075 1300.27 111.173 Q1300.27 110.846 1300.84 110.231 Q1306.87 103.754 1306.91 95.8025 Q1306.91 94.5318 1306.75 94.5318 L1306.54 94.6957 Q1305.11 95.8844 1303.38 95.8844 Q1301.29 95.8844 1300.11 94.5318 Z\" fill=\"#000000\" fill-rule=\"evenodd\" fill-opacity=\"1\" /><path clip-path=\"url(#clip330)\" d=\"M1379.31 60.5517 Q1379.31 60.8796 1377.71 63.7488 Q1375.04 69.0365 1371.64 77.1113 Q1368.24 85.1862 1366.31 91.1707 Q1365.9 92.6053 1365.62 94.4498 Q1364.88 100.106 1362.5 108.878 Q1361.68 111.624 1361.15 112.772 Q1360.62 113.92 1359.84 113.92 Q1358.73 113.92 1358.73 112.403 Q1358.73 110.887 1360.12 105.23 Q1361.56 99.5735 1363.12 94.3678 Q1364.1 91.4986 1364.1 86.129 Q1364.1 84.4074 1364.02 82.8498 Q1363.94 81.2923 1363.61 79.0378 Q1363.28 76.7834 1362.75 74.9389 Q1362.21 73.0944 1361.19 71.1679 Q1360.16 69.2004 1358.77 67.8888 Q1357.38 66.5361 1355.25 65.6753 Q1353.16 64.8146 1350.53 64.8146 Q1349.88 64.8146 1349.06 64.8965 Q1348.28 64.9375 1346.39 65.4704 Q1344.55 66.0033 1342.99 66.946 Q1341.43 67.8478 1339.75 69.8562 Q1338.07 71.8647 1337.17 74.57 L1336.84 74.9799 Q1336.31 74.9799 1336.02 74.9799 Q1335.78 74.9389 1335.49 74.734 Q1335.24 74.529 1335.24 74.1601 Q1335.24 73.2993 1335.9 71.5778 Q1336.6 69.8562 1337.99 67.6428 Q1339.42 65.4294 1341.27 63.4619 Q1343.15 61.4944 1345.9 60.1418 Q1348.65 58.7891 1351.6 58.7891 Q1359.18 58.7891 1362.79 68.0117 Q1365.94 75.8407 1366.23 85.1452 Q1372.79 68.6266 1377.3 60.3057 Q1377.54 59.6909 1378.28 59.6909 Q1379.31 59.7319 1379.31 60.5517 Z\" fill=\"#000000\" fill-rule=\"evenodd\" fill-opacity=\"1\" /><path clip-path=\"url(#clip330)\" d=\"M1401.57 83.1368 Q1401.65 82.112 1403.25 82.112 L1454.69 82.112 Q1457.11 82.112 1457.15 83.0548 Q1457.15 84.0795 1454.85 84.0385 L1403.82 84.0385 Q1401.57 84.0795 1401.57 83.1368 M1401.57 66.7411 Q1401.57 65.7163 1403.33 65.7573 L1454.61 65.7573 Q1457.11 65.7573 1457.15 66.7411 Q1457.15 67.6838 1455.02 67.6838 L1403.25 67.6838 Q1401.57 67.6838 1401.57 66.7411 Z\" fill=\"#000000\" fill-rule=\"evenodd\" fill-opacity=\"1\" /><path clip-path=\"url(#clip330)\" d=\"M1489.53 47.968 L1489.53 45.3447 Q1499.61 45.3447 1504.81 39.9751 Q1506.25 39.9751 1506.5 40.303 Q1506.74 40.6309 1506.74 42.1475 L1506.74 89.2442 Q1506.74 91.7445 1507.97 92.5233 Q1509.2 93.3021 1514.57 93.3021 L1517.23 93.3021 L1517.23 95.8844 Q1514.28 95.6385 1503.63 95.6385 Q1492.97 95.6385 1490.06 95.8844 L1490.06 93.3021 L1492.72 93.3021 Q1498.01 93.3021 1499.28 92.5643 Q1500.55 91.7855 1500.55 89.2442 L1500.55 45.7546 Q1496.17 47.968 1489.53 47.968 Z\" fill=\"#000000\" fill-rule=\"evenodd\" fill-opacity=\"1\" /><path clip-path=\"url(#clip330)\" d=\"M1529.75 116.051 Q1529.75 115.641 1530.82 114.617 Q1544.34 100.844 1544.34 74.8979 Q1544.34 48.8697 1531.35 35.7122 Q1529.75 34.1956 1529.75 33.7447 Q1529.75 32.9249 1530.57 32.9249 Q1531.15 32.9249 1533.15 34.6055 Q1535.2 36.286 1538.28 40.139 Q1541.39 43.992 1543.69 48.7058 Q1549.22 60.1418 1549.22 74.8979 Q1549.22 89.0802 1543.93 100.516 Q1541.68 105.312 1538.52 109.329 Q1535.37 113.346 1533.28 115.108 Q1531.19 116.871 1530.57 116.871 Q1529.75 116.871 1529.75 116.051 Z\" fill=\"#000000\" fill-rule=\"evenodd\" fill-opacity=\"1\" /><path clip-path=\"url(#clip330)\" d=\"M1631.89 94.6138 Q1631.48 95.1056 1630.75 95.1056 Q1630.05 95.1056 1629.56 94.6138 L1612.18 77.2343 L1594.8 94.6138 Q1594.31 95.1056 1593.57 95.1056 Q1592.87 95.1056 1592.42 94.6138 Q1591.93 94.1629 1591.93 93.4661 Q1591.93 92.7693 1592.42 92.2774 L1609.8 74.8979 L1592.42 57.5185 Q1591.93 57.0266 1591.93 56.3298 Q1591.93 55.592 1592.42 55.1821 Q1592.87 54.6902 1593.57 54.6902 Q1594.31 54.6902 1594.8 55.1821 L1612.18 72.5615 L1629.56 55.1821 Q1630.05 54.6902 1630.75 54.6902 Q1631.48 54.6902 1631.89 55.1821 Q1632.39 55.592 1632.39 56.3298 Q1632.39 57.0266 1631.89 57.5185 L1614.52 74.8979 L1631.89 92.2774 Q1632.39 92.7693 1632.39 93.5071 Q1632.39 94.2039 1631.89 94.6138 Z\" fill=\"#000000\" fill-rule=\"evenodd\" fill-opacity=\"1\" /><path clip-path=\"url(#clip330)\" d=\"M1671.95 47.968 L1671.95 45.3447 Q1682.04 45.3447 1687.24 39.9751 Q1688.68 39.9751 1688.92 40.303 Q1689.17 40.6309 1689.17 42.1475 L1689.17 89.2442 Q1689.17 91.7445 1690.4 92.5233 Q1691.63 93.3021 1697 93.3021 L1699.66 93.3021 L1699.66 95.8844 Q1696.71 95.6385 1686.05 95.6385 Q1675.4 95.6385 1672.49 95.8844 L1672.49 93.3021 L1675.15 93.3021 Q1680.44 93.3021 1681.71 92.5643 Q1682.98 91.7855 1682.98 89.2442 L1682.98 45.7546 Q1678.59 47.968 1671.95 47.968 Z\" fill=\"#000000\" fill-rule=\"evenodd\" fill-opacity=\"1\" /><path clip-path=\"url(#clip330)\" d=\"M1713.52 69.0365 Q1713.52 56.6987 1716.64 49.9764 Q1720.98 39.9751 1731.23 39.9751 Q1733.4 39.9751 1735.66 40.5899 Q1737.95 41.1638 1740.82 43.4182 Q1743.73 45.6726 1745.5 49.3616 Q1748.86 56.4937 1748.86 69.0365 Q1748.86 81.2923 1745.74 87.9735 Q1741.19 97.729 1731.15 97.729 Q1727.38 97.729 1723.52 95.8025 Q1719.71 93.876 1717.29 89.2442 Q1713.52 82.317 1713.52 69.0365 M1720.49 68.0117 Q1720.49 80.6774 1721.39 85.7191 Q1722.42 91.1707 1725.21 93.548 Q1728.03 95.8844 1731.15 95.8844 Q1734.51 95.8844 1737.3 93.3841 Q1740.13 90.8428 1740.99 85.3912 Q1741.93 80.0216 1741.89 68.0117 Q1741.89 56.3298 1741.07 51.657 Q1739.96 46.2054 1737.01 44.033 Q1734.1 41.8196 1731.15 41.8196 Q1730.04 41.8196 1728.85 42.1475 Q1727.71 42.4754 1726.03 43.4182 Q1724.34 44.3609 1723.03 46.6973 Q1721.76 49.0337 1721.15 52.5588 Q1720.49 57.1086 1720.49 68.0117 Z\" fill=\"#000000\" fill-rule=\"evenodd\" fill-opacity=\"1\" /><path clip-path=\"url(#clip330)\" d=\"M1757.47 24.9492 Q1757.47 21.8217 1758.39 19.6985 Q1759.3 17.5465 1761.23 15.4233 Q1764.76 11.7219 1769.86 11.7219 Q1772.04 11.7219 1773.97 12.6401 Q1775.92 13.5583 1777.75 15.6528 Q1779.62 17.7187 1780.74 21.8217 Q1781.86 25.896 1781.86 31.5198 Q1781.86 40.6153 1777.44 46.3825 Q1773.05 52.1497 1767.11 52.1497 Q1763.35 52.1497 1761.14 50.4568 Q1758.93 48.7353 1758.93 45.8086 Q1758.93 44.2879 1759.79 43.6567 Q1760.65 42.9968 1761.63 42.9968 Q1762.69 42.9968 1763.52 43.7141 Q1764.35 44.4027 1764.35 45.6939 Q1764.35 46.7555 1763.67 47.5876 Q1763.01 48.3909 1761.28 48.3909 Q1762.98 50.5142 1767.05 50.5142 Q1768.51 50.5142 1769.98 49.8543 Q1771.44 49.1656 1773.02 47.5302 Q1774.63 45.866 1775.6 42.3942 Q1776.58 38.9224 1776.58 34.0447 L1776.58 32.1797 Q1774.22 38.0616 1769.23 38.0616 Q1764.3 38.0616 1760.88 34.2742 Q1757.47 30.4868 1757.47 24.9492 M1762.75 25.0066 Q1762.75 30.8311 1763.81 32.9831 Q1765.62 36.6844 1769.29 36.6844 Q1772.88 36.6844 1774.65 33.4995 Q1776.46 30.286 1776.46 26.1256 Q1776.46 20.3584 1775.52 17.8334 Q1773.77 13.1853 1769.86 13.1853 Q1765.99 13.1853 1763.98 16.8866 Q1762.75 19.0672 1762.75 25.0066 Z\" fill=\"#000000\" fill-rule=\"evenodd\" fill-opacity=\"1\" /><circle clip-path=\"url(#clip332)\" cx=\"279.669\" cy=\"1387.28\" r=\"14\" fill=\"#009af9\" fill-rule=\"evenodd\" fill-opacity=\"1\" stroke=\"#000000\" stroke-opacity=\"1\" stroke-width=\"3.2\"/>\n",
       "<circle clip-path=\"url(#clip332)\" cx=\"413.849\" cy=\"806.62\" r=\"14\" fill=\"#009af9\" fill-rule=\"evenodd\" fill-opacity=\"1\" stroke=\"#000000\" stroke-opacity=\"1\" stroke-width=\"3.2\"/>\n",
       "<circle clip-path=\"url(#clip332)\" cx=\"548.03\" cy=\"516.502\" r=\"14\" fill=\"#009af9\" fill-rule=\"evenodd\" fill-opacity=\"1\" stroke=\"#000000\" stroke-opacity=\"1\" stroke-width=\"3.2\"/>\n",
       "<circle clip-path=\"url(#clip332)\" cx=\"682.21\" cy=\"384.058\" r=\"14\" fill=\"#009af9\" fill-rule=\"evenodd\" fill-opacity=\"1\" stroke=\"#000000\" stroke-opacity=\"1\" stroke-width=\"3.2\"/>\n",
       "<circle clip-path=\"url(#clip332)\" cx=\"816.39\" cy=\"318.26\" r=\"14\" fill=\"#009af9\" fill-rule=\"evenodd\" fill-opacity=\"1\" stroke=\"#000000\" stroke-opacity=\"1\" stroke-width=\"3.2\"/>\n",
       "<circle clip-path=\"url(#clip332)\" cx=\"950.571\" cy=\"281.448\" r=\"14\" fill=\"#009af9\" fill-rule=\"evenodd\" fill-opacity=\"1\" stroke=\"#000000\" stroke-opacity=\"1\" stroke-width=\"3.2\"/>\n",
       "<circle clip-path=\"url(#clip332)\" cx=\"1084.75\" cy=\"258.694\" r=\"14\" fill=\"#009af9\" fill-rule=\"evenodd\" fill-opacity=\"1\" stroke=\"#000000\" stroke-opacity=\"1\" stroke-width=\"3.2\"/>\n",
       "<circle clip-path=\"url(#clip332)\" cx=\"1218.93\" cy=\"243.408\" r=\"14\" fill=\"#009af9\" fill-rule=\"evenodd\" fill-opacity=\"1\" stroke=\"#000000\" stroke-opacity=\"1\" stroke-width=\"3.2\"/>\n",
       "<circle clip-path=\"url(#clip332)\" cx=\"1353.11\" cy=\"232.506\" r=\"14\" fill=\"#009af9\" fill-rule=\"evenodd\" fill-opacity=\"1\" stroke=\"#000000\" stroke-opacity=\"1\" stroke-width=\"3.2\"/>\n",
       "<circle clip-path=\"url(#clip332)\" cx=\"1487.29\" cy=\"224.388\" r=\"14\" fill=\"#009af9\" fill-rule=\"evenodd\" fill-opacity=\"1\" stroke=\"#000000\" stroke-opacity=\"1\" stroke-width=\"3.2\"/>\n",
       "<circle clip-path=\"url(#clip332)\" cx=\"1621.47\" cy=\"218.145\" r=\"14\" fill=\"#009af9\" fill-rule=\"evenodd\" fill-opacity=\"1\" stroke=\"#000000\" stroke-opacity=\"1\" stroke-width=\"3.2\"/>\n",
       "<circle clip-path=\"url(#clip332)\" cx=\"1755.65\" cy=\"213.237\" r=\"14\" fill=\"#009af9\" fill-rule=\"evenodd\" fill-opacity=\"1\" stroke=\"#000000\" stroke-opacity=\"1\" stroke-width=\"3.2\"/>\n",
       "<circle clip-path=\"url(#clip332)\" cx=\"1889.83\" cy=\"209.304\" r=\"14\" fill=\"#009af9\" fill-rule=\"evenodd\" fill-opacity=\"1\" stroke=\"#000000\" stroke-opacity=\"1\" stroke-width=\"3.2\"/>\n",
       "<circle clip-path=\"url(#clip332)\" cx=\"2024.01\" cy=\"206.109\" r=\"14\" fill=\"#009af9\" fill-rule=\"evenodd\" fill-opacity=\"1\" stroke=\"#000000\" stroke-opacity=\"1\" stroke-width=\"3.2\"/>\n",
       "<circle clip-path=\"url(#clip332)\" cx=\"2158.19\" cy=\"203.479\" r=\"14\" fill=\"#009af9\" fill-rule=\"evenodd\" fill-opacity=\"1\" stroke=\"#000000\" stroke-opacity=\"1\" stroke-width=\"3.2\"/>\n",
       "<circle clip-path=\"url(#clip332)\" cx=\"2292.37\" cy=\"201.292\" r=\"14\" fill=\"#009af9\" fill-rule=\"evenodd\" fill-opacity=\"1\" stroke=\"#000000\" stroke-opacity=\"1\" stroke-width=\"3.2\"/>\n",
       "<polyline clip-path=\"url(#clip332)\" style=\"stroke:#e26f46; stroke-linecap:butt; stroke-linejoin:round; stroke-width:12; stroke-opacity:1; fill:none\" points=\"\n",
       "  -1914.18,190.489 4486.22,190.489 \n",
       "  \"/>\n",
       "<path clip-path=\"url(#clip330)\" d=\"M2092.41 115.014 L2092.41 115.167 Q2091.19 120.876 2088.72 124.035 Q2086.28 127.194 2081.6 128.336 Q2080.42 128.64 2078.86 128.64 Q2075.55 128.64 2072.31 127.08 Q2069.08 125.481 2065.46 122.741 Q2063.21 121.066 2061.92 120.191 Q2060.63 119.315 2058.53 118.44 Q2056.48 117.527 2054.69 117.527 Q2053.7 117.527 2052.67 117.755 Q2048.52 118.821 2046.09 121.028 Q2043.69 123.236 2042.77 127.423 Q2042.62 128.108 2041.82 128.108 Q2041.44 128.108 2041.18 127.841 Q2040.91 127.575 2040.91 127.156 L2040.91 127.004 Q2042.13 121.295 2044.56 118.136 Q2047.04 114.976 2051.72 113.835 Q2052.98 113.53 2054.46 113.53 Q2057.73 113.53 2060.97 115.129 Q2064.2 116.689 2067.86 119.468 Q2069.53 120.724 2070.48 121.409 Q2071.47 122.056 2073 122.969 Q2074.52 123.883 2075.93 124.301 Q2077.33 124.682 2078.7 124.682 Q2079.62 124.682 2080.65 124.454 Q2084.79 123.388 2087.19 121.18 Q2089.63 118.973 2090.54 114.786 Q2090.85 114.063 2091.49 114.063 Q2091.87 114.063 2092.14 114.329 Q2092.41 114.596 2092.41 115.014 M2092.41 132.18 L2092.41 132.332 Q2091.19 138.042 2088.72 141.201 Q2086.28 144.36 2081.6 145.502 Q2080.42 145.806 2078.86 145.806 Q2075.58 145.806 2072.35 144.246 Q2069.11 142.647 2065.46 139.869 Q2063.21 138.194 2061.92 137.319 Q2060.63 136.443 2058.53 135.568 Q2056.48 134.654 2054.69 134.654 Q2053.7 134.654 2052.67 134.883 Q2048.52 135.948 2046.09 138.156 Q2043.69 140.363 2042.77 144.55 Q2042.62 145.273 2041.82 145.273 Q2041.44 145.273 2041.18 145.007 Q2040.91 144.741 2040.91 144.322 L2040.91 144.17 Q2042.13 138.46 2044.56 135.301 Q2047.04 132.142 2051.72 131 Q2052.98 130.696 2054.46 130.696 Q2057.77 130.696 2061.01 132.294 Q2064.24 133.855 2067.86 136.595 Q2069.53 137.851 2070.48 138.536 Q2071.47 139.184 2073 140.097 Q2074.52 141.01 2075.93 141.429 Q2077.33 141.81 2078.7 141.81 Q2079.62 141.81 2080.65 141.581 Q2084.79 140.516 2087.19 138.308 Q2089.63 136.101 2090.54 131.914 Q2090.81 131.229 2091.49 131.229 Q2091.87 131.229 2092.14 131.495 Q2092.41 131.762 2092.41 132.18 Z\" fill=\"#000000\" fill-rule=\"evenodd\" fill-opacity=\"1\" /><path clip-path=\"url(#clip330)\" d=\"M2122.21 104.662 L2122.21 102.226 Q2131.57 102.226 2136.41 97.2398 Q2137.74 97.2398 2137.97 97.5443 Q2138.2 97.8488 2138.2 99.257 L2138.2 142.99 Q2138.2 145.311 2139.34 146.035 Q2140.48 146.758 2145.47 146.758 L2147.94 146.758 L2147.94 149.156 Q2145.2 148.927 2135.3 148.927 Q2125.41 148.927 2122.7 149.156 L2122.7 146.758 L2125.18 146.758 Q2130.09 146.758 2131.27 146.073 Q2132.45 145.349 2132.45 142.99 L2132.45 102.606 Q2128.38 104.662 2122.21 104.662 Z\" fill=\"#000000\" fill-rule=\"evenodd\" fill-opacity=\"1\" /><path clip-path=\"url(#clip330)\" d=\"M2154.12 147.9 Q2152.94 146.644 2152.94 145.007 Q2152.94 143.37 2154.12 142.19 Q2155.3 140.972 2157.09 140.972 Q2158.8 140.972 2159.94 142.114 Q2161.12 143.218 2161.12 145.045 Q2161.12 146.834 2159.86 148.014 Q2158.65 149.156 2157.09 149.156 Q2155.3 149.156 2154.12 147.9 Z\" fill=\"#000000\" fill-rule=\"evenodd\" fill-opacity=\"1\" /><path clip-path=\"url(#clip330)\" d=\"M2174.39 136.291 L2174.39 133.893 L2198.33 97.3159 Q2198.94 96.3644 2199.89 96.4024 Q2200.76 96.4024 2200.95 96.745 Q2201.14 97.0875 2201.14 98.4197 L2201.14 133.893 L2208.95 133.893 L2208.95 136.291 L2201.14 136.291 L2201.14 143.066 Q2201.14 145.311 2202.06 146.035 Q2203.01 146.758 2207.04 146.758 L2208.68 146.758 L2208.68 149.156 Q2205.48 148.927 2198.1 148.927 Q2190.75 148.927 2187.56 149.156 L2187.56 146.758 L2189.19 146.758 Q2193.23 146.758 2194.18 146.073 Q2195.13 145.349 2195.13 143.066 L2195.13 136.291 L2174.39 136.291 M2176.59 133.893 L2195.59 133.893 L2195.59 104.814 L2176.59 133.893 Z\" fill=\"#000000\" fill-rule=\"evenodd\" fill-opacity=\"1\" /><path clip-path=\"url(#clip330)\" d=\"M2214.86 124.53 Q2214.86 112.274 2221.1 104.776 Q2227.34 97.2398 2235.37 97.2398 Q2240.06 97.2398 2242.64 99.6377 Q2245.27 101.997 2245.27 105.651 Q2245.27 107.669 2244.09 108.544 Q2242.91 109.419 2241.69 109.419 Q2240.28 109.419 2239.18 108.468 Q2238.08 107.516 2238.08 105.804 Q2238.08 102.302 2242.38 102.302 Q2240.36 99.1809 2235.53 99.1809 Q2234.04 99.1809 2232.52 99.6377 Q2231 100.056 2229.02 101.503 Q2227.04 102.949 2225.52 105.233 Q2223.99 107.516 2222.93 111.817 Q2221.86 116.118 2221.86 121.713 L2221.86 123.578 Q2225.06 115.852 2231.61 115.89 Q2238.15 115.89 2242.68 120.876 Q2247.21 125.862 2247.21 133.246 Q2247.21 140.82 2242.49 145.844 Q2237.77 150.868 2231.15 150.868 Q2228.18 150.868 2225.48 149.612 Q2222.81 148.394 2220.3 145.578 Q2217.83 142.761 2216.34 137.357 Q2214.86 131.952 2214.86 124.53 M2222.02 131.533 Q2222.02 139.184 2223.42 142.837 Q2223.65 143.446 2224.15 144.284 Q2224.68 145.121 2225.55 146.225 Q2226.47 147.291 2227.95 148.014 Q2229.44 148.699 2231.15 148.699 Q2236.36 148.699 2238.88 143.637 Q2240.21 140.82 2240.21 133.17 Q2240.21 125.367 2238.8 122.513 Q2236.4 117.679 2231.53 117.679 Q2228.26 117.679 2225.97 119.924 Q2223.73 122.17 2222.85 125.177 Q2222.02 128.184 2222.02 131.533 Z\" fill=\"#000000\" fill-rule=\"evenodd\" fill-opacity=\"1\" /><path clip-path=\"url(#clip330)\" d=\"M2253.77 149.156 Q2253.77 147.747 2253.89 147.329 Q2254.04 146.91 2254.65 146.263 L2269.61 129.592 Q2277.79 120.381 2277.79 112.35 Q2277.79 107.136 2275.05 103.406 Q2272.35 99.6757 2267.36 99.6757 Q2263.94 99.6757 2261.04 101.769 Q2258.15 103.862 2256.82 107.593 Q2257.05 107.516 2257.85 107.516 Q2259.79 107.516 2260.85 108.734 Q2261.96 109.952 2261.96 111.589 Q2261.96 113.682 2260.59 114.71 Q2259.25 115.7 2257.92 115.7 Q2257.39 115.7 2256.67 115.585 Q2255.98 115.471 2254.88 114.406 Q2253.77 113.302 2253.77 111.361 Q2253.77 105.918 2257.88 101.579 Q2262.03 97.2398 2268.35 97.2398 Q2275.51 97.2398 2280.19 101.503 Q2284.91 105.727 2284.91 112.35 Q2284.91 114.672 2284.18 116.803 Q2283.5 118.897 2282.55 120.533 Q2281.63 122.17 2279.12 124.796 Q2276.61 127.423 2274.59 129.288 Q2272.58 131.153 2268.05 135.111 L2259.79 143.142 L2273.83 143.142 Q2280.68 143.142 2281.22 142.533 Q2281.98 141.429 2282.93 135.606 L2284.91 135.606 L2282.7 149.156 L2253.77 149.156 Z\" fill=\"#000000\" fill-rule=\"evenodd\" fill-opacity=\"1\" /></svg>\n"
      ]
     },
     "execution_count": 23,
     "metadata": {},
     "output_type": "execute_result"
    }
   ],
   "source": [
    "scatter(Dls, Av_Dl*10^9, title = L\"(j_f=1,i_e=1,\\gamma=1)\\times 10^9\", \n",
    "    xlabel=L\"\\Delta l\",ylabel=L\"A_v(\\Delta l)\",legend = false)\n",
    "hline!([Av_ex*10^9],linewidth=3)\n",
    "annotate!(15, 1.51, text(L\"\\approx 1.462\", :right, 13))"
   ]
  },
  {
   "cell_type": "markdown",
   "metadata": {
    "slideshow": {
     "slide_type": "slide"
    },
    "tags": []
   },
   "source": [
    "## More?\n",
    "We will compute a slightly more complex spin foam amplitute. Few steps:\n",
    "1. Fix the 2-complex\n",
    "2. Write the amplitude\n",
    "3. Translate it to code\n",
    "4. Profit"
   ]
  },
  {
   "cell_type": "markdown",
   "metadata": {
    "slideshow": {
     "slide_type": "slide"
    },
    "tags": []
   },
   "source": [
    "## Fix the 2-complex ($\\Delta_4$)\n",
    "\n",
    "<img src=\"./img/2complex.svg\">\n",
    "\n"
   ]
  },
  {
   "cell_type": "markdown",
   "metadata": {
    "slideshow": {
     "slide_type": "subslide"
    },
    "tags": []
   },
   "source": [
    "## Fix the 2-complex (triangulation)\n",
    "\n",
    "<img src=\"./img/triangulation.svg\">\n",
    "\n"
   ]
  },
  {
   "cell_type": "markdown",
   "metadata": {
    "slideshow": {
     "slide_type": "subslide"
    },
    "tags": []
   },
   "source": [
    "## Fix the 2-complex (exploded triangulation)\n",
    "\n",
    "<img src=\"./img/triangulation_exploded.svg\">\n",
    "\n"
   ]
  },
  {
   "cell_type": "markdown",
   "metadata": {
    "slideshow": {
     "slide_type": "slide"
    },
    "tags": []
   },
   "source": [
    "## Write the amplitude\n",
    "Four vertex amplitudes\n",
    "\n",
    "<img src=\"./img/d4foamvertex.svg\">\n",
    "\n",
    "Summing over the bulk spin with face amplitude $2j_{\\mathrm{bulk}} + 1$. \n",
    "\n",
    "`sl2cfoam-next` distributes the edge amplitudes in the vertex amplitudes. \n"
   ]
  },
  {
   "cell_type": "markdown",
   "metadata": {
    "slideshow": {
     "slide_type": "slide"
    },
    "tags": []
   },
   "source": [
    "## Fixing some parameters\n",
    "\n",
    "- The Immirzi parameter $\\gamma =1$\n",
    "- Truncation parameter $\\Delta l = 5$\n",
    "- Simmetric setting (simplifying assumption) \n",
    "    1. All the boundary spins equal ($j_f = 1$)\n",
    "    2. All the boundary intertwiners equal ($i_b =1$)"
   ]
  },
  {
   "cell_type": "markdown",
   "metadata": {
    "slideshow": {
     "slide_type": "fragment"
    },
    "tags": []
   },
   "source": [
    "- Consequences:\n",
    "    1. Bulk intertwiners assume values between $0$ and $2j$ ($0-2$)\n",
    "    2. Bulk spin assume values between $0$ and $3j$ ($0-3$)\n",
    "    3. All the vertices are similar"
   ]
  },
  {
   "cell_type": "markdown",
   "metadata": {
    "slideshow": {
     "slide_type": "fragment"
    },
    "tags": []
   },
   "source": [
    "- Strategy:\n",
    "    1. Precompute all the vertices we need\n",
    "    2. Contract the vertices to form the amplitude"
   ]
  },
  {
   "cell_type": "markdown",
   "metadata": {
    "ExecuteTime": {
     "end_time": "2022-04-19T18:14:34.587384Z",
     "start_time": "2022-04-19T18:14:34.556811Z"
    },
    "slideshow": {
     "slide_type": "slide"
    },
    "tags": []
   },
   "source": [
    "## Precompute the vertices"
   ]
  },
  {
   "cell_type": "code",
   "execution_count": 68,
   "metadata": {
    "ExecuteTime": {
     "end_time": "2022-04-19T18:14:34.587384Z",
     "start_time": "2022-04-19T18:14:34.556811Z"
    },
    "tags": []
   },
   "outputs": [],
   "source": [
    "j = 1\n",
    "Dl = 5\n",
    "j_bulk_min, j_bulk_max = 0, 3j;"
   ]
  },
  {
   "cell_type": "code",
   "execution_count": 69,
   "metadata": {
    "ExecuteTime": {
     "end_time": "2022-04-19T18:14:34.587384Z",
     "start_time": "2022-04-19T18:14:34.556811Z"
    },
    "slideshow": {
     "slide_type": "skip"
    },
    "tags": []
   },
   "outputs": [],
   "source": [
    "using JLD2\n",
    "root_dir = pwd()\n",
    "vertex_path = \"$(root_dir)/amplitudes/Immirzi_$(Immirzi)/j_$(j)/Dl_$(Dl)\" \n",
    "mkpath(vertex_path);"
   ]
  },
  {
   "cell_type": "code",
   "execution_count": 71,
   "metadata": {
    "ExecuteTime": {
     "end_time": "2022-04-19T18:14:34.587384Z",
     "start_time": "2022-04-19T18:14:34.556811Z"
    },
    "slideshow": {
     "slide_type": "fragment"
    },
    "tags": []
   },
   "outputs": [
    {
     "name": "stdout",
     "output_type": "stream",
     "text": [
      "  0.013920 seconds (502 allocations: 43.797 KiB)\n"
     ]
    }
   ],
   "source": [
    "# loop over all the possible bulk spins and save the result\n",
    "@time for j_bulk = j_bulk_min:j_bulk_max\n",
    "    spins = [j, j, j, j, j, j, j, j_bulk, j, j]\n",
    "    v = vertex_compute(spins, Dl)  \n",
    "    Av = v.a\n",
    "    @save \"$(vertex_path)/j_bulk_$(j_bulk)_fulltensor.jld2\" Av \n",
    "end"
   ]
  },
  {
   "cell_type": "code",
   "execution_count": 72,
   "metadata": {
    "ExecuteTime": {
     "end_time": "2022-04-19T18:14:34.587384Z",
     "start_time": "2022-04-19T18:14:34.556811Z"
    },
    "slideshow": {
     "slide_type": "skip"
    },
    "tags": []
   },
   "outputs": [
    {
     "name": "stdout",
     "output_type": "stream",
     "text": [
      "  0.103355 seconds (6.26 k allocations: 542.250 KiB)\n"
     ]
    }
   ],
   "source": [
    "#hidden slide compute all the other Dl we will need later\n",
    "@time for DLTMP = 4:15\n",
    "    vertex_path = \"$(root_dir)/amplitudes/Immirzi_$(Immirzi)/j_$(j)/Dl_$(DLTMP)\" \n",
    "    mkpath(vertex_path);\n",
    "    for j_bulk = j_bulk_min:j_bulk_max\n",
    "        spins = [j, j, j, j, j, j, j, j_bulk, j, j]\n",
    "        v = vertex_compute(spins,DLTMP) \n",
    "        Av = v.a        \n",
    "        @save \"$(vertex_path)/j_bulk_$(j_bulk)_fulltensor.jld2\" Av    \n",
    "    end\n",
    "end"
   ]
  },
  {
   "cell_type": "code",
   "execution_count": 73,
   "metadata": {
    "ExecuteTime": {
     "end_time": "2022-04-19T18:14:34.587384Z",
     "start_time": "2022-04-19T18:14:34.556811Z"
    },
    "slideshow": {
     "slide_type": "skip"
    },
    "tags": []
   },
   "outputs": [
    {
     "name": "stdout",
     "output_type": "stream",
     "text": [
      "  0.090889 seconds (5.22 k allocations: 451.734 KiB)\n"
     ]
    }
   ],
   "source": [
    "#hidden slide compute all the other Dl we will need later\n",
    "@time for DLTMP = 16:25\n",
    "    vertex_path = \"$(root_dir)/amplitudes/Immirzi_$(Immirzi)/j_$(j)/Dl_$(DLTMP)\" \n",
    "    mkpath(vertex_path);\n",
    "    for j_bulk = j_bulk_min:j_bulk_max\n",
    "        spins = [j, j, j, j, j, j, j, j_bulk, j, j]\n",
    "        v = vertex_compute(spins,DLTMP) \n",
    "        Av = v.a        \n",
    "        @save \"$(vertex_path)/j_bulk_$(j_bulk)_fulltensor.jld2\" Av    \n",
    "    end\n",
    "end"
   ]
  },
  {
   "cell_type": "code",
   "execution_count": 75,
   "metadata": {
    "ExecuteTime": {
     "end_time": "2022-04-19T18:14:34.587384Z",
     "start_time": "2022-04-19T18:14:34.556811Z"
    },
    "slideshow": {
     "slide_type": "skip"
    },
    "tags": []
   },
   "outputs": [
    {
     "data": {
      "text/plain": [
       "\"/home/pdona/Dropbox/Talks/Loops22School/SchoolNB/amplitudes/Immirzi_1.0/j_1/Dl_5\""
      ]
     },
     "execution_count": 75,
     "metadata": {},
     "output_type": "execute_result"
    }
   ],
   "source": [
    "vertex_path = \"$(root_dir)/amplitudes/Immirzi_$(Immirzi)/j_$(j)/Dl_5\" "
   ]
  },
  {
   "cell_type": "markdown",
   "metadata": {
    "ExecuteTime": {
     "end_time": "2022-04-19T18:14:34.587384Z",
     "start_time": "2022-04-19T18:14:34.556811Z"
    },
    "slideshow": {
     "slide_type": "slide"
    },
    "tags": []
   },
   "source": [
    "## Assemble the vertices to compute the amplitude"
   ]
  },
  {
   "cell_type": "code",
   "execution_count": 76,
   "metadata": {
    "ExecuteTime": {
     "end_time": "2022-04-19T18:14:34.587384Z",
     "start_time": "2022-04-19T18:14:34.556811Z"
    },
    "tags": []
   },
   "outputs": [
    {
     "name": "stdout",
     "output_type": "stream",
     "text": [
      "D4_amp = 1.333019341298048e-34\n"
     ]
    }
   ],
   "source": [
    "i_b = 1; i_idx = i_b + 1;\n",
    "D4_amp = 0.0\n",
    "for j_bulk = j_bulk_min:j_bulk_max\n",
    "    @load \"$(vertex_path)/j_bulk_$(j_bulk)_fulltensor.jld2\" Av \n",
    "    D4_partial_amp = 0.0\n",
    "    D = size(Av[i_idx,:,:,i_idx,i_idx])[1]\n",
    "    for i1 in 1:D, i2 in 1:D, i3 in 1:D, i4 in 1:D\n",
    "        @inbounds D4_partial_amp += Av[i_idx,i2,i1,i_idx,i_idx]*\n",
    "                                    Av[i_idx,i1,i4,i_idx,i_idx]*\n",
    "                                    Av[i_idx,i4,i3,i_idx,i_idx]*\n",
    "                                    Av[i_idx,i3,i2,i_idx,i_idx]     \n",
    "    end     \n",
    "    D4_amp += D4_partial_amp  * (2j_bulk + 1)\n",
    "end\n",
    "@show D4_amp;"
   ]
  },
  {
   "cell_type": "markdown",
   "metadata": {
    "ExecuteTime": {
     "end_time": "2022-04-19T18:14:34.587384Z",
     "start_time": "2022-04-19T18:14:34.556811Z"
    },
    "tags": []
   },
   "source": [
    "Value of the amplitude $A_{\\Delta_4}(j=1,i_b=1)$ with truncation $\\Delta l =5$ and $\\gamma=1$."
   ]
  },
  {
   "cell_type": "markdown",
   "metadata": {
    "ExecuteTime": {
     "end_time": "2022-04-19T18:14:34.587384Z",
     "start_time": "2022-04-19T18:14:34.556811Z"
    },
    "slideshow": {
     "slide_type": "slide"
    },
    "tags": []
   },
   "source": [
    "## Dependence on the truncation parameter $\\Delta l$"
   ]
  },
  {
   "cell_type": "code",
   "execution_count": 77,
   "metadata": {
    "ExecuteTime": {
     "end_time": "2022-04-19T18:14:34.587384Z",
     "start_time": "2022-04-19T18:14:34.556811Z"
    },
    "tags": []
   },
   "outputs": [],
   "source": [
    "Dls = 0:5\n",
    "D4_amp_Dl = zeros(length(Dls))\n",
    "for Dl in Dls\n",
    "    D4_amp = 0.0\n",
    "    vertex_path = \"$(root_dir)/amplitudes/Immirzi_$(Immirzi)/j_$(j)/Dl_$(Dl)\" \n",
    "    for j_bulk = j_bulk_min:j_bulk_max\n",
    "        @load \"$(vertex_path)/j_bulk_$(j_bulk)_fulltensor.jld2\" Av \n",
    "        D4_partial_amp = 0.0\n",
    "        D = size(Av[i_idx,:,:,i_idx,i_idx])[1]\n",
    "        for i1 in 1:D, i2 in 1:D, i3 in 1:D, i4 in 1:D\n",
    "            @inbounds D4_partial_amp += Av[i_idx,i2,i1,i_idx,i_idx]*\n",
    "                                        Av[i_idx,i1,i4,i_idx,i_idx]*\n",
    "                                        Av[i_idx,i4,i3,i_idx,i_idx]*\n",
    "                                        Av[i_idx,i3,i2,i_idx,i_idx]     \n",
    "        end    \n",
    "        D4_amp += D4_partial_amp  * (2j_bulk + 1)\n",
    "    end\n",
    "D4_amp_Dl[Dl+1]= D4_amp\n",
    "end"
   ]
  },
  {
   "cell_type": "code",
   "execution_count": 78,
   "metadata": {
    "slideshow": {
     "slide_type": "slide"
    },
    "tags": []
   },
   "outputs": [
    {
     "data": {
      "text/plain": [
       "6-element Vector{Float64}:\n",
       " 1.057445171017505e-35\n",
       " 5.161220276657425e-35\n",
       " 9.141335905421541e-35\n",
       " 1.1443898830203901e-34\n",
       " 1.2654555969261174e-34\n",
       " 1.333019341298048e-34"
      ]
     },
     "execution_count": 78,
     "metadata": {},
     "output_type": "execute_result"
    }
   ],
   "source": [
    "D4_amp_Dl"
   ]
  },
  {
   "cell_type": "code",
   "execution_count": 79,
   "metadata": {
    "ExecuteTime": {
     "end_time": "2022-04-19T18:14:34.587384Z",
     "start_time": "2022-04-19T18:14:34.556811Z"
    },
    "tags": []
   },
   "outputs": [
    {
     "data": {
      "text/plain": [
       "1.418340677939161e-34"
      ]
     },
     "execution_count": 79,
     "metadata": {},
     "output_type": "execute_result"
    }
   ],
   "source": [
    "D4_amp_ex = extrapolate(D4_amp_Dl)"
   ]
  },
  {
   "cell_type": "code",
   "execution_count": 124,
   "metadata": {
    "ExecuteTime": {
     "end_time": "2022-04-19T18:14:34.587384Z",
     "start_time": "2022-04-19T18:14:34.556811Z"
    },
    "tags": []
   },
   "outputs": [
    {
     "data": {
      "text/plain": [
       "1.0640060755292793"
      ]
     },
     "execution_count": 124,
     "metadata": {},
     "output_type": "execute_result"
    }
   ],
   "source": [
    "D4_amp_ex/D4_amp_Dl[6]"
   ]
  },
  {
   "cell_type": "markdown",
   "metadata": {
    "ExecuteTime": {
     "end_time": "2022-04-19T18:14:34.587384Z",
     "start_time": "2022-04-19T18:14:34.556811Z"
    },
    "slideshow": {
     "slide_type": "slide"
    },
    "tags": []
   },
   "source": [
    "## Dependence on the truncation parameter $\\Delta l$"
   ]
  },
  {
   "cell_type": "code",
   "execution_count": 82,
   "metadata": {
    "ExecuteTime": {
     "end_time": "2022-04-19T18:14:34.587384Z",
     "start_time": "2022-04-19T18:14:34.556811Z"
    },
    "tags": []
   },
   "outputs": [
    {
     "data": {
      "image/svg+xml": [
       "<?xml version=\"1.0\" encoding=\"utf-8\"?>\n",
       "<svg xmlns=\"http://www.w3.org/2000/svg\" xmlns:xlink=\"http://www.w3.org/1999/xlink\" width=\"600\" height=\"400\" viewBox=\"0 0 2400 1600\">\n",
       "<defs>\n",
       "  <clipPath id=\"clip450\">\n",
       "    <rect x=\"0\" y=\"0\" width=\"2400\" height=\"1600\"/>\n",
       "  </clipPath>\n",
       "</defs>\n",
       "<path clip-path=\"url(#clip450)\" d=\"\n",
       "M0 1600 L2400 1600 L2400 0 L0 0  Z\n",
       "  \" fill=\"#ffffff\" fill-rule=\"evenodd\" fill-opacity=\"1\"/>\n",
       "<defs>\n",
       "  <clipPath id=\"clip451\">\n",
       "    <rect x=\"480\" y=\"0\" width=\"1681\" height=\"1600\"/>\n",
       "  </clipPath>\n",
       "</defs>\n",
       "<defs>\n",
       "  <clipPath id=\"clip452\">\n",
       "    <rect x=\"226\" y=\"154\" width=\"2127\" height=\"1269\"/>\n",
       "  </clipPath>\n",
       "</defs>\n",
       "<path clip-path=\"url(#clip450)\" d=\"\n",
       "M256.456 1423.18 L2352.76 1423.18 L2352.76 154.892 L256.456 154.892  Z\n",
       "  \" fill=\"#ffffff\" fill-rule=\"evenodd\" fill-opacity=\"1\"/>\n",
       "<defs>\n",
       "  <clipPath id=\"clip453\">\n",
       "    <rect x=\"256\" y=\"154\" width=\"2097\" height=\"1269\"/>\n",
       "  </clipPath>\n",
       "</defs>\n",
       "<polyline clip-path=\"url(#clip453)\" style=\"stroke:#000000; stroke-linecap:butt; stroke-linejoin:round; stroke-width:2; stroke-opacity:0.1; fill:none\" points=\"\n",
       "  315.785,1423.18 315.785,154.892 \n",
       "  \"/>\n",
       "<polyline clip-path=\"url(#clip453)\" style=\"stroke:#000000; stroke-linecap:butt; stroke-linejoin:round; stroke-width:2; stroke-opacity:0.1; fill:none\" points=\"\n",
       "  711.314,1423.18 711.314,154.892 \n",
       "  \"/>\n",
       "<polyline clip-path=\"url(#clip453)\" style=\"stroke:#000000; stroke-linecap:butt; stroke-linejoin:round; stroke-width:2; stroke-opacity:0.1; fill:none\" points=\"\n",
       "  1106.84,1423.18 1106.84,154.892 \n",
       "  \"/>\n",
       "<polyline clip-path=\"url(#clip453)\" style=\"stroke:#000000; stroke-linecap:butt; stroke-linejoin:round; stroke-width:2; stroke-opacity:0.1; fill:none\" points=\"\n",
       "  1502.37,1423.18 1502.37,154.892 \n",
       "  \"/>\n",
       "<polyline clip-path=\"url(#clip453)\" style=\"stroke:#000000; stroke-linecap:butt; stroke-linejoin:round; stroke-width:2; stroke-opacity:0.1; fill:none\" points=\"\n",
       "  1897.9,1423.18 1897.9,154.892 \n",
       "  \"/>\n",
       "<polyline clip-path=\"url(#clip453)\" style=\"stroke:#000000; stroke-linecap:butt; stroke-linejoin:round; stroke-width:2; stroke-opacity:0.1; fill:none\" points=\"\n",
       "  2293.43,1423.18 2293.43,154.892 \n",
       "  \"/>\n",
       "<polyline clip-path=\"url(#clip450)\" style=\"stroke:#000000; stroke-linecap:butt; stroke-linejoin:round; stroke-width:4; stroke-opacity:1; fill:none\" points=\"\n",
       "  256.456,1423.18 2352.76,1423.18 \n",
       "  \"/>\n",
       "<polyline clip-path=\"url(#clip450)\" style=\"stroke:#000000; stroke-linecap:butt; stroke-linejoin:round; stroke-width:4; stroke-opacity:1; fill:none\" points=\"\n",
       "  315.785,1423.18 315.785,1404.28 \n",
       "  \"/>\n",
       "<polyline clip-path=\"url(#clip450)\" style=\"stroke:#000000; stroke-linecap:butt; stroke-linejoin:round; stroke-width:4; stroke-opacity:1; fill:none\" points=\"\n",
       "  711.314,1423.18 711.314,1404.28 \n",
       "  \"/>\n",
       "<polyline clip-path=\"url(#clip450)\" style=\"stroke:#000000; stroke-linecap:butt; stroke-linejoin:round; stroke-width:4; stroke-opacity:1; fill:none\" points=\"\n",
       "  1106.84,1423.18 1106.84,1404.28 \n",
       "  \"/>\n",
       "<polyline clip-path=\"url(#clip450)\" style=\"stroke:#000000; stroke-linecap:butt; stroke-linejoin:round; stroke-width:4; stroke-opacity:1; fill:none\" points=\"\n",
       "  1502.37,1423.18 1502.37,1404.28 \n",
       "  \"/>\n",
       "<polyline clip-path=\"url(#clip450)\" style=\"stroke:#000000; stroke-linecap:butt; stroke-linejoin:round; stroke-width:4; stroke-opacity:1; fill:none\" points=\"\n",
       "  1897.9,1423.18 1897.9,1404.28 \n",
       "  \"/>\n",
       "<polyline clip-path=\"url(#clip450)\" style=\"stroke:#000000; stroke-linecap:butt; stroke-linejoin:round; stroke-width:4; stroke-opacity:1; fill:none\" points=\"\n",
       "  2293.43,1423.18 2293.43,1404.28 \n",
       "  \"/>\n",
       "<path clip-path=\"url(#clip450)\" d=\"M315.785 1454.1 Q312.174 1454.1 310.346 1457.66 Q308.54 1461.2 308.54 1468.33 Q308.54 1475.44 310.346 1479.01 Q312.174 1482.55 315.785 1482.55 Q319.42 1482.55 321.225 1479.01 Q323.054 1475.44 323.054 1468.33 Q323.054 1461.2 321.225 1457.66 Q319.42 1454.1 315.785 1454.1 M315.785 1450.39 Q321.595 1450.39 324.651 1455 Q327.73 1459.58 327.73 1468.33 Q327.73 1477.06 324.651 1481.67 Q321.595 1486.25 315.785 1486.25 Q309.975 1486.25 306.896 1481.67 Q303.841 1477.06 303.841 1468.33 Q303.841 1459.58 306.896 1455 Q309.975 1450.39 315.785 1450.39 Z\" fill=\"#000000\" fill-rule=\"evenodd\" fill-opacity=\"1\" /><path clip-path=\"url(#clip450)\" d=\"M701.696 1481.64 L709.334 1481.64 L709.334 1455.28 L701.024 1456.95 L701.024 1452.69 L709.288 1451.02 L713.964 1451.02 L713.964 1481.64 L721.603 1481.64 L721.603 1485.58 L701.696 1485.58 L701.696 1481.64 Z\" fill=\"#000000\" fill-rule=\"evenodd\" fill-opacity=\"1\" /><path clip-path=\"url(#clip450)\" d=\"M1101.49 1481.64 L1117.81 1481.64 L1117.81 1485.58 L1095.87 1485.58 L1095.87 1481.64 Q1098.53 1478.89 1103.12 1474.26 Q1107.72 1469.61 1108.9 1468.27 Q1111.15 1465.74 1112.03 1464.01 Q1112.93 1462.25 1112.93 1460.56 Q1112.93 1457.8 1110.99 1456.07 Q1109.06 1454.33 1105.96 1454.33 Q1103.76 1454.33 1101.31 1455.09 Q1098.88 1455.86 1096.1 1457.41 L1096.1 1452.69 Q1098.93 1451.55 1101.38 1450.97 Q1103.83 1450.39 1105.87 1450.39 Q1111.24 1450.39 1114.43 1453.08 Q1117.63 1455.77 1117.63 1460.26 Q1117.63 1462.39 1116.82 1464.31 Q1116.03 1466.2 1113.93 1468.8 Q1113.35 1469.47 1110.24 1472.69 Q1107.14 1475.88 1101.49 1481.64 Z\" fill=\"#000000\" fill-rule=\"evenodd\" fill-opacity=\"1\" /><path clip-path=\"url(#clip450)\" d=\"M1506.62 1466.95 Q1509.97 1467.66 1511.85 1469.93 Q1513.75 1472.2 1513.75 1475.53 Q1513.75 1480.65 1510.23 1483.45 Q1506.71 1486.25 1500.23 1486.25 Q1498.05 1486.25 1495.74 1485.81 Q1493.45 1485.39 1490.99 1484.54 L1490.99 1480.02 Q1492.94 1481.16 1495.25 1481.74 Q1497.57 1482.32 1500.09 1482.32 Q1504.49 1482.32 1506.78 1480.58 Q1509.09 1478.84 1509.09 1475.53 Q1509.09 1472.48 1506.94 1470.77 Q1504.81 1469.03 1500.99 1469.03 L1496.97 1469.03 L1496.97 1465.19 L1501.18 1465.19 Q1504.63 1465.19 1506.46 1463.82 Q1508.28 1462.43 1508.28 1459.84 Q1508.28 1457.18 1506.39 1455.77 Q1504.51 1454.33 1500.99 1454.33 Q1499.07 1454.33 1496.87 1454.75 Q1494.67 1455.16 1492.03 1456.04 L1492.03 1451.88 Q1494.7 1451.14 1497.01 1450.77 Q1499.35 1450.39 1501.41 1450.39 Q1506.73 1450.39 1509.84 1452.83 Q1512.94 1455.23 1512.94 1459.35 Q1512.94 1462.22 1511.29 1464.21 Q1509.65 1466.18 1506.62 1466.95 Z\" fill=\"#000000\" fill-rule=\"evenodd\" fill-opacity=\"1\" /><path clip-path=\"url(#clip450)\" d=\"M1900.91 1455.09 L1889.1 1473.54 L1900.91 1473.54 L1900.91 1455.09 M1899.68 1451.02 L1905.56 1451.02 L1905.56 1473.54 L1910.49 1473.54 L1910.49 1477.43 L1905.56 1477.43 L1905.56 1485.58 L1900.91 1485.58 L1900.91 1477.43 L1885.31 1477.43 L1885.31 1472.92 L1899.68 1451.02 Z\" fill=\"#000000\" fill-rule=\"evenodd\" fill-opacity=\"1\" /><path clip-path=\"url(#clip450)\" d=\"M2283.7 1451.02 L2302.06 1451.02 L2302.06 1454.96 L2287.99 1454.96 L2287.99 1463.43 Q2289.01 1463.08 2290.02 1462.92 Q2291.04 1462.73 2292.06 1462.73 Q2297.85 1462.73 2301.23 1465.9 Q2304.61 1469.08 2304.61 1474.49 Q2304.61 1480.07 2301.13 1483.17 Q2297.66 1486.25 2291.34 1486.25 Q2289.17 1486.25 2286.9 1485.88 Q2284.65 1485.51 2282.25 1484.77 L2282.25 1480.07 Q2284.33 1481.2 2286.55 1481.76 Q2288.77 1482.32 2291.25 1482.32 Q2295.26 1482.32 2297.59 1480.21 Q2299.93 1478.1 2299.93 1474.49 Q2299.93 1470.88 2297.59 1468.77 Q2295.26 1466.67 2291.25 1466.67 Q2289.38 1466.67 2287.5 1467.08 Q2285.65 1467.5 2283.7 1468.38 L2283.7 1451.02 Z\" fill=\"#000000\" fill-rule=\"evenodd\" fill-opacity=\"1\" /><path clip-path=\"url(#clip450)\" d=\"M1267.55 1578.54 Q1267.55 1578.28 1268.42 1576.6 Q1269.29 1574.9 1272.35 1568.81 Q1275.41 1562.69 1278.57 1556.28 L1289.93 1533.41 Q1290.74 1531.97 1291.77 1531.97 Q1292.7 1531.97 1293.12 1532.55 Q1293.54 1533.13 1295.47 1537.02 Q1296.47 1538.92 1297.05 1540.15 L1315.7 1577.47 Q1316.02 1578.28 1316.05 1578.54 Q1316.05 1579.18 1314.93 1579.18 L1269.29 1579.18 Q1267.55 1579.18 1267.55 1578.54 M1271.9 1574.16 L1307.39 1574.16 L1289.64 1538.54 L1271.9 1574.16 Z\" fill=\"#000000\" fill-rule=\"evenodd\" fill-opacity=\"1\" /><path clip-path=\"url(#clip450)\" d=\"M1336.31 1534.12 L1326.81 1572.26 Q1326.42 1573.77 1326.42 1575.41 Q1326.42 1578.44 1328.42 1578.44 Q1329.35 1578.44 1330.13 1577.83 Q1330.9 1577.18 1331.48 1575.93 Q1332.09 1574.64 1332.48 1573.41 Q1332.89 1572.19 1333.41 1570.29 Q1333.57 1569.55 1333.73 1569.32 Q1333.89 1569.1 1334.34 1569.1 Q1335.15 1569.1 1335.15 1569.74 Q1334.34 1573.7 1333.15 1576.22 Q1331.41 1579.92 1328.19 1579.92 Q1325.78 1579.92 1323.97 1578.25 Q1322.2 1576.54 1322.2 1573.83 Q1322.2 1572.8 1322.52 1571.58 L1330.83 1538.6 L1331.06 1537.31 Q1331.06 1536.96 1330.93 1536.76 Q1330.8 1536.57 1330.03 1536.38 Q1329.29 1536.18 1327.81 1536.18 Q1327.19 1536.18 1326.9 1536.15 Q1326.65 1536.12 1326.39 1535.96 Q1326.16 1535.8 1326.16 1535.44 Q1326.16 1534.86 1326.39 1534.54 Q1326.65 1534.22 1326.84 1534.16 Q1327.03 1534.09 1327.42 1534.06 Q1327.97 1534.03 1329.8 1533.87 Q1331.64 1533.67 1333.22 1533.54 Q1334.79 1533.41 1335.47 1533.41 Q1335.86 1533.41 1336.05 1533.61 Q1336.28 1533.77 1336.31 1533.96 L1336.31 1534.12 Z\" fill=\"#000000\" fill-rule=\"evenodd\" fill-opacity=\"1\" /><polyline clip-path=\"url(#clip453)\" style=\"stroke:#000000; stroke-linecap:butt; stroke-linejoin:round; stroke-width:2; stroke-opacity:0.1; fill:none\" points=\"\n",
       "  256.456,1255.79 2352.76,1255.79 \n",
       "  \"/>\n",
       "<polyline clip-path=\"url(#clip453)\" style=\"stroke:#000000; stroke-linecap:butt; stroke-linejoin:round; stroke-width:2; stroke-opacity:0.1; fill:none\" points=\"\n",
       "  256.456,1027.9 2352.76,1027.9 \n",
       "  \"/>\n",
       "<polyline clip-path=\"url(#clip453)\" style=\"stroke:#000000; stroke-linecap:butt; stroke-linejoin:round; stroke-width:2; stroke-opacity:0.1; fill:none\" points=\"\n",
       "  256.456,800.013 2352.76,800.013 \n",
       "  \"/>\n",
       "<polyline clip-path=\"url(#clip453)\" style=\"stroke:#000000; stroke-linecap:butt; stroke-linejoin:round; stroke-width:2; stroke-opacity:0.1; fill:none\" points=\"\n",
       "  256.456,572.126 2352.76,572.126 \n",
       "  \"/>\n",
       "<polyline clip-path=\"url(#clip453)\" style=\"stroke:#000000; stroke-linecap:butt; stroke-linejoin:round; stroke-width:2; stroke-opacity:0.1; fill:none\" points=\"\n",
       "  256.456,344.238 2352.76,344.238 \n",
       "  \"/>\n",
       "<polyline clip-path=\"url(#clip450)\" style=\"stroke:#000000; stroke-linecap:butt; stroke-linejoin:round; stroke-width:4; stroke-opacity:1; fill:none\" points=\"\n",
       "  256.456,1423.18 256.456,154.892 \n",
       "  \"/>\n",
       "<polyline clip-path=\"url(#clip450)\" style=\"stroke:#000000; stroke-linecap:butt; stroke-linejoin:round; stroke-width:4; stroke-opacity:1; fill:none\" points=\"\n",
       "  256.456,1255.79 275.354,1255.79 \n",
       "  \"/>\n",
       "<polyline clip-path=\"url(#clip450)\" style=\"stroke:#000000; stroke-linecap:butt; stroke-linejoin:round; stroke-width:4; stroke-opacity:1; fill:none\" points=\"\n",
       "  256.456,1027.9 275.354,1027.9 \n",
       "  \"/>\n",
       "<polyline clip-path=\"url(#clip450)\" style=\"stroke:#000000; stroke-linecap:butt; stroke-linejoin:round; stroke-width:4; stroke-opacity:1; fill:none\" points=\"\n",
       "  256.456,800.013 275.354,800.013 \n",
       "  \"/>\n",
       "<polyline clip-path=\"url(#clip450)\" style=\"stroke:#000000; stroke-linecap:butt; stroke-linejoin:round; stroke-width:4; stroke-opacity:1; fill:none\" points=\"\n",
       "  256.456,572.126 275.354,572.126 \n",
       "  \"/>\n",
       "<polyline clip-path=\"url(#clip450)\" style=\"stroke:#000000; stroke-linecap:butt; stroke-linejoin:round; stroke-width:4; stroke-opacity:1; fill:none\" points=\"\n",
       "  256.456,344.238 275.354,344.238 \n",
       "  \"/>\n",
       "<path clip-path=\"url(#clip450)\" d=\"M134.114 1241.59 Q130.503 1241.59 128.674 1245.15 Q126.869 1248.69 126.869 1255.82 Q126.869 1262.93 128.674 1266.49 Q130.503 1270.04 134.114 1270.04 Q137.748 1270.04 139.554 1266.49 Q141.382 1262.93 141.382 1255.82 Q141.382 1248.69 139.554 1245.15 Q137.748 1241.59 134.114 1241.59 M134.114 1237.88 Q139.924 1237.88 142.98 1242.49 Q146.058 1247.07 146.058 1255.82 Q146.058 1264.55 142.98 1269.16 Q139.924 1273.74 134.114 1273.74 Q128.304 1273.74 125.225 1269.16 Q122.17 1264.55 122.17 1255.82 Q122.17 1247.07 125.225 1242.49 Q128.304 1237.88 134.114 1237.88 Z\" fill=\"#000000\" fill-rule=\"evenodd\" fill-opacity=\"1\" /><path clip-path=\"url(#clip450)\" d=\"M154.276 1267.19 L159.16 1267.19 L159.16 1273.07 L154.276 1273.07 L154.276 1267.19 Z\" fill=\"#000000\" fill-rule=\"evenodd\" fill-opacity=\"1\" /><path clip-path=\"url(#clip450)\" d=\"M173.373 1269.13 L189.692 1269.13 L189.692 1273.07 L167.748 1273.07 L167.748 1269.13 Q170.41 1266.38 174.993 1261.75 Q179.6 1257.1 180.78 1255.75 Q183.026 1253.23 183.905 1251.49 Q184.808 1249.74 184.808 1248.05 Q184.808 1245.29 182.864 1243.56 Q180.942 1241.82 177.841 1241.82 Q175.641 1241.82 173.188 1242.58 Q170.757 1243.35 167.98 1244.9 L167.98 1240.18 Q170.804 1239.04 173.257 1238.46 Q175.711 1237.88 177.748 1237.88 Q183.118 1237.88 186.313 1240.57 Q189.507 1243.25 189.507 1247.74 Q189.507 1249.87 188.697 1251.8 Q187.91 1253.69 185.803 1256.29 Q185.225 1256.96 182.123 1260.18 Q179.021 1263.37 173.373 1269.13 Z\" fill=\"#000000\" fill-rule=\"evenodd\" fill-opacity=\"1\" /><path clip-path=\"url(#clip450)\" d=\"M199.553 1238.51 L217.91 1238.51 L217.91 1242.44 L203.836 1242.44 L203.836 1250.92 Q204.854 1250.57 205.873 1250.41 Q206.891 1250.22 207.91 1250.22 Q213.697 1250.22 217.076 1253.39 Q220.456 1256.56 220.456 1261.98 Q220.456 1267.56 216.984 1270.66 Q213.512 1273.74 207.192 1273.74 Q205.016 1273.74 202.748 1273.37 Q200.502 1273 198.095 1272.26 L198.095 1267.56 Q200.178 1268.69 202.401 1269.25 Q204.623 1269.8 207.1 1269.8 Q211.104 1269.8 213.442 1267.7 Q215.78 1265.59 215.78 1261.98 Q215.78 1258.37 213.442 1256.26 Q211.104 1254.16 207.1 1254.16 Q205.225 1254.16 203.35 1254.57 Q201.498 1254.99 199.553 1255.87 L199.553 1238.51 Z\" fill=\"#000000\" fill-rule=\"evenodd\" fill-opacity=\"1\" /><path clip-path=\"url(#clip450)\" d=\"M133.119 1013.7 Q129.507 1013.7 127.679 1017.26 Q125.873 1020.81 125.873 1027.94 Q125.873 1035.04 127.679 1038.61 Q129.507 1042.15 133.119 1042.15 Q136.753 1042.15 138.558 1038.61 Q140.387 1035.04 140.387 1027.94 Q140.387 1020.81 138.558 1017.26 Q136.753 1013.7 133.119 1013.7 M133.119 1010 Q138.929 1010 141.984 1014.6 Q145.063 1019.19 145.063 1027.94 Q145.063 1036.66 141.984 1041.27 Q138.929 1045.85 133.119 1045.85 Q127.308 1045.85 124.23 1041.27 Q121.174 1036.66 121.174 1027.94 Q121.174 1019.19 124.23 1014.6 Q127.308 1010 133.119 1010 Z\" fill=\"#000000\" fill-rule=\"evenodd\" fill-opacity=\"1\" /><path clip-path=\"url(#clip450)\" d=\"M153.281 1039.3 L158.165 1039.3 L158.165 1045.18 L153.281 1045.18 L153.281 1039.3 Z\" fill=\"#000000\" fill-rule=\"evenodd\" fill-opacity=\"1\" /><path clip-path=\"url(#clip450)\" d=\"M168.396 1010.62 L186.753 1010.62 L186.753 1014.56 L172.679 1014.56 L172.679 1023.03 Q173.697 1022.68 174.716 1022.52 Q175.734 1022.33 176.753 1022.33 Q182.54 1022.33 185.919 1025.51 Q189.299 1028.68 189.299 1034.09 Q189.299 1039.67 185.827 1042.77 Q182.354 1045.85 176.035 1045.85 Q173.859 1045.85 171.591 1045.48 Q169.345 1045.11 166.938 1044.37 L166.938 1039.67 Q169.021 1040.81 171.243 1041.36 Q173.466 1041.92 175.942 1041.92 Q179.947 1041.92 182.285 1039.81 Q184.623 1037.7 184.623 1034.09 Q184.623 1030.48 182.285 1028.38 Q179.947 1026.27 175.942 1026.27 Q174.067 1026.27 172.192 1026.69 Q170.341 1027.1 168.396 1027.98 L168.396 1010.62 Z\" fill=\"#000000\" fill-rule=\"evenodd\" fill-opacity=\"1\" /><path clip-path=\"url(#clip450)\" d=\"M208.512 1013.7 Q204.901 1013.7 203.072 1017.26 Q201.266 1020.81 201.266 1027.94 Q201.266 1035.04 203.072 1038.61 Q204.901 1042.15 208.512 1042.15 Q212.146 1042.15 213.951 1038.61 Q215.78 1035.04 215.78 1027.94 Q215.78 1020.81 213.951 1017.26 Q212.146 1013.7 208.512 1013.7 M208.512 1010 Q214.322 1010 217.377 1014.6 Q220.456 1019.19 220.456 1027.94 Q220.456 1036.66 217.377 1041.27 Q214.322 1045.85 208.512 1045.85 Q202.702 1045.85 199.623 1041.27 Q196.567 1036.66 196.567 1027.94 Q196.567 1019.19 199.623 1014.6 Q202.702 1010 208.512 1010 Z\" fill=\"#000000\" fill-rule=\"evenodd\" fill-opacity=\"1\" /><path clip-path=\"url(#clip450)\" d=\"M134.114 785.812 Q130.503 785.812 128.674 789.377 Q126.869 792.919 126.869 800.048 Q126.869 807.155 128.674 810.719 Q130.503 814.261 134.114 814.261 Q137.748 814.261 139.554 810.719 Q141.382 807.155 141.382 800.048 Q141.382 792.919 139.554 789.377 Q137.748 785.812 134.114 785.812 M134.114 782.108 Q139.924 782.108 142.98 786.715 Q146.058 791.298 146.058 800.048 Q146.058 808.775 142.98 813.381 Q139.924 817.965 134.114 817.965 Q128.304 817.965 125.225 813.381 Q122.17 808.775 122.17 800.048 Q122.17 791.298 125.225 786.715 Q128.304 782.108 134.114 782.108 Z\" fill=\"#000000\" fill-rule=\"evenodd\" fill-opacity=\"1\" /><path clip-path=\"url(#clip450)\" d=\"M154.276 811.414 L159.16 811.414 L159.16 817.293 L154.276 817.293 L154.276 811.414 Z\" fill=\"#000000\" fill-rule=\"evenodd\" fill-opacity=\"1\" /><path clip-path=\"url(#clip450)\" d=\"M168.165 782.733 L190.387 782.733 L190.387 784.724 L177.841 817.293 L172.956 817.293 L184.762 786.669 L168.165 786.669 L168.165 782.733 Z\" fill=\"#000000\" fill-rule=\"evenodd\" fill-opacity=\"1\" /><path clip-path=\"url(#clip450)\" d=\"M199.553 782.733 L217.91 782.733 L217.91 786.669 L203.836 786.669 L203.836 795.141 Q204.854 794.794 205.873 794.632 Q206.891 794.446 207.91 794.446 Q213.697 794.446 217.076 797.618 Q220.456 800.789 220.456 806.206 Q220.456 811.784 216.984 814.886 Q213.512 817.965 207.192 817.965 Q205.016 817.965 202.748 817.594 Q200.502 817.224 198.095 816.483 L198.095 811.784 Q200.178 812.918 202.401 813.474 Q204.623 814.03 207.1 814.03 Q211.104 814.03 213.442 811.923 Q215.78 809.817 215.78 806.206 Q215.78 802.594 213.442 800.488 Q211.104 798.381 207.1 798.381 Q205.225 798.381 203.35 798.798 Q201.498 799.215 199.553 800.094 L199.553 782.733 Z\" fill=\"#000000\" fill-rule=\"evenodd\" fill-opacity=\"1\" /><path clip-path=\"url(#clip450)\" d=\"M123.929 585.471 L131.568 585.471 L131.568 559.105 L123.258 560.772 L123.258 556.512 L131.521 554.846 L136.197 554.846 L136.197 585.471 L143.836 585.471 L143.836 589.406 L123.929 589.406 L123.929 585.471 Z\" fill=\"#000000\" fill-rule=\"evenodd\" fill-opacity=\"1\" /><path clip-path=\"url(#clip450)\" d=\"M153.281 583.526 L158.165 583.526 L158.165 589.406 L153.281 589.406 L153.281 583.526 Z\" fill=\"#000000\" fill-rule=\"evenodd\" fill-opacity=\"1\" /><path clip-path=\"url(#clip450)\" d=\"M178.35 557.924 Q174.739 557.924 172.91 561.489 Q171.104 565.031 171.104 572.16 Q171.104 579.267 172.91 582.832 Q174.739 586.373 178.35 586.373 Q181.984 586.373 183.79 582.832 Q185.618 579.267 185.618 572.16 Q185.618 565.031 183.79 561.489 Q181.984 557.924 178.35 557.924 M178.35 554.221 Q184.16 554.221 187.216 558.827 Q190.294 563.411 190.294 572.16 Q190.294 580.887 187.216 585.494 Q184.16 590.077 178.35 590.077 Q172.54 590.077 169.461 585.494 Q166.405 580.887 166.405 572.16 Q166.405 563.411 169.461 558.827 Q172.54 554.221 178.35 554.221 Z\" fill=\"#000000\" fill-rule=\"evenodd\" fill-opacity=\"1\" /><path clip-path=\"url(#clip450)\" d=\"M208.512 557.924 Q204.901 557.924 203.072 561.489 Q201.266 565.031 201.266 572.16 Q201.266 579.267 203.072 582.832 Q204.901 586.373 208.512 586.373 Q212.146 586.373 213.951 582.832 Q215.78 579.267 215.78 572.16 Q215.78 565.031 213.951 561.489 Q212.146 557.924 208.512 557.924 M208.512 554.221 Q214.322 554.221 217.377 558.827 Q220.456 563.411 220.456 572.16 Q220.456 580.887 217.377 585.494 Q214.322 590.077 208.512 590.077 Q202.702 590.077 199.623 585.494 Q196.567 580.887 196.567 572.16 Q196.567 563.411 199.623 558.827 Q202.702 554.221 208.512 554.221 Z\" fill=\"#000000\" fill-rule=\"evenodd\" fill-opacity=\"1\" /><path clip-path=\"url(#clip450)\" d=\"M124.924 357.583 L132.563 357.583 L132.563 331.217 L124.253 332.884 L124.253 328.625 L132.517 326.958 L137.193 326.958 L137.193 357.583 L144.831 357.583 L144.831 361.518 L124.924 361.518 L124.924 357.583 Z\" fill=\"#000000\" fill-rule=\"evenodd\" fill-opacity=\"1\" /><path clip-path=\"url(#clip450)\" d=\"M154.276 355.639 L159.16 355.639 L159.16 361.518 L154.276 361.518 L154.276 355.639 Z\" fill=\"#000000\" fill-rule=\"evenodd\" fill-opacity=\"1\" /><path clip-path=\"url(#clip450)\" d=\"M173.373 357.583 L189.692 357.583 L189.692 361.518 L167.748 361.518 L167.748 357.583 Q170.41 354.828 174.993 350.199 Q179.6 345.546 180.78 344.203 Q183.026 341.68 183.905 339.944 Q184.808 338.185 184.808 336.495 Q184.808 333.74 182.864 332.004 Q180.942 330.268 177.841 330.268 Q175.641 330.268 173.188 331.032 Q170.757 331.796 167.98 333.347 L167.98 328.625 Q170.804 327.491 173.257 326.912 Q175.711 326.333 177.748 326.333 Q183.118 326.333 186.313 329.018 Q189.507 331.703 189.507 336.194 Q189.507 338.324 188.697 340.245 Q187.91 342.143 185.803 344.736 Q185.225 345.407 182.123 348.625 Q179.021 351.819 173.373 357.583 Z\" fill=\"#000000\" fill-rule=\"evenodd\" fill-opacity=\"1\" /><path clip-path=\"url(#clip450)\" d=\"M199.553 326.958 L217.91 326.958 L217.91 330.893 L203.836 330.893 L203.836 339.365 Q204.854 339.018 205.873 338.856 Q206.891 338.671 207.91 338.671 Q213.697 338.671 217.076 341.842 Q220.456 345.014 220.456 350.43 Q220.456 356.009 216.984 359.111 Q213.512 362.189 207.192 362.189 Q205.016 362.189 202.748 361.819 Q200.502 361.449 198.095 360.708 L198.095 356.009 Q200.178 357.143 202.401 357.699 Q204.623 358.254 207.1 358.254 Q211.104 358.254 213.442 356.148 Q215.78 354.041 215.78 350.43 Q215.78 346.819 213.442 344.713 Q211.104 342.606 207.1 342.606 Q205.225 342.606 203.35 343.023 Q201.498 343.44 199.553 344.319 L199.553 326.958 Z\" fill=\"#000000\" fill-rule=\"evenodd\" fill-opacity=\"1\" /><path clip-path=\"url(#clip450)\" d=\"M60.7067 863.523 Q61.3186 863.523 61.6407 863.781 Q61.9305 864.006 61.9949 864.232 Q62.0271 864.425 62.0271 864.715 Q62.0271 865.552 61.9305 868.451 Q61.8339 871.349 61.8339 872.187 Q61.8339 873.539 61.9305 876.309 Q62.0271 879.079 62.0271 880.431 Q62.0271 881.333 61.2864 881.333 Q60.8033 881.333 60.5457 881.237 Q60.2558 881.14 60.1592 880.882 Q60.0304 880.592 60.0304 880.431 Q59.9982 880.238 59.9982 879.755 Q59.9982 879.111 59.9338 878.435 Q59.8371 877.758 59.6439 876.921 Q59.4507 876.084 58.9676 875.568 Q58.4845 875.021 57.8082 875.021 Q57.5183 875.021 55.1351 875.246 Q52.7518 875.472 49.9821 875.762 Q47.1802 876.051 46.7938 876.084 L46.7938 892.637 Q49.4024 894.151 51.206 895.214 Q53.0095 896.277 53.6214 896.663 Q54.2333 897.05 54.6198 897.275 Q55.0063 897.501 55.2317 897.629 Q56.9386 898.563 57.6793 898.563 Q59.7405 898.563 59.9982 895.472 Q59.9982 894.409 60.7711 894.409 Q61.3508 894.409 61.6729 894.666 Q61.9627 894.924 61.9949 895.15 Q62.0271 895.343 62.0271 895.665 Q62.0271 896.728 61.9305 898.95 Q61.8339 901.172 61.8339 902.267 Q61.8339 903.201 61.9305 905.133 Q62.0271 907.066 62.0271 907.935 Q62.0271 908.322 61.8017 908.547 Q61.5763 908.773 61.2864 908.773 Q60.8355 908.773 60.5779 908.708 Q60.3202 908.612 60.1914 908.354 Q60.0626 908.096 60.0626 907.967 Q60.0304 907.839 59.9982 907.388 Q59.8371 904.94 58.6777 903.04 Q57.4861 901.108 54.4266 899.272 L15.9083 876.341 Q15.5219 876.116 15.3286 875.955 Q15.1354 875.794 14.9744 875.472 Q14.8133 875.117 14.8133 874.602 Q14.8133 873.797 15.071 873.636 Q15.2964 873.475 16.3914 873.378 L57.6149 869.353 Q58.4845 869.256 58.8388 869.192 Q59.1608 869.095 59.5151 868.676 Q59.8371 868.225 59.9338 867.42 Q59.9982 866.583 59.9982 865.037 Q59.9982 864.457 60.0304 864.232 Q60.0304 864.006 60.1914 863.781 Q60.3524 863.523 60.7067 863.523 M44.7326 876.277 L22.9936 878.37 L44.7326 891.381 L44.7326 876.277 Z\" fill=\"#000000\" fill-rule=\"evenodd\" fill-opacity=\"1\" /><path clip-path=\"url(#clip450)\" d=\"M81.2178 856.92 Q81.0375 856.92 79.8652 856.311 Q78.6703 855.703 74.4095 853.561 Q70.1261 851.419 65.6398 849.21 L49.6335 841.252 Q48.619 840.688 48.619 839.967 Q48.619 839.313 49.0248 839.02 Q49.4306 838.727 52.1585 837.374 Q53.4886 836.675 54.3452 836.27 L80.4739 823.217 Q81.0375 822.991 81.2178 822.969 Q81.6687 822.969 81.6687 823.758 L81.6687 855.703 Q81.6687 856.92 81.2178 856.92 M78.1518 853.877 L78.1518 829.033 L53.218 841.455 L78.1518 853.877 Z\" fill=\"#000000\" fill-rule=\"evenodd\" fill-opacity=\"1\" /><path clip-path=\"url(#clip450)\" d=\"M89.3443 818.37 L88.3501 818.37 L73.1847 808.444 Q72.7901 808.192 72.8059 807.797 Q72.8059 807.434 72.9479 807.355 Q73.09 807.276 73.6423 807.276 L88.3501 807.276 L88.3501 804.041 L89.3443 804.041 L89.3443 807.276 L92.1533 807.276 Q93.0843 807.276 93.3842 806.898 Q93.684 806.503 93.684 804.83 L93.684 804.152 L94.6782 804.152 Q94.5835 805.477 94.5835 808.539 Q94.5835 811.584 94.6782 812.91 L93.684 812.91 L93.684 812.231 Q93.684 810.559 93.3999 810.164 Q93.1001 809.77 92.1533 809.77 L89.3443 809.77 L89.3443 818.37 M88.3501 817.455 L88.3501 809.58 L76.2935 809.58 L88.3501 817.455 Z\" fill=\"#000000\" fill-rule=\"evenodd\" fill-opacity=\"1\" /><path clip-path=\"url(#clip450)\" d=\"M45.5377 792.215 Q34.3945 792.215 25.4091 788.061 Q21.641 786.289 18.4848 783.809 Q15.3286 781.33 13.9438 779.687 Q12.5589 778.045 12.5589 777.594 Q12.5589 776.95 13.2031 776.917 Q13.5251 776.917 14.3303 777.787 Q25.1514 788.415 45.5377 788.383 Q65.9885 788.383 76.391 778.045 Q77.5182 776.917 77.8724 776.917 Q78.5165 776.917 78.5165 777.594 Q78.5165 778.045 77.1961 779.623 Q75.8757 781.201 72.8483 783.648 Q69.821 786.096 66.1173 787.867 Q57.1318 792.215 45.5377 792.215 Z\" fill=\"#000000\" fill-rule=\"evenodd\" fill-opacity=\"1\" /><path clip-path=\"url(#clip450)\" d=\"M61.383 770.848 Q61.1254 770.848 59.4507 769.978 Q57.7438 769.109 51.6568 766.049 Q45.5377 762.99 39.1288 759.833 L16.2626 748.465 Q14.8133 747.66 14.8133 746.629 Q14.8133 745.695 15.393 745.276 Q15.9728 744.858 19.8697 742.925 Q21.7698 741.927 22.9936 741.347 L60.3202 722.7 Q61.1254 722.378 61.383 722.346 Q62.0271 722.346 62.0271 723.473 L62.0271 769.109 Q62.0271 770.848 61.383 770.848 M57.003 766.5 L57.003 731.009 L21.3833 748.755 L57.003 766.5 Z\" fill=\"#000000\" fill-rule=\"evenodd\" fill-opacity=\"1\" /><path clip-path=\"url(#clip450)\" d=\"M16.9711 702.091 L55.1029 711.591 Q56.6166 711.978 58.2591 711.978 Q61.2864 711.978 61.2864 709.981 Q61.2864 709.047 60.6745 708.274 Q60.0304 707.501 58.7743 706.922 Q57.4861 706.31 56.2623 705.923 Q55.0385 705.505 53.1383 704.989 Q52.3976 704.828 52.1721 704.667 Q51.9467 704.506 51.9467 704.055 Q51.9467 703.25 52.5908 703.25 Q56.5521 704.055 59.0642 705.247 Q62.7679 706.986 62.7679 710.207 Q62.7679 712.622 61.0932 714.426 Q59.3863 716.197 56.681 716.197 Q55.6504 716.197 54.4266 715.875 L21.4478 707.566 L20.1595 707.34 Q19.8053 707.34 19.612 707.469 Q19.4188 707.598 19.2255 708.371 Q19.0323 709.112 19.0323 710.593 Q19.0323 711.205 19.0001 711.495 Q18.9679 711.752 18.8069 712.01 Q18.6458 712.236 18.2916 712.236 Q17.7119 712.236 17.3898 712.01 Q17.0678 711.752 17.0033 711.559 Q16.9389 711.366 16.9067 710.98 Q16.8745 710.432 16.7135 708.596 Q16.5203 706.761 16.3914 705.182 Q16.2626 703.604 16.2626 702.928 Q16.2626 702.542 16.4558 702.348 Q16.6169 702.123 16.8101 702.091 L16.9711 702.091 Z\" fill=\"#000000\" fill-rule=\"evenodd\" fill-opacity=\"1\" /><path clip-path=\"url(#clip450)\" d=\"M77.8724 694.627 Q77.5504 694.627 76.7452 693.789 Q65.924 683.161 45.5377 683.161 Q25.087 683.161 14.7489 693.371 Q13.5573 694.627 13.2031 694.627 Q12.5589 694.627 12.5589 693.983 Q12.5589 693.532 13.8794 691.954 Q15.1998 690.343 18.2272 687.928 Q21.2545 685.48 24.9582 683.677 Q33.9436 679.329 45.5377 679.329 Q56.681 679.329 65.6664 683.484 Q69.4345 685.255 72.5907 687.735 Q75.7468 690.215 77.1317 691.857 Q78.5165 693.5 78.5165 693.983 Q78.5165 694.627 77.8724 694.627 Z\" fill=\"#000000\" fill-rule=\"evenodd\" fill-opacity=\"1\" /><path clip-path=\"url(#clip450)\" d=\"M784.809 75.3573 Q784.809 61.175 790.096 49.739 Q792.351 44.9433 795.507 40.9263 Q798.663 36.9094 800.753 35.1468 Q802.844 33.3843 803.418 33.3843 Q804.238 33.3843 804.278 34.2041 Q804.278 34.614 803.172 35.6387 Q789.645 49.4111 789.686 75.3573 Q789.686 101.385 802.844 114.625 Q804.278 116.06 804.278 116.511 Q804.278 117.33 803.418 117.33 Q802.844 117.33 800.835 115.65 Q798.827 113.969 795.712 110.116 Q792.597 106.263 790.342 101.549 Q784.809 90.1134 784.809 75.3573 Z\" fill=\"#000000\" fill-rule=\"evenodd\" fill-opacity=\"1\" /><path clip-path=\"url(#clip450)\" d=\"M851.473 43.8775 Q851.473 45.5581 850.038 46.9517 Q848.604 48.3454 846.923 48.3454 Q845.529 48.3454 844.669 47.4846 Q843.849 46.6238 843.849 45.3122 Q843.849 43.5086 845.283 42.197 Q846.718 40.8443 848.276 40.8443 Q849.71 40.8443 850.571 41.7461 Q851.473 42.6069 851.473 43.8775 M848.358 66.9545 Q848.358 68.3891 847.948 70.0697 L840.242 100.812 Q839.504 103.804 837.741 106.263 Q835.979 108.764 833.724 110.321 Q831.511 111.879 829.093 112.699 Q826.715 113.559 824.461 113.559 Q821.305 113.559 819.173 112.166 Q817.042 110.772 817.042 108.354 Q817.042 106.222 818.435 104.87 Q819.87 103.558 821.592 103.558 Q823.149 103.558 823.969 104.46 Q824.789 105.361 824.789 106.509 Q824.789 107.903 823.764 109.214 Q822.78 110.526 821.018 110.936 Q822.616 111.715 824.297 111.715 Q827.74 111.715 830.527 108.559 Q833.356 105.443 834.585 100.525 L842.496 69.2089 Q843.07 66.7086 843.07 64.946 Q843.07 63.3065 842.619 62.4047 Q842.168 61.5029 841.635 61.298 Q841.144 61.093 840.406 61.093 Q837.168 61.093 834.38 64.0853 Q831.593 67.0365 829.83 71.3404 Q829.339 72.529 829.093 72.775 Q828.888 73.0209 828.314 73.0209 Q827.289 72.9799 827.289 72.1601 Q827.289 71.9142 827.699 70.9305 Q828.109 69.9467 828.847 68.5121 Q829.585 67.0365 830.773 65.4379 Q831.962 63.8393 833.356 62.4457 Q834.79 61.052 836.717 60.1503 Q838.643 59.2485 840.652 59.2485 Q843.89 59.2485 846.103 61.38 Q848.358 63.4704 848.358 66.9545 Z\" fill=\"#000000\" fill-rule=\"evenodd\" fill-opacity=\"1\" /><path clip-path=\"url(#clip450)\" d=\"M889.391 100.627 Q889.391 102.205 888.386 103.18 Q887.411 104.156 886.177 104.156 Q885.288 104.156 884.628 103.611 Q883.996 103.066 883.996 102.119 Q883.996 101.143 884.742 100.11 Q885.488 99.0775 887.181 98.934 Q886.062 97.8724 884.283 97.8724 Q883.394 97.8724 882.648 98.4462 Q881.931 98.9914 881.529 99.8809 Q881.098 100.799 880.123 105.992 Q879.807 107.685 879.52 109.321 Q879.233 110.956 878.889 112.678 L883.767 112.678 Q884.398 112.678 884.656 112.706 Q884.915 112.735 885.115 112.879 Q885.345 113.022 885.345 113.338 Q885.345 114.141 884.972 114.342 Q884.628 114.514 883.595 114.514 L878.545 114.514 L875.016 133.135 Q874.93 133.681 874.557 135.402 Q874.212 137.095 873.38 139.878 Q872.548 142.69 871.716 144.354 Q871.257 145.301 870.654 146.191 Q870.081 147.109 869.248 148.027 Q868.416 148.945 867.326 149.49 Q866.236 150.064 865.088 150.064 Q863.137 150.064 861.616 148.974 Q860.096 147.883 860.096 146.018 Q860.096 144.44 861.071 143.465 Q862.075 142.489 863.309 142.489 Q864.199 142.489 864.83 143.034 Q865.49 143.58 865.49 144.526 Q865.49 144.928 865.346 145.387 Q865.203 145.846 864.887 146.363 Q864.572 146.908 863.883 147.281 Q863.194 147.654 862.248 147.711 Q863.367 148.773 865.088 148.773 Q865.633 148.773 866.121 148.543 Q866.609 148.342 867.01 147.826 Q867.441 147.31 867.756 146.793 Q868.072 146.305 868.388 145.358 Q868.703 144.44 868.904 143.752 Q869.105 143.063 869.363 141.829 Q869.65 140.596 869.794 139.85 Q869.937 139.132 870.195 137.726 L874.585 114.514 L870.712 114.514 Q870.023 114.514 869.736 114.485 Q869.478 114.457 869.277 114.313 Q869.076 114.141 869.076 113.797 Q869.076 113.252 869.306 113.022 Q869.564 112.764 869.851 112.735 Q870.138 112.678 870.827 112.678 L874.901 112.678 Q876.278 105.419 876.823 103.467 Q877.455 101.402 878.43 99.9669 Q879.406 98.5036 880.496 97.815 Q881.586 97.1264 882.476 96.8682 Q883.394 96.5812 884.283 96.5812 Q886.292 96.5812 887.841 97.6715 Q889.391 98.7332 889.391 100.627 Z\" fill=\"#000000\" fill-rule=\"evenodd\" fill-opacity=\"1\" /><path clip-path=\"url(#clip450)\" d=\"M921.352 83.5961 Q921.434 82.5714 923.033 82.5714 L974.474 82.5714 Q976.893 82.5714 976.934 83.5142 Q976.934 84.5389 974.638 84.4979 L923.607 84.4979 Q921.352 84.5389 921.352 83.5961 M921.352 67.2004 Q921.352 66.1757 923.115 66.2167 L974.392 66.2167 Q976.893 66.2167 976.934 67.2004 Q976.934 68.1432 974.802 68.1432 L923.033 68.1432 Q921.352 68.1432 921.352 67.2004 Z\" fill=\"#000000\" fill-rule=\"evenodd\" fill-opacity=\"1\" /><path clip-path=\"url(#clip450)\" d=\"M1009.31 48.4273 L1009.31 45.804 Q1019.4 45.804 1024.6 40.4344 Q1026.04 40.4344 1026.28 40.7624 Q1026.53 41.0903 1026.53 42.6069 L1026.53 89.7035 Q1026.53 92.2039 1027.76 92.9827 Q1028.99 93.7615 1034.36 93.7615 L1037.02 93.7615 L1037.02 96.3438 Q1034.07 96.0979 1023.41 96.0979 Q1012.76 96.0979 1009.85 96.3438 L1009.85 93.7615 L1012.51 93.7615 Q1017.8 93.7615 1019.07 93.0237 Q1020.34 92.2449 1020.34 89.7035 L1020.34 46.2139 Q1015.95 48.4273 1009.31 48.4273 Z\" fill=\"#000000\" fill-rule=\"evenodd\" fill-opacity=\"1\" /><path clip-path=\"url(#clip450)\" d=\"M1052.07 94.9912 Q1050.88 93.6385 1050.88 91.876 Q1050.88 90.1134 1052.03 88.8018 Q1053.22 87.4491 1055.35 87.4491 Q1057.85 87.4491 1059.29 89.8675 Q1060.72 92.2449 1060.72 96.2618 Q1060.72 100.607 1058.96 104.624 Q1057.19 108.682 1055.47 110.608 Q1053.75 112.535 1053.06 112.535 Q1052.24 112.535 1052.24 111.633 Q1052.24 111.305 1052.81 110.69 Q1058.83 104.214 1058.88 96.2618 Q1058.88 94.9912 1058.71 94.9912 L1058.51 95.1551 Q1057.07 96.3438 1055.35 96.3438 Q1053.26 96.3438 1052.07 94.9912 Z\" fill=\"#000000\" fill-rule=\"evenodd\" fill-opacity=\"1\" /><path clip-path=\"url(#clip450)\" d=\"M1108.65 43.8775 Q1108.65 45.6811 1107.17 47.0337 Q1105.74 48.3454 1104.18 48.3454 Q1102.74 48.3454 1101.84 47.4846 Q1100.98 46.5828 1100.98 45.3122 Q1100.98 43.6316 1102.42 42.238 Q1103.85 40.8443 1105.53 40.8443 Q1106.93 40.8443 1107.79 41.7051 Q1108.65 42.5659 1108.65 43.8775 M1109.38 84.334 Q1109.38 84.6619 1109.02 85.9735 Q1108.65 87.2442 1107.74 89.2117 Q1106.88 91.1382 1105.7 92.9417 Q1104.51 94.7452 1102.54 96.0159 Q1100.61 97.2866 1098.4 97.2866 Q1095.41 97.2866 1093.44 95.3191 Q1091.51 93.3516 1091.51 90.4004 Q1091.51 88.8018 1093.44 83.6781 Q1099.01 68.758 1099.22 68.1432 Q1100.16 65.8068 1100.16 63.7573 Q1100.16 62.8146 1099.96 62.2407 Q1099.75 61.6259 1099.34 61.4209 Q1098.93 61.175 1098.69 61.134 Q1098.48 61.093 1098.07 61.093 Q1095.65 61.093 1093.4 63.5524 Q1091.14 66.0117 1089.59 71.5043 Q1089.26 72.529 1089.05 72.775 Q1088.85 73.0209 1088.23 73.0209 Q1087.21 72.9799 1087.21 72.1601 Q1087.21 71.9142 1087.5 70.9714 Q1087.78 69.9877 1088.32 68.5121 Q1088.85 66.9955 1089.79 65.4379 Q1090.73 63.8393 1091.88 62.4457 Q1093.07 61.052 1094.75 60.1503 Q1096.43 59.2485 1098.32 59.2485 Q1101.39 59.2485 1103.28 61.257 Q1105.2 63.2245 1105.2 66.1347 Q1105.2 67.7333 1104.1 70.5616 Q1102.74 74.2506 1102.25 75.4393 L1098.97 84.252 Q1097.78 87.4491 1097.42 88.4329 Q1097.09 89.3756 1096.8 90.5233 Q1096.55 91.63 1096.55 92.6548 Q1096.55 94.0894 1097.01 94.7452 Q1097.5 95.4011 1098.56 95.4011 Q1101.51 95.4011 1103.69 92.4908 Q1105.86 89.5396 1107.13 85.0308 Q1107.17 84.9078 1107.21 84.7029 Q1107.54 83.6781 1107.87 83.5552 Q1108.03 83.5142 1108.36 83.5142 Q1109.38 83.5142 1109.38 84.334 Z\" fill=\"#000000\" fill-rule=\"evenodd\" fill-opacity=\"1\" /><path clip-path=\"url(#clip450)\" d=\"M1140.47 105.91 Q1140.7 106.168 1140.7 106.426 Q1140.7 106.684 1140.13 107.43 Q1139.58 108.176 1138.41 109.181 Q1137.23 110.185 1135.71 111.132 Q1134.19 112.079 1131.95 112.71 Q1129.71 113.37 1127.36 113.37 Q1123.14 113.37 1120.62 110.357 Q1118.12 107.344 1118.12 102.725 Q1118.12 99.7694 1119.1 97.1584 Q1120.07 94.5187 1121.65 92.6537 Q1123.26 90.7887 1125.27 89.4401 Q1127.3 88.0629 1129.43 87.403 Q1131.55 86.743 1133.53 86.743 Q1136.43 86.743 1138.12 88.2064 Q1139.81 89.6697 1139.81 91.7355 Q1139.81 92.2233 1139.67 92.8259 Q1139.56 93.4284 1139.15 94.3752 Q1138.78 95.3221 1137.81 96.269 Q1136.83 97.1871 1135.4 97.7897 Q1132.21 99.1382 1126.41 99.1382 L1123.29 99.1382 Q1122.37 102.84 1122.37 105.25 Q1122.37 106.197 1122.54 107.172 Q1122.71 108.119 1123.17 109.324 Q1123.66 110.529 1124.75 111.304 Q1125.87 112.05 1127.48 112.05 Q1127.99 112.05 1128.54 112.021 Q1129.11 111.992 1130.55 111.677 Q1132.01 111.361 1133.3 110.816 Q1134.59 110.271 1136.23 109.094 Q1137.89 107.889 1139.21 106.254 Q1139.67 105.651 1139.99 105.651 Q1140.24 105.651 1140.47 105.91 M1137.86 91.7355 Q1137.86 90.1574 1136.69 89.0958 Q1135.54 88.0342 1133.53 88.0342 Q1132.9 88.0342 1132.12 88.1777 Q1131.35 88.3211 1130.06 88.9237 Q1128.8 89.5262 1127.68 90.5305 Q1126.56 91.506 1125.44 93.4284 Q1124.32 95.3221 1123.66 97.847 L1126.07 97.847 Q1126.9 97.847 1127.5 97.847 Q1128.11 97.8183 1129.43 97.7036 Q1130.78 97.5888 1131.75 97.388 Q1132.73 97.1584 1133.96 96.6993 Q1135.19 96.2403 1135.97 95.6377 Q1136.77 95.0065 1137.32 94.0022 Q1137.86 92.998 1137.86 91.7355 Z\" fill=\"#000000\" fill-rule=\"evenodd\" fill-opacity=\"1\" /><path clip-path=\"url(#clip450)\" d=\"M1172.73 83.5961 Q1172.81 82.5714 1174.41 82.5714 L1225.85 82.5714 Q1228.27 82.5714 1228.31 83.5142 Q1228.31 84.5389 1226.02 84.4979 L1174.98 84.4979 Q1172.73 84.5389 1172.73 83.5961 M1172.73 67.2004 Q1172.73 66.1757 1174.49 66.2167 L1225.77 66.2167 Q1228.27 66.2167 1228.31 67.2004 Q1228.31 68.1432 1226.18 68.1432 L1174.41 68.1432 Q1172.73 68.1432 1172.73 67.2004 Z\" fill=\"#000000\" fill-rule=\"evenodd\" fill-opacity=\"1\" /><path clip-path=\"url(#clip450)\" d=\"M1260.69 48.4273 L1260.69 45.804 Q1270.77 45.804 1275.98 40.4344 Q1277.41 40.4344 1277.66 40.7624 Q1277.9 41.0903 1277.9 42.6069 L1277.9 89.7035 Q1277.9 92.2039 1279.13 92.9827 Q1280.36 93.7615 1285.73 93.7615 L1288.4 93.7615 L1288.4 96.3438 Q1285.45 96.0979 1274.79 96.0979 Q1264.13 96.0979 1261.22 96.3438 L1261.22 93.7615 L1263.89 93.7615 Q1269.17 93.7615 1270.44 93.0237 Q1271.72 92.2449 1271.72 89.7035 L1271.72 46.2139 Q1267.33 48.4273 1260.69 48.4273 Z\" fill=\"#000000\" fill-rule=\"evenodd\" fill-opacity=\"1\" /><path clip-path=\"url(#clip450)\" d=\"M1303.45 94.9912 Q1302.26 93.6385 1302.26 91.876 Q1302.26 90.1134 1303.41 88.8018 Q1304.6 87.4491 1306.73 87.4491 Q1309.23 87.4491 1310.66 89.8675 Q1312.1 92.2449 1312.1 96.2618 Q1312.1 100.607 1310.33 104.624 Q1308.57 108.682 1306.85 110.608 Q1305.13 112.535 1304.43 112.535 Q1303.61 112.535 1303.61 111.633 Q1303.61 111.305 1304.19 110.69 Q1310.21 104.214 1310.25 96.2618 Q1310.25 94.9912 1310.09 94.9912 L1309.88 95.1551 Q1308.45 96.3438 1306.73 96.3438 Q1304.64 96.3438 1303.45 94.9912 Z\" fill=\"#000000\" fill-rule=\"evenodd\" fill-opacity=\"1\" /><path clip-path=\"url(#clip450)\" d=\"M1382.65 61.0111 Q1382.65 61.339 1381.05 64.2082 Q1378.39 69.4958 1374.98 77.5707 Q1371.58 85.6456 1369.66 91.63 Q1369.25 93.0647 1368.96 94.9092 Q1368.22 100.566 1365.84 109.337 Q1365.02 112.084 1364.49 113.231 Q1363.96 114.379 1363.18 114.379 Q1362.07 114.379 1362.07 112.862 Q1362.07 111.346 1363.47 105.689 Q1364.9 100.033 1366.46 94.8272 Q1367.44 91.958 1367.44 86.5884 Q1367.44 84.8668 1367.36 83.3092 Q1367.28 81.7516 1366.95 79.4972 Q1366.62 77.2428 1366.09 75.3983 Q1365.56 73.5538 1364.53 71.6273 Q1363.51 69.6598 1362.11 68.3481 Q1360.72 66.9955 1358.59 66.1347 Q1356.5 65.2739 1353.88 65.2739 Q1353.22 65.2739 1352.4 65.3559 Q1351.62 65.3969 1349.74 65.9298 Q1347.89 66.4626 1346.33 67.4054 Q1344.78 68.3071 1343.1 70.3156 Q1341.41 72.3241 1340.51 75.0294 L1340.18 75.4393 Q1339.65 75.4393 1339.37 75.4393 Q1339.12 75.3983 1338.83 75.1933 Q1338.59 74.9884 1338.59 74.6195 Q1338.59 73.7587 1339.24 72.0372 Q1339.94 70.3156 1341.33 68.1022 Q1342.77 65.8888 1344.61 63.9213 Q1346.5 61.9538 1349.24 60.6012 Q1351.99 59.2485 1354.94 59.2485 Q1362.52 59.2485 1366.13 68.4711 Q1369.29 76.3001 1369.57 85.6046 Q1376.13 69.0859 1380.64 60.7651 Q1380.89 60.1503 1381.63 60.1503 Q1382.65 60.1913 1382.65 61.0111 Z\" fill=\"#000000\" fill-rule=\"evenodd\" fill-opacity=\"1\" /><path clip-path=\"url(#clip450)\" d=\"M1404.91 83.5961 Q1404.99 82.5714 1406.59 82.5714 L1458.03 82.5714 Q1460.45 82.5714 1460.49 83.5142 Q1460.49 84.5389 1458.19 84.4979 L1407.16 84.4979 Q1404.91 84.5389 1404.91 83.5961 M1404.91 67.2004 Q1404.91 66.1757 1406.67 66.2167 L1457.95 66.2167 Q1460.45 66.2167 1460.49 67.2004 Q1460.49 68.1432 1458.36 68.1432 L1406.59 68.1432 Q1404.91 68.1432 1404.91 67.2004 Z\" fill=\"#000000\" fill-rule=\"evenodd\" fill-opacity=\"1\" /><path clip-path=\"url(#clip450)\" d=\"M1492.87 48.4273 L1492.87 45.804 Q1502.95 45.804 1508.16 40.4344 Q1509.59 40.4344 1509.84 40.7624 Q1510.08 41.0903 1510.08 42.6069 L1510.08 89.7035 Q1510.08 92.2039 1511.31 92.9827 Q1512.54 93.7615 1517.91 93.7615 L1520.58 93.7615 L1520.58 96.3438 Q1517.63 96.0979 1506.97 96.0979 Q1496.31 96.0979 1493.4 96.3438 L1493.4 93.7615 L1496.07 93.7615 Q1501.35 93.7615 1502.62 93.0237 Q1503.89 92.2449 1503.89 89.7035 L1503.89 46.2139 Q1499.51 48.4273 1492.87 48.4273 Z\" fill=\"#000000\" fill-rule=\"evenodd\" fill-opacity=\"1\" /><path clip-path=\"url(#clip450)\" d=\"M1533.09 116.511 Q1533.09 116.101 1534.16 115.076 Q1547.69 101.304 1547.69 75.3573 Q1547.69 49.3291 1534.69 36.1716 Q1533.09 34.6549 1533.09 34.2041 Q1533.09 33.3843 1533.91 33.3843 Q1534.49 33.3843 1536.5 35.0648 Q1538.55 36.7454 1541.62 40.5984 Q1544.74 44.4514 1547.03 49.1652 Q1552.56 60.6012 1552.56 75.3573 Q1552.56 89.5396 1547.28 100.976 Q1545.02 105.771 1541.87 109.788 Q1538.71 113.805 1536.62 115.568 Q1534.53 117.33 1533.91 117.33 Q1533.09 117.33 1533.09 116.511 Z\" fill=\"#000000\" fill-rule=\"evenodd\" fill-opacity=\"1\" /><path clip-path=\"url(#clip450)\" d=\"M1635.24 95.0731 Q1634.83 95.565 1634.09 95.565 Q1633.39 95.565 1632.9 95.0731 L1615.52 77.6937 L1598.14 95.0731 Q1597.65 95.565 1596.91 95.565 Q1596.22 95.565 1595.76 95.0731 Q1595.27 94.6223 1595.27 93.9254 Q1595.27 93.2286 1595.76 92.7368 L1613.14 75.3573 L1595.76 57.9778 Q1595.27 57.486 1595.27 56.7892 Q1595.27 56.0514 1595.76 55.6415 Q1596.22 55.1496 1596.91 55.1496 Q1597.65 55.1496 1598.14 55.6415 L1615.52 73.0209 L1632.9 55.6415 Q1633.39 55.1496 1634.09 55.1496 Q1634.83 55.1496 1635.24 55.6415 Q1635.73 56.0514 1635.73 56.7892 Q1635.73 57.486 1635.24 57.9778 L1617.86 75.3573 L1635.24 92.7368 Q1635.73 93.2286 1635.73 93.9664 Q1635.73 94.6633 1635.24 95.0731 Z\" fill=\"#000000\" fill-rule=\"evenodd\" fill-opacity=\"1\" /><path clip-path=\"url(#clip450)\" d=\"M1675.3 48.4273 L1675.3 45.804 Q1685.38 45.804 1690.59 40.4344 Q1692.02 40.4344 1692.27 40.7624 Q1692.51 41.0903 1692.51 42.6069 L1692.51 89.7035 Q1692.51 92.2039 1693.74 92.9827 Q1694.97 93.7615 1700.34 93.7615 L1703 93.7615 L1703 96.3438 Q1700.05 96.0979 1689.4 96.0979 Q1678.74 96.0979 1675.83 96.3438 L1675.83 93.7615 L1678.49 93.7615 Q1683.78 93.7615 1685.05 93.0237 Q1686.32 92.2449 1686.32 89.7035 L1686.32 46.2139 Q1681.94 48.4273 1675.3 48.4273 Z\" fill=\"#000000\" fill-rule=\"evenodd\" fill-opacity=\"1\" /><path clip-path=\"url(#clip450)\" d=\"M1716.87 69.4958 Q1716.87 57.1581 1719.98 50.4358 Q1724.33 40.4344 1734.57 40.4344 Q1736.75 40.4344 1739 41.0493 Q1741.3 41.6231 1744.17 43.8775 Q1747.08 46.1319 1748.84 49.821 Q1752.2 56.9531 1752.2 69.4958 Q1752.2 81.7516 1749.08 88.4329 Q1744.53 98.1883 1734.49 98.1883 Q1730.72 98.1883 1726.87 96.2618 Q1723.06 94.3353 1720.64 89.7035 Q1716.87 82.7764 1716.87 69.4958 M1723.83 68.4711 Q1723.83 81.1368 1724.74 86.1785 Q1725.76 91.63 1728.55 94.0074 Q1731.38 96.3438 1734.49 96.3438 Q1737.85 96.3438 1740.64 93.8435 Q1743.47 91.3021 1744.33 85.8506 Q1745.27 80.481 1745.23 68.4711 Q1745.23 56.7892 1744.41 52.1164 Q1743.3 46.6648 1740.35 44.4924 Q1737.44 42.279 1734.49 42.279 Q1733.39 42.279 1732.2 42.6069 Q1731.05 42.9348 1729.37 43.8775 Q1727.69 44.8203 1726.38 47.1567 Q1725.11 49.4931 1724.49 53.0181 Q1723.83 57.568 1723.83 68.4711 Z\" fill=\"#000000\" fill-rule=\"evenodd\" fill-opacity=\"1\" /><path clip-path=\"url(#clip450)\" d=\"M1760.81 43.5956 Q1760.81 41.8454 1761.81 41.0133 Q1762.82 40.1812 1764.11 40.1812 Q1765.46 40.1812 1766.41 41.0707 Q1767.38 41.9315 1767.38 43.4522 Q1767.38 45.0876 1766.23 46.0058 Q1765.11 46.924 1763.51 46.6944 Q1764.91 49.0472 1767.5 50.1088 Q1770.11 51.1704 1772.52 51.1704 Q1775.04 51.1704 1777.08 48.9898 Q1779.15 46.8092 1779.15 41.4724 Q1779.15 36.939 1777.37 34.3279 Q1775.62 31.7169 1772.14 31.7169 L1769.56 31.7169 Q1768.67 31.7169 1768.41 31.6309 Q1768.16 31.5448 1768.16 31.057 Q1768.16 30.4832 1769.05 30.3684 Q1769.93 30.3684 1771.34 30.1962 Q1774.76 30.0815 1776.56 27.1261 Q1778.2 24.3717 1778.2 20.4408 Q1778.2 16.8542 1776.48 15.3622 Q1774.78 13.8415 1772.57 13.8415 Q1770.51 13.8415 1768.24 14.7023 Q1765.98 15.5631 1764.74 17.4855 Q1768.39 17.4855 1768.39 20.4408 Q1768.39 21.7319 1767.55 22.5927 Q1766.75 23.4248 1765.4 23.4248 Q1764.11 23.4248 1763.25 22.6214 Q1762.39 21.7893 1762.39 20.3834 Q1762.39 17.0264 1765.37 14.7023 Q1768.39 12.3782 1772.8 12.3782 Q1777.17 12.3782 1780.38 14.6736 Q1783.62 16.969 1783.62 20.4982 Q1783.62 23.97 1781.33 26.8105 Q1779.03 29.6511 1775.39 30.8275 Q1779.86 31.7169 1782.53 34.7583 Q1785.2 37.771 1785.2 41.4724 Q1785.2 46.0632 1781.58 49.4489 Q1777.97 52.8059 1772.69 52.8059 Q1767.81 52.8059 1764.31 50.1662 Q1760.81 47.5265 1760.81 43.5956 Z\" fill=\"#000000\" fill-rule=\"evenodd\" fill-opacity=\"1\" /><path clip-path=\"url(#clip450)\" d=\"M1786.34 41.8167 L1786.34 40.0091 L1804.39 12.4356 Q1804.85 11.7183 1805.57 11.747 Q1806.23 11.747 1806.37 12.0052 Q1806.52 12.2634 1806.52 13.2677 L1806.52 40.0091 L1812.4 40.0091 L1812.4 41.8167 L1806.52 41.8167 L1806.52 46.924 Q1806.52 48.6168 1807.2 49.162 Q1807.92 49.7071 1810.96 49.7071 L1812.2 49.7071 L1812.2 51.5148 Q1809.79 51.3426 1804.22 51.3426 Q1798.68 51.3426 1796.27 51.5148 L1796.27 49.7071 L1797.51 49.7071 Q1800.55 49.7071 1801.26 49.1907 Q1801.98 48.6455 1801.98 46.924 L1801.98 41.8167 L1786.34 41.8167 M1788.01 40.0091 L1802.33 40.0091 L1802.33 18.088 L1788.01 40.0091 Z\" fill=\"#000000\" fill-rule=\"evenodd\" fill-opacity=\"1\" /><circle clip-path=\"url(#clip453)\" cx=\"315.785\" cy=\"1387.28\" r=\"14\" fill=\"#009af9\" fill-rule=\"evenodd\" fill-opacity=\"1\" stroke=\"#000000\" stroke-opacity=\"1\" stroke-width=\"3.2\"/>\n",
       "<circle clip-path=\"url(#clip453)\" cx=\"711.314\" cy=\"1013.21\" r=\"14\" fill=\"#009af9\" fill-rule=\"evenodd\" fill-opacity=\"1\" stroke=\"#000000\" stroke-opacity=\"1\" stroke-width=\"3.2\"/>\n",
       "<circle clip-path=\"url(#clip453)\" cx=\"1106.84\" cy=\"650.397\" r=\"14\" fill=\"#009af9\" fill-rule=\"evenodd\" fill-opacity=\"1\" stroke=\"#000000\" stroke-opacity=\"1\" stroke-width=\"3.2\"/>\n",
       "<circle clip-path=\"url(#clip453)\" cx=\"1502.37\" cy=\"440.507\" r=\"14\" fill=\"#009af9\" fill-rule=\"evenodd\" fill-opacity=\"1\" stroke=\"#000000\" stroke-opacity=\"1\" stroke-width=\"3.2\"/>\n",
       "<circle clip-path=\"url(#clip453)\" cx=\"1897.9\" cy=\"330.15\" r=\"14\" fill=\"#009af9\" fill-rule=\"evenodd\" fill-opacity=\"1\" stroke=\"#000000\" stroke-opacity=\"1\" stroke-width=\"3.2\"/>\n",
       "<circle clip-path=\"url(#clip453)\" cx=\"2293.43\" cy=\"268.562\" r=\"14\" fill=\"#009af9\" fill-rule=\"evenodd\" fill-opacity=\"1\" stroke=\"#000000\" stroke-opacity=\"1\" stroke-width=\"3.2\"/>\n",
       "<polyline clip-path=\"url(#clip453)\" style=\"stroke:#e26f46; stroke-linecap:butt; stroke-linejoin:round; stroke-width:12; stroke-opacity:1; fill:none\" points=\"\n",
       "  -1839.84,190.787 4449.06,190.787 \n",
       "  \"/>\n",
       "</svg>\n"
      ]
     },
     "execution_count": 82,
     "metadata": {},
     "output_type": "execute_result"
    }
   ],
   "source": [
    "scatter(Dls, D4_amp_Dl*10^17*10^17, title = L\"(j_f=1,i_e=1,\\gamma=1)\\times 10^{34}\", \n",
    "    xlabel=L\"\\Delta l\",ylabel=L\"A_{\\Delta_4}(\\Delta l)\",legend = false)\n",
    "hline!([D4_amp_ex*10^17*10^17],linewidth=3)"
   ]
  },
  {
   "cell_type": "markdown",
   "metadata": {
    "ExecuteTime": {
     "end_time": "2022-04-19T18:14:34.587384Z",
     "start_time": "2022-04-19T18:14:34.556811Z"
    },
    "slideshow": {
     "slide_type": "slide"
    },
    "tags": []
   },
   "source": [
    "## Dependence on the truncation parameter $\\Delta l$ - time/quality balance"
   ]
  },
  {
   "cell_type": "code",
   "execution_count": 91,
   "metadata": {
    "ExecuteTime": {
     "end_time": "2022-04-19T18:14:34.587384Z",
     "start_time": "2022-04-19T18:14:34.556811Z"
    },
    "tags": []
   },
   "outputs": [],
   "source": [
    "Dls = 0:15\n",
    "D4_amp_Dl_15 = zeros(length(Dls))\n",
    "for Dl in Dls\n",
    "    D4_amp = 0.0\n",
    "    vertex_path = \"$(root_dir)/amplitudes/Immirzi_$(Immirzi)/j_$(j)/Dl_$(Dl)\" \n",
    "    for j_bulk = j_bulk_min:j_bulk_max\n",
    "        @load \"$(vertex_path)/j_bulk_$(j_bulk)_fulltensor.jld2\" Av \n",
    "        D4_partial_amp = 0.0\n",
    "        D = size(Av[i_idx,:,:,i_idx,i_idx])[1]\n",
    "        for i1 in 1:D, i2 in 1:D, i3 in 1:D, i4 in 1:D\n",
    "            @inbounds D4_partial_amp += Av[i_idx,i2,i1,i_idx,i_idx]*\n",
    "                                        Av[i_idx,i1,i4,i_idx,i_idx]*\n",
    "                                        Av[i_idx,i4,i3,i_idx,i_idx]*\n",
    "                                        Av[i_idx,i3,i2,i_idx,i_idx]     \n",
    "        end     \n",
    "        D4_amp += D4_partial_amp  * (2j_bulk + 1)\n",
    "    end\n",
    "D4_amp_Dl_15[Dl+1]= D4_amp\n",
    "end"
   ]
  },
  {
   "cell_type": "markdown",
   "metadata": {
    "ExecuteTime": {
     "end_time": "2022-04-19T18:14:34.587384Z",
     "start_time": "2022-04-19T18:14:34.556811Z"
    },
    "slideshow": {
     "slide_type": "slide"
    },
    "tags": []
   },
   "source": [
    "## Time \n",
    "To compute this amplitude with $\\Delta l = 15$ took my laptop XXXs more than $\\Delta l =5$ that was almost istantaneous."
   ]
  },
  {
   "cell_type": "code",
   "execution_count": 93,
   "metadata": {
    "ExecuteTime": {
     "end_time": "2022-04-19T18:14:34.587384Z",
     "start_time": "2022-04-19T18:14:34.556811Z"
    },
    "tags": []
   },
   "outputs": [
    {
     "data": {
      "text/plain": [
       "1.4978251313833452e-34"
      ]
     },
     "execution_count": 93,
     "metadata": {},
     "output_type": "execute_result"
    }
   ],
   "source": [
    "D4_amp_ex_15 = extrapolate(D4_amp_Dl_15)"
   ]
  },
  {
   "cell_type": "code",
   "execution_count": 95,
   "metadata": {
    "ExecuteTime": {
     "end_time": "2022-04-19T18:14:34.587384Z",
     "start_time": "2022-04-19T18:14:34.556811Z"
    },
    "tags": []
   },
   "outputs": [
    {
     "data": {
      "text/plain": [
       "1.1236334575046865"
      ]
     },
     "execution_count": 95,
     "metadata": {},
     "output_type": "execute_result"
    }
   ],
   "source": [
    "D4_amp_ex_15/D4_amp_Dl_15[6]"
   ]
  },
  {
   "cell_type": "code",
   "execution_count": 96,
   "metadata": {
    "ExecuteTime": {
     "end_time": "2022-04-19T18:14:34.587384Z",
     "start_time": "2022-04-19T18:14:34.556811Z"
    },
    "tags": []
   },
   "outputs": [
    {
     "data": {
      "text/plain": [
       "1.0138646887114757"
      ]
     },
     "execution_count": 96,
     "metadata": {},
     "output_type": "execute_result"
    }
   ],
   "source": [
    "D4_amp_ex_15/D4_amp_Dl_15[16]"
   ]
  },
  {
   "cell_type": "markdown",
   "metadata": {
    "ExecuteTime": {
     "end_time": "2022-04-19T18:14:34.587384Z",
     "start_time": "2022-04-19T18:14:34.556811Z"
    },
    "slideshow": {
     "slide_type": "slide"
    },
    "tags": []
   },
   "source": [
    "## Dependence on the truncation parameter $\\Delta l$- time/quality balance"
   ]
  },
  {
   "cell_type": "code",
   "execution_count": 97,
   "metadata": {
    "ExecuteTime": {
     "end_time": "2022-04-19T18:14:34.587384Z",
     "start_time": "2022-04-19T18:14:34.556811Z"
    },
    "tags": []
   },
   "outputs": [
    {
     "data": {
      "image/svg+xml": [
       "<?xml version=\"1.0\" encoding=\"utf-8\"?>\n",
       "<svg xmlns=\"http://www.w3.org/2000/svg\" xmlns:xlink=\"http://www.w3.org/1999/xlink\" width=\"600\" height=\"400\" viewBox=\"0 0 2400 1600\">\n",
       "<defs>\n",
       "  <clipPath id=\"clip490\">\n",
       "    <rect x=\"0\" y=\"0\" width=\"2400\" height=\"1600\"/>\n",
       "  </clipPath>\n",
       "</defs>\n",
       "<path clip-path=\"url(#clip490)\" d=\"\n",
       "M0 1600 L2400 1600 L2400 0 L0 0  Z\n",
       "  \" fill=\"#ffffff\" fill-rule=\"evenodd\" fill-opacity=\"1\"/>\n",
       "<defs>\n",
       "  <clipPath id=\"clip491\">\n",
       "    <rect x=\"480\" y=\"0\" width=\"1681\" height=\"1600\"/>\n",
       "  </clipPath>\n",
       "</defs>\n",
       "<defs>\n",
       "  <clipPath id=\"clip492\">\n",
       "    <rect x=\"256\" y=\"154\" width=\"2097\" height=\"1269\"/>\n",
       "  </clipPath>\n",
       "</defs>\n",
       "<path clip-path=\"url(#clip490)\" d=\"\n",
       "M226.78 1423.18 L2352.76 1423.18 L2352.76 154.892 L226.78 154.892  Z\n",
       "  \" fill=\"#ffffff\" fill-rule=\"evenodd\" fill-opacity=\"1\"/>\n",
       "<defs>\n",
       "  <clipPath id=\"clip493\">\n",
       "    <rect x=\"226\" y=\"154\" width=\"2127\" height=\"1269\"/>\n",
       "  </clipPath>\n",
       "</defs>\n",
       "<polyline clip-path=\"url(#clip493)\" style=\"stroke:#000000; stroke-linecap:butt; stroke-linejoin:round; stroke-width:2; stroke-opacity:0.1; fill:none\" points=\"\n",
       "  286.949,1423.18 286.949,154.892 \n",
       "  \"/>\n",
       "<polyline clip-path=\"url(#clip493)\" style=\"stroke:#000000; stroke-linecap:butt; stroke-linejoin:round; stroke-width:2; stroke-opacity:0.1; fill:none\" points=\"\n",
       "  955.495,1423.18 955.495,154.892 \n",
       "  \"/>\n",
       "<polyline clip-path=\"url(#clip493)\" style=\"stroke:#000000; stroke-linecap:butt; stroke-linejoin:round; stroke-width:2; stroke-opacity:0.1; fill:none\" points=\"\n",
       "  1624.04,1423.18 1624.04,154.892 \n",
       "  \"/>\n",
       "<polyline clip-path=\"url(#clip493)\" style=\"stroke:#000000; stroke-linecap:butt; stroke-linejoin:round; stroke-width:2; stroke-opacity:0.1; fill:none\" points=\"\n",
       "  2292.59,1423.18 2292.59,154.892 \n",
       "  \"/>\n",
       "<polyline clip-path=\"url(#clip490)\" style=\"stroke:#000000; stroke-linecap:butt; stroke-linejoin:round; stroke-width:4; stroke-opacity:1; fill:none\" points=\"\n",
       "  226.78,1423.18 2352.76,1423.18 \n",
       "  \"/>\n",
       "<polyline clip-path=\"url(#clip490)\" style=\"stroke:#000000; stroke-linecap:butt; stroke-linejoin:round; stroke-width:4; stroke-opacity:1; fill:none\" points=\"\n",
       "  286.949,1423.18 286.949,1404.28 \n",
       "  \"/>\n",
       "<polyline clip-path=\"url(#clip490)\" style=\"stroke:#000000; stroke-linecap:butt; stroke-linejoin:round; stroke-width:4; stroke-opacity:1; fill:none\" points=\"\n",
       "  955.495,1423.18 955.495,1404.28 \n",
       "  \"/>\n",
       "<polyline clip-path=\"url(#clip490)\" style=\"stroke:#000000; stroke-linecap:butt; stroke-linejoin:round; stroke-width:4; stroke-opacity:1; fill:none\" points=\"\n",
       "  1624.04,1423.18 1624.04,1404.28 \n",
       "  \"/>\n",
       "<polyline clip-path=\"url(#clip490)\" style=\"stroke:#000000; stroke-linecap:butt; stroke-linejoin:round; stroke-width:4; stroke-opacity:1; fill:none\" points=\"\n",
       "  2292.59,1423.18 2292.59,1404.28 \n",
       "  \"/>\n",
       "<path clip-path=\"url(#clip490)\" d=\"M286.949 1454.1 Q283.338 1454.1 281.51 1457.66 Q279.704 1461.2 279.704 1468.33 Q279.704 1475.44 281.51 1479.01 Q283.338 1482.55 286.949 1482.55 Q290.584 1482.55 292.389 1479.01 Q294.218 1475.44 294.218 1468.33 Q294.218 1461.2 292.389 1457.66 Q290.584 1454.1 286.949 1454.1 M286.949 1450.39 Q292.76 1450.39 295.815 1455 Q298.894 1459.58 298.894 1468.33 Q298.894 1477.06 295.815 1481.67 Q292.76 1486.25 286.949 1486.25 Q281.139 1486.25 278.061 1481.67 Q275.005 1477.06 275.005 1468.33 Q275.005 1459.58 278.061 1455 Q281.139 1450.39 286.949 1450.39 Z\" fill=\"#000000\" fill-rule=\"evenodd\" fill-opacity=\"1\" /><path clip-path=\"url(#clip490)\" d=\"M945.773 1451.02 L964.129 1451.02 L964.129 1454.96 L950.055 1454.96 L950.055 1463.43 Q951.074 1463.08 952.092 1462.92 Q953.111 1462.73 954.129 1462.73 Q959.916 1462.73 963.296 1465.9 Q966.676 1469.08 966.676 1474.49 Q966.676 1480.07 963.204 1483.17 Q959.731 1486.25 953.412 1486.25 Q951.236 1486.25 948.967 1485.88 Q946.722 1485.51 944.315 1484.77 L944.315 1480.07 Q946.398 1481.2 948.62 1481.76 Q950.842 1482.32 953.319 1482.32 Q957.324 1482.32 959.662 1480.21 Q962 1478.1 962 1474.49 Q962 1470.88 959.662 1468.77 Q957.324 1466.67 953.319 1466.67 Q951.444 1466.67 949.569 1467.08 Q947.717 1467.5 945.773 1468.38 L945.773 1451.02 Z\" fill=\"#000000\" fill-rule=\"evenodd\" fill-opacity=\"1\" /><path clip-path=\"url(#clip490)\" d=\"M1598.73 1481.64 L1606.37 1481.64 L1606.37 1455.28 L1598.06 1456.95 L1598.06 1452.69 L1606.32 1451.02 L1611 1451.02 L1611 1481.64 L1618.64 1481.64 L1618.64 1485.58 L1598.73 1485.58 L1598.73 1481.64 Z\" fill=\"#000000\" fill-rule=\"evenodd\" fill-opacity=\"1\" /><path clip-path=\"url(#clip490)\" d=\"M1638.08 1454.1 Q1634.47 1454.1 1632.64 1457.66 Q1630.83 1461.2 1630.83 1468.33 Q1630.83 1475.44 1632.64 1479.01 Q1634.47 1482.55 1638.08 1482.55 Q1641.71 1482.55 1643.52 1479.01 Q1645.35 1475.44 1645.35 1468.33 Q1645.35 1461.2 1643.52 1457.66 Q1641.71 1454.1 1638.08 1454.1 M1638.08 1450.39 Q1643.89 1450.39 1646.95 1455 Q1650.02 1459.58 1650.02 1468.33 Q1650.02 1477.06 1646.95 1481.67 Q1643.89 1486.25 1638.08 1486.25 Q1632.27 1486.25 1629.19 1481.67 Q1626.14 1477.06 1626.14 1468.33 Q1626.14 1459.58 1629.19 1455 Q1632.27 1450.39 1638.08 1450.39 Z\" fill=\"#000000\" fill-rule=\"evenodd\" fill-opacity=\"1\" /><path clip-path=\"url(#clip490)\" d=\"M2267.77 1481.64 L2275.41 1481.64 L2275.41 1455.28 L2267.1 1456.95 L2267.1 1452.69 L2275.36 1451.02 L2280.04 1451.02 L2280.04 1481.64 L2287.68 1481.64 L2287.68 1485.58 L2267.77 1485.58 L2267.77 1481.64 Z\" fill=\"#000000\" fill-rule=\"evenodd\" fill-opacity=\"1\" /><path clip-path=\"url(#clip490)\" d=\"M2297.17 1451.02 L2315.53 1451.02 L2315.53 1454.96 L2301.45 1454.96 L2301.45 1463.43 Q2302.47 1463.08 2303.49 1462.92 Q2304.51 1462.73 2305.53 1462.73 Q2311.31 1462.73 2314.69 1465.9 Q2318.07 1469.08 2318.07 1474.49 Q2318.07 1480.07 2314.6 1483.17 Q2311.13 1486.25 2304.81 1486.25 Q2302.63 1486.25 2300.36 1485.88 Q2298.12 1485.51 2295.71 1484.77 L2295.71 1480.07 Q2297.8 1481.2 2300.02 1481.76 Q2302.24 1482.32 2304.72 1482.32 Q2308.72 1482.32 2311.06 1480.21 Q2313.4 1478.1 2313.4 1474.49 Q2313.4 1470.88 2311.06 1468.77 Q2308.72 1466.67 2304.72 1466.67 Q2302.84 1466.67 2300.97 1467.08 Q2299.11 1467.5 2297.17 1468.38 L2297.17 1451.02 Z\" fill=\"#000000\" fill-rule=\"evenodd\" fill-opacity=\"1\" /><path clip-path=\"url(#clip490)\" d=\"M1252.71 1578.54 Q1252.71 1578.28 1253.58 1576.6 Q1254.45 1574.9 1257.51 1568.81 Q1260.57 1562.69 1263.73 1556.28 L1275.1 1533.41 Q1275.9 1531.97 1276.93 1531.97 Q1277.87 1531.97 1278.29 1532.55 Q1278.7 1533.13 1280.64 1537.02 Q1281.63 1538.92 1282.21 1540.15 L1300.86 1577.47 Q1301.18 1578.28 1301.22 1578.54 Q1301.22 1579.18 1300.09 1579.18 L1254.45 1579.18 Q1252.71 1579.18 1252.71 1578.54 M1257.06 1574.16 L1292.55 1574.16 L1274.81 1538.54 L1257.06 1574.16 Z\" fill=\"#000000\" fill-rule=\"evenodd\" fill-opacity=\"1\" /><path clip-path=\"url(#clip490)\" d=\"M1321.47 1534.12 L1311.97 1572.26 Q1311.58 1573.77 1311.58 1575.41 Q1311.58 1578.44 1313.58 1578.44 Q1314.51 1578.44 1315.29 1577.83 Q1316.06 1577.18 1316.64 1575.93 Q1317.25 1574.64 1317.64 1573.41 Q1318.06 1572.19 1318.57 1570.29 Q1318.73 1569.55 1318.89 1569.32 Q1319.06 1569.1 1319.51 1569.1 Q1320.31 1569.1 1320.31 1569.74 Q1319.51 1573.7 1318.31 1576.22 Q1316.58 1579.92 1313.35 1579.92 Q1310.94 1579.92 1309.14 1578.25 Q1307.36 1576.54 1307.36 1573.83 Q1307.36 1572.8 1307.69 1571.58 L1316 1538.6 L1316.22 1537.31 Q1316.22 1536.96 1316.09 1536.76 Q1315.96 1536.57 1315.19 1536.38 Q1314.45 1536.18 1312.97 1536.18 Q1312.36 1536.18 1312.07 1536.15 Q1311.81 1536.12 1311.55 1535.96 Q1311.33 1535.8 1311.33 1535.44 Q1311.33 1534.86 1311.55 1534.54 Q1311.81 1534.22 1312 1534.16 Q1312.2 1534.09 1312.58 1534.06 Q1313.13 1534.03 1314.97 1533.87 Q1316.8 1533.67 1318.38 1533.54 Q1319.96 1533.41 1320.63 1533.41 Q1321.02 1533.41 1321.21 1533.61 Q1321.44 1533.77 1321.47 1533.96 L1321.47 1534.12 Z\" fill=\"#000000\" fill-rule=\"evenodd\" fill-opacity=\"1\" /><polyline clip-path=\"url(#clip493)\" style=\"stroke:#000000; stroke-linecap:butt; stroke-linejoin:round; stroke-width:2; stroke-opacity:0.1; fill:none\" points=\"\n",
       "  226.78,1306.27 2352.76,1306.27 \n",
       "  \"/>\n",
       "<polyline clip-path=\"url(#clip493)\" style=\"stroke:#000000; stroke-linecap:butt; stroke-linejoin:round; stroke-width:2; stroke-opacity:0.1; fill:none\" points=\"\n",
       "  226.78,1134.37 2352.76,1134.37 \n",
       "  \"/>\n",
       "<polyline clip-path=\"url(#clip493)\" style=\"stroke:#000000; stroke-linecap:butt; stroke-linejoin:round; stroke-width:2; stroke-opacity:0.1; fill:none\" points=\"\n",
       "  226.78,962.471 2352.76,962.471 \n",
       "  \"/>\n",
       "<polyline clip-path=\"url(#clip493)\" style=\"stroke:#000000; stroke-linecap:butt; stroke-linejoin:round; stroke-width:2; stroke-opacity:0.1; fill:none\" points=\"\n",
       "  226.78,790.57 2352.76,790.57 \n",
       "  \"/>\n",
       "<polyline clip-path=\"url(#clip493)\" style=\"stroke:#000000; stroke-linecap:butt; stroke-linejoin:round; stroke-width:2; stroke-opacity:0.1; fill:none\" points=\"\n",
       "  226.78,618.669 2352.76,618.669 \n",
       "  \"/>\n",
       "<polyline clip-path=\"url(#clip493)\" style=\"stroke:#000000; stroke-linecap:butt; stroke-linejoin:round; stroke-width:2; stroke-opacity:0.1; fill:none\" points=\"\n",
       "  226.78,446.769 2352.76,446.769 \n",
       "  \"/>\n",
       "<polyline clip-path=\"url(#clip493)\" style=\"stroke:#000000; stroke-linecap:butt; stroke-linejoin:round; stroke-width:2; stroke-opacity:0.1; fill:none\" points=\"\n",
       "  226.78,274.868 2352.76,274.868 \n",
       "  \"/>\n",
       "<polyline clip-path=\"url(#clip490)\" style=\"stroke:#000000; stroke-linecap:butt; stroke-linejoin:round; stroke-width:4; stroke-opacity:1; fill:none\" points=\"\n",
       "  226.78,1423.18 226.78,154.892 \n",
       "  \"/>\n",
       "<polyline clip-path=\"url(#clip490)\" style=\"stroke:#000000; stroke-linecap:butt; stroke-linejoin:round; stroke-width:4; stroke-opacity:1; fill:none\" points=\"\n",
       "  226.78,1306.27 245.678,1306.27 \n",
       "  \"/>\n",
       "<polyline clip-path=\"url(#clip490)\" style=\"stroke:#000000; stroke-linecap:butt; stroke-linejoin:round; stroke-width:4; stroke-opacity:1; fill:none\" points=\"\n",
       "  226.78,1134.37 245.678,1134.37 \n",
       "  \"/>\n",
       "<polyline clip-path=\"url(#clip490)\" style=\"stroke:#000000; stroke-linecap:butt; stroke-linejoin:round; stroke-width:4; stroke-opacity:1; fill:none\" points=\"\n",
       "  226.78,962.471 245.678,962.471 \n",
       "  \"/>\n",
       "<polyline clip-path=\"url(#clip490)\" style=\"stroke:#000000; stroke-linecap:butt; stroke-linejoin:round; stroke-width:4; stroke-opacity:1; fill:none\" points=\"\n",
       "  226.78,790.57 245.678,790.57 \n",
       "  \"/>\n",
       "<polyline clip-path=\"url(#clip490)\" style=\"stroke:#000000; stroke-linecap:butt; stroke-linejoin:round; stroke-width:4; stroke-opacity:1; fill:none\" points=\"\n",
       "  226.78,618.669 245.678,618.669 \n",
       "  \"/>\n",
       "<polyline clip-path=\"url(#clip490)\" style=\"stroke:#000000; stroke-linecap:butt; stroke-linejoin:round; stroke-width:4; stroke-opacity:1; fill:none\" points=\"\n",
       "  226.78,446.769 245.678,446.769 \n",
       "  \"/>\n",
       "<polyline clip-path=\"url(#clip490)\" style=\"stroke:#000000; stroke-linecap:butt; stroke-linejoin:round; stroke-width:4; stroke-opacity:1; fill:none\" points=\"\n",
       "  226.78,274.868 245.678,274.868 \n",
       "  \"/>\n",
       "<path clip-path=\"url(#clip490)\" d=\"M135.202 1292.07 Q131.591 1292.07 129.762 1295.64 Q127.957 1299.18 127.957 1306.31 Q127.957 1313.41 129.762 1316.98 Q131.591 1320.52 135.202 1320.52 Q138.836 1320.52 140.642 1316.98 Q142.47 1313.41 142.47 1306.31 Q142.47 1299.18 140.642 1295.64 Q138.836 1292.07 135.202 1292.07 M135.202 1288.37 Q141.012 1288.37 144.068 1292.97 Q147.146 1297.56 147.146 1306.31 Q147.146 1315.03 144.068 1319.64 Q141.012 1324.22 135.202 1324.22 Q129.392 1324.22 126.313 1319.64 Q123.258 1315.03 123.258 1306.31 Q123.258 1297.56 126.313 1292.97 Q129.392 1288.37 135.202 1288.37 Z\" fill=\"#000000\" fill-rule=\"evenodd\" fill-opacity=\"1\" /><path clip-path=\"url(#clip490)\" d=\"M155.364 1317.67 L160.248 1317.67 L160.248 1323.55 L155.364 1323.55 L155.364 1317.67 Z\" fill=\"#000000\" fill-rule=\"evenodd\" fill-opacity=\"1\" /><path clip-path=\"url(#clip490)\" d=\"M174.461 1319.62 L190.78 1319.62 L190.78 1323.55 L168.836 1323.55 L168.836 1319.62 Q171.498 1316.86 176.081 1312.23 Q180.688 1307.58 181.868 1306.24 Q184.114 1303.71 184.993 1301.98 Q185.896 1300.22 185.896 1298.53 Q185.896 1295.77 183.952 1294.04 Q182.03 1292.3 178.929 1292.3 Q176.729 1292.3 174.276 1293.07 Q171.845 1293.83 169.067 1295.38 L169.067 1290.66 Q171.892 1289.52 174.345 1288.95 Q176.799 1288.37 178.836 1288.37 Q184.206 1288.37 187.401 1291.05 Q190.595 1293.74 190.595 1298.23 Q190.595 1300.36 189.785 1302.28 Q188.998 1304.18 186.891 1306.77 Q186.313 1307.44 183.211 1310.66 Q180.109 1313.85 174.461 1319.62 Z\" fill=\"#000000\" fill-rule=\"evenodd\" fill-opacity=\"1\" /><path clip-path=\"url(#clip490)\" d=\"M133.119 1120.17 Q129.507 1120.17 127.679 1123.73 Q125.873 1127.28 125.873 1134.41 Q125.873 1141.51 127.679 1145.08 Q129.507 1148.62 133.119 1148.62 Q136.753 1148.62 138.558 1145.08 Q140.387 1141.51 140.387 1134.41 Q140.387 1127.28 138.558 1123.73 Q136.753 1120.17 133.119 1120.17 M133.119 1116.47 Q138.929 1116.47 141.984 1121.07 Q145.063 1125.66 145.063 1134.41 Q145.063 1143.13 141.984 1147.74 Q138.929 1152.32 133.119 1152.32 Q127.308 1152.32 124.23 1147.74 Q121.174 1143.13 121.174 1134.41 Q121.174 1125.66 124.23 1121.07 Q127.308 1116.47 133.119 1116.47 Z\" fill=\"#000000\" fill-rule=\"evenodd\" fill-opacity=\"1\" /><path clip-path=\"url(#clip490)\" d=\"M153.281 1145.77 L158.165 1145.77 L158.165 1151.65 L153.281 1151.65 L153.281 1145.77 Z\" fill=\"#000000\" fill-rule=\"evenodd\" fill-opacity=\"1\" /><path clip-path=\"url(#clip490)\" d=\"M181.197 1121.17 L169.392 1139.61 L181.197 1139.61 L181.197 1121.17 M179.97 1117.09 L185.85 1117.09 L185.85 1139.61 L190.78 1139.61 L190.78 1143.5 L185.85 1143.5 L185.85 1151.65 L181.197 1151.65 L181.197 1143.5 L165.595 1143.5 L165.595 1138.99 L179.97 1117.09 Z\" fill=\"#000000\" fill-rule=\"evenodd\" fill-opacity=\"1\" /><path clip-path=\"url(#clip490)\" d=\"M133.443 948.269 Q129.832 948.269 128.003 951.834 Q126.197 955.376 126.197 962.505 Q126.197 969.612 128.003 973.177 Q129.832 976.718 133.443 976.718 Q137.077 976.718 138.882 973.177 Q140.711 969.612 140.711 962.505 Q140.711 955.376 138.882 951.834 Q137.077 948.269 133.443 948.269 M133.443 944.566 Q139.253 944.566 142.308 949.172 Q145.387 953.755 145.387 962.505 Q145.387 971.232 142.308 975.839 Q139.253 980.422 133.443 980.422 Q127.632 980.422 124.554 975.839 Q121.498 971.232 121.498 962.505 Q121.498 953.755 124.554 949.172 Q127.632 944.566 133.443 944.566 Z\" fill=\"#000000\" fill-rule=\"evenodd\" fill-opacity=\"1\" /><path clip-path=\"url(#clip490)\" d=\"M153.605 973.871 L158.489 973.871 L158.489 979.751 L153.605 979.751 L153.605 973.871 Z\" fill=\"#000000\" fill-rule=\"evenodd\" fill-opacity=\"1\" /><path clip-path=\"url(#clip490)\" d=\"M179.253 960.607 Q176.104 960.607 174.253 962.76 Q172.424 964.913 172.424 968.663 Q172.424 972.39 174.253 974.566 Q176.104 976.718 179.253 976.718 Q182.401 976.718 184.229 974.566 Q186.081 972.39 186.081 968.663 Q186.081 964.913 184.229 962.76 Q182.401 960.607 179.253 960.607 M188.535 945.955 L188.535 950.214 Q186.776 949.38 184.97 948.941 Q183.188 948.501 181.429 948.501 Q176.799 948.501 174.345 951.626 Q171.915 954.751 171.567 961.07 Q172.933 959.056 174.993 957.992 Q177.054 956.904 179.53 956.904 Q184.739 956.904 187.748 960.075 Q190.78 963.223 190.78 968.663 Q190.78 973.987 187.632 977.204 Q184.484 980.422 179.253 980.422 Q173.257 980.422 170.086 975.839 Q166.915 971.232 166.915 962.505 Q166.915 954.311 170.804 949.45 Q174.692 944.566 181.243 944.566 Q183.003 944.566 184.785 944.913 Q186.591 945.26 188.535 945.955 Z\" fill=\"#000000\" fill-rule=\"evenodd\" fill-opacity=\"1\" /><path clip-path=\"url(#clip490)\" d=\"M133.697 776.369 Q130.086 776.369 128.257 779.934 Q126.452 783.475 126.452 790.605 Q126.452 797.711 128.257 801.276 Q130.086 804.818 133.697 804.818 Q137.332 804.818 139.137 801.276 Q140.966 797.711 140.966 790.605 Q140.966 783.475 139.137 779.934 Q137.332 776.369 133.697 776.369 M133.697 772.665 Q139.507 772.665 142.563 777.272 Q145.642 781.855 145.642 790.605 Q145.642 799.332 142.563 803.938 Q139.507 808.521 133.697 808.521 Q127.887 808.521 124.808 803.938 Q121.753 799.332 121.753 790.605 Q121.753 781.855 124.808 777.272 Q127.887 772.665 133.697 772.665 Z\" fill=\"#000000\" fill-rule=\"evenodd\" fill-opacity=\"1\" /><path clip-path=\"url(#clip490)\" d=\"M153.859 801.97 L158.743 801.97 L158.743 807.85 L153.859 807.85 L153.859 801.97 Z\" fill=\"#000000\" fill-rule=\"evenodd\" fill-opacity=\"1\" /><path clip-path=\"url(#clip490)\" d=\"M178.929 791.438 Q175.595 791.438 173.674 793.22 Q171.776 795.003 171.776 798.128 Q171.776 801.253 173.674 803.035 Q175.595 804.818 178.929 804.818 Q182.262 804.818 184.183 803.035 Q186.104 801.23 186.104 798.128 Q186.104 795.003 184.183 793.22 Q182.285 791.438 178.929 791.438 M174.253 789.447 Q171.243 788.707 169.554 786.646 Q167.887 784.586 167.887 781.623 Q167.887 777.48 170.827 775.072 Q173.79 772.665 178.929 772.665 Q184.091 772.665 187.03 775.072 Q189.97 777.48 189.97 781.623 Q189.97 784.586 188.28 786.646 Q186.614 788.707 183.628 789.447 Q187.007 790.234 188.882 792.526 Q190.78 794.818 190.78 798.128 Q190.78 803.151 187.702 805.836 Q184.646 808.521 178.929 808.521 Q173.211 808.521 170.132 805.836 Q167.077 803.151 167.077 798.128 Q167.077 794.818 168.975 792.526 Q170.873 790.234 174.253 789.447 M172.54 782.063 Q172.54 784.748 174.206 786.253 Q175.896 787.758 178.929 787.758 Q181.938 787.758 183.628 786.253 Q185.341 784.748 185.341 782.063 Q185.341 779.378 183.628 777.873 Q181.938 776.369 178.929 776.369 Q175.896 776.369 174.206 777.873 Q172.54 779.378 172.54 782.063 Z\" fill=\"#000000\" fill-rule=\"evenodd\" fill-opacity=\"1\" /><path clip-path=\"url(#clip490)\" d=\"M124.415 632.014 L132.054 632.014 L132.054 605.649 L123.744 607.315 L123.744 603.056 L132.007 601.389 L136.683 601.389 L136.683 632.014 L144.322 632.014 L144.322 635.949 L124.415 635.949 L124.415 632.014 Z\" fill=\"#000000\" fill-rule=\"evenodd\" fill-opacity=\"1\" /><path clip-path=\"url(#clip490)\" d=\"M153.767 630.07 L158.651 630.07 L158.651 635.949 L153.767 635.949 L153.767 630.07 Z\" fill=\"#000000\" fill-rule=\"evenodd\" fill-opacity=\"1\" /><path clip-path=\"url(#clip490)\" d=\"M178.836 604.468 Q175.225 604.468 173.396 608.033 Q171.591 611.575 171.591 618.704 Q171.591 625.811 173.396 629.375 Q175.225 632.917 178.836 632.917 Q182.47 632.917 184.276 629.375 Q186.104 625.811 186.104 618.704 Q186.104 611.575 184.276 608.033 Q182.47 604.468 178.836 604.468 M178.836 600.764 Q184.646 600.764 187.702 605.371 Q190.78 609.954 190.78 618.704 Q190.78 627.431 187.702 632.037 Q184.646 636.621 178.836 636.621 Q173.026 636.621 169.947 632.037 Q166.892 627.431 166.892 618.704 Q166.892 609.954 169.947 605.371 Q173.026 600.764 178.836 600.764 Z\" fill=\"#000000\" fill-rule=\"evenodd\" fill-opacity=\"1\" /><path clip-path=\"url(#clip490)\" d=\"M126.012 460.114 L133.651 460.114 L133.651 433.748 L125.341 435.415 L125.341 431.155 L133.605 429.489 L138.281 429.489 L138.281 460.114 L145.919 460.114 L145.919 464.049 L126.012 464.049 L126.012 460.114 Z\" fill=\"#000000\" fill-rule=\"evenodd\" fill-opacity=\"1\" /><path clip-path=\"url(#clip490)\" d=\"M155.364 458.169 L160.248 458.169 L160.248 464.049 L155.364 464.049 L155.364 458.169 Z\" fill=\"#000000\" fill-rule=\"evenodd\" fill-opacity=\"1\" /><path clip-path=\"url(#clip490)\" d=\"M174.461 460.114 L190.78 460.114 L190.78 464.049 L168.836 464.049 L168.836 460.114 Q171.498 457.359 176.081 452.729 Q180.688 448.077 181.868 446.734 Q184.114 444.211 184.993 442.475 Q185.896 440.716 185.896 439.026 Q185.896 436.271 183.952 434.535 Q182.03 432.799 178.929 432.799 Q176.729 432.799 174.276 433.563 Q171.845 434.327 169.067 435.878 L169.067 431.155 Q171.892 430.021 174.345 429.442 Q176.799 428.864 178.836 428.864 Q184.206 428.864 187.401 431.549 Q190.595 434.234 190.595 438.725 Q190.595 440.854 189.785 442.776 Q188.998 444.674 186.891 447.266 Q186.313 447.938 183.211 451.155 Q180.109 454.35 174.461 460.114 Z\" fill=\"#000000\" fill-rule=\"evenodd\" fill-opacity=\"1\" /><path clip-path=\"url(#clip490)\" d=\"M123.929 288.213 L131.568 288.213 L131.568 261.847 L123.258 263.514 L123.258 259.255 L131.521 257.588 L136.197 257.588 L136.197 288.213 L143.836 288.213 L143.836 292.148 L123.929 292.148 L123.929 288.213 Z\" fill=\"#000000\" fill-rule=\"evenodd\" fill-opacity=\"1\" /><path clip-path=\"url(#clip490)\" d=\"M153.281 286.268 L158.165 286.268 L158.165 292.148 L153.281 292.148 L153.281 286.268 Z\" fill=\"#000000\" fill-rule=\"evenodd\" fill-opacity=\"1\" /><path clip-path=\"url(#clip490)\" d=\"M181.197 261.662 L169.392 280.111 L181.197 280.111 L181.197 261.662 M179.97 257.588 L185.85 257.588 L185.85 280.111 L190.78 280.111 L190.78 284 L185.85 284 L185.85 292.148 L181.197 292.148 L181.197 284 L165.595 284 L165.595 279.486 L179.97 257.588 Z\" fill=\"#000000\" fill-rule=\"evenodd\" fill-opacity=\"1\" /><path clip-path=\"url(#clip490)\" d=\"M60.7067 863.523 Q61.3186 863.523 61.6407 863.781 Q61.9305 864.006 61.9949 864.232 Q62.0271 864.425 62.0271 864.715 Q62.0271 865.552 61.9305 868.451 Q61.8339 871.349 61.8339 872.187 Q61.8339 873.539 61.9305 876.309 Q62.0271 879.079 62.0271 880.431 Q62.0271 881.333 61.2864 881.333 Q60.8033 881.333 60.5457 881.237 Q60.2558 881.14 60.1592 880.882 Q60.0304 880.592 60.0304 880.431 Q59.9982 880.238 59.9982 879.755 Q59.9982 879.111 59.9338 878.435 Q59.8371 877.758 59.6439 876.921 Q59.4507 876.084 58.9676 875.568 Q58.4845 875.021 57.8082 875.021 Q57.5183 875.021 55.1351 875.246 Q52.7518 875.472 49.9821 875.762 Q47.1802 876.051 46.7938 876.084 L46.7938 892.637 Q49.4024 894.151 51.206 895.214 Q53.0095 896.277 53.6214 896.663 Q54.2333 897.05 54.6198 897.275 Q55.0063 897.501 55.2317 897.629 Q56.9386 898.563 57.6793 898.563 Q59.7405 898.563 59.9982 895.472 Q59.9982 894.409 60.7711 894.409 Q61.3508 894.409 61.6729 894.666 Q61.9627 894.924 61.9949 895.15 Q62.0271 895.343 62.0271 895.665 Q62.0271 896.728 61.9305 898.95 Q61.8339 901.172 61.8339 902.267 Q61.8339 903.201 61.9305 905.133 Q62.0271 907.066 62.0271 907.935 Q62.0271 908.322 61.8017 908.547 Q61.5763 908.773 61.2864 908.773 Q60.8355 908.773 60.5779 908.708 Q60.3202 908.612 60.1914 908.354 Q60.0626 908.096 60.0626 907.967 Q60.0304 907.839 59.9982 907.388 Q59.8371 904.94 58.6777 903.04 Q57.4861 901.108 54.4266 899.272 L15.9083 876.341 Q15.5219 876.116 15.3286 875.955 Q15.1354 875.794 14.9744 875.472 Q14.8133 875.117 14.8133 874.602 Q14.8133 873.797 15.071 873.636 Q15.2964 873.475 16.3914 873.378 L57.6149 869.353 Q58.4845 869.256 58.8388 869.192 Q59.1608 869.095 59.5151 868.676 Q59.8371 868.225 59.9338 867.42 Q59.9982 866.583 59.9982 865.037 Q59.9982 864.457 60.0304 864.232 Q60.0304 864.006 60.1914 863.781 Q60.3524 863.523 60.7067 863.523 M44.7326 876.277 L22.9936 878.37 L44.7326 891.381 L44.7326 876.277 Z\" fill=\"#000000\" fill-rule=\"evenodd\" fill-opacity=\"1\" /><path clip-path=\"url(#clip490)\" d=\"M81.2178 856.92 Q81.0375 856.92 79.8652 856.311 Q78.6703 855.703 74.4095 853.561 Q70.1261 851.419 65.6398 849.21 L49.6335 841.252 Q48.619 840.688 48.619 839.967 Q48.619 839.313 49.0248 839.02 Q49.4306 838.727 52.1585 837.374 Q53.4886 836.675 54.3452 836.27 L80.4739 823.217 Q81.0375 822.991 81.2178 822.969 Q81.6687 822.969 81.6687 823.758 L81.6687 855.703 Q81.6687 856.92 81.2178 856.92 M78.1518 853.877 L78.1518 829.033 L53.218 841.455 L78.1518 853.877 Z\" fill=\"#000000\" fill-rule=\"evenodd\" fill-opacity=\"1\" /><path clip-path=\"url(#clip490)\" d=\"M89.3443 818.37 L88.3501 818.37 L73.1847 808.444 Q72.7901 808.192 72.8059 807.797 Q72.8059 807.434 72.9479 807.355 Q73.09 807.276 73.6423 807.276 L88.3501 807.276 L88.3501 804.041 L89.3443 804.041 L89.3443 807.276 L92.1533 807.276 Q93.0843 807.276 93.3842 806.898 Q93.684 806.503 93.684 804.83 L93.684 804.152 L94.6782 804.152 Q94.5835 805.477 94.5835 808.539 Q94.5835 811.584 94.6782 812.91 L93.684 812.91 L93.684 812.231 Q93.684 810.559 93.3999 810.164 Q93.1001 809.77 92.1533 809.77 L89.3443 809.77 L89.3443 818.37 M88.3501 817.455 L88.3501 809.58 L76.2935 809.58 L88.3501 817.455 Z\" fill=\"#000000\" fill-rule=\"evenodd\" fill-opacity=\"1\" /><path clip-path=\"url(#clip490)\" d=\"M45.5377 792.215 Q34.3945 792.215 25.4091 788.061 Q21.641 786.289 18.4848 783.809 Q15.3286 781.33 13.9438 779.687 Q12.5589 778.045 12.5589 777.594 Q12.5589 776.95 13.2031 776.917 Q13.5251 776.917 14.3303 777.787 Q25.1514 788.415 45.5377 788.383 Q65.9885 788.383 76.391 778.045 Q77.5182 776.917 77.8724 776.917 Q78.5165 776.917 78.5165 777.594 Q78.5165 778.045 77.1961 779.623 Q75.8757 781.201 72.8483 783.648 Q69.821 786.096 66.1173 787.867 Q57.1318 792.215 45.5377 792.215 Z\" fill=\"#000000\" fill-rule=\"evenodd\" fill-opacity=\"1\" /><path clip-path=\"url(#clip490)\" d=\"M61.383 770.848 Q61.1254 770.848 59.4507 769.978 Q57.7438 769.109 51.6568 766.049 Q45.5377 762.99 39.1288 759.833 L16.2626 748.465 Q14.8133 747.66 14.8133 746.629 Q14.8133 745.695 15.393 745.276 Q15.9728 744.858 19.8697 742.925 Q21.7698 741.927 22.9936 741.347 L60.3202 722.7 Q61.1254 722.378 61.383 722.346 Q62.0271 722.346 62.0271 723.473 L62.0271 769.109 Q62.0271 770.848 61.383 770.848 M57.003 766.5 L57.003 731.009 L21.3833 748.755 L57.003 766.5 Z\" fill=\"#000000\" fill-rule=\"evenodd\" fill-opacity=\"1\" /><path clip-path=\"url(#clip490)\" d=\"M16.9711 702.091 L55.1029 711.591 Q56.6166 711.978 58.2591 711.978 Q61.2864 711.978 61.2864 709.981 Q61.2864 709.047 60.6745 708.274 Q60.0304 707.501 58.7743 706.922 Q57.4861 706.31 56.2623 705.923 Q55.0385 705.505 53.1383 704.989 Q52.3976 704.828 52.1721 704.667 Q51.9467 704.506 51.9467 704.055 Q51.9467 703.25 52.5908 703.25 Q56.5521 704.055 59.0642 705.247 Q62.7679 706.986 62.7679 710.207 Q62.7679 712.622 61.0932 714.426 Q59.3863 716.197 56.681 716.197 Q55.6504 716.197 54.4266 715.875 L21.4478 707.566 L20.1595 707.34 Q19.8053 707.34 19.612 707.469 Q19.4188 707.598 19.2255 708.371 Q19.0323 709.112 19.0323 710.593 Q19.0323 711.205 19.0001 711.495 Q18.9679 711.752 18.8069 712.01 Q18.6458 712.236 18.2916 712.236 Q17.7119 712.236 17.3898 712.01 Q17.0678 711.752 17.0033 711.559 Q16.9389 711.366 16.9067 710.98 Q16.8745 710.432 16.7135 708.596 Q16.5203 706.761 16.3914 705.182 Q16.2626 703.604 16.2626 702.928 Q16.2626 702.542 16.4558 702.348 Q16.6169 702.123 16.8101 702.091 L16.9711 702.091 Z\" fill=\"#000000\" fill-rule=\"evenodd\" fill-opacity=\"1\" /><path clip-path=\"url(#clip490)\" d=\"M77.8724 694.627 Q77.5504 694.627 76.7452 693.789 Q65.924 683.161 45.5377 683.161 Q25.087 683.161 14.7489 693.371 Q13.5573 694.627 13.2031 694.627 Q12.5589 694.627 12.5589 693.983 Q12.5589 693.532 13.8794 691.954 Q15.1998 690.343 18.2272 687.928 Q21.2545 685.48 24.9582 683.677 Q33.9436 679.329 45.5377 679.329 Q56.681 679.329 65.6664 683.484 Q69.4345 685.255 72.5907 687.735 Q75.7468 690.215 77.1317 691.857 Q78.5165 693.5 78.5165 693.983 Q78.5165 694.627 77.8724 694.627 Z\" fill=\"#000000\" fill-rule=\"evenodd\" fill-opacity=\"1\" /><path clip-path=\"url(#clip490)\" d=\"M769.971 75.3573 Q769.971 61.175 775.258 49.739 Q777.513 44.9433 780.669 40.9263 Q783.825 36.9094 785.916 35.1468 Q788.006 33.3843 788.58 33.3843 Q789.4 33.3843 789.441 34.2041 Q789.441 34.614 788.334 35.6387 Q774.807 49.4111 774.848 75.3573 Q774.848 101.385 788.006 114.625 Q789.441 116.06 789.441 116.511 Q789.441 117.33 788.58 117.33 Q788.006 117.33 785.998 115.65 Q783.989 113.969 780.874 110.116 Q777.759 106.263 775.504 101.549 Q769.971 90.1134 769.971 75.3573 Z\" fill=\"#000000\" fill-rule=\"evenodd\" fill-opacity=\"1\" /><path clip-path=\"url(#clip490)\" d=\"M836.635 43.8775 Q836.635 45.5581 835.2 46.9517 Q833.766 48.3454 832.085 48.3454 Q830.691 48.3454 829.831 47.4846 Q829.011 46.6238 829.011 45.3122 Q829.011 43.5086 830.446 42.197 Q831.88 40.8443 833.438 40.8443 Q834.872 40.8443 835.733 41.7461 Q836.635 42.6069 836.635 43.8775 M833.52 66.9545 Q833.52 68.3891 833.11 70.0697 L825.404 100.812 Q824.666 103.804 822.904 106.263 Q821.141 108.764 818.887 110.321 Q816.673 111.879 814.255 112.699 Q811.877 113.559 809.623 113.559 Q806.467 113.559 804.335 112.166 Q802.204 110.772 802.204 108.354 Q802.204 106.222 803.598 104.87 Q805.032 103.558 806.754 103.558 Q808.311 103.558 809.131 104.46 Q809.951 105.361 809.951 106.509 Q809.951 107.903 808.926 109.214 Q807.942 110.526 806.18 110.936 Q807.778 111.715 809.459 111.715 Q812.902 111.715 815.689 108.559 Q818.518 105.443 819.747 100.525 L827.658 69.2089 Q828.232 66.7086 828.232 64.946 Q828.232 63.3065 827.781 62.4047 Q827.33 61.5029 826.797 61.298 Q826.306 61.093 825.568 61.093 Q822.33 61.093 819.542 64.0853 Q816.755 67.0365 814.993 71.3404 Q814.501 72.529 814.255 72.775 Q814.05 73.0209 813.476 73.0209 Q812.451 72.9799 812.451 72.1601 Q812.451 71.9142 812.861 70.9305 Q813.271 69.9467 814.009 68.5121 Q814.747 67.0365 815.935 65.4379 Q817.124 63.8393 818.518 62.4457 Q819.952 61.052 821.879 60.1503 Q823.805 59.2485 825.814 59.2485 Q829.052 59.2485 831.265 61.38 Q833.52 63.4704 833.52 66.9545 Z\" fill=\"#000000\" fill-rule=\"evenodd\" fill-opacity=\"1\" /><path clip-path=\"url(#clip490)\" d=\"M874.553 100.627 Q874.553 102.205 873.548 103.18 Q872.573 104.156 871.339 104.156 Q870.45 104.156 869.79 103.611 Q869.159 103.066 869.159 102.119 Q869.159 101.143 869.905 100.11 Q870.651 99.0775 872.343 98.934 Q871.224 97.8724 869.445 97.8724 Q868.556 97.8724 867.81 98.4462 Q867.093 98.9914 866.691 99.8809 Q866.261 100.799 865.285 105.992 Q864.969 107.685 864.683 109.321 Q864.396 110.956 864.051 112.678 L868.929 112.678 Q869.56 112.678 869.818 112.706 Q870.077 112.735 870.278 112.879 Q870.507 113.022 870.507 113.338 Q870.507 114.141 870.134 114.342 Q869.79 114.514 868.757 114.514 L863.707 114.514 L860.178 133.135 Q860.092 133.681 859.719 135.402 Q859.374 137.095 858.542 139.878 Q857.71 142.69 856.878 144.354 Q856.419 145.301 855.817 146.191 Q855.243 147.109 854.411 148.027 Q853.579 148.945 852.488 149.49 Q851.398 150.064 850.25 150.064 Q848.299 150.064 846.778 148.974 Q845.258 147.883 845.258 146.018 Q845.258 144.44 846.233 143.465 Q847.237 142.489 848.471 142.489 Q849.361 142.489 849.992 143.034 Q850.652 143.58 850.652 144.526 Q850.652 144.928 850.508 145.387 Q850.365 145.846 850.049 146.363 Q849.734 146.908 849.045 147.281 Q848.356 147.654 847.41 147.711 Q848.529 148.773 850.25 148.773 Q850.795 148.773 851.283 148.543 Q851.771 148.342 852.173 147.826 Q852.603 147.31 852.919 146.793 Q853.234 146.305 853.55 145.358 Q853.865 144.44 854.066 143.752 Q854.267 143.063 854.525 141.829 Q854.812 140.596 854.956 139.85 Q855.099 139.132 855.357 137.726 L859.747 114.514 L855.874 114.514 Q855.185 114.514 854.898 114.485 Q854.64 114.457 854.439 114.313 Q854.238 114.141 854.238 113.797 Q854.238 113.252 854.468 113.022 Q854.726 112.764 855.013 112.735 Q855.3 112.678 855.989 112.678 L860.063 112.678 Q861.44 105.419 861.985 103.467 Q862.617 101.402 863.592 99.9669 Q864.568 98.5036 865.658 97.815 Q866.748 97.1264 867.638 96.8682 Q868.556 96.5812 869.445 96.5812 Q871.454 96.5812 873.003 97.6715 Q874.553 98.7332 874.553 100.627 Z\" fill=\"#000000\" fill-rule=\"evenodd\" fill-opacity=\"1\" /><path clip-path=\"url(#clip490)\" d=\"M906.514 83.5961 Q906.596 82.5714 908.195 82.5714 L959.637 82.5714 Q962.055 82.5714 962.096 83.5142 Q962.096 84.5389 959.801 84.4979 L908.769 84.4979 Q906.514 84.5389 906.514 83.5961 M906.514 67.2004 Q906.514 66.1757 908.277 66.2167 L959.555 66.2167 Q962.055 66.2167 962.096 67.2004 Q962.096 68.1432 959.964 68.1432 L908.195 68.1432 Q906.514 68.1432 906.514 67.2004 Z\" fill=\"#000000\" fill-rule=\"evenodd\" fill-opacity=\"1\" /><path clip-path=\"url(#clip490)\" d=\"M994.474 48.4273 L994.474 45.804 Q1004.56 45.804 1009.76 40.4344 Q1011.2 40.4344 1011.44 40.7624 Q1011.69 41.0903 1011.69 42.6069 L1011.69 89.7035 Q1011.69 92.2039 1012.92 92.9827 Q1014.15 93.7615 1019.52 93.7615 L1022.18 93.7615 L1022.18 96.3438 Q1019.23 96.0979 1008.57 96.0979 Q997.917 96.0979 995.007 96.3438 L995.007 93.7615 L997.672 93.7615 Q1002.96 93.7615 1004.23 93.0237 Q1005.5 92.2449 1005.5 89.7035 L1005.5 46.2139 Q1001.11 48.4273 994.474 48.4273 Z\" fill=\"#000000\" fill-rule=\"evenodd\" fill-opacity=\"1\" /><path clip-path=\"url(#clip490)\" d=\"M1037.23 94.9912 Q1036.04 93.6385 1036.04 91.876 Q1036.04 90.1134 1037.19 88.8018 Q1038.38 87.4491 1040.51 87.4491 Q1043.01 87.4491 1044.45 89.8675 Q1045.88 92.2449 1045.88 96.2618 Q1045.88 100.607 1044.12 104.624 Q1042.36 108.682 1040.64 110.608 Q1038.91 112.535 1038.22 112.535 Q1037.4 112.535 1037.4 111.633 Q1037.4 111.305 1037.97 110.69 Q1044 104.214 1044.04 96.2618 Q1044.04 94.9912 1043.87 94.9912 L1043.67 95.1551 Q1042.23 96.3438 1040.51 96.3438 Q1038.42 96.3438 1037.23 94.9912 Z\" fill=\"#000000\" fill-rule=\"evenodd\" fill-opacity=\"1\" /><path clip-path=\"url(#clip490)\" d=\"M1093.81 43.8775 Q1093.81 45.6811 1092.33 47.0337 Q1090.9 48.3454 1089.34 48.3454 Q1087.91 48.3454 1087 47.4846 Q1086.14 46.5828 1086.14 45.3122 Q1086.14 43.6316 1087.58 42.238 Q1089.01 40.8443 1090.69 40.8443 Q1092.09 40.8443 1092.95 41.7051 Q1093.81 42.5659 1093.81 43.8775 M1094.55 84.334 Q1094.55 84.6619 1094.18 85.9735 Q1093.81 87.2442 1092.91 89.2117 Q1092.05 91.1382 1090.86 92.9417 Q1089.67 94.7452 1087.7 96.0159 Q1085.77 97.2866 1083.56 97.2866 Q1080.57 97.2866 1078.6 95.3191 Q1076.68 93.3516 1076.68 90.4004 Q1076.68 88.8018 1078.6 83.6781 Q1084.18 68.758 1084.38 68.1432 Q1085.32 65.8068 1085.32 63.7573 Q1085.32 62.8146 1085.12 62.2407 Q1084.91 61.6259 1084.5 61.4209 Q1084.09 61.175 1083.85 61.134 Q1083.64 61.093 1083.23 61.093 Q1080.82 61.093 1078.56 63.5524 Q1076.31 66.0117 1074.75 71.5043 Q1074.42 72.529 1074.22 72.775 Q1074.01 73.0209 1073.4 73.0209 Q1072.37 72.9799 1072.37 72.1601 Q1072.37 71.9142 1072.66 70.9714 Q1072.95 69.9877 1073.48 68.5121 Q1074.01 66.9955 1074.95 65.4379 Q1075.9 63.8393 1077.04 62.4457 Q1078.23 61.052 1079.91 60.1503 Q1081.59 59.2485 1083.48 59.2485 Q1086.55 59.2485 1088.44 61.257 Q1090.37 63.2245 1090.37 66.1347 Q1090.37 67.7333 1089.26 70.5616 Q1087.91 74.2506 1087.41 75.4393 L1084.14 84.252 Q1082.95 87.4491 1082.58 88.4329 Q1082.25 89.3756 1081.96 90.5233 Q1081.72 91.63 1081.72 92.6548 Q1081.72 94.0894 1082.17 94.7452 Q1082.66 95.4011 1083.73 95.4011 Q1086.68 95.4011 1088.85 92.4908 Q1091.02 89.5396 1092.29 85.0308 Q1092.33 84.9078 1092.37 84.7029 Q1092.7 83.6781 1093.03 83.5552 Q1093.19 83.5142 1093.52 83.5142 Q1094.55 83.5142 1094.55 84.334 Z\" fill=\"#000000\" fill-rule=\"evenodd\" fill-opacity=\"1\" /><path clip-path=\"url(#clip490)\" d=\"M1125.64 105.91 Q1125.87 106.168 1125.87 106.426 Q1125.87 106.684 1125.29 107.43 Q1124.75 108.176 1123.57 109.181 Q1122.39 110.185 1120.87 111.132 Q1119.35 112.079 1117.11 112.71 Q1114.88 113.37 1112.52 113.37 Q1108.31 113.37 1105.78 110.357 Q1103.28 107.344 1103.28 102.725 Q1103.28 99.7694 1104.26 97.1584 Q1105.24 94.5187 1106.81 92.6537 Q1108.42 90.7887 1110.43 89.4401 Q1112.47 88.0629 1114.59 87.403 Q1116.71 86.743 1118.69 86.743 Q1121.59 86.743 1123.28 88.2064 Q1124.98 89.6697 1124.98 91.7355 Q1124.98 92.2233 1124.83 92.8259 Q1124.72 93.4284 1124.32 94.3752 Q1123.94 95.3221 1122.97 96.269 Q1121.99 97.1871 1120.56 97.7897 Q1117.37 99.1382 1111.58 99.1382 L1108.45 99.1382 Q1107.53 102.84 1107.53 105.25 Q1107.53 106.197 1107.7 107.172 Q1107.88 108.119 1108.33 109.324 Q1108.82 110.529 1109.91 111.304 Q1111.03 112.05 1112.64 112.05 Q1113.15 112.05 1113.7 112.021 Q1114.27 111.992 1115.71 111.677 Q1117.17 111.361 1118.46 110.816 Q1119.75 110.271 1121.39 109.094 Q1123.05 107.889 1124.37 106.254 Q1124.83 105.651 1125.15 105.651 Q1125.41 105.651 1125.64 105.91 M1123.03 91.7355 Q1123.03 90.1574 1121.85 89.0958 Q1120.7 88.0342 1118.69 88.0342 Q1118.06 88.0342 1117.29 88.1777 Q1116.51 88.3211 1115.22 88.9237 Q1113.96 89.5262 1112.84 90.5305 Q1111.72 91.506 1110.6 93.4284 Q1109.48 95.3221 1108.82 97.847 L1111.23 97.847 Q1112.06 97.847 1112.67 97.847 Q1113.27 97.8183 1114.59 97.7036 Q1115.94 97.5888 1116.91 97.388 Q1117.89 97.1584 1119.12 96.6993 Q1120.36 96.2403 1121.13 95.6377 Q1121.93 95.0065 1122.48 94.0022 Q1123.03 92.998 1123.03 91.7355 Z\" fill=\"#000000\" fill-rule=\"evenodd\" fill-opacity=\"1\" /><path clip-path=\"url(#clip490)\" d=\"M1157.89 83.5961 Q1157.97 82.5714 1159.57 82.5714 L1211.01 82.5714 Q1213.43 82.5714 1213.47 83.5142 Q1213.47 84.5389 1211.18 84.4979 L1160.15 84.4979 Q1157.89 84.5389 1157.89 83.5961 M1157.89 67.2004 Q1157.89 66.1757 1159.65 66.2167 L1210.93 66.2167 Q1213.43 66.2167 1213.47 67.2004 Q1213.47 68.1432 1211.34 68.1432 L1159.57 68.1432 Q1157.89 68.1432 1157.89 67.2004 Z\" fill=\"#000000\" fill-rule=\"evenodd\" fill-opacity=\"1\" /><path clip-path=\"url(#clip490)\" d=\"M1245.85 48.4273 L1245.85 45.804 Q1255.93 45.804 1261.14 40.4344 Q1262.57 40.4344 1262.82 40.7624 Q1263.07 41.0903 1263.07 42.6069 L1263.07 89.7035 Q1263.07 92.2039 1264.3 92.9827 Q1265.53 93.7615 1270.9 93.7615 L1273.56 93.7615 L1273.56 96.3438 Q1270.61 96.0979 1259.95 96.0979 Q1249.29 96.0979 1246.38 96.3438 L1246.38 93.7615 L1249.05 93.7615 Q1254.34 93.7615 1255.61 93.0237 Q1256.88 92.2449 1256.88 89.7035 L1256.88 46.2139 Q1252.49 48.4273 1245.85 48.4273 Z\" fill=\"#000000\" fill-rule=\"evenodd\" fill-opacity=\"1\" /><path clip-path=\"url(#clip490)\" d=\"M1288.61 94.9912 Q1287.42 93.6385 1287.42 91.876 Q1287.42 90.1134 1288.57 88.8018 Q1289.76 87.4491 1291.89 87.4491 Q1294.39 87.4491 1295.82 89.8675 Q1297.26 92.2449 1297.26 96.2618 Q1297.26 100.607 1295.5 104.624 Q1293.73 108.682 1292.01 110.608 Q1290.29 112.535 1289.59 112.535 Q1288.77 112.535 1288.77 111.633 Q1288.77 111.305 1289.35 110.69 Q1295.37 104.214 1295.41 96.2618 Q1295.41 94.9912 1295.25 94.9912 L1295.05 95.1551 Q1293.61 96.3438 1291.89 96.3438 Q1289.8 96.3438 1288.61 94.9912 Z\" fill=\"#000000\" fill-rule=\"evenodd\" fill-opacity=\"1\" /><path clip-path=\"url(#clip490)\" d=\"M1367.81 61.0111 Q1367.81 61.339 1366.21 64.2082 Q1363.55 69.4958 1360.15 77.5707 Q1356.74 85.6456 1354.82 91.63 Q1354.41 93.0647 1354.12 94.9092 Q1353.38 100.566 1351.01 109.337 Q1350.19 112.084 1349.65 113.231 Q1349.12 114.379 1348.34 114.379 Q1347.24 114.379 1347.24 112.862 Q1347.24 111.346 1348.63 105.689 Q1350.06 100.033 1351.62 94.8272 Q1352.6 91.958 1352.6 86.5884 Q1352.6 84.8668 1352.52 83.3092 Q1352.44 81.7516 1352.11 79.4972 Q1351.79 77.2428 1351.25 75.3983 Q1350.72 73.5538 1349.69 71.6273 Q1348.67 69.6598 1347.28 68.3481 Q1345.88 66.9955 1343.75 66.1347 Q1341.66 65.2739 1339.04 65.2739 Q1338.38 65.2739 1337.56 65.3559 Q1336.78 65.3969 1334.9 65.9298 Q1333.05 66.4626 1331.5 67.4054 Q1329.94 68.3071 1328.26 70.3156 Q1326.58 72.3241 1325.67 75.0294 L1325.35 75.4393 Q1324.81 75.4393 1324.53 75.4393 Q1324.28 75.3983 1323.99 75.1933 Q1323.75 74.9884 1323.75 74.6195 Q1323.75 73.7587 1324.4 72.0372 Q1325.1 70.3156 1326.49 68.1022 Q1327.93 65.8888 1329.77 63.9213 Q1331.66 61.9538 1334.41 60.6012 Q1337.15 59.2485 1340.1 59.2485 Q1347.69 59.2485 1351.29 68.4711 Q1354.45 76.3001 1354.74 85.6046 Q1361.29 69.0859 1365.8 60.7651 Q1366.05 60.1503 1366.79 60.1503 Q1367.81 60.1913 1367.81 61.0111 Z\" fill=\"#000000\" fill-rule=\"evenodd\" fill-opacity=\"1\" /><path clip-path=\"url(#clip490)\" d=\"M1390.07 83.5961 Q1390.15 82.5714 1391.75 82.5714 L1443.19 82.5714 Q1445.61 82.5714 1445.65 83.5142 Q1445.65 84.5389 1443.36 84.4979 L1392.33 84.4979 Q1390.07 84.5389 1390.07 83.5961 M1390.07 67.2004 Q1390.07 66.1757 1391.83 66.2167 L1443.11 66.2167 Q1445.61 66.2167 1445.65 67.2004 Q1445.65 68.1432 1443.52 68.1432 L1391.75 68.1432 Q1390.07 68.1432 1390.07 67.2004 Z\" fill=\"#000000\" fill-rule=\"evenodd\" fill-opacity=\"1\" /><path clip-path=\"url(#clip490)\" d=\"M1478.03 48.4273 L1478.03 45.804 Q1488.11 45.804 1493.32 40.4344 Q1494.75 40.4344 1495 40.7624 Q1495.25 41.0903 1495.25 42.6069 L1495.25 89.7035 Q1495.25 92.2039 1496.48 92.9827 Q1497.71 93.7615 1503.08 93.7615 L1505.74 93.7615 L1505.74 96.3438 Q1502.79 96.0979 1492.13 96.0979 Q1481.47 96.0979 1478.56 96.3438 L1478.56 93.7615 L1481.23 93.7615 Q1486.52 93.7615 1487.79 93.0237 Q1489.06 92.2449 1489.06 89.7035 L1489.06 46.2139 Q1484.67 48.4273 1478.03 48.4273 Z\" fill=\"#000000\" fill-rule=\"evenodd\" fill-opacity=\"1\" /><path clip-path=\"url(#clip490)\" d=\"M1518.26 116.511 Q1518.26 116.101 1519.32 115.076 Q1532.85 101.304 1532.85 75.3573 Q1532.85 49.3291 1519.86 36.1716 Q1518.26 34.6549 1518.26 34.2041 Q1518.26 33.3843 1519.08 33.3843 Q1519.65 33.3843 1521.66 35.0648 Q1523.71 36.7454 1526.78 40.5984 Q1529.9 44.4514 1532.19 49.1652 Q1537.73 60.6012 1537.73 75.3573 Q1537.73 89.5396 1532.44 100.976 Q1530.18 105.771 1527.03 109.788 Q1523.87 113.805 1521.78 115.568 Q1519.69 117.33 1519.08 117.33 Q1518.26 117.33 1518.26 116.511 Z\" fill=\"#000000\" fill-rule=\"evenodd\" fill-opacity=\"1\" /><path clip-path=\"url(#clip490)\" d=\"M1620.4 95.0731 Q1619.99 95.565 1619.25 95.565 Q1618.56 95.565 1618.06 95.0731 L1600.68 77.6937 L1583.3 95.0731 Q1582.81 95.565 1582.07 95.565 Q1581.38 95.565 1580.93 95.0731 Q1580.44 94.6223 1580.44 93.9254 Q1580.44 93.2286 1580.93 92.7368 L1598.31 75.3573 L1580.93 57.9778 Q1580.44 57.486 1580.44 56.7892 Q1580.44 56.0514 1580.93 55.6415 Q1581.38 55.1496 1582.07 55.1496 Q1582.81 55.1496 1583.3 55.6415 L1600.68 73.0209 L1618.06 55.6415 Q1618.56 55.1496 1619.25 55.1496 Q1619.99 55.1496 1620.4 55.6415 Q1620.89 56.0514 1620.89 56.7892 Q1620.89 57.486 1620.4 57.9778 L1603.02 75.3573 L1620.4 92.7368 Q1620.89 93.2286 1620.89 93.9664 Q1620.89 94.6633 1620.4 95.0731 Z\" fill=\"#000000\" fill-rule=\"evenodd\" fill-opacity=\"1\" /><path clip-path=\"url(#clip490)\" d=\"M1660.46 48.4273 L1660.46 45.804 Q1670.54 45.804 1675.75 40.4344 Q1677.18 40.4344 1677.43 40.7624 Q1677.67 41.0903 1677.67 42.6069 L1677.67 89.7035 Q1677.67 92.2039 1678.9 92.9827 Q1680.13 93.7615 1685.5 93.7615 L1688.17 93.7615 L1688.17 96.3438 Q1685.22 96.0979 1674.56 96.0979 Q1663.9 96.0979 1660.99 96.3438 L1660.99 93.7615 L1663.66 93.7615 Q1668.94 93.7615 1670.21 93.0237 Q1671.48 92.2449 1671.48 89.7035 L1671.48 46.2139 Q1667.1 48.4273 1660.46 48.4273 Z\" fill=\"#000000\" fill-rule=\"evenodd\" fill-opacity=\"1\" /><path clip-path=\"url(#clip490)\" d=\"M1702.03 69.4958 Q1702.03 57.1581 1705.14 50.4358 Q1709.49 40.4344 1719.74 40.4344 Q1721.91 40.4344 1724.16 41.0493 Q1726.46 41.6231 1729.33 43.8775 Q1732.24 46.1319 1734 49.821 Q1737.36 56.9531 1737.36 69.4958 Q1737.36 81.7516 1734.25 88.4329 Q1729.7 98.1883 1719.65 98.1883 Q1715.88 98.1883 1712.03 96.2618 Q1708.22 94.3353 1705.8 89.7035 Q1702.03 82.7764 1702.03 69.4958 M1709 68.4711 Q1709 81.1368 1709.9 86.1785 Q1710.92 91.63 1713.71 94.0074 Q1716.54 96.3438 1719.65 96.3438 Q1723.02 96.3438 1725.8 93.8435 Q1728.63 91.3021 1729.49 85.8506 Q1730.43 80.481 1730.39 68.4711 Q1730.39 56.7892 1729.57 52.1164 Q1728.47 46.6648 1725.52 44.4924 Q1722.61 42.279 1719.65 42.279 Q1718.55 42.279 1717.36 42.6069 Q1716.21 42.9348 1714.53 43.8775 Q1712.85 44.8203 1711.54 47.1567 Q1710.27 49.4931 1709.65 53.0181 Q1709 57.568 1709 68.4711 Z\" fill=\"#000000\" fill-rule=\"evenodd\" fill-opacity=\"1\" /><path clip-path=\"url(#clip490)\" d=\"M1745.97 43.5956 Q1745.97 41.8454 1746.98 41.0133 Q1747.98 40.1812 1749.27 40.1812 Q1750.62 40.1812 1751.57 41.0707 Q1752.54 41.9315 1752.54 43.4522 Q1752.54 45.0876 1751.4 46.0058 Q1750.28 46.924 1748.67 46.6944 Q1750.08 49.0472 1752.66 50.1088 Q1755.27 51.1704 1757.68 51.1704 Q1760.2 51.1704 1762.24 48.9898 Q1764.31 46.8092 1764.31 41.4724 Q1764.31 36.939 1762.53 34.3279 Q1760.78 31.7169 1757.31 31.7169 L1754.72 31.7169 Q1753.83 31.7169 1753.58 31.6309 Q1753.32 31.5448 1753.32 31.057 Q1753.32 30.4832 1754.21 30.3684 Q1755.1 30.3684 1756.5 30.1962 Q1759.92 30.0815 1761.73 27.1261 Q1763.36 24.3717 1763.36 20.4408 Q1763.36 16.8542 1761.64 15.3622 Q1759.95 13.8415 1757.74 13.8415 Q1755.67 13.8415 1753.4 14.7023 Q1751.14 15.5631 1749.9 17.4855 Q1753.55 17.4855 1753.55 20.4408 Q1753.55 21.7319 1752.72 22.5927 Q1751.91 23.4248 1750.56 23.4248 Q1749.27 23.4248 1748.41 22.6214 Q1747.55 21.7893 1747.55 20.3834 Q1747.55 17.0264 1750.53 14.7023 Q1753.55 12.3782 1757.97 12.3782 Q1762.33 12.3782 1765.54 14.6736 Q1768.78 16.969 1768.78 20.4982 Q1768.78 23.97 1766.49 26.8105 Q1764.19 29.6511 1760.55 30.8275 Q1765.02 31.7169 1767.69 34.7583 Q1770.36 37.771 1770.36 41.4724 Q1770.36 46.0632 1766.75 49.4489 Q1763.13 52.8059 1757.85 52.8059 Q1752.97 52.8059 1749.47 50.1662 Q1745.97 47.5265 1745.97 43.5956 Z\" fill=\"#000000\" fill-rule=\"evenodd\" fill-opacity=\"1\" /><path clip-path=\"url(#clip490)\" d=\"M1771.51 41.8167 L1771.51 40.0091 L1789.55 12.4356 Q1790.01 11.7183 1790.73 11.747 Q1791.39 11.747 1791.53 12.0052 Q1791.68 12.2634 1791.68 13.2677 L1791.68 40.0091 L1797.56 40.0091 L1797.56 41.8167 L1791.68 41.8167 L1791.68 46.924 Q1791.68 48.6168 1792.37 49.162 Q1793.08 49.7071 1796.12 49.7071 L1797.36 49.7071 L1797.36 51.5148 Q1794.95 51.3426 1789.38 51.3426 Q1783.84 51.3426 1781.43 51.5148 L1781.43 49.7071 L1782.67 49.7071 Q1785.71 49.7071 1786.43 49.1907 Q1787.14 48.6455 1787.14 46.924 L1787.14 41.8167 L1771.51 41.8167 M1773.17 40.0091 L1787.49 40.0091 L1787.49 18.088 L1773.17 40.0091 Z\" fill=\"#000000\" fill-rule=\"evenodd\" fill-opacity=\"1\" /><circle clip-path=\"url(#clip493)\" cx=\"286.949\" cy=\"1387.28\" r=\"14\" fill=\"#009af9\" fill-rule=\"evenodd\" fill-opacity=\"1\" stroke=\"#000000\" stroke-opacity=\"1\" stroke-width=\"3.2\"/>\n",
       "<circle clip-path=\"url(#clip493)\" cx=\"420.659\" cy=\"1034.56\" r=\"14\" fill=\"#009af9\" fill-rule=\"evenodd\" fill-opacity=\"1\" stroke=\"#000000\" stroke-opacity=\"1\" stroke-width=\"3.2\"/>\n",
       "<circle clip-path=\"url(#clip493)\" cx=\"554.368\" cy=\"692.472\" r=\"14\" fill=\"#009af9\" fill-rule=\"evenodd\" fill-opacity=\"1\" stroke=\"#000000\" stroke-opacity=\"1\" stroke-width=\"3.2\"/>\n",
       "<circle clip-path=\"url(#clip493)\" cx=\"688.077\" cy=\"494.566\" r=\"14\" fill=\"#009af9\" fill-rule=\"evenodd\" fill-opacity=\"1\" stroke=\"#000000\" stroke-opacity=\"1\" stroke-width=\"3.2\"/>\n",
       "<circle clip-path=\"url(#clip493)\" cx=\"821.786\" cy=\"390.509\" r=\"14\" fill=\"#009af9\" fill-rule=\"evenodd\" fill-opacity=\"1\" stroke=\"#000000\" stroke-opacity=\"1\" stroke-width=\"3.2\"/>\n",
       "<circle clip-path=\"url(#clip493)\" cx=\"955.495\" cy=\"332.438\" r=\"14\" fill=\"#009af9\" fill-rule=\"evenodd\" fill-opacity=\"1\" stroke=\"#000000\" stroke-opacity=\"1\" stroke-width=\"3.2\"/>\n",
       "<circle clip-path=\"url(#clip493)\" cx=\"1089.2\" cy=\"297.118\" r=\"14\" fill=\"#009af9\" fill-rule=\"evenodd\" fill-opacity=\"1\" stroke=\"#000000\" stroke-opacity=\"1\" stroke-width=\"3.2\"/>\n",
       "<circle clip-path=\"url(#clip493)\" cx=\"1222.91\" cy=\"273.62\" r=\"14\" fill=\"#009af9\" fill-rule=\"evenodd\" fill-opacity=\"1\" stroke=\"#000000\" stroke-opacity=\"1\" stroke-width=\"3.2\"/>\n",
       "<circle clip-path=\"url(#clip493)\" cx=\"1356.62\" cy=\"256.91\" r=\"14\" fill=\"#009af9\" fill-rule=\"evenodd\" fill-opacity=\"1\" stroke=\"#000000\" stroke-opacity=\"1\" stroke-width=\"3.2\"/>\n",
       "<circle clip-path=\"url(#clip493)\" cx=\"1490.33\" cy=\"244.445\" r=\"14\" fill=\"#009af9\" fill-rule=\"evenodd\" fill-opacity=\"1\" stroke=\"#000000\" stroke-opacity=\"1\" stroke-width=\"3.2\"/>\n",
       "<circle clip-path=\"url(#clip493)\" cx=\"1624.04\" cy=\"234.809\" r=\"14\" fill=\"#009af9\" fill-rule=\"evenodd\" fill-opacity=\"1\" stroke=\"#000000\" stroke-opacity=\"1\" stroke-width=\"3.2\"/>\n",
       "<circle clip-path=\"url(#clip493)\" cx=\"1757.75\" cy=\"227.19\" r=\"14\" fill=\"#009af9\" fill-rule=\"evenodd\" fill-opacity=\"1\" stroke=\"#000000\" stroke-opacity=\"1\" stroke-width=\"3.2\"/>\n",
       "<circle clip-path=\"url(#clip493)\" cx=\"1891.46\" cy=\"221.043\" r=\"14\" fill=\"#009af9\" fill-rule=\"evenodd\" fill-opacity=\"1\" stroke=\"#000000\" stroke-opacity=\"1\" stroke-width=\"3.2\"/>\n",
       "<circle clip-path=\"url(#clip493)\" cx=\"2025.17\" cy=\"216.021\" r=\"14\" fill=\"#009af9\" fill-rule=\"evenodd\" fill-opacity=\"1\" stroke=\"#000000\" stroke-opacity=\"1\" stroke-width=\"3.2\"/>\n",
       "<circle clip-path=\"url(#clip493)\" cx=\"2158.88\" cy=\"211.864\" r=\"14\" fill=\"#009af9\" fill-rule=\"evenodd\" fill-opacity=\"1\" stroke=\"#000000\" stroke-opacity=\"1\" stroke-width=\"3.2\"/>\n",
       "<circle clip-path=\"url(#clip493)\" cx=\"2292.59\" cy=\"208.392\" r=\"14\" fill=\"#009af9\" fill-rule=\"evenodd\" fill-opacity=\"1\" stroke=\"#000000\" stroke-opacity=\"1\" stroke-width=\"3.2\"/>\n",
       "<polyline clip-path=\"url(#clip493)\" style=\"stroke:#e26f46; stroke-linecap:butt; stroke-linejoin:round; stroke-width:12; stroke-opacity:1; fill:none\" points=\"\n",
       "  -1899.2,259.104 4478.73,259.104 \n",
       "  \"/>\n",
       "<polyline clip-path=\"url(#clip493)\" style=\"stroke:#008000; stroke-linecap:butt; stroke-linejoin:round; stroke-width:12; stroke-opacity:1; fill:none\" points=\"\n",
       "  -1899.2,190.787 4478.73,190.787 \n",
       "  \"/>\n",
       "</svg>\n"
      ]
     },
     "execution_count": 97,
     "metadata": {},
     "output_type": "execute_result"
    }
   ],
   "source": [
    "scatter(Dls, D4_amp_Dl_15*10^17*10^17, title = L\"(j_f=1,i_e=1,\\gamma=1)\\times 10^{34}\", \n",
    "    xlabel=L\"\\Delta l\",ylabel=L\"A_{\\Delta_4}(\\Delta l)\",legend = false)\n",
    "hline!([D4_amp_ex*10^17*10^17],linewidth=3)\n",
    "hline!([D4_amp_ex_15*10^17*10^17],linewidth=3,color=\"green\")"
   ]
  },
  {
   "cell_type": "markdown",
   "metadata": {
    "ExecuteTime": {
     "end_time": "2022-04-19T18:14:34.587384Z",
     "start_time": "2022-04-19T18:14:34.556811Z"
    },
    "slideshow": {
     "slide_type": "slide"
    },
    "tags": []
   },
   "source": [
    "## Dependence on the truncation parameter $\\Delta l$ - time/quality balance"
   ]
  },
  {
   "cell_type": "code",
   "execution_count": 98,
   "metadata": {
    "ExecuteTime": {
     "end_time": "2022-04-19T18:14:34.587384Z",
     "start_time": "2022-04-19T18:14:34.556811Z"
    },
    "tags": []
   },
   "outputs": [],
   "source": [
    "Dls = 0:25\n",
    "D4_amp_Dl_25 = zeros(length(Dls))\n",
    "for Dl in Dls\n",
    "    D4_amp = 0.0\n",
    "    vertex_path = \"$(root_dir)/amplitudes/Immirzi_$(Immirzi)/j_$(j)/Dl_$(Dl)\" \n",
    "    for j_bulk = j_bulk_min:j_bulk_max\n",
    "        @load \"$(vertex_path)/j_bulk_$(j_bulk)_fulltensor.jld2\" Av \n",
    "        D4_partial_amp = 0.0\n",
    "        D = size(Av[i_idx,:,:,i_idx,i_idx])[1]\n",
    "        for i1 in 1:D, i2 in 1:D, i3 in 1:D, i4 in 1:D\n",
    "            @inbounds D4_partial_amp += Av[i_idx,i2,i1,i_idx,i_idx]*\n",
    "                                        Av[i_idx,i1,i4,i_idx,i_idx]*\n",
    "                                        Av[i_idx,i4,i3,i_idx,i_idx]*\n",
    "                                        Av[i_idx,i3,i2,i_idx,i_idx]     \n",
    "        end     \n",
    "        D4_amp += D4_partial_amp  * (2j_bulk + 1)\n",
    "    end\n",
    "D4_amp_Dl_25[Dl+1]= D4_amp\n",
    "end"
   ]
  },
  {
   "cell_type": "markdown",
   "metadata": {
    "ExecuteTime": {
     "end_time": "2022-04-19T18:14:34.587384Z",
     "start_time": "2022-04-19T18:14:34.556811Z"
    },
    "slideshow": {
     "slide_type": "slide"
    },
    "tags": []
   },
   "source": [
    "## Time \n",
    "To compute this amplitude with $\\Delta l = 25$ took my laptop XXXs more than $\\Delta l =15$."
   ]
  },
  {
   "cell_type": "code",
   "execution_count": 139,
   "metadata": {
    "ExecuteTime": {
     "end_time": "2022-04-19T18:14:34.587384Z",
     "start_time": "2022-04-19T18:14:34.556811Z"
    },
    "tags": []
   },
   "outputs": [
    {
     "data": {
      "text/plain": [
       "1.5044737582117278e-34"
      ]
     },
     "execution_count": 139,
     "metadata": {},
     "output_type": "execute_result"
    }
   ],
   "source": [
    "D4_amp_ex_25 = extrapolate(D4_amp_Dl_25)"
   ]
  },
  {
   "cell_type": "code",
   "execution_count": 140,
   "metadata": {
    "ExecuteTime": {
     "end_time": "2022-04-19T18:14:34.587384Z",
     "start_time": "2022-04-19T18:14:34.556811Z"
    },
    "tags": []
   },
   "outputs": [
    {
     "data": {
      "text/plain": [
       "1.128621102186502"
      ]
     },
     "execution_count": 140,
     "metadata": {},
     "output_type": "execute_result"
    }
   ],
   "source": [
    "D4_amp_ex_25/D4_amp_Dl_25[5+1]"
   ]
  },
  {
   "cell_type": "code",
   "execution_count": 141,
   "metadata": {
    "ExecuteTime": {
     "end_time": "2022-04-19T18:14:34.587384Z",
     "start_time": "2022-04-19T18:14:34.556811Z"
    },
    "tags": []
   },
   "outputs": [
    {
     "data": {
      "text/plain": [
       "1.0183650858729862"
      ]
     },
     "execution_count": 141,
     "metadata": {},
     "output_type": "execute_result"
    }
   ],
   "source": [
    "D4_amp_ex_25/D4_amp_Dl_25[15+1]"
   ]
  },
  {
   "cell_type": "code",
   "execution_count": 142,
   "metadata": {
    "ExecuteTime": {
     "end_time": "2022-04-19T18:14:34.587384Z",
     "start_time": "2022-04-19T18:14:34.556811Z"
    },
    "tags": []
   },
   "outputs": [
    {
     "data": {
      "text/plain": [
       "1.0053369276275832"
      ]
     },
     "execution_count": 142,
     "metadata": {},
     "output_type": "execute_result"
    }
   ],
   "source": [
    "D4_amp_ex_25/D4_amp_Dl_25[25+1]"
   ]
  },
  {
   "cell_type": "code",
   "execution_count": 143,
   "metadata": {
    "ExecuteTime": {
     "end_time": "2022-04-19T18:14:34.587384Z",
     "start_time": "2022-04-19T18:14:34.556811Z"
    },
    "tags": []
   },
   "outputs": [
    {
     "data": {
      "text/plain": [
       "1.0044388538348548"
      ]
     },
     "execution_count": 143,
     "metadata": {},
     "output_type": "execute_result"
    }
   ],
   "source": [
    "D4_amp_ex_25/D4_amp_ex_15"
   ]
  },
  {
   "cell_type": "markdown",
   "metadata": {
    "ExecuteTime": {
     "end_time": "2022-04-19T18:14:34.587384Z",
     "start_time": "2022-04-19T18:14:34.556811Z"
    },
    "slideshow": {
     "slide_type": "slide"
    },
    "tags": []
   },
   "source": [
    "## Dependence on the truncation parameter $\\Delta l$- time/quality balance"
   ]
  },
  {
   "cell_type": "code",
   "execution_count": 144,
   "metadata": {
    "ExecuteTime": {
     "end_time": "2022-04-19T18:14:34.587384Z",
     "start_time": "2022-04-19T18:14:34.556811Z"
    },
    "tags": []
   },
   "outputs": [
    {
     "data": {
      "image/svg+xml": [
       "<?xml version=\"1.0\" encoding=\"utf-8\"?>\n",
       "<svg xmlns=\"http://www.w3.org/2000/svg\" xmlns:xlink=\"http://www.w3.org/1999/xlink\" width=\"600\" height=\"400\" viewBox=\"0 0 2400 1600\">\n",
       "<defs>\n",
       "  <clipPath id=\"clip570\">\n",
       "    <rect x=\"0\" y=\"0\" width=\"2400\" height=\"1600\"/>\n",
       "  </clipPath>\n",
       "</defs>\n",
       "<path clip-path=\"url(#clip570)\" d=\"\n",
       "M0 1600 L2400 1600 L2400 0 L0 0  Z\n",
       "  \" fill=\"#ffffff\" fill-rule=\"evenodd\" fill-opacity=\"1\"/>\n",
       "<defs>\n",
       "  <clipPath id=\"clip571\">\n",
       "    <rect x=\"480\" y=\"0\" width=\"1681\" height=\"1600\"/>\n",
       "  </clipPath>\n",
       "</defs>\n",
       "<defs>\n",
       "  <clipPath id=\"clip572\">\n",
       "    <rect x=\"226\" y=\"154\" width=\"2127\" height=\"1269\"/>\n",
       "  </clipPath>\n",
       "</defs>\n",
       "<path clip-path=\"url(#clip570)\" d=\"\n",
       "M226.78 1423.18 L2352.76 1423.18 L2352.76 154.892 L226.78 154.892  Z\n",
       "  \" fill=\"#ffffff\" fill-rule=\"evenodd\" fill-opacity=\"1\"/>\n",
       "<polyline clip-path=\"url(#clip572)\" style=\"stroke:#000000; stroke-linecap:butt; stroke-linejoin:round; stroke-width:2; stroke-opacity:0.1; fill:none\" points=\"\n",
       "  286.949,1423.18 286.949,154.892 \n",
       "  \"/>\n",
       "<polyline clip-path=\"url(#clip572)\" style=\"stroke:#000000; stroke-linecap:butt; stroke-linejoin:round; stroke-width:2; stroke-opacity:0.1; fill:none\" points=\"\n",
       "  688.077,1423.18 688.077,154.892 \n",
       "  \"/>\n",
       "<polyline clip-path=\"url(#clip572)\" style=\"stroke:#000000; stroke-linecap:butt; stroke-linejoin:round; stroke-width:2; stroke-opacity:0.1; fill:none\" points=\"\n",
       "  1089.2,1423.18 1089.2,154.892 \n",
       "  \"/>\n",
       "<polyline clip-path=\"url(#clip572)\" style=\"stroke:#000000; stroke-linecap:butt; stroke-linejoin:round; stroke-width:2; stroke-opacity:0.1; fill:none\" points=\"\n",
       "  1490.33,1423.18 1490.33,154.892 \n",
       "  \"/>\n",
       "<polyline clip-path=\"url(#clip572)\" style=\"stroke:#000000; stroke-linecap:butt; stroke-linejoin:round; stroke-width:2; stroke-opacity:0.1; fill:none\" points=\"\n",
       "  1891.46,1423.18 1891.46,154.892 \n",
       "  \"/>\n",
       "<polyline clip-path=\"url(#clip572)\" style=\"stroke:#000000; stroke-linecap:butt; stroke-linejoin:round; stroke-width:2; stroke-opacity:0.1; fill:none\" points=\"\n",
       "  2292.59,1423.18 2292.59,154.892 \n",
       "  \"/>\n",
       "<polyline clip-path=\"url(#clip570)\" style=\"stroke:#000000; stroke-linecap:butt; stroke-linejoin:round; stroke-width:4; stroke-opacity:1; fill:none\" points=\"\n",
       "  226.78,1423.18 2352.76,1423.18 \n",
       "  \"/>\n",
       "<polyline clip-path=\"url(#clip570)\" style=\"stroke:#000000; stroke-linecap:butt; stroke-linejoin:round; stroke-width:4; stroke-opacity:1; fill:none\" points=\"\n",
       "  286.949,1423.18 286.949,1404.28 \n",
       "  \"/>\n",
       "<polyline clip-path=\"url(#clip570)\" style=\"stroke:#000000; stroke-linecap:butt; stroke-linejoin:round; stroke-width:4; stroke-opacity:1; fill:none\" points=\"\n",
       "  688.077,1423.18 688.077,1404.28 \n",
       "  \"/>\n",
       "<polyline clip-path=\"url(#clip570)\" style=\"stroke:#000000; stroke-linecap:butt; stroke-linejoin:round; stroke-width:4; stroke-opacity:1; fill:none\" points=\"\n",
       "  1089.2,1423.18 1089.2,1404.28 \n",
       "  \"/>\n",
       "<polyline clip-path=\"url(#clip570)\" style=\"stroke:#000000; stroke-linecap:butt; stroke-linejoin:round; stroke-width:4; stroke-opacity:1; fill:none\" points=\"\n",
       "  1490.33,1423.18 1490.33,1404.28 \n",
       "  \"/>\n",
       "<polyline clip-path=\"url(#clip570)\" style=\"stroke:#000000; stroke-linecap:butt; stroke-linejoin:round; stroke-width:4; stroke-opacity:1; fill:none\" points=\"\n",
       "  1891.46,1423.18 1891.46,1404.28 \n",
       "  \"/>\n",
       "<polyline clip-path=\"url(#clip570)\" style=\"stroke:#000000; stroke-linecap:butt; stroke-linejoin:round; stroke-width:4; stroke-opacity:1; fill:none\" points=\"\n",
       "  2292.59,1423.18 2292.59,1404.28 \n",
       "  \"/>\n",
       "<path clip-path=\"url(#clip570)\" d=\"M286.949 1454.1 Q283.338 1454.1 281.51 1457.66 Q279.704 1461.2 279.704 1468.33 Q279.704 1475.44 281.51 1479.01 Q283.338 1482.55 286.949 1482.55 Q290.584 1482.55 292.389 1479.01 Q294.218 1475.44 294.218 1468.33 Q294.218 1461.2 292.389 1457.66 Q290.584 1454.1 286.949 1454.1 M286.949 1450.39 Q292.76 1450.39 295.815 1455 Q298.894 1459.58 298.894 1468.33 Q298.894 1477.06 295.815 1481.67 Q292.76 1486.25 286.949 1486.25 Q281.139 1486.25 278.061 1481.67 Q275.005 1477.06 275.005 1468.33 Q275.005 1459.58 278.061 1455 Q281.139 1450.39 286.949 1450.39 Z\" fill=\"#000000\" fill-rule=\"evenodd\" fill-opacity=\"1\" /><path clip-path=\"url(#clip570)\" d=\"M678.355 1451.02 L696.711 1451.02 L696.711 1454.96 L682.637 1454.96 L682.637 1463.43 Q683.656 1463.08 684.674 1462.92 Q685.693 1462.73 686.711 1462.73 Q692.498 1462.73 695.878 1465.9 Q699.257 1469.08 699.257 1474.49 Q699.257 1480.07 695.785 1483.17 Q692.313 1486.25 685.994 1486.25 Q683.818 1486.25 681.549 1485.88 Q679.304 1485.51 676.896 1484.77 L676.896 1480.07 Q678.98 1481.2 681.202 1481.76 Q683.424 1482.32 685.901 1482.32 Q689.906 1482.32 692.244 1480.21 Q694.581 1478.1 694.581 1474.49 Q694.581 1470.88 692.244 1468.77 Q689.906 1466.67 685.901 1466.67 Q684.026 1466.67 682.151 1467.08 Q680.299 1467.5 678.355 1468.38 L678.355 1451.02 Z\" fill=\"#000000\" fill-rule=\"evenodd\" fill-opacity=\"1\" /><path clip-path=\"url(#clip570)\" d=\"M1063.89 1481.64 L1071.53 1481.64 L1071.53 1455.28 L1063.22 1456.95 L1063.22 1452.69 L1071.48 1451.02 L1076.16 1451.02 L1076.16 1481.64 L1083.8 1481.64 L1083.8 1485.58 L1063.89 1485.58 L1063.89 1481.64 Z\" fill=\"#000000\" fill-rule=\"evenodd\" fill-opacity=\"1\" /><path clip-path=\"url(#clip570)\" d=\"M1103.24 1454.1 Q1099.63 1454.1 1097.8 1457.66 Q1096 1461.2 1096 1468.33 Q1096 1475.44 1097.8 1479.01 Q1099.63 1482.55 1103.24 1482.55 Q1106.88 1482.55 1108.68 1479.01 Q1110.51 1475.44 1110.51 1468.33 Q1110.51 1461.2 1108.68 1457.66 Q1106.88 1454.1 1103.24 1454.1 M1103.24 1450.39 Q1109.05 1450.39 1112.11 1455 Q1115.19 1459.58 1115.19 1468.33 Q1115.19 1477.06 1112.11 1481.67 Q1109.05 1486.25 1103.24 1486.25 Q1097.43 1486.25 1094.35 1481.67 Q1091.3 1477.06 1091.3 1468.33 Q1091.3 1459.58 1094.35 1455 Q1097.43 1450.39 1103.24 1450.39 Z\" fill=\"#000000\" fill-rule=\"evenodd\" fill-opacity=\"1\" /><path clip-path=\"url(#clip570)\" d=\"M1465.52 1481.64 L1473.16 1481.64 L1473.16 1455.28 L1464.85 1456.95 L1464.85 1452.69 L1473.11 1451.02 L1477.79 1451.02 L1477.79 1481.64 L1485.42 1481.64 L1485.42 1485.58 L1465.52 1485.58 L1465.52 1481.64 Z\" fill=\"#000000\" fill-rule=\"evenodd\" fill-opacity=\"1\" /><path clip-path=\"url(#clip570)\" d=\"M1494.92 1451.02 L1513.27 1451.02 L1513.27 1454.96 L1499.2 1454.96 L1499.2 1463.43 Q1500.22 1463.08 1501.23 1462.92 Q1502.25 1462.73 1503.27 1462.73 Q1509.06 1462.73 1512.44 1465.9 Q1515.82 1469.08 1515.82 1474.49 Q1515.82 1480.07 1512.35 1483.17 Q1508.87 1486.25 1502.55 1486.25 Q1500.38 1486.25 1498.11 1485.88 Q1495.86 1485.51 1493.46 1484.77 L1493.46 1480.07 Q1495.54 1481.2 1497.76 1481.76 Q1499.98 1482.32 1502.46 1482.32 Q1506.47 1482.32 1508.8 1480.21 Q1511.14 1478.1 1511.14 1474.49 Q1511.14 1470.88 1508.8 1468.77 Q1506.47 1466.67 1502.46 1466.67 Q1500.59 1466.67 1498.71 1467.08 Q1496.86 1467.5 1494.92 1468.38 L1494.92 1451.02 Z\" fill=\"#000000\" fill-rule=\"evenodd\" fill-opacity=\"1\" /><path clip-path=\"url(#clip570)\" d=\"M1870.23 1481.64 L1886.55 1481.64 L1886.55 1485.58 L1864.61 1485.58 L1864.61 1481.64 Q1867.27 1478.89 1871.85 1474.26 Q1876.46 1469.61 1877.64 1468.27 Q1879.89 1465.74 1880.76 1464.01 Q1881.67 1462.25 1881.67 1460.56 Q1881.67 1457.8 1879.72 1456.07 Q1877.8 1454.33 1874.7 1454.33 Q1872.5 1454.33 1870.05 1455.09 Q1867.62 1455.86 1864.84 1457.41 L1864.84 1452.69 Q1867.66 1451.55 1870.12 1450.97 Q1872.57 1450.39 1874.61 1450.39 Q1879.98 1450.39 1883.17 1453.08 Q1886.37 1455.77 1886.37 1460.26 Q1886.37 1462.39 1885.56 1464.31 Q1884.77 1466.2 1882.66 1468.8 Q1882.08 1469.47 1878.98 1472.69 Q1875.88 1475.88 1870.23 1481.64 Z\" fill=\"#000000\" fill-rule=\"evenodd\" fill-opacity=\"1\" /><path clip-path=\"url(#clip570)\" d=\"M1906.37 1454.1 Q1902.76 1454.1 1900.93 1457.66 Q1899.12 1461.2 1899.12 1468.33 Q1899.12 1475.44 1900.93 1479.01 Q1902.76 1482.55 1906.37 1482.55 Q1910 1482.55 1911.81 1479.01 Q1913.64 1475.44 1913.64 1468.33 Q1913.64 1461.2 1911.81 1457.66 Q1910 1454.1 1906.37 1454.1 M1906.37 1450.39 Q1912.18 1450.39 1915.23 1455 Q1918.31 1459.58 1918.31 1468.33 Q1918.31 1477.06 1915.23 1481.67 Q1912.18 1486.25 1906.37 1486.25 Q1900.56 1486.25 1897.48 1481.67 Q1894.42 1477.06 1894.42 1468.33 Q1894.42 1459.58 1897.48 1455 Q1900.56 1450.39 1906.37 1450.39 Z\" fill=\"#000000\" fill-rule=\"evenodd\" fill-opacity=\"1\" /><path clip-path=\"url(#clip570)\" d=\"M2271.86 1481.64 L2288.18 1481.64 L2288.18 1485.58 L2266.23 1485.58 L2266.23 1481.64 Q2268.89 1478.89 2273.48 1474.26 Q2278.08 1469.61 2279.27 1468.27 Q2281.51 1465.74 2282.39 1464.01 Q2283.29 1462.25 2283.29 1460.56 Q2283.29 1457.8 2281.35 1456.07 Q2279.43 1454.33 2276.33 1454.33 Q2274.13 1454.33 2271.67 1455.09 Q2269.24 1455.86 2266.46 1457.41 L2266.46 1452.69 Q2269.29 1451.55 2271.74 1450.97 Q2274.2 1450.39 2276.23 1450.39 Q2281.6 1450.39 2284.8 1453.08 Q2287.99 1455.77 2287.99 1460.26 Q2287.99 1462.39 2287.18 1464.31 Q2286.39 1466.2 2284.29 1468.8 Q2283.71 1469.47 2280.61 1472.69 Q2277.51 1475.88 2271.86 1481.64 Z\" fill=\"#000000\" fill-rule=\"evenodd\" fill-opacity=\"1\" /><path clip-path=\"url(#clip570)\" d=\"M2298.04 1451.02 L2316.39 1451.02 L2316.39 1454.96 L2302.32 1454.96 L2302.32 1463.43 Q2303.34 1463.08 2304.36 1462.92 Q2305.38 1462.73 2306.39 1462.73 Q2312.18 1462.73 2315.56 1465.9 Q2318.94 1469.08 2318.94 1474.49 Q2318.94 1480.07 2315.47 1483.17 Q2312 1486.25 2305.68 1486.25 Q2303.5 1486.25 2301.23 1485.88 Q2298.99 1485.51 2296.58 1484.77 L2296.58 1480.07 Q2298.66 1481.2 2300.89 1481.76 Q2303.11 1482.32 2305.58 1482.32 Q2309.59 1482.32 2311.93 1480.21 Q2314.26 1478.1 2314.26 1474.49 Q2314.26 1470.88 2311.93 1468.77 Q2309.59 1466.67 2305.58 1466.67 Q2303.71 1466.67 2301.83 1467.08 Q2299.98 1467.5 2298.04 1468.38 L2298.04 1451.02 Z\" fill=\"#000000\" fill-rule=\"evenodd\" fill-opacity=\"1\" /><path clip-path=\"url(#clip570)\" d=\"M1252.71 1578.54 Q1252.71 1578.28 1253.58 1576.6 Q1254.45 1574.9 1257.51 1568.81 Q1260.57 1562.69 1263.73 1556.28 L1275.1 1533.41 Q1275.9 1531.97 1276.93 1531.97 Q1277.87 1531.97 1278.29 1532.55 Q1278.7 1533.13 1280.64 1537.02 Q1281.63 1538.92 1282.21 1540.15 L1300.86 1577.47 Q1301.18 1578.28 1301.22 1578.54 Q1301.22 1579.18 1300.09 1579.18 L1254.45 1579.18 Q1252.71 1579.18 1252.71 1578.54 M1257.06 1574.16 L1292.55 1574.16 L1274.81 1538.54 L1257.06 1574.16 Z\" fill=\"#000000\" fill-rule=\"evenodd\" fill-opacity=\"1\" /><path clip-path=\"url(#clip570)\" d=\"M1321.47 1534.12 L1311.97 1572.26 Q1311.58 1573.77 1311.58 1575.41 Q1311.58 1578.44 1313.58 1578.44 Q1314.51 1578.44 1315.29 1577.83 Q1316.06 1577.18 1316.64 1575.93 Q1317.25 1574.64 1317.64 1573.41 Q1318.06 1572.19 1318.57 1570.29 Q1318.73 1569.55 1318.89 1569.32 Q1319.06 1569.1 1319.51 1569.1 Q1320.31 1569.1 1320.31 1569.74 Q1319.51 1573.7 1318.31 1576.22 Q1316.58 1579.92 1313.35 1579.92 Q1310.94 1579.92 1309.14 1578.25 Q1307.36 1576.54 1307.36 1573.83 Q1307.36 1572.8 1307.69 1571.58 L1316 1538.6 L1316.22 1537.31 Q1316.22 1536.96 1316.09 1536.76 Q1315.96 1536.57 1315.19 1536.38 Q1314.45 1536.18 1312.97 1536.18 Q1312.36 1536.18 1312.07 1536.15 Q1311.81 1536.12 1311.55 1535.96 Q1311.33 1535.8 1311.33 1535.44 Q1311.33 1534.86 1311.55 1534.54 Q1311.81 1534.22 1312 1534.16 Q1312.2 1534.09 1312.58 1534.06 Q1313.13 1534.03 1314.97 1533.87 Q1316.8 1533.67 1318.38 1533.54 Q1319.96 1533.41 1320.63 1533.41 Q1321.02 1533.41 1321.21 1533.61 Q1321.44 1533.77 1321.47 1533.96 L1321.47 1534.12 Z\" fill=\"#000000\" fill-rule=\"evenodd\" fill-opacity=\"1\" /><polyline clip-path=\"url(#clip572)\" style=\"stroke:#000000; stroke-linecap:butt; stroke-linejoin:round; stroke-width:2; stroke-opacity:0.1; fill:none\" points=\"\n",
       "  226.78,1306.66 2352.76,1306.66 \n",
       "  \"/>\n",
       "<polyline clip-path=\"url(#clip572)\" style=\"stroke:#000000; stroke-linecap:butt; stroke-linejoin:round; stroke-width:2; stroke-opacity:0.1; fill:none\" points=\"\n",
       "  226.78,1135.57 2352.76,1135.57 \n",
       "  \"/>\n",
       "<polyline clip-path=\"url(#clip572)\" style=\"stroke:#000000; stroke-linecap:butt; stroke-linejoin:round; stroke-width:2; stroke-opacity:0.1; fill:none\" points=\"\n",
       "  226.78,964.49 2352.76,964.49 \n",
       "  \"/>\n",
       "<polyline clip-path=\"url(#clip572)\" style=\"stroke:#000000; stroke-linecap:butt; stroke-linejoin:round; stroke-width:2; stroke-opacity:0.1; fill:none\" points=\"\n",
       "  226.78,793.406 2352.76,793.406 \n",
       "  \"/>\n",
       "<polyline clip-path=\"url(#clip572)\" style=\"stroke:#000000; stroke-linecap:butt; stroke-linejoin:round; stroke-width:2; stroke-opacity:0.1; fill:none\" points=\"\n",
       "  226.78,622.323 2352.76,622.323 \n",
       "  \"/>\n",
       "<polyline clip-path=\"url(#clip572)\" style=\"stroke:#000000; stroke-linecap:butt; stroke-linejoin:round; stroke-width:2; stroke-opacity:0.1; fill:none\" points=\"\n",
       "  226.78,451.239 2352.76,451.239 \n",
       "  \"/>\n",
       "<polyline clip-path=\"url(#clip572)\" style=\"stroke:#000000; stroke-linecap:butt; stroke-linejoin:round; stroke-width:2; stroke-opacity:0.1; fill:none\" points=\"\n",
       "  226.78,280.156 2352.76,280.156 \n",
       "  \"/>\n",
       "<polyline clip-path=\"url(#clip570)\" style=\"stroke:#000000; stroke-linecap:butt; stroke-linejoin:round; stroke-width:4; stroke-opacity:1; fill:none\" points=\"\n",
       "  226.78,1423.18 226.78,154.892 \n",
       "  \"/>\n",
       "<polyline clip-path=\"url(#clip570)\" style=\"stroke:#000000; stroke-linecap:butt; stroke-linejoin:round; stroke-width:4; stroke-opacity:1; fill:none\" points=\"\n",
       "  226.78,1306.66 245.678,1306.66 \n",
       "  \"/>\n",
       "<polyline clip-path=\"url(#clip570)\" style=\"stroke:#000000; stroke-linecap:butt; stroke-linejoin:round; stroke-width:4; stroke-opacity:1; fill:none\" points=\"\n",
       "  226.78,1135.57 245.678,1135.57 \n",
       "  \"/>\n",
       "<polyline clip-path=\"url(#clip570)\" style=\"stroke:#000000; stroke-linecap:butt; stroke-linejoin:round; stroke-width:4; stroke-opacity:1; fill:none\" points=\"\n",
       "  226.78,964.49 245.678,964.49 \n",
       "  \"/>\n",
       "<polyline clip-path=\"url(#clip570)\" style=\"stroke:#000000; stroke-linecap:butt; stroke-linejoin:round; stroke-width:4; stroke-opacity:1; fill:none\" points=\"\n",
       "  226.78,793.406 245.678,793.406 \n",
       "  \"/>\n",
       "<polyline clip-path=\"url(#clip570)\" style=\"stroke:#000000; stroke-linecap:butt; stroke-linejoin:round; stroke-width:4; stroke-opacity:1; fill:none\" points=\"\n",
       "  226.78,622.323 245.678,622.323 \n",
       "  \"/>\n",
       "<polyline clip-path=\"url(#clip570)\" style=\"stroke:#000000; stroke-linecap:butt; stroke-linejoin:round; stroke-width:4; stroke-opacity:1; fill:none\" points=\"\n",
       "  226.78,451.239 245.678,451.239 \n",
       "  \"/>\n",
       "<polyline clip-path=\"url(#clip570)\" style=\"stroke:#000000; stroke-linecap:butt; stroke-linejoin:round; stroke-width:4; stroke-opacity:1; fill:none\" points=\"\n",
       "  226.78,280.156 245.678,280.156 \n",
       "  \"/>\n",
       "<path clip-path=\"url(#clip570)\" d=\"M135.202 1292.46 Q131.591 1292.46 129.762 1296.02 Q127.957 1299.56 127.957 1306.69 Q127.957 1313.8 129.762 1317.36 Q131.591 1320.9 135.202 1320.9 Q138.836 1320.9 140.642 1317.36 Q142.47 1313.8 142.47 1306.69 Q142.47 1299.56 140.642 1296.02 Q138.836 1292.46 135.202 1292.46 M135.202 1288.75 Q141.012 1288.75 144.068 1293.36 Q147.146 1297.94 147.146 1306.69 Q147.146 1315.42 144.068 1320.03 Q141.012 1324.61 135.202 1324.61 Q129.392 1324.61 126.313 1320.03 Q123.258 1315.42 123.258 1306.69 Q123.258 1297.94 126.313 1293.36 Q129.392 1288.75 135.202 1288.75 Z\" fill=\"#000000\" fill-rule=\"evenodd\" fill-opacity=\"1\" /><path clip-path=\"url(#clip570)\" d=\"M155.364 1318.06 L160.248 1318.06 L160.248 1323.94 L155.364 1323.94 L155.364 1318.06 Z\" fill=\"#000000\" fill-rule=\"evenodd\" fill-opacity=\"1\" /><path clip-path=\"url(#clip570)\" d=\"M174.461 1320 L190.78 1320 L190.78 1323.94 L168.836 1323.94 L168.836 1320 Q171.498 1317.25 176.081 1312.62 Q180.688 1307.96 181.868 1306.62 Q184.114 1304.1 184.993 1302.36 Q185.896 1300.6 185.896 1298.91 Q185.896 1296.16 183.952 1294.42 Q182.03 1292.69 178.929 1292.69 Q176.729 1292.69 174.276 1293.45 Q171.845 1294.22 169.067 1295.77 L169.067 1291.04 Q171.892 1289.91 174.345 1289.33 Q176.799 1288.75 178.836 1288.75 Q184.206 1288.75 187.401 1291.44 Q190.595 1294.12 190.595 1298.61 Q190.595 1300.74 189.785 1302.66 Q188.998 1304.56 186.891 1307.15 Q186.313 1307.83 183.211 1311.04 Q180.109 1314.24 174.461 1320 Z\" fill=\"#000000\" fill-rule=\"evenodd\" fill-opacity=\"1\" /><path clip-path=\"url(#clip570)\" d=\"M133.119 1121.37 Q129.507 1121.37 127.679 1124.94 Q125.873 1128.48 125.873 1135.61 Q125.873 1142.71 127.679 1146.28 Q129.507 1149.82 133.119 1149.82 Q136.753 1149.82 138.558 1146.28 Q140.387 1142.71 140.387 1135.61 Q140.387 1128.48 138.558 1124.94 Q136.753 1121.37 133.119 1121.37 M133.119 1117.67 Q138.929 1117.67 141.984 1122.27 Q145.063 1126.86 145.063 1135.61 Q145.063 1144.34 141.984 1148.94 Q138.929 1153.52 133.119 1153.52 Q127.308 1153.52 124.23 1148.94 Q121.174 1144.34 121.174 1135.61 Q121.174 1126.86 124.23 1122.27 Q127.308 1117.67 133.119 1117.67 Z\" fill=\"#000000\" fill-rule=\"evenodd\" fill-opacity=\"1\" /><path clip-path=\"url(#clip570)\" d=\"M153.281 1146.97 L158.165 1146.97 L158.165 1152.85 L153.281 1152.85 L153.281 1146.97 Z\" fill=\"#000000\" fill-rule=\"evenodd\" fill-opacity=\"1\" /><path clip-path=\"url(#clip570)\" d=\"M181.197 1122.37 L169.392 1140.82 L181.197 1140.82 L181.197 1122.37 M179.97 1118.29 L185.85 1118.29 L185.85 1140.82 L190.78 1140.82 L190.78 1144.71 L185.85 1144.71 L185.85 1152.85 L181.197 1152.85 L181.197 1144.71 L165.595 1144.71 L165.595 1140.19 L179.97 1118.29 Z\" fill=\"#000000\" fill-rule=\"evenodd\" fill-opacity=\"1\" /><path clip-path=\"url(#clip570)\" d=\"M133.443 950.289 Q129.832 950.289 128.003 953.853 Q126.197 957.395 126.197 964.525 Q126.197 971.631 128.003 975.196 Q129.832 978.738 133.443 978.738 Q137.077 978.738 138.882 975.196 Q140.711 971.631 140.711 964.525 Q140.711 957.395 138.882 953.853 Q137.077 950.289 133.443 950.289 M133.443 946.585 Q139.253 946.585 142.308 951.191 Q145.387 955.775 145.387 964.525 Q145.387 973.252 142.308 977.858 Q139.253 982.441 133.443 982.441 Q127.632 982.441 124.554 977.858 Q121.498 973.252 121.498 964.525 Q121.498 955.775 124.554 951.191 Q127.632 946.585 133.443 946.585 Z\" fill=\"#000000\" fill-rule=\"evenodd\" fill-opacity=\"1\" /><path clip-path=\"url(#clip570)\" d=\"M153.605 975.89 L158.489 975.89 L158.489 981.77 L153.605 981.77 L153.605 975.89 Z\" fill=\"#000000\" fill-rule=\"evenodd\" fill-opacity=\"1\" /><path clip-path=\"url(#clip570)\" d=\"M179.253 962.627 Q176.104 962.627 174.253 964.779 Q172.424 966.932 172.424 970.682 Q172.424 974.409 174.253 976.585 Q176.104 978.738 179.253 978.738 Q182.401 978.738 184.229 976.585 Q186.081 974.409 186.081 970.682 Q186.081 966.932 184.229 964.779 Q182.401 962.627 179.253 962.627 M188.535 947.974 L188.535 952.233 Q186.776 951.4 184.97 950.96 Q183.188 950.52 181.429 950.52 Q176.799 950.52 174.345 953.645 Q171.915 956.77 171.567 963.09 Q172.933 961.076 174.993 960.011 Q177.054 958.923 179.53 958.923 Q184.739 958.923 187.748 962.094 Q190.78 965.242 190.78 970.682 Q190.78 976.006 187.632 979.224 Q184.484 982.441 179.253 982.441 Q173.257 982.441 170.086 977.858 Q166.915 973.252 166.915 964.525 Q166.915 956.33 170.804 951.469 Q174.692 946.585 181.243 946.585 Q183.003 946.585 184.785 946.932 Q186.591 947.279 188.535 947.974 Z\" fill=\"#000000\" fill-rule=\"evenodd\" fill-opacity=\"1\" /><path clip-path=\"url(#clip570)\" d=\"M133.697 779.205 Q130.086 779.205 128.257 782.77 Q126.452 786.312 126.452 793.441 Q126.452 800.548 128.257 804.112 Q130.086 807.654 133.697 807.654 Q137.332 807.654 139.137 804.112 Q140.966 800.548 140.966 793.441 Q140.966 786.312 139.137 782.77 Q137.332 779.205 133.697 779.205 M133.697 775.501 Q139.507 775.501 142.563 780.108 Q145.642 784.691 145.642 793.441 Q145.642 802.168 142.563 806.774 Q139.507 811.358 133.697 811.358 Q127.887 811.358 124.808 806.774 Q121.753 802.168 121.753 793.441 Q121.753 784.691 124.808 780.108 Q127.887 775.501 133.697 775.501 Z\" fill=\"#000000\" fill-rule=\"evenodd\" fill-opacity=\"1\" /><path clip-path=\"url(#clip570)\" d=\"M153.859 804.807 L158.743 804.807 L158.743 810.686 L153.859 810.686 L153.859 804.807 Z\" fill=\"#000000\" fill-rule=\"evenodd\" fill-opacity=\"1\" /><path clip-path=\"url(#clip570)\" d=\"M178.929 794.274 Q175.595 794.274 173.674 796.057 Q171.776 797.839 171.776 800.964 Q171.776 804.089 173.674 805.872 Q175.595 807.654 178.929 807.654 Q182.262 807.654 184.183 805.872 Q186.104 804.066 186.104 800.964 Q186.104 797.839 184.183 796.057 Q182.285 794.274 178.929 794.274 M174.253 792.284 Q171.243 791.543 169.554 789.483 Q167.887 787.423 167.887 784.46 Q167.887 780.316 170.827 777.909 Q173.79 775.501 178.929 775.501 Q184.091 775.501 187.03 777.909 Q189.97 780.316 189.97 784.46 Q189.97 787.423 188.28 789.483 Q186.614 791.543 183.628 792.284 Q187.007 793.071 188.882 795.362 Q190.78 797.654 190.78 800.964 Q190.78 805.987 187.702 808.673 Q184.646 811.358 178.929 811.358 Q173.211 811.358 170.132 808.673 Q167.077 805.987 167.077 800.964 Q167.077 797.654 168.975 795.362 Q170.873 793.071 174.253 792.284 M172.54 784.9 Q172.54 787.585 174.206 789.089 Q175.896 790.594 178.929 790.594 Q181.938 790.594 183.628 789.089 Q185.341 787.585 185.341 784.9 Q185.341 782.214 183.628 780.71 Q181.938 779.205 178.929 779.205 Q175.896 779.205 174.206 780.71 Q172.54 782.214 172.54 784.9 Z\" fill=\"#000000\" fill-rule=\"evenodd\" fill-opacity=\"1\" /><path clip-path=\"url(#clip570)\" d=\"M124.415 635.668 L132.054 635.668 L132.054 609.302 L123.744 610.969 L123.744 606.71 L132.007 605.043 L136.683 605.043 L136.683 635.668 L144.322 635.668 L144.322 639.603 L124.415 639.603 L124.415 635.668 Z\" fill=\"#000000\" fill-rule=\"evenodd\" fill-opacity=\"1\" /><path clip-path=\"url(#clip570)\" d=\"M153.767 633.723 L158.651 633.723 L158.651 639.603 L153.767 639.603 L153.767 633.723 Z\" fill=\"#000000\" fill-rule=\"evenodd\" fill-opacity=\"1\" /><path clip-path=\"url(#clip570)\" d=\"M178.836 608.122 Q175.225 608.122 173.396 611.686 Q171.591 615.228 171.591 622.358 Q171.591 629.464 173.396 633.029 Q175.225 636.57 178.836 636.57 Q182.47 636.57 184.276 633.029 Q186.104 629.464 186.104 622.358 Q186.104 615.228 184.276 611.686 Q182.47 608.122 178.836 608.122 M178.836 604.418 Q184.646 604.418 187.702 609.024 Q190.78 613.608 190.78 622.358 Q190.78 631.084 187.702 635.691 Q184.646 640.274 178.836 640.274 Q173.026 640.274 169.947 635.691 Q166.892 631.084 166.892 622.358 Q166.892 613.608 169.947 609.024 Q173.026 604.418 178.836 604.418 Z\" fill=\"#000000\" fill-rule=\"evenodd\" fill-opacity=\"1\" /><path clip-path=\"url(#clip570)\" d=\"M126.012 464.584 L133.651 464.584 L133.651 438.219 L125.341 439.885 L125.341 435.626 L133.605 433.959 L138.281 433.959 L138.281 464.584 L145.919 464.584 L145.919 468.519 L126.012 468.519 L126.012 464.584 Z\" fill=\"#000000\" fill-rule=\"evenodd\" fill-opacity=\"1\" /><path clip-path=\"url(#clip570)\" d=\"M155.364 462.64 L160.248 462.64 L160.248 468.519 L155.364 468.519 L155.364 462.64 Z\" fill=\"#000000\" fill-rule=\"evenodd\" fill-opacity=\"1\" /><path clip-path=\"url(#clip570)\" d=\"M174.461 464.584 L190.78 464.584 L190.78 468.519 L168.836 468.519 L168.836 464.584 Q171.498 461.83 176.081 457.2 Q180.688 452.547 181.868 451.205 Q184.114 448.681 184.993 446.945 Q185.896 445.186 185.896 443.496 Q185.896 440.742 183.952 439.006 Q182.03 437.269 178.929 437.269 Q176.729 437.269 174.276 438.033 Q171.845 438.797 169.067 440.348 L169.067 435.626 Q171.892 434.492 174.345 433.913 Q176.799 433.334 178.836 433.334 Q184.206 433.334 187.401 436.019 Q190.595 438.705 190.595 443.195 Q190.595 445.325 189.785 447.246 Q188.998 449.144 186.891 451.737 Q186.313 452.408 183.211 455.626 Q180.109 458.82 174.461 464.584 Z\" fill=\"#000000\" fill-rule=\"evenodd\" fill-opacity=\"1\" /><path clip-path=\"url(#clip570)\" d=\"M123.929 293.501 L131.568 293.501 L131.568 267.135 L123.258 268.802 L123.258 264.542 L131.521 262.876 L136.197 262.876 L136.197 293.501 L143.836 293.501 L143.836 297.436 L123.929 297.436 L123.929 293.501 Z\" fill=\"#000000\" fill-rule=\"evenodd\" fill-opacity=\"1\" /><path clip-path=\"url(#clip570)\" d=\"M153.281 291.556 L158.165 291.556 L158.165 297.436 L153.281 297.436 L153.281 291.556 Z\" fill=\"#000000\" fill-rule=\"evenodd\" fill-opacity=\"1\" /><path clip-path=\"url(#clip570)\" d=\"M181.197 266.95 L169.392 285.399 L181.197 285.399 L181.197 266.95 M179.97 262.876 L185.85 262.876 L185.85 285.399 L190.78 285.399 L190.78 289.288 L185.85 289.288 L185.85 297.436 L181.197 297.436 L181.197 289.288 L165.595 289.288 L165.595 284.774 L179.97 262.876 Z\" fill=\"#000000\" fill-rule=\"evenodd\" fill-opacity=\"1\" /><path clip-path=\"url(#clip570)\" d=\"M60.7067 863.523 Q61.3186 863.523 61.6407 863.781 Q61.9305 864.006 61.9949 864.232 Q62.0271 864.425 62.0271 864.715 Q62.0271 865.552 61.9305 868.451 Q61.8339 871.349 61.8339 872.187 Q61.8339 873.539 61.9305 876.309 Q62.0271 879.079 62.0271 880.431 Q62.0271 881.333 61.2864 881.333 Q60.8033 881.333 60.5457 881.237 Q60.2558 881.14 60.1592 880.882 Q60.0304 880.592 60.0304 880.431 Q59.9982 880.238 59.9982 879.755 Q59.9982 879.111 59.9338 878.435 Q59.8371 877.758 59.6439 876.921 Q59.4507 876.084 58.9676 875.568 Q58.4845 875.021 57.8082 875.021 Q57.5183 875.021 55.1351 875.246 Q52.7518 875.472 49.9821 875.762 Q47.1802 876.051 46.7938 876.084 L46.7938 892.637 Q49.4024 894.151 51.206 895.214 Q53.0095 896.277 53.6214 896.663 Q54.2333 897.05 54.6198 897.275 Q55.0063 897.501 55.2317 897.629 Q56.9386 898.563 57.6793 898.563 Q59.7405 898.563 59.9982 895.472 Q59.9982 894.409 60.7711 894.409 Q61.3508 894.409 61.6729 894.666 Q61.9627 894.924 61.9949 895.15 Q62.0271 895.343 62.0271 895.665 Q62.0271 896.728 61.9305 898.95 Q61.8339 901.172 61.8339 902.267 Q61.8339 903.201 61.9305 905.133 Q62.0271 907.066 62.0271 907.935 Q62.0271 908.322 61.8017 908.547 Q61.5763 908.773 61.2864 908.773 Q60.8355 908.773 60.5779 908.708 Q60.3202 908.612 60.1914 908.354 Q60.0626 908.096 60.0626 907.967 Q60.0304 907.839 59.9982 907.388 Q59.8371 904.94 58.6777 903.04 Q57.4861 901.108 54.4266 899.272 L15.9083 876.341 Q15.5219 876.116 15.3286 875.955 Q15.1354 875.794 14.9744 875.472 Q14.8133 875.117 14.8133 874.602 Q14.8133 873.797 15.071 873.636 Q15.2964 873.475 16.3914 873.378 L57.6149 869.353 Q58.4845 869.256 58.8388 869.192 Q59.1608 869.095 59.5151 868.676 Q59.8371 868.225 59.9338 867.42 Q59.9982 866.583 59.9982 865.037 Q59.9982 864.457 60.0304 864.232 Q60.0304 864.006 60.1914 863.781 Q60.3524 863.523 60.7067 863.523 M44.7326 876.277 L22.9936 878.37 L44.7326 891.381 L44.7326 876.277 Z\" fill=\"#000000\" fill-rule=\"evenodd\" fill-opacity=\"1\" /><path clip-path=\"url(#clip570)\" d=\"M81.2178 856.92 Q81.0375 856.92 79.8652 856.311 Q78.6703 855.703 74.4095 853.561 Q70.1261 851.419 65.6398 849.21 L49.6335 841.252 Q48.619 840.688 48.619 839.967 Q48.619 839.313 49.0248 839.02 Q49.4306 838.727 52.1585 837.374 Q53.4886 836.675 54.3452 836.27 L80.4739 823.217 Q81.0375 822.991 81.2178 822.969 Q81.6687 822.969 81.6687 823.758 L81.6687 855.703 Q81.6687 856.92 81.2178 856.92 M78.1518 853.877 L78.1518 829.033 L53.218 841.455 L78.1518 853.877 Z\" fill=\"#000000\" fill-rule=\"evenodd\" fill-opacity=\"1\" /><path clip-path=\"url(#clip570)\" d=\"M89.3443 818.37 L88.3501 818.37 L73.1847 808.444 Q72.7901 808.192 72.8059 807.797 Q72.8059 807.434 72.9479 807.355 Q73.09 807.276 73.6423 807.276 L88.3501 807.276 L88.3501 804.041 L89.3443 804.041 L89.3443 807.276 L92.1533 807.276 Q93.0843 807.276 93.3842 806.898 Q93.684 806.503 93.684 804.83 L93.684 804.152 L94.6782 804.152 Q94.5835 805.477 94.5835 808.539 Q94.5835 811.584 94.6782 812.91 L93.684 812.91 L93.684 812.231 Q93.684 810.559 93.3999 810.164 Q93.1001 809.77 92.1533 809.77 L89.3443 809.77 L89.3443 818.37 M88.3501 817.455 L88.3501 809.58 L76.2935 809.58 L88.3501 817.455 Z\" fill=\"#000000\" fill-rule=\"evenodd\" fill-opacity=\"1\" /><path clip-path=\"url(#clip570)\" d=\"M45.5377 792.215 Q34.3945 792.215 25.4091 788.061 Q21.641 786.289 18.4848 783.809 Q15.3286 781.33 13.9438 779.687 Q12.5589 778.045 12.5589 777.594 Q12.5589 776.95 13.2031 776.917 Q13.5251 776.917 14.3303 777.787 Q25.1514 788.415 45.5377 788.383 Q65.9885 788.383 76.391 778.045 Q77.5182 776.917 77.8724 776.917 Q78.5165 776.917 78.5165 777.594 Q78.5165 778.045 77.1961 779.623 Q75.8757 781.201 72.8483 783.648 Q69.821 786.096 66.1173 787.867 Q57.1318 792.215 45.5377 792.215 Z\" fill=\"#000000\" fill-rule=\"evenodd\" fill-opacity=\"1\" /><path clip-path=\"url(#clip570)\" d=\"M61.383 770.848 Q61.1254 770.848 59.4507 769.978 Q57.7438 769.109 51.6568 766.049 Q45.5377 762.99 39.1288 759.833 L16.2626 748.465 Q14.8133 747.66 14.8133 746.629 Q14.8133 745.695 15.393 745.276 Q15.9728 744.858 19.8697 742.925 Q21.7698 741.927 22.9936 741.347 L60.3202 722.7 Q61.1254 722.378 61.383 722.346 Q62.0271 722.346 62.0271 723.473 L62.0271 769.109 Q62.0271 770.848 61.383 770.848 M57.003 766.5 L57.003 731.009 L21.3833 748.755 L57.003 766.5 Z\" fill=\"#000000\" fill-rule=\"evenodd\" fill-opacity=\"1\" /><path clip-path=\"url(#clip570)\" d=\"M16.9711 702.091 L55.1029 711.591 Q56.6166 711.978 58.2591 711.978 Q61.2864 711.978 61.2864 709.981 Q61.2864 709.047 60.6745 708.274 Q60.0304 707.501 58.7743 706.922 Q57.4861 706.31 56.2623 705.923 Q55.0385 705.505 53.1383 704.989 Q52.3976 704.828 52.1721 704.667 Q51.9467 704.506 51.9467 704.055 Q51.9467 703.25 52.5908 703.25 Q56.5521 704.055 59.0642 705.247 Q62.7679 706.986 62.7679 710.207 Q62.7679 712.622 61.0932 714.426 Q59.3863 716.197 56.681 716.197 Q55.6504 716.197 54.4266 715.875 L21.4478 707.566 L20.1595 707.34 Q19.8053 707.34 19.612 707.469 Q19.4188 707.598 19.2255 708.371 Q19.0323 709.112 19.0323 710.593 Q19.0323 711.205 19.0001 711.495 Q18.9679 711.752 18.8069 712.01 Q18.6458 712.236 18.2916 712.236 Q17.7119 712.236 17.3898 712.01 Q17.0678 711.752 17.0033 711.559 Q16.9389 711.366 16.9067 710.98 Q16.8745 710.432 16.7135 708.596 Q16.5203 706.761 16.3914 705.182 Q16.2626 703.604 16.2626 702.928 Q16.2626 702.542 16.4558 702.348 Q16.6169 702.123 16.8101 702.091 L16.9711 702.091 Z\" fill=\"#000000\" fill-rule=\"evenodd\" fill-opacity=\"1\" /><path clip-path=\"url(#clip570)\" d=\"M77.8724 694.627 Q77.5504 694.627 76.7452 693.789 Q65.924 683.161 45.5377 683.161 Q25.087 683.161 14.7489 693.371 Q13.5573 694.627 13.2031 694.627 Q12.5589 694.627 12.5589 693.983 Q12.5589 693.532 13.8794 691.954 Q15.1998 690.343 18.2272 687.928 Q21.2545 685.48 24.9582 683.677 Q33.9436 679.329 45.5377 679.329 Q56.681 679.329 65.6664 683.484 Q69.4345 685.255 72.5907 687.735 Q75.7468 690.215 77.1317 691.857 Q78.5165 693.5 78.5165 693.983 Q78.5165 694.627 77.8724 694.627 Z\" fill=\"#000000\" fill-rule=\"evenodd\" fill-opacity=\"1\" /><path clip-path=\"url(#clip570)\" d=\"M769.971 75.3573 Q769.971 61.175 775.258 49.739 Q777.513 44.9433 780.669 40.9263 Q783.825 36.9094 785.916 35.1468 Q788.006 33.3843 788.58 33.3843 Q789.4 33.3843 789.441 34.2041 Q789.441 34.614 788.334 35.6387 Q774.807 49.4111 774.848 75.3573 Q774.848 101.385 788.006 114.625 Q789.441 116.06 789.441 116.511 Q789.441 117.33 788.58 117.33 Q788.006 117.33 785.998 115.65 Q783.989 113.969 780.874 110.116 Q777.759 106.263 775.504 101.549 Q769.971 90.1134 769.971 75.3573 Z\" fill=\"#000000\" fill-rule=\"evenodd\" fill-opacity=\"1\" /><path clip-path=\"url(#clip570)\" d=\"M836.635 43.8775 Q836.635 45.5581 835.2 46.9517 Q833.766 48.3454 832.085 48.3454 Q830.691 48.3454 829.831 47.4846 Q829.011 46.6238 829.011 45.3122 Q829.011 43.5086 830.446 42.197 Q831.88 40.8443 833.438 40.8443 Q834.872 40.8443 835.733 41.7461 Q836.635 42.6069 836.635 43.8775 M833.52 66.9545 Q833.52 68.3891 833.11 70.0697 L825.404 100.812 Q824.666 103.804 822.904 106.263 Q821.141 108.764 818.887 110.321 Q816.673 111.879 814.255 112.699 Q811.877 113.559 809.623 113.559 Q806.467 113.559 804.335 112.166 Q802.204 110.772 802.204 108.354 Q802.204 106.222 803.598 104.87 Q805.032 103.558 806.754 103.558 Q808.311 103.558 809.131 104.46 Q809.951 105.361 809.951 106.509 Q809.951 107.903 808.926 109.214 Q807.942 110.526 806.18 110.936 Q807.778 111.715 809.459 111.715 Q812.902 111.715 815.689 108.559 Q818.518 105.443 819.747 100.525 L827.658 69.2089 Q828.232 66.7086 828.232 64.946 Q828.232 63.3065 827.781 62.4047 Q827.33 61.5029 826.797 61.298 Q826.306 61.093 825.568 61.093 Q822.33 61.093 819.542 64.0853 Q816.755 67.0365 814.993 71.3404 Q814.501 72.529 814.255 72.775 Q814.05 73.0209 813.476 73.0209 Q812.451 72.9799 812.451 72.1601 Q812.451 71.9142 812.861 70.9305 Q813.271 69.9467 814.009 68.5121 Q814.747 67.0365 815.935 65.4379 Q817.124 63.8393 818.518 62.4457 Q819.952 61.052 821.879 60.1503 Q823.805 59.2485 825.814 59.2485 Q829.052 59.2485 831.265 61.38 Q833.52 63.4704 833.52 66.9545 Z\" fill=\"#000000\" fill-rule=\"evenodd\" fill-opacity=\"1\" /><path clip-path=\"url(#clip570)\" d=\"M874.553 100.627 Q874.553 102.205 873.548 103.18 Q872.573 104.156 871.339 104.156 Q870.45 104.156 869.79 103.611 Q869.159 103.066 869.159 102.119 Q869.159 101.143 869.905 100.11 Q870.651 99.0775 872.343 98.934 Q871.224 97.8724 869.445 97.8724 Q868.556 97.8724 867.81 98.4462 Q867.093 98.9914 866.691 99.8809 Q866.261 100.799 865.285 105.992 Q864.969 107.685 864.683 109.321 Q864.396 110.956 864.051 112.678 L868.929 112.678 Q869.56 112.678 869.818 112.706 Q870.077 112.735 870.278 112.879 Q870.507 113.022 870.507 113.338 Q870.507 114.141 870.134 114.342 Q869.79 114.514 868.757 114.514 L863.707 114.514 L860.178 133.135 Q860.092 133.681 859.719 135.402 Q859.374 137.095 858.542 139.878 Q857.71 142.69 856.878 144.354 Q856.419 145.301 855.817 146.191 Q855.243 147.109 854.411 148.027 Q853.579 148.945 852.488 149.49 Q851.398 150.064 850.25 150.064 Q848.299 150.064 846.778 148.974 Q845.258 147.883 845.258 146.018 Q845.258 144.44 846.233 143.465 Q847.237 142.489 848.471 142.489 Q849.361 142.489 849.992 143.034 Q850.652 143.58 850.652 144.526 Q850.652 144.928 850.508 145.387 Q850.365 145.846 850.049 146.363 Q849.734 146.908 849.045 147.281 Q848.356 147.654 847.41 147.711 Q848.529 148.773 850.25 148.773 Q850.795 148.773 851.283 148.543 Q851.771 148.342 852.173 147.826 Q852.603 147.31 852.919 146.793 Q853.234 146.305 853.55 145.358 Q853.865 144.44 854.066 143.752 Q854.267 143.063 854.525 141.829 Q854.812 140.596 854.956 139.85 Q855.099 139.132 855.357 137.726 L859.747 114.514 L855.874 114.514 Q855.185 114.514 854.898 114.485 Q854.64 114.457 854.439 114.313 Q854.238 114.141 854.238 113.797 Q854.238 113.252 854.468 113.022 Q854.726 112.764 855.013 112.735 Q855.3 112.678 855.989 112.678 L860.063 112.678 Q861.44 105.419 861.985 103.467 Q862.617 101.402 863.592 99.9669 Q864.568 98.5036 865.658 97.815 Q866.748 97.1264 867.638 96.8682 Q868.556 96.5812 869.445 96.5812 Q871.454 96.5812 873.003 97.6715 Q874.553 98.7332 874.553 100.627 Z\" fill=\"#000000\" fill-rule=\"evenodd\" fill-opacity=\"1\" /><path clip-path=\"url(#clip570)\" d=\"M906.514 83.5961 Q906.596 82.5714 908.195 82.5714 L959.637 82.5714 Q962.055 82.5714 962.096 83.5142 Q962.096 84.5389 959.801 84.4979 L908.769 84.4979 Q906.514 84.5389 906.514 83.5961 M906.514 67.2004 Q906.514 66.1757 908.277 66.2167 L959.555 66.2167 Q962.055 66.2167 962.096 67.2004 Q962.096 68.1432 959.964 68.1432 L908.195 68.1432 Q906.514 68.1432 906.514 67.2004 Z\" fill=\"#000000\" fill-rule=\"evenodd\" fill-opacity=\"1\" /><path clip-path=\"url(#clip570)\" d=\"M994.474 48.4273 L994.474 45.804 Q1004.56 45.804 1009.76 40.4344 Q1011.2 40.4344 1011.44 40.7624 Q1011.69 41.0903 1011.69 42.6069 L1011.69 89.7035 Q1011.69 92.2039 1012.92 92.9827 Q1014.15 93.7615 1019.52 93.7615 L1022.18 93.7615 L1022.18 96.3438 Q1019.23 96.0979 1008.57 96.0979 Q997.917 96.0979 995.007 96.3438 L995.007 93.7615 L997.672 93.7615 Q1002.96 93.7615 1004.23 93.0237 Q1005.5 92.2449 1005.5 89.7035 L1005.5 46.2139 Q1001.11 48.4273 994.474 48.4273 Z\" fill=\"#000000\" fill-rule=\"evenodd\" fill-opacity=\"1\" /><path clip-path=\"url(#clip570)\" d=\"M1037.23 94.9912 Q1036.04 93.6385 1036.04 91.876 Q1036.04 90.1134 1037.19 88.8018 Q1038.38 87.4491 1040.51 87.4491 Q1043.01 87.4491 1044.45 89.8675 Q1045.88 92.2449 1045.88 96.2618 Q1045.88 100.607 1044.12 104.624 Q1042.36 108.682 1040.64 110.608 Q1038.91 112.535 1038.22 112.535 Q1037.4 112.535 1037.4 111.633 Q1037.4 111.305 1037.97 110.69 Q1044 104.214 1044.04 96.2618 Q1044.04 94.9912 1043.87 94.9912 L1043.67 95.1551 Q1042.23 96.3438 1040.51 96.3438 Q1038.42 96.3438 1037.23 94.9912 Z\" fill=\"#000000\" fill-rule=\"evenodd\" fill-opacity=\"1\" /><path clip-path=\"url(#clip570)\" d=\"M1093.81 43.8775 Q1093.81 45.6811 1092.33 47.0337 Q1090.9 48.3454 1089.34 48.3454 Q1087.91 48.3454 1087 47.4846 Q1086.14 46.5828 1086.14 45.3122 Q1086.14 43.6316 1087.58 42.238 Q1089.01 40.8443 1090.69 40.8443 Q1092.09 40.8443 1092.95 41.7051 Q1093.81 42.5659 1093.81 43.8775 M1094.55 84.334 Q1094.55 84.6619 1094.18 85.9735 Q1093.81 87.2442 1092.91 89.2117 Q1092.05 91.1382 1090.86 92.9417 Q1089.67 94.7452 1087.7 96.0159 Q1085.77 97.2866 1083.56 97.2866 Q1080.57 97.2866 1078.6 95.3191 Q1076.68 93.3516 1076.68 90.4004 Q1076.68 88.8018 1078.6 83.6781 Q1084.18 68.758 1084.38 68.1432 Q1085.32 65.8068 1085.32 63.7573 Q1085.32 62.8146 1085.12 62.2407 Q1084.91 61.6259 1084.5 61.4209 Q1084.09 61.175 1083.85 61.134 Q1083.64 61.093 1083.23 61.093 Q1080.82 61.093 1078.56 63.5524 Q1076.31 66.0117 1074.75 71.5043 Q1074.42 72.529 1074.22 72.775 Q1074.01 73.0209 1073.4 73.0209 Q1072.37 72.9799 1072.37 72.1601 Q1072.37 71.9142 1072.66 70.9714 Q1072.95 69.9877 1073.48 68.5121 Q1074.01 66.9955 1074.95 65.4379 Q1075.9 63.8393 1077.04 62.4457 Q1078.23 61.052 1079.91 60.1503 Q1081.59 59.2485 1083.48 59.2485 Q1086.55 59.2485 1088.44 61.257 Q1090.37 63.2245 1090.37 66.1347 Q1090.37 67.7333 1089.26 70.5616 Q1087.91 74.2506 1087.41 75.4393 L1084.14 84.252 Q1082.95 87.4491 1082.58 88.4329 Q1082.25 89.3756 1081.96 90.5233 Q1081.72 91.63 1081.72 92.6548 Q1081.72 94.0894 1082.17 94.7452 Q1082.66 95.4011 1083.73 95.4011 Q1086.68 95.4011 1088.85 92.4908 Q1091.02 89.5396 1092.29 85.0308 Q1092.33 84.9078 1092.37 84.7029 Q1092.7 83.6781 1093.03 83.5552 Q1093.19 83.5142 1093.52 83.5142 Q1094.55 83.5142 1094.55 84.334 Z\" fill=\"#000000\" fill-rule=\"evenodd\" fill-opacity=\"1\" /><path clip-path=\"url(#clip570)\" d=\"M1125.64 105.91 Q1125.87 106.168 1125.87 106.426 Q1125.87 106.684 1125.29 107.43 Q1124.75 108.176 1123.57 109.181 Q1122.39 110.185 1120.87 111.132 Q1119.35 112.079 1117.11 112.71 Q1114.88 113.37 1112.52 113.37 Q1108.31 113.37 1105.78 110.357 Q1103.28 107.344 1103.28 102.725 Q1103.28 99.7694 1104.26 97.1584 Q1105.24 94.5187 1106.81 92.6537 Q1108.42 90.7887 1110.43 89.4401 Q1112.47 88.0629 1114.59 87.403 Q1116.71 86.743 1118.69 86.743 Q1121.59 86.743 1123.28 88.2064 Q1124.98 89.6697 1124.98 91.7355 Q1124.98 92.2233 1124.83 92.8259 Q1124.72 93.4284 1124.32 94.3752 Q1123.94 95.3221 1122.97 96.269 Q1121.99 97.1871 1120.56 97.7897 Q1117.37 99.1382 1111.58 99.1382 L1108.45 99.1382 Q1107.53 102.84 1107.53 105.25 Q1107.53 106.197 1107.7 107.172 Q1107.88 108.119 1108.33 109.324 Q1108.82 110.529 1109.91 111.304 Q1111.03 112.05 1112.64 112.05 Q1113.15 112.05 1113.7 112.021 Q1114.27 111.992 1115.71 111.677 Q1117.17 111.361 1118.46 110.816 Q1119.75 110.271 1121.39 109.094 Q1123.05 107.889 1124.37 106.254 Q1124.83 105.651 1125.15 105.651 Q1125.41 105.651 1125.64 105.91 M1123.03 91.7355 Q1123.03 90.1574 1121.85 89.0958 Q1120.7 88.0342 1118.69 88.0342 Q1118.06 88.0342 1117.29 88.1777 Q1116.51 88.3211 1115.22 88.9237 Q1113.96 89.5262 1112.84 90.5305 Q1111.72 91.506 1110.6 93.4284 Q1109.48 95.3221 1108.82 97.847 L1111.23 97.847 Q1112.06 97.847 1112.67 97.847 Q1113.27 97.8183 1114.59 97.7036 Q1115.94 97.5888 1116.91 97.388 Q1117.89 97.1584 1119.12 96.6993 Q1120.36 96.2403 1121.13 95.6377 Q1121.93 95.0065 1122.48 94.0022 Q1123.03 92.998 1123.03 91.7355 Z\" fill=\"#000000\" fill-rule=\"evenodd\" fill-opacity=\"1\" /><path clip-path=\"url(#clip570)\" d=\"M1157.89 83.5961 Q1157.97 82.5714 1159.57 82.5714 L1211.01 82.5714 Q1213.43 82.5714 1213.47 83.5142 Q1213.47 84.5389 1211.18 84.4979 L1160.15 84.4979 Q1157.89 84.5389 1157.89 83.5961 M1157.89 67.2004 Q1157.89 66.1757 1159.65 66.2167 L1210.93 66.2167 Q1213.43 66.2167 1213.47 67.2004 Q1213.47 68.1432 1211.34 68.1432 L1159.57 68.1432 Q1157.89 68.1432 1157.89 67.2004 Z\" fill=\"#000000\" fill-rule=\"evenodd\" fill-opacity=\"1\" /><path clip-path=\"url(#clip570)\" d=\"M1245.85 48.4273 L1245.85 45.804 Q1255.93 45.804 1261.14 40.4344 Q1262.57 40.4344 1262.82 40.7624 Q1263.07 41.0903 1263.07 42.6069 L1263.07 89.7035 Q1263.07 92.2039 1264.3 92.9827 Q1265.53 93.7615 1270.9 93.7615 L1273.56 93.7615 L1273.56 96.3438 Q1270.61 96.0979 1259.95 96.0979 Q1249.29 96.0979 1246.38 96.3438 L1246.38 93.7615 L1249.05 93.7615 Q1254.34 93.7615 1255.61 93.0237 Q1256.88 92.2449 1256.88 89.7035 L1256.88 46.2139 Q1252.49 48.4273 1245.85 48.4273 Z\" fill=\"#000000\" fill-rule=\"evenodd\" fill-opacity=\"1\" /><path clip-path=\"url(#clip570)\" d=\"M1288.61 94.9912 Q1287.42 93.6385 1287.42 91.876 Q1287.42 90.1134 1288.57 88.8018 Q1289.76 87.4491 1291.89 87.4491 Q1294.39 87.4491 1295.82 89.8675 Q1297.26 92.2449 1297.26 96.2618 Q1297.26 100.607 1295.5 104.624 Q1293.73 108.682 1292.01 110.608 Q1290.29 112.535 1289.59 112.535 Q1288.77 112.535 1288.77 111.633 Q1288.77 111.305 1289.35 110.69 Q1295.37 104.214 1295.41 96.2618 Q1295.41 94.9912 1295.25 94.9912 L1295.05 95.1551 Q1293.61 96.3438 1291.89 96.3438 Q1289.8 96.3438 1288.61 94.9912 Z\" fill=\"#000000\" fill-rule=\"evenodd\" fill-opacity=\"1\" /><path clip-path=\"url(#clip570)\" d=\"M1367.81 61.0111 Q1367.81 61.339 1366.21 64.2082 Q1363.55 69.4958 1360.15 77.5707 Q1356.74 85.6456 1354.82 91.63 Q1354.41 93.0647 1354.12 94.9092 Q1353.38 100.566 1351.01 109.337 Q1350.19 112.084 1349.65 113.231 Q1349.12 114.379 1348.34 114.379 Q1347.24 114.379 1347.24 112.862 Q1347.24 111.346 1348.63 105.689 Q1350.06 100.033 1351.62 94.8272 Q1352.6 91.958 1352.6 86.5884 Q1352.6 84.8668 1352.52 83.3092 Q1352.44 81.7516 1352.11 79.4972 Q1351.79 77.2428 1351.25 75.3983 Q1350.72 73.5538 1349.69 71.6273 Q1348.67 69.6598 1347.28 68.3481 Q1345.88 66.9955 1343.75 66.1347 Q1341.66 65.2739 1339.04 65.2739 Q1338.38 65.2739 1337.56 65.3559 Q1336.78 65.3969 1334.9 65.9298 Q1333.05 66.4626 1331.5 67.4054 Q1329.94 68.3071 1328.26 70.3156 Q1326.58 72.3241 1325.67 75.0294 L1325.35 75.4393 Q1324.81 75.4393 1324.53 75.4393 Q1324.28 75.3983 1323.99 75.1933 Q1323.75 74.9884 1323.75 74.6195 Q1323.75 73.7587 1324.4 72.0372 Q1325.1 70.3156 1326.49 68.1022 Q1327.93 65.8888 1329.77 63.9213 Q1331.66 61.9538 1334.41 60.6012 Q1337.15 59.2485 1340.1 59.2485 Q1347.69 59.2485 1351.29 68.4711 Q1354.45 76.3001 1354.74 85.6046 Q1361.29 69.0859 1365.8 60.7651 Q1366.05 60.1503 1366.79 60.1503 Q1367.81 60.1913 1367.81 61.0111 Z\" fill=\"#000000\" fill-rule=\"evenodd\" fill-opacity=\"1\" /><path clip-path=\"url(#clip570)\" d=\"M1390.07 83.5961 Q1390.15 82.5714 1391.75 82.5714 L1443.19 82.5714 Q1445.61 82.5714 1445.65 83.5142 Q1445.65 84.5389 1443.36 84.4979 L1392.33 84.4979 Q1390.07 84.5389 1390.07 83.5961 M1390.07 67.2004 Q1390.07 66.1757 1391.83 66.2167 L1443.11 66.2167 Q1445.61 66.2167 1445.65 67.2004 Q1445.65 68.1432 1443.52 68.1432 L1391.75 68.1432 Q1390.07 68.1432 1390.07 67.2004 Z\" fill=\"#000000\" fill-rule=\"evenodd\" fill-opacity=\"1\" /><path clip-path=\"url(#clip570)\" d=\"M1478.03 48.4273 L1478.03 45.804 Q1488.11 45.804 1493.32 40.4344 Q1494.75 40.4344 1495 40.7624 Q1495.25 41.0903 1495.25 42.6069 L1495.25 89.7035 Q1495.25 92.2039 1496.48 92.9827 Q1497.71 93.7615 1503.08 93.7615 L1505.74 93.7615 L1505.74 96.3438 Q1502.79 96.0979 1492.13 96.0979 Q1481.47 96.0979 1478.56 96.3438 L1478.56 93.7615 L1481.23 93.7615 Q1486.52 93.7615 1487.79 93.0237 Q1489.06 92.2449 1489.06 89.7035 L1489.06 46.2139 Q1484.67 48.4273 1478.03 48.4273 Z\" fill=\"#000000\" fill-rule=\"evenodd\" fill-opacity=\"1\" /><path clip-path=\"url(#clip570)\" d=\"M1518.26 116.511 Q1518.26 116.101 1519.32 115.076 Q1532.85 101.304 1532.85 75.3573 Q1532.85 49.3291 1519.86 36.1716 Q1518.26 34.6549 1518.26 34.2041 Q1518.26 33.3843 1519.08 33.3843 Q1519.65 33.3843 1521.66 35.0648 Q1523.71 36.7454 1526.78 40.5984 Q1529.9 44.4514 1532.19 49.1652 Q1537.73 60.6012 1537.73 75.3573 Q1537.73 89.5396 1532.44 100.976 Q1530.18 105.771 1527.03 109.788 Q1523.87 113.805 1521.78 115.568 Q1519.69 117.33 1519.08 117.33 Q1518.26 117.33 1518.26 116.511 Z\" fill=\"#000000\" fill-rule=\"evenodd\" fill-opacity=\"1\" /><path clip-path=\"url(#clip570)\" d=\"M1620.4 95.0731 Q1619.99 95.565 1619.25 95.565 Q1618.56 95.565 1618.06 95.0731 L1600.68 77.6937 L1583.3 95.0731 Q1582.81 95.565 1582.07 95.565 Q1581.38 95.565 1580.93 95.0731 Q1580.44 94.6223 1580.44 93.9254 Q1580.44 93.2286 1580.93 92.7368 L1598.31 75.3573 L1580.93 57.9778 Q1580.44 57.486 1580.44 56.7892 Q1580.44 56.0514 1580.93 55.6415 Q1581.38 55.1496 1582.07 55.1496 Q1582.81 55.1496 1583.3 55.6415 L1600.68 73.0209 L1618.06 55.6415 Q1618.56 55.1496 1619.25 55.1496 Q1619.99 55.1496 1620.4 55.6415 Q1620.89 56.0514 1620.89 56.7892 Q1620.89 57.486 1620.4 57.9778 L1603.02 75.3573 L1620.4 92.7368 Q1620.89 93.2286 1620.89 93.9664 Q1620.89 94.6633 1620.4 95.0731 Z\" fill=\"#000000\" fill-rule=\"evenodd\" fill-opacity=\"1\" /><path clip-path=\"url(#clip570)\" d=\"M1660.46 48.4273 L1660.46 45.804 Q1670.54 45.804 1675.75 40.4344 Q1677.18 40.4344 1677.43 40.7624 Q1677.67 41.0903 1677.67 42.6069 L1677.67 89.7035 Q1677.67 92.2039 1678.9 92.9827 Q1680.13 93.7615 1685.5 93.7615 L1688.17 93.7615 L1688.17 96.3438 Q1685.22 96.0979 1674.56 96.0979 Q1663.9 96.0979 1660.99 96.3438 L1660.99 93.7615 L1663.66 93.7615 Q1668.94 93.7615 1670.21 93.0237 Q1671.48 92.2449 1671.48 89.7035 L1671.48 46.2139 Q1667.1 48.4273 1660.46 48.4273 Z\" fill=\"#000000\" fill-rule=\"evenodd\" fill-opacity=\"1\" /><path clip-path=\"url(#clip570)\" d=\"M1702.03 69.4958 Q1702.03 57.1581 1705.14 50.4358 Q1709.49 40.4344 1719.74 40.4344 Q1721.91 40.4344 1724.16 41.0493 Q1726.46 41.6231 1729.33 43.8775 Q1732.24 46.1319 1734 49.821 Q1737.36 56.9531 1737.36 69.4958 Q1737.36 81.7516 1734.25 88.4329 Q1729.7 98.1883 1719.65 98.1883 Q1715.88 98.1883 1712.03 96.2618 Q1708.22 94.3353 1705.8 89.7035 Q1702.03 82.7764 1702.03 69.4958 M1709 68.4711 Q1709 81.1368 1709.9 86.1785 Q1710.92 91.63 1713.71 94.0074 Q1716.54 96.3438 1719.65 96.3438 Q1723.02 96.3438 1725.8 93.8435 Q1728.63 91.3021 1729.49 85.8506 Q1730.43 80.481 1730.39 68.4711 Q1730.39 56.7892 1729.57 52.1164 Q1728.47 46.6648 1725.52 44.4924 Q1722.61 42.279 1719.65 42.279 Q1718.55 42.279 1717.36 42.6069 Q1716.21 42.9348 1714.53 43.8775 Q1712.85 44.8203 1711.54 47.1567 Q1710.27 49.4931 1709.65 53.0181 Q1709 57.568 1709 68.4711 Z\" fill=\"#000000\" fill-rule=\"evenodd\" fill-opacity=\"1\" /><path clip-path=\"url(#clip570)\" d=\"M1745.97 43.5956 Q1745.97 41.8454 1746.98 41.0133 Q1747.98 40.1812 1749.27 40.1812 Q1750.62 40.1812 1751.57 41.0707 Q1752.54 41.9315 1752.54 43.4522 Q1752.54 45.0876 1751.4 46.0058 Q1750.28 46.924 1748.67 46.6944 Q1750.08 49.0472 1752.66 50.1088 Q1755.27 51.1704 1757.68 51.1704 Q1760.2 51.1704 1762.24 48.9898 Q1764.31 46.8092 1764.31 41.4724 Q1764.31 36.939 1762.53 34.3279 Q1760.78 31.7169 1757.31 31.7169 L1754.72 31.7169 Q1753.83 31.7169 1753.58 31.6309 Q1753.32 31.5448 1753.32 31.057 Q1753.32 30.4832 1754.21 30.3684 Q1755.1 30.3684 1756.5 30.1962 Q1759.92 30.0815 1761.73 27.1261 Q1763.36 24.3717 1763.36 20.4408 Q1763.36 16.8542 1761.64 15.3622 Q1759.95 13.8415 1757.74 13.8415 Q1755.67 13.8415 1753.4 14.7023 Q1751.14 15.5631 1749.9 17.4855 Q1753.55 17.4855 1753.55 20.4408 Q1753.55 21.7319 1752.72 22.5927 Q1751.91 23.4248 1750.56 23.4248 Q1749.27 23.4248 1748.41 22.6214 Q1747.55 21.7893 1747.55 20.3834 Q1747.55 17.0264 1750.53 14.7023 Q1753.55 12.3782 1757.97 12.3782 Q1762.33 12.3782 1765.54 14.6736 Q1768.78 16.969 1768.78 20.4982 Q1768.78 23.97 1766.49 26.8105 Q1764.19 29.6511 1760.55 30.8275 Q1765.02 31.7169 1767.69 34.7583 Q1770.36 37.771 1770.36 41.4724 Q1770.36 46.0632 1766.75 49.4489 Q1763.13 52.8059 1757.85 52.8059 Q1752.97 52.8059 1749.47 50.1662 Q1745.97 47.5265 1745.97 43.5956 Z\" fill=\"#000000\" fill-rule=\"evenodd\" fill-opacity=\"1\" /><path clip-path=\"url(#clip570)\" d=\"M1771.51 41.8167 L1771.51 40.0091 L1789.55 12.4356 Q1790.01 11.7183 1790.73 11.747 Q1791.39 11.747 1791.53 12.0052 Q1791.68 12.2634 1791.68 13.2677 L1791.68 40.0091 L1797.56 40.0091 L1797.56 41.8167 L1791.68 41.8167 L1791.68 46.924 Q1791.68 48.6168 1792.37 49.162 Q1793.08 49.7071 1796.12 49.7071 L1797.36 49.7071 L1797.36 51.5148 Q1794.95 51.3426 1789.38 51.3426 Q1783.84 51.3426 1781.43 51.5148 L1781.43 49.7071 L1782.67 49.7071 Q1785.71 49.7071 1786.43 49.1907 Q1787.14 48.6455 1787.14 46.924 L1787.14 41.8167 L1771.51 41.8167 M1773.17 40.0091 L1787.49 40.0091 L1787.49 18.088 L1773.17 40.0091 Z\" fill=\"#000000\" fill-rule=\"evenodd\" fill-opacity=\"1\" /><circle clip-path=\"url(#clip572)\" cx=\"286.949\" cy=\"1387.28\" r=\"14\" fill=\"#009af9\" fill-rule=\"evenodd\" fill-opacity=\"1\" stroke=\"#000000\" stroke-opacity=\"1\" stroke-width=\"3.2\"/>\n",
       "<circle clip-path=\"url(#clip572)\" cx=\"367.175\" cy=\"1036.24\" r=\"14\" fill=\"#009af9\" fill-rule=\"evenodd\" fill-opacity=\"1\" stroke=\"#000000\" stroke-opacity=\"1\" stroke-width=\"3.2\"/>\n",
       "<circle clip-path=\"url(#clip572)\" cx=\"447.4\" cy=\"695.775\" r=\"14\" fill=\"#009af9\" fill-rule=\"evenodd\" fill-opacity=\"1\" stroke=\"#000000\" stroke-opacity=\"1\" stroke-width=\"3.2\"/>\n",
       "<circle clip-path=\"url(#clip572)\" cx=\"527.626\" cy=\"498.809\" r=\"14\" fill=\"#009af9\" fill-rule=\"evenodd\" fill-opacity=\"1\" stroke=\"#000000\" stroke-opacity=\"1\" stroke-width=\"3.2\"/>\n",
       "<circle clip-path=\"url(#clip572)\" cx=\"607.851\" cy=\"395.247\" r=\"14\" fill=\"#009af9\" fill-rule=\"evenodd\" fill-opacity=\"1\" stroke=\"#000000\" stroke-opacity=\"1\" stroke-width=\"3.2\"/>\n",
       "<circle clip-path=\"url(#clip572)\" cx=\"688.077\" cy=\"337.452\" r=\"14\" fill=\"#009af9\" fill-rule=\"evenodd\" fill-opacity=\"1\" stroke=\"#000000\" stroke-opacity=\"1\" stroke-width=\"3.2\"/>\n",
       "<circle clip-path=\"url(#clip572)\" cx=\"768.302\" cy=\"302.3\" r=\"14\" fill=\"#009af9\" fill-rule=\"evenodd\" fill-opacity=\"1\" stroke=\"#000000\" stroke-opacity=\"1\" stroke-width=\"3.2\"/>\n",
       "<circle clip-path=\"url(#clip572)\" cx=\"848.528\" cy=\"278.913\" r=\"14\" fill=\"#009af9\" fill-rule=\"evenodd\" fill-opacity=\"1\" stroke=\"#000000\" stroke-opacity=\"1\" stroke-width=\"3.2\"/>\n",
       "<circle clip-path=\"url(#clip572)\" cx=\"928.753\" cy=\"262.283\" r=\"14\" fill=\"#009af9\" fill-rule=\"evenodd\" fill-opacity=\"1\" stroke=\"#000000\" stroke-opacity=\"1\" stroke-width=\"3.2\"/>\n",
       "<circle clip-path=\"url(#clip572)\" cx=\"1008.98\" cy=\"249.877\" r=\"14\" fill=\"#009af9\" fill-rule=\"evenodd\" fill-opacity=\"1\" stroke=\"#000000\" stroke-opacity=\"1\" stroke-width=\"3.2\"/>\n",
       "<circle clip-path=\"url(#clip572)\" cx=\"1089.2\" cy=\"240.287\" r=\"14\" fill=\"#009af9\" fill-rule=\"evenodd\" fill-opacity=\"1\" stroke=\"#000000\" stroke-opacity=\"1\" stroke-width=\"3.2\"/>\n",
       "<circle clip-path=\"url(#clip572)\" cx=\"1169.43\" cy=\"232.704\" r=\"14\" fill=\"#009af9\" fill-rule=\"evenodd\" fill-opacity=\"1\" stroke=\"#000000\" stroke-opacity=\"1\" stroke-width=\"3.2\"/>\n",
       "<circle clip-path=\"url(#clip572)\" cx=\"1249.66\" cy=\"226.586\" r=\"14\" fill=\"#009af9\" fill-rule=\"evenodd\" fill-opacity=\"1\" stroke=\"#000000\" stroke-opacity=\"1\" stroke-width=\"3.2\"/>\n",
       "<circle clip-path=\"url(#clip572)\" cx=\"1329.88\" cy=\"221.588\" r=\"14\" fill=\"#009af9\" fill-rule=\"evenodd\" fill-opacity=\"1\" stroke=\"#000000\" stroke-opacity=\"1\" stroke-width=\"3.2\"/>\n",
       "<circle clip-path=\"url(#clip572)\" cx=\"1410.11\" cy=\"217.451\" r=\"14\" fill=\"#009af9\" fill-rule=\"evenodd\" fill-opacity=\"1\" stroke=\"#000000\" stroke-opacity=\"1\" stroke-width=\"3.2\"/>\n",
       "<circle clip-path=\"url(#clip572)\" cx=\"1490.33\" cy=\"213.996\" r=\"14\" fill=\"#009af9\" fill-rule=\"evenodd\" fill-opacity=\"1\" stroke=\"#000000\" stroke-opacity=\"1\" stroke-width=\"3.2\"/>\n",
       "<circle clip-path=\"url(#clip572)\" cx=\"1570.56\" cy=\"211.082\" r=\"14\" fill=\"#009af9\" fill-rule=\"evenodd\" fill-opacity=\"1\" stroke=\"#000000\" stroke-opacity=\"1\" stroke-width=\"3.2\"/>\n",
       "<circle clip-path=\"url(#clip572)\" cx=\"1650.78\" cy=\"208.606\" r=\"14\" fill=\"#009af9\" fill-rule=\"evenodd\" fill-opacity=\"1\" stroke=\"#000000\" stroke-opacity=\"1\" stroke-width=\"3.2\"/>\n",
       "<circle clip-path=\"url(#clip572)\" cx=\"1731.01\" cy=\"206.486\" r=\"14\" fill=\"#009af9\" fill-rule=\"evenodd\" fill-opacity=\"1\" stroke=\"#000000\" stroke-opacity=\"1\" stroke-width=\"3.2\"/>\n",
       "<circle clip-path=\"url(#clip572)\" cx=\"1811.23\" cy=\"204.659\" r=\"14\" fill=\"#009af9\" fill-rule=\"evenodd\" fill-opacity=\"1\" stroke=\"#000000\" stroke-opacity=\"1\" stroke-width=\"3.2\"/>\n",
       "<circle clip-path=\"url(#clip572)\" cx=\"1891.46\" cy=\"203.074\" r=\"14\" fill=\"#009af9\" fill-rule=\"evenodd\" fill-opacity=\"1\" stroke=\"#000000\" stroke-opacity=\"1\" stroke-width=\"3.2\"/>\n",
       "<circle clip-path=\"url(#clip572)\" cx=\"1971.68\" cy=\"201.691\" r=\"14\" fill=\"#009af9\" fill-rule=\"evenodd\" fill-opacity=\"1\" stroke=\"#000000\" stroke-opacity=\"1\" stroke-width=\"3.2\"/>\n",
       "<circle clip-path=\"url(#clip572)\" cx=\"2051.91\" cy=\"200.479\" r=\"14\" fill=\"#009af9\" fill-rule=\"evenodd\" fill-opacity=\"1\" stroke=\"#000000\" stroke-opacity=\"1\" stroke-width=\"3.2\"/>\n",
       "<circle clip-path=\"url(#clip572)\" cx=\"2132.14\" cy=\"199.409\" r=\"14\" fill=\"#009af9\" fill-rule=\"evenodd\" fill-opacity=\"1\" stroke=\"#000000\" stroke-opacity=\"1\" stroke-width=\"3.2\"/>\n",
       "<circle clip-path=\"url(#clip572)\" cx=\"2212.36\" cy=\"198.462\" r=\"14\" fill=\"#009af9\" fill-rule=\"evenodd\" fill-opacity=\"1\" stroke=\"#000000\" stroke-opacity=\"1\" stroke-width=\"3.2\"/>\n",
       "<circle clip-path=\"url(#clip572)\" cx=\"2292.59\" cy=\"197.619\" r=\"14\" fill=\"#009af9\" fill-rule=\"evenodd\" fill-opacity=\"1\" stroke=\"#000000\" stroke-opacity=\"1\" stroke-width=\"3.2\"/>\n",
       "<polyline clip-path=\"url(#clip572)\" style=\"stroke:#e26f46; stroke-linecap:butt; stroke-linejoin:round; stroke-width:12; stroke-opacity:1; fill:none\" points=\"\n",
       "  -1899.2,196.474 4478.73,196.474 \n",
       "  \"/>\n",
       "<polyline clip-path=\"url(#clip572)\" style=\"stroke:#008000; stroke-linecap:butt; stroke-linejoin:round; stroke-width:12; stroke-opacity:1; fill:none\" points=\"\n",
       "  -1899.2,190.787 4478.73,190.787 \n",
       "  \"/>\n",
       "</svg>\n"
      ]
     },
     "execution_count": 144,
     "metadata": {},
     "output_type": "execute_result"
    }
   ],
   "source": [
    "scatter(Dls, D4_amp_Dl_25*10^17*10^17, title = L\"(j_f=1,i_e=1,\\gamma=1)\\times 10^{34}\", \n",
    "    xlabel=L\"\\Delta l\",ylabel=L\"A_{\\Delta_4}(\\Delta l)\",legend = false)\n",
    "hline!([D4_amp_ex_15*10^17*10^17],linewidth=3)\n",
    "hline!([D4_amp_ex_25*10^17*10^17],linewidth=3,color=\"green\")"
   ]
  },
  {
   "cell_type": "markdown",
   "metadata": {
    "slideshow": {
     "slide_type": "slide"
    }
   },
   "source": [
    "## Outlook\n",
    "Summary\n",
    "- Efficient, scalable, flexible \n",
    "- Ready to use (resources hungry)\n",
    "- Applications (single vertex asymptotic, many vertices asymptotic, radiative corrections, cosmology, blackhole-whitehole tunneling)\n",
    "- Go out in the wild and compute!\n",
    "\n",
    "Simple things to add\n",
    "- Startup guide (setup the library and its dependences)\n",
    "- Extrapolation (Aitken)\n",
    "\n",
    "More\n",
    "- Find a new extrapolation scheme\n",
    "- Find a new things to compute"
   ]
  },
  {
   "cell_type": "markdown",
   "metadata": {
    "slideshow": {
     "slide_type": "slide"
    }
   },
   "source": [
    "# Thank you for your attention!"
   ]
  }
 ],
 "metadata": {
  "celltoolbar": "Slideshow",
  "interpreter": {
   "hash": "916dbcbb3f70747c44a77c7bcd40155683ae19c65e1c03b4aa3499c5328201f1"
  },
  "kernelspec": {
   "display_name": "Julia 1.7.2",
   "language": "julia",
   "name": "julia-1.7"
  },
  "language_info": {
   "file_extension": ".jl",
   "mimetype": "application/julia",
   "name": "julia",
   "version": "1.7.2"
  },
  "toc": {
   "base_numbering": 1,
   "nav_menu": {},
   "number_sections": true,
   "sideBar": true,
   "skip_h1_title": false,
   "title_cell": "Table of Contents",
   "title_sidebar": "Contents",
   "toc_cell": false,
   "toc_position": {},
   "toc_section_display": true,
   "toc_window_display": false
  }
 },
 "nbformat": 4,
 "nbformat_minor": 4
}
