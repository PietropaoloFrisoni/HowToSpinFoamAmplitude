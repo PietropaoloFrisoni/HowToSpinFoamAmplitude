{
 "cells": [
  {
   "cell_type": "markdown",
   "id": "02a102f2-5917-4ccc-a757-b06cf8177c44",
   "metadata": {
    "tags": []
   },
   "source": [
    "# How to spinfoam amplitudes\n",
    "\n",
    "## Computing a single EPRL vertex amplitude"
   ]
  },
  {
   "cell_type": "markdown",
   "id": "ad6229b9-1a14-4985-ac49-bea7803b71a6",
   "metadata": {},
   "source": [
    "In this notebook we show how to compute a single EPRL vertex amplitude. \n",
    "We employ the [sl2cfoam-next](https://github.com/qg-cpt-marseille/sl2cfoam-next) library.\n",
    "\n",
    "See also [paper describing the library](https://arxiv.org/abs/2107.13952).\n",
    "\n",
    "In order to compile the cells below you first need to install the library."
   ]
  },
  {
   "cell_type": "code",
   "execution_count": 1,
   "id": "ada2d006-6d60-4fd6-85d5-6e7256b1a5d3",
   "metadata": {},
   "outputs": [],
   "source": [
    "# required pkgs  \n",
    "using HalfIntegers\n",
    "using SL2Cfoam"
   ]
  },
  {
   "cell_type": "markdown",
   "id": "9f0a798f-6511-4037-95f2-d998487cadfa",
   "metadata": {},
   "source": [
    "### Full vertex"
   ]
  },
  {
   "cell_type": "markdown",
   "id": "e4584663-b6cf-49bc-b3bb-4df8372752bb",
   "metadata": {},
   "source": [
    "We compute the EPRL vertex amplitude for each possible value of the boundary intertwiners"
   ]
  },
  {
   "cell_type": "code",
   "execution_count": 4,
   "id": "f8bdc006-d5f1-4179-95ef-513d8b0335f9",
   "metadata": {},
   "outputs": [
    {
     "name": "stdout",
     "output_type": "stream",
     "text": [
      "  0.011817 seconds (7 allocations: 400 bytes)\n"
     ]
    },
    {
     "data": {
      "text/plain": [
       "3×3×3×3×3 Array{Float64, 5}:\n",
       "[:, :, 1, 1, 1] =\n",
       "  6.68474e-11  -8.72166e-11  1.27075e-10\n",
       " -9.58955e-11   7.55318e-11  1.01156e-10\n",
       "  1.3407e-10    9.75111e-11  3.53041e-11\n",
       "\n",
       "[:, :, 2, 1, 1] =\n",
       " -8.72166e-11   6.83145e-11  9.16939e-11\n",
       "  1.437e-10    -5.91621e-11  8.27024e-11\n",
       " -1.89318e-10  -7.63779e-11  1.79525e-11\n",
       "\n",
       "[:, :, 3, 1, 1] =\n",
       "  1.27075e-10   9.16939e-11  3.35534e-11\n",
       " -1.97308e-10  -7.94092e-11  1.88648e-11\n",
       "  2.66493e-10  -1.02517e-10  1.53984e-11\n",
       "\n",
       "[:, :, 1, 2, 1] =\n",
       " -9.58955e-11   1.437e-10    -1.97308e-10\n",
       "  1.36483e-10  -1.24448e-10  -1.5763e-10\n",
       " -1.9149e-10   -1.60661e-10  -5.43777e-11\n",
       "\n",
       "[:, :, 2, 2, 1] =\n",
       "  7.55318e-11  -5.91621e-11  -7.94092e-11\n",
       " -1.24448e-10   5.12359e-11  -7.16223e-11\n",
       "  1.63955e-10   6.61452e-11  -1.55473e-11\n",
       "\n",
       "[:, :, 3, 2, 1] =\n",
       "  1.01156e-10   8.27024e-11  1.88648e-11\n",
       " -1.5763e-10   -7.16223e-11  8.47642e-12\n",
       "  2.12577e-10  -9.2464e-11   1.03074e-11\n",
       "\n",
       "[:, :, 1, 3, 1] =\n",
       "  1.3407e-10   -1.89318e-10  2.66493e-10\n",
       " -1.9149e-10    1.63955e-10  2.12577e-10\n",
       "  2.68244e-10   2.11664e-10  7.36977e-11\n",
       "\n",
       "[:, :, 2, 3, 1] =\n",
       "  9.75111e-11  -7.63779e-11  -1.02517e-10\n",
       " -1.60661e-10   6.61452e-11  -9.2464e-11\n",
       "  2.11664e-10   8.53931e-11  -2.00715e-11\n",
       "\n",
       "[:, :, 3, 3, 1] =\n",
       "  3.53041e-11   1.79525e-11  1.53984e-11\n",
       " -5.43777e-11  -1.55473e-11  1.03074e-11\n",
       "  7.36977e-11  -2.00715e-11  5.7887e-12\n",
       "\n",
       "[:, :, 1, 1, 2] =\n",
       " -9.60715e-11   1.43541e-10  -1.97352e-10\n",
       "  7.56842e-11  -5.90353e-11  -7.93711e-11\n",
       "  1.01353e-10   8.24624e-11   1.89141e-11\n",
       "\n",
       "[:, :, 2, 1, 2] =\n",
       "  1.43541e-10  -1.31078e-10  -1.65939e-10\n",
       " -1.31078e-10   5.65391e-11  -8.16608e-11\n",
       " -1.65939e-10  -8.16608e-11   3.87512e-12\n",
       "\n",
       "[:, :, 3, 1, 2] =\n",
       " -1.97352e-10  -1.65939e-10  -5.58446e-11\n",
       "  1.69031e-10   7.03664e-11  -1.42769e-11\n",
       "  2.1913e-10   -1.00454e-10   1.19475e-11\n",
       "\n",
       "[:, :, 1, 2, 2] =\n",
       "  7.56842e-11  -1.31078e-10   1.69031e-10\n",
       " -5.90353e-11   5.65391e-11   7.03664e-11\n",
       " -7.93711e-11  -8.16608e-11  -1.42769e-11\n",
       "\n",
       "[:, :, 2, 2, 2] =\n",
       " -5.90353e-11  5.65391e-11  7.03664e-11\n",
       "  5.65391e-11  1.77486e-10  1.1931e-10\n",
       "  7.03664e-11  1.1931e-10   6.66118e-11\n",
       "\n",
       "[:, :, 3, 2, 2] =\n",
       " -7.93711e-11  -8.16608e-11  -1.42769e-11\n",
       "  7.03664e-11   1.1931e-10    6.66118e-11\n",
       "  9.00526e-11  -2.542e-10     5.96866e-11\n",
       "\n",
       "[:, :, 1, 3, 2] =\n",
       "  1.01353e-10  -1.65939e-10   2.1913e-10\n",
       " -7.93711e-11   7.03664e-11   9.00526e-11\n",
       " -1.06543e-10  -1.00454e-10  -1.94514e-11\n",
       "\n",
       "[:, :, 2, 3, 2] =\n",
       "  8.24624e-11  -8.16608e-11  -1.00454e-10\n",
       " -8.16608e-11   1.1931e-10   -2.542e-10\n",
       " -1.00454e-10  -2.542e-10    -1.62698e-10\n",
       "\n",
       "[:, :, 3, 3, 2] =\n",
       "  1.89141e-11   3.87512e-12  1.19475e-11\n",
       " -1.42769e-11   6.66118e-11  5.96866e-11\n",
       " -1.94514e-11  -1.62698e-10  4.30904e-11\n",
       "\n",
       "[:, :, 1, 1, 3] =\n",
       " 1.33923e-10  -1.89432e-10   2.66471e-10\n",
       " 1.01511e-10  -7.95074e-11  -1.06719e-10\n",
       " 3.19672e-11   1.54777e-11   1.50572e-11\n",
       "\n",
       "[:, :, 2, 1, 3] =\n",
       " -1.89432e-10   1.62439e-10   2.1049e-10\n",
       " -1.65797e-10   7.02531e-11  -1.0024e-10\n",
       " -4.86593e-11  -1.15998e-11   1.10875e-11\n",
       "\n",
       "[:, :, 3, 1, 3] =\n",
       " 2.66471e-10   2.1049e-10    7.3748e-11\n",
       " 2.19169e-10   9.00185e-11  -1.94955e-11\n",
       " 6.67527e-11  -1.58503e-11   2.04991e-11\n",
       "\n",
       "[:, :, 1, 2, 3] =\n",
       " 1.01511e-10  -1.65797e-10   2.19169e-10\n",
       " 7.61488e-11  -7.57302e-11  -9.30225e-11\n",
       " 2.41566e-11   8.59577e-12   1.32596e-11\n",
       "\n",
       "[:, :, 2, 2, 3] =\n",
       " -7.95074e-11  7.02531e-11   9.00185e-11\n",
       " -7.57302e-11  1.14567e-10  -2.45221e-10\n",
       " -1.88171e-11  6.28362e-11   5.85503e-11\n",
       "\n",
       "[:, :, 3, 2, 3] =\n",
       " -1.06719e-10  -1.0024e-10   -1.94955e-11\n",
       " -9.30225e-11  -2.45221e-10  -1.58583e-10\n",
       " -2.53127e-11  -1.55551e-10   4.16234e-11\n",
       "\n",
       "[:, :, 1, 3, 3] =\n",
       " 3.19672e-11  -4.86593e-11   6.67527e-11\n",
       " 2.41566e-11  -1.88171e-11  -2.53127e-11\n",
       " 8.06193e-12   5.2702e-12    1.87483e-11\n",
       "\n",
       "[:, :, 2, 3, 3] =\n",
       " 1.54777e-11  -1.15998e-11  -1.58503e-11\n",
       " 8.59577e-12   6.28362e-11  -1.55551e-10\n",
       " 5.2702e-12    5.5519e-11    4.25357e-11\n",
       "\n",
       "[:, :, 3, 3, 3] =\n",
       " 1.50572e-11  1.10875e-11  2.04991e-11\n",
       " 1.32596e-11  5.85503e-11  4.16234e-11\n",
       " 1.87483e-11  4.25357e-11  5.03952e-10"
      ]
     },
     "execution_count": 4,
     "metadata": {},
     "output_type": "execute_result"
    }
   ],
   "source": [
    "# Barbero-Immirzi parameter\n",
    "γ = 1.2\n",
    "\n",
    "# initializing sl2cfoam-next   \n",
    "sl2c_data_folder = \"/home/frisus95/Scrivania/sl2cfoam_next/data_sl2cfoam\"\n",
    "sl2c_configuration = SL2Cfoam.Config(VerbosityOff, VeryHighAccuracy, 100, 0)\n",
    "sl2c_result_return = (ret = true, store = false, store_batches = false)\n",
    "SL2Cfoam.cinit(sl2c_data_folder, γ, sl2c_configuration) \n",
    "\n",
    "# homogeneous cutoff \n",
    "Δl = 0\n",
    "\n",
    "# set the 10 vertex boundary spins\n",
    "j245, j125, j124, j145, j235, j234, j345, j123, j135, j134 = [1 for _ = 1:10]\n",
    "\n",
    "spins = [j245, j125, j124, j145, j235, j234, j345, j123, j135, j134]\n",
    "\n",
    "@time v = vertex_compute(spins, Δl; result = sl2c_result_return);\n",
    "\n",
    "# v.a is the 5-dimensional array with the data\n",
    "vertex = v.a"
   ]
  },
  {
   "cell_type": "markdown",
   "id": "db2d4c43-de6e-4b8b-a53c-234b088837ea",
   "metadata": {},
   "source": [
    "### Range for boundary intertwiners"
   ]
  },
  {
   "cell_type": "markdown",
   "id": "e738cc47-abbf-4815-b17f-3f8dcb59eb55",
   "metadata": {},
   "source": [
    "We compute the EPRL vertex amplitude for a restricted range of boundary intertwiners"
   ]
  },
  {
   "cell_type": "code",
   "execution_count": 10,
   "id": "9ed89512-71eb-4362-9123-d023c5658ee1",
   "metadata": {},
   "outputs": [
    {
     "name": "stdout",
     "output_type": "stream",
     "text": [
      "spins = [1, 3, 3, 3, 1, 2, 3, 3, 1, 3]\n",
      "vertex_intertw_ranges = ((2, 2), (2, 2), (2, 4), (1, 5), (2, 2))\n",
      "  0.011262 seconds (7 allocations: 400 bytes)\n"
     ]
    },
    {
     "data": {
      "text/plain": [
       "1×5×3×1×1 Array{Float64, 5}:\n",
       "[:, :, 1, 1, 1] =\n",
       " 2.43836e-14  -1.41392e-13  9.9105e-15  9.98464e-13  -2.21136e-12\n",
       "\n",
       "[:, :, 2, 1, 1] =\n",
       " -5.34964e-14  2.73634e-13  2.7479e-13  3.97125e-13  -3.98288e-13\n",
       "\n",
       "[:, :, 3, 1, 1] =\n",
       " -1.70967e-13  -3.14647e-13  3.22341e-13  3.24658e-13  -7.49242e-15"
      ]
     },
     "execution_count": 10,
     "metadata": {},
     "output_type": "execute_result"
    }
   ],
   "source": [
    "# initialize each boundary spins with a random integer value between 1 and 3\n",
    "j245, j125, j124, j145, j235, j234, j345, j123, j135, j134 = [rand(1:3) for _ = 1:10]\n",
    "\n",
    "spins = [j245, j125, j124, j145, j235, j234, j345, j123, j135, j134]\n",
    "\n",
    "@show spins\n",
    "\n",
    "# determine the range of boundary intertwiners\n",
    "r1245, _ = intertwiner_range(j245, j125, j124, j145)\n",
    "r2345, _ = intertwiner_range(j235, j234, j345, j245) \n",
    "r1235, _ = intertwiner_range(j123, j135, j125, j235)\n",
    "r1234, _ = intertwiner_range(j134, j124, j234, j123)\n",
    "r1345, _ = intertwiner_range(j145, j345, j135, j134)\n",
    "    \n",
    "# let's fix some intertwiners to their minimum value\n",
    "i1245 =  r1245[1]  \n",
    "i2345 =  r2345[1]   \n",
    "i1345 =  r1345[1]   \n",
    "\n",
    "# restricted range of boundary intertwiners to compute\n",
    "vertex_intertw_ranges = ((i1245,i1245), (i2345, i2345), r1235, r1234, (i1345,i1345))\n",
    "\n",
    "@show vertex_intertw_ranges\n",
    "\n",
    "@time v = vertex_compute(spins, Δl, vertex_intertw_ranges; result = sl2c_result_return);\n",
    "\n",
    "vertex = v.a"
   ]
  },
  {
   "cell_type": "code",
   "execution_count": null,
   "id": "7474e181-9352-429c-a43d-91030b10c738",
   "metadata": {},
   "outputs": [],
   "source": []
  },
  {
   "cell_type": "code",
   "execution_count": null,
   "id": "25c41717-a815-47af-9893-7ae8f15566bc",
   "metadata": {},
   "outputs": [],
   "source": []
  }
 ],
 "metadata": {
  "kernelspec": {
   "display_name": "Julia 1.7.0",
   "language": "julia",
   "name": "julia-1.7"
  },
  "language_info": {
   "file_extension": ".jl",
   "mimetype": "application/julia",
   "name": "julia",
   "version": "1.7.0"
  }
 },
 "nbformat": 4,
 "nbformat_minor": 5
}
